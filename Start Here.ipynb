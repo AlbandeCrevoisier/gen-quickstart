{
 "cells": [
  {
   "cell_type": "markdown",
   "metadata": {},
   "source": [
    "# Gen Jupyter Notebooks\n",
    "\n",
    "The notebooks discuss modeling and inference in Gen, and are designed to be used in the following order:\n",
    "\n",
    "1. [Introduction to Modeling in Gen](tutorial-modeling-intro/Introduction%20to%20Modeling%20in%20Gen.ipynb)\n",
    "\n",
    "2. [Basics of Iterative Inference in Gen](tutorial-iterative-inference/Iterative%20inference%20in%20Gen.ipynb)\n",
    "\n",
    "3. [Data-Driven Proposals in Gen](tutorial-data-driven/Data-Driven%20Proposals%20in%20Gen.ipynb)\n",
    "\n",
    "4. [Particle Filtering in Gen](tutorial-smc/Particle%20Filtering%20in%20Gen.ipynb)\n",
    "\n",
    "To learn about some of the lower-level details of Gen, see the following notebook:\n",
    "\n",
    "- [A Bottom-Up Introduction to Gen](tutorial-intro/A%20Bottom-Up%20Introduction%20to%20Gen.ipynb)\n",
    "\n",
    "References\n",
    "\n",
    "- [Gen documentation](https://probcomp.github.io/Gen/dev/)\n",
    "\n",
    "- [GenTF documentation](https://probcomp.github.io/GenTF/dev/)\n",
    "\n",
    "- [GenViz documentation](https://probcomp.github.io/GenTF/dev/)"
   ]
  }
 ],
 "metadata": {
  "kernelspec": {
   "display_name": "Julia 1.0.2",
   "language": "julia",
   "name": "julia-1.0"
  },
  "language_info": {
   "file_extension": ".jl",
   "mimetype": "application/julia",
   "name": "julia",
   "version": "1.0.2"
  }
 },
 "nbformat": 4,
 "nbformat_minor": 2
}
