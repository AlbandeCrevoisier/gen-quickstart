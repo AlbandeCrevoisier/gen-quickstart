{
 "cells": [
  {
   "cell_type": "markdown",
   "metadata": {},
   "source": [
    "# Gen Jupyter Notebooks\n",
    "\n",
    "The notebooks are designed to be used in the following order:\n",
    "\n",
    "1. [Introduction to Modeling in Gen](tutorial-modeling-intro/tutorial-intro-modeling-language.ipynb)\n",
    "\n",
    "2. [Basics of Iterative Inference in Gen](tutorial-iterative-inference/Iterative inference in Gen.ipynb)\n",
    "\n",
    "3. [Data-Driven Proposals in Gen](tutorial-data-driven/Data-Driven Proposals in Gen.ipynb)\n",
    "\n",
    "4. [Particle Filtering in Gen](tutorial-smc/Particle Filtering in Gen.ipynb) \n",
    "\n",
    "Make sure to close one notebook (File -> Close and Halt) before opening another (visualization servers in the notebooks re-use the same port numbers).\n",
    "\n",
    "References\n",
    "\n",
    "- [Gen documentation](https://probcomp.github.io/Gen/dev/)\n",
    "\n",
    "- [GenTF documentation](https://probcomp.github.io/GenTF/dev/)\n",
    "\n",
    "- [GenViz documentation](https://probcomp.github.io/GenTF/dev/)"
   ]
  },
  {
   "cell_type": "code",
   "execution_count": null,
   "metadata": {
    "collapsed": true
   },
   "outputs": [],
   "source": []
  }
 ],
 "metadata": {
  "kernelspec": {
   "display_name": "Julia 1.0.2",
   "language": "julia",
   "name": "julia-1.0"
  },
  "language_info": {
   "file_extension": ".jl",
   "mimetype": "application/julia",
   "name": "julia",
   "version": "1.0.2"
  }
 },
 "nbformat": 4,
 "nbformat_minor": 2
}
