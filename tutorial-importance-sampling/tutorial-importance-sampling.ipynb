{
 "cells": [
  {
   "cell_type": "markdown",
   "metadata": {},
   "source": [
    "# Tutorial 1: Modeling and Basic Importance Sampling Inference\n",
    "\n",
    "This tutorial shows how to write a probabilistic model in Gen, and how to implement a simple inference algorithm for this model.\n",
    "\n",
    "Specifically, will implement an inference algorithm that infers the probable destination of an autonomous agent from its observed motion in a two-dimensional environment with obstacles. The algorithm will employ a generative model that includes (i) a prior distribution on the destination of the agent, and (ii) an algorithmic model for how the agent plans its movement based on its destination, (iii) a statistical model of the noise in our measurements of the agent's motion. This class of model draws inspiration from models of human cognition from the computational cognitive science literature [1]. We use this model because the results of inference are intuitive from everyday life and are straightforward to visualize.\n",
    "\n",
    "We will break down this modeling and inference tasks into the following steps:\n",
    "\n",
    "- **Step 1:** Implement geometric primitives for a two-dimensional scene that contains obstacles.\n",
    "\n",
    "- **Step 2:** Implement a planning algorithm that takes the two-dimensional scene, and a starting point within the scene, and a destination point within the scene, and generates an efficient (short) path from the starting point to the destination point.\n",
    "\n",
    "- **Step 3:** Write a generative function for the observed motion of of an autonomous agent, using the Julia code written in Steps 1 and 2.\n",
    "\n",
    "- **Step 4:** Explore the the assumptions, or prior beliefs, that our inferences will be based on, by sampling traces of the generative function.\n",
    "\n",
    "- **Step 5:** Use a simple importance sampling algorithm to sample probable destination points for the agent, given an example data set of observed motion.\n",
    "\n",
    "- **Step 6:** Peek under the hood of the inference algorithm to build some intuition for how it works. \n",
    "\n",
    "[1] Baker, Chris L., Rebecca Saxe, and Joshua B. Tenenbaum. \"Action understanding as inverse planning.\" Cognition 113.3 (2009): 329-349."
   ]
  },
  {
   "cell_type": "markdown",
   "metadata": {},
   "source": [
    "### The Gen package\n",
    "\n",
    "First, we load the Gen package, which brings into scope the built-in Gen modeling languages and inference library methods. We won't use Gen itself until Step 3, but we load it here because packages are usually loaded at the beginning of a script."
   ]
  },
  {
   "cell_type": "code",
   "execution_count": null,
   "metadata": {
    "collapsed": true
   },
   "outputs": [],
   "source": [
    "using Gen"
   ]
  },
  {
   "cell_type": "markdown",
   "metadata": {},
   "source": [
    "## Step 1: Implement geometric primitives for a two-dimensional scene with obstacles.\n",
    "\n",
    "This step is implemented using regular Julia code.\n",
    "\n",
    "First, we want a data type for a location in a two-dimensional plane:"
   ]
  },
  {
   "cell_type": "code",
   "execution_count": null,
   "metadata": {
    "collapsed": true
   },
   "outputs": [],
   "source": [
    "struct Point\n",
    "    x::Float64\n",
    "    y::Float64\n",
    "end"
   ]
  },
  {
   "cell_type": "markdown",
   "metadata": {},
   "source": [
    "We will need to measure the distance between two points, so we define a method for this:"
   ]
  },
  {
   "cell_type": "code",
   "execution_count": null,
   "metadata": {},
   "outputs": [],
   "source": [
    "function dist(a::Point, b::Point)\n",
    "    dx = a.x - b.x\n",
    "    dy = a.y - b.y\n",
    "    sqrt(dx * dx + dy * dy)\n",
    "end"
   ]
  },
  {
   "cell_type": "markdown",
   "metadata": {},
   "source": [
    "We will also need to test whether two line segments intersect. The method below tests whether the line segment between the points `a1` and `a2` intersects the segment between the points `b1` and `b2`. The implementation of this primitive is based upon https://algs4.cs.princeton.edu/91primitives/. "
   ]
  },
  {
   "cell_type": "code",
   "execution_count": null,
   "metadata": {},
   "outputs": [],
   "source": [
    "function line_segments_intersect(a1::Point, a2::Point, b1::Point, b2::Point)\n",
    "    if ccw(a1, a2, b1) * ccw(a1, a2, b2) > 0\n",
    "        false\n",
    "    elseif ccw(b1, b2, a1) * ccw(b1, b2, a2) > 0\n",
    "        false\n",
    "    else\n",
    "        true\n",
    "    end\n",
    "end\n",
    "\n",
    "ccw(a::Point, b::Point, c::Point) = (b.x - a.x) * (c.y - a.y) - (c.x - a.x) * (b.y - a.y)"
   ]
  },
  {
   "cell_type": "markdown",
   "metadata": {},
   "source": [
    "Next, we define a data type to represent obstacles in the scene. An obstacle will be represented by a polygon. We also define a method to test whether a given line defined by points `a1` and `a2` intersects the obstacle:"
   ]
  },
  {
   "cell_type": "code",
   "execution_count": null,
   "metadata": {},
   "outputs": [],
   "source": [
    "struct Obstacle\n",
    "    vertices::Vector{Point}\n",
    "end\n",
    "\n",
    "function obstacle_intersects_line_segment(obstacle::Obstacle, a1::Point,  a2::Point)\n",
    "    n = length(obstacle.vertices)\n",
    "    for start_vertex_idx=1:n\n",
    "        end_vertex_idx = start_vertex_idx % n + 1 # loop over to 1\n",
    "        v1 = obstacle.vertices[start_vertex_idx]\n",
    "        v2 = obstacle.vertices[end_vertex_idx]\n",
    "        if line_segments_intersect(v1, v2, a1, a2)\n",
    "            return true\n",
    "        end\n",
    "    end\n",
    "    false\n",
    "end"
   ]
  },
  {
   "cell_type": "markdown",
   "metadata": {},
   "source": [
    "Now, we define a data type to represent the two-dimensional scene. The scene spans a rectangle of on the two-dimensional x-y plane, and contains a list of obstacles. Each obstacle is a polygon defined by a list of vertex points. We also define a method to compute whether a given line is obstructed by any obstacles in the scene."
   ]
  },
  {
   "cell_type": "code",
   "execution_count": null,
   "metadata": {},
   "outputs": [],
   "source": [
    "struct Scene\n",
    "    xmin::Float64\n",
    "    xmax::Float64\n",
    "    ymin::Float64\n",
    "    ymax::Float64\n",
    "    obstacles::Vector{Obstacle}\n",
    "end\n",
    "\n",
    "Scene(xmin, xmax, ymin, ymax) = Scene(xmin, xmax, ymin, ymax, Obstacle[])\n",
    "\n",
    "add_obstacle!(scene, obstacle::Obstacle) = push!(scene.obstacles, obstacle)\n",
    "\n",
    "function line_is_obstructed(scene::Scene, a1::Point, a2::Point)\n",
    "    for obstacle in scene.obstacles\n",
    "        if obstacle_intersects_line_segment(obstacle, a1, a2)\n",
    "            return false\n",
    "        end\n",
    "    end\n",
    "    true\n",
    "end"
   ]
  },
  {
   "cell_type": "markdown",
   "metadata": {},
   "source": [
    "Finally, we write some methods that allow us to concisely construct walls (line-shaped obstacles that are either vertically or horizontally oriented), and square-shaped obstacles (representing trees)."
   ]
  },
  {
   "cell_type": "code",
   "execution_count": null,
   "metadata": {},
   "outputs": [],
   "source": [
    "function make_wall(vertical::Bool, start::Point, length::Float64, thickness::Float64)\n",
    "    vertices = Vector{Point}(undef, 4)\n",
    "    vertices[1] = start\n",
    "    dx = vertical ? thickness : length\n",
    "    dy = vertical ? length : thickness\n",
    "    vertices[2] = Point(start.x + dx, start.y)\n",
    "    vertices[3] = Point(start.x + dx, start.y + dy) \n",
    "    vertices[4] = Point(start.x, start.y + dy)\n",
    "    Obstacle(vertices)\n",
    "end \n",
    "\n",
    "function make_tree(center::Point, size::Float64)\n",
    "    vertices = Vector{Point}(undef, 4)\n",
    "    vertices[1] = Point(center.x - size/2, center.y - size/2)\n",
    "    vertices[2] = Point(center.x + size/2, center.y - size/2)\n",
    "    vertices[3] = Point(center.x + size/2, center.y + size/2)\n",
    "    vertices[4] = Point(center.x - size/2, center.y + size/2)\n",
    "    Obstacle(vertices)\n",
    "end"
   ]
  },
  {
   "cell_type": "markdown",
   "metadata": {},
   "source": [
    "## Step 2: Implement a planning algorithm\n",
    "\n",
    "In this step, we implement a simple planning algorithm based on the rapidly exploring random tree (RRT) algorithm [2]. The planning algorithm will take as input (i) the scene, (ii) the start point, and (iii) the destination point, and will produce a sequence of points that starts with the start point and ends with the destination point, such the line of sight between each consecutive point does not intersect any obstacles, or return failure if no path could be found.\n",
    "\n",
    "[2] Rapidly-exploring random trees: A new tool for path planning. S. M. LaValle. TR 98-11, Computer Science Dept., Iowa State University, October 1998,"
   ]
  },
  {
   "cell_type": "markdown",
   "metadata": {},
   "source": [
    "First, we define the data types for the RRT. The tree is a list of nodes, each of which stores the point (`conf`), a reference to the parent node, the vector from the parent to the node (`control`), and the total distance from the start node to this node, following the edges of the tree (`dist_from_start`)."
   ]
  },
  {
   "cell_type": "code",
   "execution_count": null,
   "metadata": {
    "collapsed": true
   },
   "outputs": [],
   "source": [
    "struct RRTNode\n",
    "    conf::Point\n",
    "    parent::Union{Nothing,RRTNode}\n",
    "    control::Union{Nothing,Point}\n",
    "    dist_from_start::Float64\n",
    "end"
   ]
  },
  {
   "cell_type": "markdown",
   "metadata": {},
   "source": [
    "The RRT is a list of nodes, where the first node is the 'root' node:"
   ]
  },
  {
   "cell_type": "code",
   "execution_count": null,
   "metadata": {},
   "outputs": [],
   "source": [
    "struct RRT\n",
    "    nodes::Vector{RRTNode}\n",
    "end\n",
    "\n",
    "function RRT(root_conf::Point)\n",
    "    nodes = RRTNode[RRTNode(root_conf, nothing, nothing, 0.)]\n",
    "    RRT(nodes)\n",
    "end\n",
    "\n",
    "add_node!(tree::RRT, node::RRTNode) = push!(tree.nodes, node)\n",
    "\n",
    "root(tree::RRT) = tree.nodes[1]"
   ]
  },
  {
   "cell_type": "markdown",
   "metadata": {},
   "source": [
    "One of the key operations used in the RRT algorithm is generating a random point in the scene:"
   ]
  },
  {
   "cell_type": "code",
   "execution_count": null,
   "metadata": {},
   "outputs": [],
   "source": [
    "function random_point_in_scene(scene::Scene)\n",
    "    x = rand() * (scene.xmax - scene.xmin) + scene.xmin\n",
    "    y = rand() * (scene.ymax - scene.ymin) + scene.ymin\n",
    "    Point(x, y)\n",
    "end"
   ]
  },
  {
   "cell_type": "markdown",
   "metadata": {},
   "source": [
    "Another key operation is finding the point on the tree that is closest to some other point:"
   ]
  },
  {
   "cell_type": "code",
   "execution_count": null,
   "metadata": {},
   "outputs": [],
   "source": [
    "function nearest_node_on_tree(tree::RRT, conf::Point)\n",
    "    nearest::RRTNode = root(tree)\n",
    "    best_dist::Float64 = dist(nearest.conf, conf)\n",
    "    for node in tree.nodes\n",
    "        d = dist(node.conf, conf)\n",
    "        if d < best_dist\n",
    "            best_dist = d \n",
    "            nearest = node\n",
    "        end\n",
    "    end \n",
    "    nearest\n",
    "end"
   ]
  },
  {
   "cell_type": "markdown",
   "metadata": {},
   "source": [
    "Finally, we implement the RRT algorithm, which generates a RRT. It operates by randomly picking points from the scene and trying to connect them to the tree with a non-obstructed line-of-site."
   ]
  },
  {
   "cell_type": "code",
   "execution_count": null,
   "metadata": {},
   "outputs": [],
   "source": [
    "function generate_rrt(scene::Scene, init::Point, iters::Int, dt::Float64)\n",
    "    tree = RRT(init) # init is the root of tree\n",
    "    for iter=1:iters\n",
    "        rand_conf::Point = random_point_in_scene(scene)\n",
    "        near_node::RRTNode = nearest_node_on_tree(tree, rand_conf)\n",
    "        \n",
    "        dist_to_target = dist(near_node.conf, rand_conf)\n",
    "        diff = Point(rand_conf.x - near_node.conf.x, rand_conf.y - near_node.conf.y)\n",
    "        distance_to_move = min(dt, dist_to_target)\n",
    "        scale = distance_to_move / dist_to_target\n",
    "        control = Point(scale * diff.x, scale * diff.y)\n",
    "\n",
    "        # go in the direction of target_conf from start_conf \n",
    "        new_conf = Point(near_node.conf.x + control.x, near_node.conf.y + control.y)\n",
    "\n",
    "        # test the obstacles\n",
    "        failed = line_is_obstructed(scene, near_node.conf, new_conf)\n",
    "        \n",
    "        if !failed\n",
    "            dist_from_start = near_node.dist_from_start + distance_to_move\n",
    "            new_node = RRTNode(new_conf, near_node, control, dist_from_start)\n",
    "            add_node!(tree, new_node)\n",
    "        end\n",
    "    end\n",
    "    tree\n",
    "end"
   ]
  },
  {
   "cell_type": "markdown",
   "metadata": {},
   "source": [
    "Given a RRT, and a destination point, we can find a path from the root of the RRT to the destination point, by finding a node on the tree that has a clear line-of-sight to the destination node, and is also as close as possible to the destination node. If there is no node on the tree with a clear line-of-sight to the destination, we return the value `nothing`:"
   ]
  },
  {
   "cell_type": "code",
   "execution_count": null,
   "metadata": {},
   "outputs": [],
   "source": [
    "function find_tree_route_to_dest(tree::RRT, dest::Point)\n",
    "    best_node = tree.nodes[1]\n",
    "    min_cost = Inf\n",
    "    path_found = false\n",
    "    for node in tree.nodes\n",
    "        # check for line-of-site to the destination\n",
    "        clear_path = !line_is_obstructed(scene, node.conf, dest)\n",
    "        cost = node.dist_from_start + (clear_path ? dist(node.conf, dest) : Inf)\n",
    "        if cost < min_cost\n",
    "            path_found = true\n",
    "            best_node = node\n",
    "            min_cost = cost\n",
    "        end\n",
    "    end\n",
    "    if path_found\n",
    "        (best_node, min_cost)\n",
    "    else\n",
    "        (nothing, min_cost)\n",
    "    end\n",
    "end"
   ]
  },
  {
   "cell_type": "markdown",
   "metadata": {},
   "source": [
    "Then, we obtain a sequence of points that define the path by walking back along the tree from the best tree  found node, back to the start node:"
   ]
  },
  {
   "cell_type": "code",
   "execution_count": null,
   "metadata": {},
   "outputs": [],
   "source": [
    "struct Path\n",
    "    points::Vector{Point}\n",
    "end\n",
    "\n",
    "function walk_tree_to_root(node::RRTNode, start::Point, dest::Point)\n",
    "    points = Point[dest]\n",
    "    while node.parent != nothing\n",
    "        push!(points, node.conf)\n",
    "        node = node.parent\n",
    "    end\n",
    "    push!(points, start)\n",
    "    @assert points[end] == start # the start point\n",
    "    @assert points[1] == dest\n",
    "    Path(reverse(points))\n",
    "end"
   ]
  },
  {
   "cell_type": "markdown",
   "metadata": {},
   "source": [
    "The paths along the tree that are generated by the RRT algorithm are generally not very direct. We want our agent to take fairly direct paths from its starting location to the destination. Therefore, we use the following path-refinement procedure to optimize the path points to shorten the length of the path while still avoiding obstruction by obstacles."
   ]
  },
  {
   "cell_type": "code",
   "execution_count": null,
   "metadata": {},
   "outputs": [],
   "source": [
    "function refine_path(scene::Scene, original::Path, iters::Int, std::Float64)\n",
    "    # do stochastic optimization\n",
    "    new_points = copy(original.points)\n",
    "    num_interior_points = length(original.points) -2\n",
    "    if num_interior_points == 0\n",
    "        return original\n",
    "    end\n",
    "    for i=1:iters\n",
    "        point_idx = 2 + (i % num_interior_points)\n",
    "        @assert point_idx > 1 # not start\n",
    "        @assert point_idx < length(original.points) # not dest\n",
    "        prev_point = new_points[point_idx-1]\n",
    "        point = new_points[point_idx]\n",
    "        next_point = new_points[point_idx+1]\n",
    "        adjusted = Point(point.x + randn() * std, point.y + randn() * std)\n",
    "        cur_dist = dist(prev_point, point) + dist(point, next_point)\n",
    "        ok_backward = !line_is_obstructed(scene, prev_point, adjusted)\n",
    "        ok_forward = !line_is_obstructed(scene, adjusted, next_point)\n",
    "        if ok_backward && ok_forward\n",
    "            new_dist = dist(prev_point, adjusted) + dist(adjusted, next_point)\n",
    "            if new_dist < cur_dist\n",
    "                # accept the change\n",
    "                new_points[point_idx] = adjusted\n",
    "            end\n",
    "        end\n",
    "    end\n",
    "    Path(new_points)\n",
    "end"
   ]
  },
  {
   "cell_type": "markdown",
   "metadata": {},
   "source": [
    "Finally, we combine each of the steps we just defined into a path-planning function. If a path could not be found, we return the value `nothing`. Otherwise, we return a `Path` value The path-planning function has parameters for how to grow the RRT (`rrt_iters` and `rrt_dt`) and how to perform the refinement (`refine_iters` and `refine_std`)."
   ]
  },
  {
   "cell_type": "code",
   "execution_count": null,
   "metadata": {},
   "outputs": [],
   "source": [
    "struct PlannerParams\n",
    "    rrt_iters::Int\n",
    "    rrt_dt::Float64 # the maximum proposal distance\n",
    "    refine_iters::Int\n",
    "    refine_std::Float64\n",
    "end\n",
    "\n",
    "function plan_path(start::Point, dest::Point, scene::Scene, params::PlannerParams)\n",
    "    \n",
    "    # Generate a rapidly exploring random tree\n",
    "    tree = generate_rrt(scene, start, params.rrt_iters, params.rrt_dt)\n",
    "\n",
    "    # Find a route from the root of the tree to a node on the tree that has a line-of-sight to the destination\n",
    "    (maybe_node, min_cost) = find_tree_route_to_dest(tree, dest)\n",
    "    \n",
    "    if maybe_node == nothing\n",
    "        \n",
    "        # No route found\n",
    "        nothing\n",
    "    else\n",
    "        \n",
    "        # Route found\n",
    "        node::RRTNode = something(maybe_node)\n",
    "        path = walk_tree_to_root(node, start, dest)\n",
    "        refine_path(scene, path, params.refine_iters, params.refine_std)\n",
    "    end\n",
    "end\n",
    "\n"
   ]
  },
  {
   "cell_type": "markdown",
   "metadata": {},
   "source": [
    "We will assume that the agent moves along its path a constant speed. The cell below defines a method that computes the locations of the agent at a set of timepoints, given the path and the speed of the agent."
   ]
  },
  {
   "cell_type": "code",
   "execution_count": null,
   "metadata": {},
   "outputs": [],
   "source": [
    "function compute_distances_from_start(path::Path)\n",
    "    distances_from_start = Vector{Float64}(undef, length(path.points))\n",
    "    distances_from_start[1] = 0.0\n",
    "    for i=2:length(path.points)\n",
    "        distances_from_start[i] = distances_from_start[i-1] + dist(path.points[i-1], path.points[i])\n",
    "    end\n",
    "    return distances_from_start\n",
    "end\n",
    "\n",
    "function walk_path(path::Path, speed::Float64, times::Array{Float64,1})\n",
    "    distances_from_start = compute_distances_from_start(path)\n",
    "    locations = Vector{Point}(undef, length(times))\n",
    "    locations[1] = path.points[1]\n",
    "    for (time_idx, t) in enumerate(times)\n",
    "        if t < 0.0\n",
    "            error(\"times must be positive\")\n",
    "        end\n",
    "        desired_distance = t * speed\n",
    "        used_up_time = false\n",
    "        # NOTE: can be improved (iterate through path points along with times)\n",
    "        for i=2:length(path.points)\n",
    "            prev = path.points[i-1]\n",
    "            cur = path.points[i]\n",
    "            dist_to_prev = dist(prev, cur)\n",
    "            if distances_from_start[i] >= desired_distance\n",
    "                # we overshot, the location is between i-1 and i\n",
    "                overshoot = distances_from_start[i] - desired_distance\n",
    "                @assert overshoot <= dist_to_prev\n",
    "                past_prev = dist_to_prev - overshoot\n",
    "                frac = past_prev / dist_to_prev\n",
    "                locations[time_idx] = Point(prev.x * (1. - frac) + cur.x * frac,\n",
    "                                     prev.y * (1. - frac) + cur.y * frac)\n",
    "                used_up_time = true\n",
    "                break\n",
    "            end\n",
    "        end\n",
    "        if !used_up_time\n",
    "            # sit at the goal indefinitely\n",
    "            locations[time_idx] = path.points[end]\n",
    "        end\n",
    "    end\n",
    "    locations\n",
    "end"
   ]
  },
  {
   "cell_type": "markdown",
   "metadata": {},
   "source": [
    "## Step 3: Write a generative function for the motion of an autonomous agent\n",
    "\n",
    "We now can write a generative function that models the behavior of an autonomous agent."
   ]
  },
  {
   "cell_type": "code",
   "execution_count": null,
   "metadata": {},
   "outputs": [],
   "source": [
    "@gen function model(scene::Scene, measurement_times::Vector{Float64})\n",
    "\n",
    "    # sample the start point of the agent from the prior\n",
    "    start_x = @addr(uniform(0, 1), :start_x)\n",
    "    start_y = @addr(uniform(0, 1), :start_y)\n",
    "    start = Point(start_x, start_y)\n",
    "\n",
    "    # sample the destination point of the agent from the prior\n",
    "    dest_x = @addr(uniform(0, 1), :dest_x)\n",
    "    dest_y = @addr(uniform(0, 1), :dest_y)\n",
    "    dest = Point(dest_x, dest_y)\n",
    "\n",
    "    # plan a path that avoids obstacles in the scene\n",
    "    maybe_path::Union{Nothing,Path} = plan_path(start, dest, scene, PlannerParams(300, 3.0, 2000, 1.))\n",
    "    \n",
    "    # sample the speed from the prior\n",
    "    speed = @addr(uniform(0, 1), :speed)\n",
    "\n",
    "    if maybe_path == nothing\n",
    "        \n",
    "        # path planning failed, assume the agent stays as the start location indefinitely\n",
    "        locations = fill(start, length(measurement_times))\n",
    "    else\n",
    "        \n",
    "        # path planning succeeded, move along the path at constant speed\n",
    "        path = something(maybe_path)\n",
    "        locations = walk_path(path, speed, measurement_times)\n",
    "    end\n",
    "\n",
    "    # generate noisy measurements\n",
    "    noise = 0.1 * @addr(uniform(0, 1), :noise)\n",
    "    for (i, point) in enumerate(locations)\n",
    "        @addr(normal(point.x, noise), i => :x)\n",
    "        @addr(normal(point.y, noise), i => :y)\n",
    "    end\n",
    "\n",
    "    (start, dest, speed, noise, maybe_path, locations)\n",
    "end"
   ]
  },
  {
   "cell_type": "code",
   "execution_count": null,
   "metadata": {},
   "outputs": [],
   "source": [
    "scene = Scene(0, 1, 0, 1)\n",
    "add_obstacle!(scene, make_tree(Point(0.30, 0.20), 0.1))\n",
    "add_obstacle!(scene, make_tree(Point(0.83, 0.80), 0.1))\n",
    "add_obstacle!(scene, make_tree(Point(0.80, 0.40), 0.1))\n",
    "horizontal = false\n",
    "vertical = true\n",
    "wall_thickness = 0.02\n",
    "add_obstacle!(scene, make_wall(horizontal, Point(0.20, 0.40), 0.40, wall_thickness))\n",
    "add_obstacle!(scene, make_wall(vertical, Point(0.60, 0.40), 0.40, wall_thickness))\n",
    "add_obstacle!(scene, make_wall(horizontal, Point(0.60 - 0.15, 0.80), 0.15 + wall_thickness, wall_thickness))\n",
    "add_obstacle!(scene, make_wall(horizontal, Point(0.20, 0.80), 0.15, wall_thickness))\n",
    "add_obstacle!(scene, make_wall(vertical, Point(0.20, 0.40), 0.40, wall_thickness))"
   ]
  },
  {
   "cell_type": "code",
   "execution_count": null,
   "metadata": {},
   "outputs": [],
   "source": [
    "(trace, _) = initialize(model, (scene, [1.0, 2.0]))"
   ]
  },
  {
   "cell_type": "code",
   "execution_count": null,
   "metadata": {
    "collapsed": true
   },
   "outputs": [],
   "source": []
  }
 ],
 "metadata": {
  "kernelspec": {
   "display_name": "Julia 1.0.2",
   "language": "julia",
   "name": "julia-1.0"
  },
  "language_info": {
   "file_extension": ".jl",
   "mimetype": "application/julia",
   "name": "julia",
   "version": "1.0.2"
  }
 },
 "nbformat": 4,
 "nbformat_minor": 2
}
