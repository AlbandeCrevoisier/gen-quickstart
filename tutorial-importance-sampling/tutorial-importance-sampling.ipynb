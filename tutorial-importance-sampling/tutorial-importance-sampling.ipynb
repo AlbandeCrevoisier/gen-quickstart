{
 "cells": [
  {
   "cell_type": "markdown",
   "metadata": {},
   "source": [
    "# Tutorial 1: Modeling and Basic Importance Sampling Inference\n",
    "\n",
    "This tutorial shows how to write a probabilistic model in Gen, and how to implement a simple inference algorithm for this model.\n",
    "\n",
    "Specifically, will implement an inference algorithm that infers the probable destination of an autonomous agent from its observed motion in a two-dimensional environment with obstacles. The algorithm will employ a generative model that includes (i) a prior distribution on the destination of the agent, and (ii) an algorithmic model for how the agent plans its movement based on its destination, (iii) a statistical model of the noise in our measurements of the agent's motion. This class of model draws inspiration from models of human cognition from the computational cognitive science literature [1]. We use this model because the results of inference are intuitive from everyday life and are straightforward to visualize.\n",
    "\n",
    "We will break down this modeling and inference tasks into the following steps:\n",
    "\n",
    "- **Step 1:** Implement geometric primitives for a two-dimensional scene that contains obstacles.\n",
    "\n",
    "- **Step 2:** Implement a planning algorithm that takes the two-dimensional scene, and a starting point within the scene, and a destination point within the scene, and generates an efficient (short) path from the starting point to the destination point.\n",
    "\n",
    "- **Step 3:** Write a generative function for the observed motion of of an autonomous agent, using the Julia code written in Steps 1 and 2.\n",
    "\n",
    "- **Step 4:** Explore the the assumptions, or prior beliefs, that our inferences will be based on, by sampling traces of the generative function.\n",
    "\n",
    "- **Step 5:** Use a simple importance sampling algorithm to sample probable destination points for the agent, given an example data set of observed motion.\n",
    "\n",
    "- **Step 6:** Peek under the hood of the inference algorithm to build some intuition for how it works. \n",
    "\n",
    "[1] Baker, Chris L., Rebecca Saxe, and Joshua B. Tenenbaum. \"Action understanding as inverse planning.\" Cognition 113.3 (2009): 329-349."
   ]
  },
  {
   "cell_type": "markdown",
   "metadata": {},
   "source": [
    "### The Gen package\n",
    "\n",
    "First, we load the Gen package, which brings into scope the built-in Gen modeling languages and inference library methods. We won't use Gen itself until Step 3, but we load it here because packages are usually loaded at the beginning of a script."
   ]
  },
  {
   "cell_type": "code",
   "execution_count": 1,
   "metadata": {
    "collapsed": true
   },
   "outputs": [],
   "source": [
    "using Gen"
   ]
  },
  {
   "cell_type": "markdown",
   "metadata": {},
   "source": [
    "## Step 1: Implement geometric primitives for a two-dimensional scene with obstacles.\n",
    "\n",
    "This step is implemented using regular Julia code.\n",
    "\n",
    "First, we want a data type for a location in a two-dimensional plane:"
   ]
  },
  {
   "cell_type": "code",
   "execution_count": 2,
   "metadata": {
    "collapsed": true
   },
   "outputs": [],
   "source": [
    "struct Point\n",
    "    x::Float64\n",
    "    y::Float64\n",
    "end"
   ]
  },
  {
   "cell_type": "markdown",
   "metadata": {},
   "source": [
    "We will need to measure the distance between two points, so we define a method for this:"
   ]
  },
  {
   "cell_type": "code",
   "execution_count": 3,
   "metadata": {},
   "outputs": [
    {
     "data": {
      "text/plain": [
       "dist (generic function with 1 method)"
      ]
     },
     "execution_count": 3,
     "metadata": {},
     "output_type": "execute_result"
    }
   ],
   "source": [
    "function dist(a::Point, b::Point)\n",
    "    dx = a.x - b.x\n",
    "    dy = a.y - b.y\n",
    "    sqrt(dx * dx + dy * dy)\n",
    "end"
   ]
  },
  {
   "cell_type": "markdown",
   "metadata": {},
   "source": [
    "We will also need to test whether two line segments intersect. The method below tests whether the line segment between the points `a1` and `a2` intersects the segment between the points `b1` and `b2`. The implementation of this primitive is based upon https://algs4.cs.princeton.edu/91primitives/. "
   ]
  },
  {
   "cell_type": "code",
   "execution_count": 4,
   "metadata": {},
   "outputs": [
    {
     "data": {
      "text/plain": [
       "ccw (generic function with 1 method)"
      ]
     },
     "execution_count": 4,
     "metadata": {},
     "output_type": "execute_result"
    }
   ],
   "source": [
    "function line_segments_intersect(a1::Point, a2::Point, b1::Point, b2::Point)\n",
    "    if ccw(a1, a2, b1) * ccw(a1, a2, b2) > 0\n",
    "        false\n",
    "    elseif ccw(b1, b2, a1) * ccw(b1, b2, a2) > 0\n",
    "        false\n",
    "    else\n",
    "        true\n",
    "    end\n",
    "end\n",
    "\n",
    "ccw(a::Point, b::Point, c::Point) = (b.x - a.x) * (c.y - a.y) - (c.x - a.x) * (b.y - a.y)"
   ]
  },
  {
   "cell_type": "markdown",
   "metadata": {},
   "source": [
    "Next, we define a data type to represent obstacles in the scene. An obstacle will be represented by a polygon. We also define a method to test whether a given line defined by points `a1` and `a2` intersects the obstacle:"
   ]
  },
  {
   "cell_type": "code",
   "execution_count": 5,
   "metadata": {},
   "outputs": [
    {
     "data": {
      "text/plain": [
       "obstacle_intersects_line_segment (generic function with 1 method)"
      ]
     },
     "execution_count": 5,
     "metadata": {},
     "output_type": "execute_result"
    }
   ],
   "source": [
    "struct Obstacle\n",
    "    vertices::Vector{Point}\n",
    "end\n",
    "\n",
    "function obstacle_intersects_line_segment(obstacle::Obstacle, a1::Point,  a2::Point)\n",
    "    n = length(obstacle.vertices)\n",
    "    for start_vertex_idx=1:n\n",
    "        end_vertex_idx = start_vertex_idx % n + 1 # loop over to 1\n",
    "        v1 = obstacle.vertices[start_vertex_idx]\n",
    "        v2 = obstacle.vertices[end_vertex_idx]\n",
    "        if line_segments_intersect(v1, v2, a1, a2)\n",
    "            return true\n",
    "        end\n",
    "    end\n",
    "    false\n",
    "end"
   ]
  },
  {
   "cell_type": "markdown",
   "metadata": {},
   "source": [
    "Now, we define a data type to represent the two-dimensional scene. The scene spans a rectangle of on the two-dimensional x-y plane, and contains a list of obstacles. Each obstacle is a polygon defined by a list of vertex points. We also define a method to compute whether a given line is obstructed by any obstacles in the scene."
   ]
  },
  {
   "cell_type": "code",
   "execution_count": 6,
   "metadata": {},
   "outputs": [
    {
     "data": {
      "text/plain": [
       "line_is_obstructed (generic function with 1 method)"
      ]
     },
     "execution_count": 6,
     "metadata": {},
     "output_type": "execute_result"
    }
   ],
   "source": [
    "struct Scene\n",
    "    xmin::Float64\n",
    "    xmax::Float64\n",
    "    ymin::Float64\n",
    "    ymax::Float64\n",
    "    obstacles::Vector{Obstacle}\n",
    "end\n",
    "\n",
    "Scene(xmin, xmax, ymin, ymax) = Scene(xmin, xmax, ymin, ymax, Obstacle[])\n",
    "\n",
    "add_obstacle!(scene, obstacle::Obstacle) = push!(scene.obstacles, obstacle)\n",
    "\n",
    "function line_is_obstructed(scene::Scene, a1::Point, a2::Point)\n",
    "    for obstacle in scene.obstacles\n",
    "        if obstacle_intersects_line_segment(obstacle, a1, a2)\n",
    "            return true\n",
    "        end\n",
    "    end\n",
    "    false\n",
    "end"
   ]
  },
  {
   "cell_type": "markdown",
   "metadata": {},
   "source": [
    "Finally, we write some methods that allow us to concisely construct walls (line-shaped obstacles that are either vertically or horizontally oriented), and square-shaped obstacles (representing trees)."
   ]
  },
  {
   "cell_type": "code",
   "execution_count": 7,
   "metadata": {},
   "outputs": [
    {
     "data": {
      "text/plain": [
       "make_tree (generic function with 1 method)"
      ]
     },
     "execution_count": 7,
     "metadata": {},
     "output_type": "execute_result"
    }
   ],
   "source": [
    "function make_wall(vertical::Bool, start::Point, length::Float64, thickness::Float64)\n",
    "    vertices = Vector{Point}(undef, 4)\n",
    "    vertices[1] = start\n",
    "    dx = vertical ? thickness : length\n",
    "    dy = vertical ? length : thickness\n",
    "    vertices[2] = Point(start.x + dx, start.y)\n",
    "    vertices[3] = Point(start.x + dx, start.y + dy) \n",
    "    vertices[4] = Point(start.x, start.y + dy)\n",
    "    Obstacle(vertices)\n",
    "end \n",
    "\n",
    "function make_tree(center::Point, size::Float64)\n",
    "    vertices = Vector{Point}(undef, 4)\n",
    "    vertices[1] = Point(center.x - size/2, center.y - size/2)\n",
    "    vertices[2] = Point(center.x + size/2, center.y - size/2)\n",
    "    vertices[3] = Point(center.x + size/2, center.y + size/2)\n",
    "    vertices[4] = Point(center.x - size/2, center.y + size/2)\n",
    "    Obstacle(vertices)\n",
    "end"
   ]
  },
  {
   "cell_type": "markdown",
   "metadata": {},
   "source": [
    "## Step 2: Implement a planning algorithm\n",
    "\n",
    "In this step, we implement a simple planning algorithm based on the rapidly exploring random tree (RRT) algorithm [2]. The planning algorithm will take as input (i) the scene, (ii) the start point, and (iii) the destination point, and will produce a sequence of points that starts with the start point and ends with the destination point, such the line of sight between each consecutive point does not intersect any obstacles, or return failure if no path could be found.\n",
    "\n",
    "[2] Rapidly-exploring random trees: A new tool for path planning. S. M. LaValle. TR 98-11, Computer Science Dept., Iowa State University, October 1998,"
   ]
  },
  {
   "cell_type": "markdown",
   "metadata": {},
   "source": [
    "First, we define the data types for the RRT. The tree is a list of nodes, each of which stores the point (`conf`), a reference to the parent node, the vector from the parent to the node (`control`), and the total distance from the start node to this node, following the edges of the tree (`dist_from_start`)."
   ]
  },
  {
   "cell_type": "code",
   "execution_count": 8,
   "metadata": {
    "collapsed": true
   },
   "outputs": [],
   "source": [
    "struct RRTNode\n",
    "    conf::Point\n",
    "    parent::Union{Nothing,RRTNode}\n",
    "    control::Union{Nothing,Point}\n",
    "    dist_from_start::Float64\n",
    "end"
   ]
  },
  {
   "cell_type": "markdown",
   "metadata": {},
   "source": [
    "The RRT is a list of nodes, where the first node is the 'root' node:"
   ]
  },
  {
   "cell_type": "code",
   "execution_count": 9,
   "metadata": {},
   "outputs": [
    {
     "data": {
      "text/plain": [
       "root (generic function with 1 method)"
      ]
     },
     "execution_count": 9,
     "metadata": {},
     "output_type": "execute_result"
    }
   ],
   "source": [
    "struct RRT\n",
    "    nodes::Vector{RRTNode}\n",
    "end\n",
    "\n",
    "function RRT(root_conf::Point)\n",
    "    nodes = RRTNode[RRTNode(root_conf, nothing, nothing, 0.)]\n",
    "    RRT(nodes)\n",
    "end\n",
    "\n",
    "add_node!(tree::RRT, node::RRTNode) = push!(tree.nodes, node)\n",
    "\n",
    "root(tree::RRT) = tree.nodes[1]"
   ]
  },
  {
   "cell_type": "markdown",
   "metadata": {},
   "source": [
    "One of the key operations used in the RRT algorithm is generating a random point in the scene:"
   ]
  },
  {
   "cell_type": "code",
   "execution_count": 10,
   "metadata": {},
   "outputs": [
    {
     "data": {
      "text/plain": [
       "random_point_in_scene (generic function with 1 method)"
      ]
     },
     "execution_count": 10,
     "metadata": {},
     "output_type": "execute_result"
    }
   ],
   "source": [
    "function random_point_in_scene(scene::Scene)\n",
    "    x = rand() * (scene.xmax - scene.xmin) + scene.xmin\n",
    "    y = rand() * (scene.ymax - scene.ymin) + scene.ymin\n",
    "    Point(x, y)\n",
    "end"
   ]
  },
  {
   "cell_type": "markdown",
   "metadata": {},
   "source": [
    "Another key operation is finding the point on the tree that is closest to some other point:"
   ]
  },
  {
   "cell_type": "code",
   "execution_count": 11,
   "metadata": {},
   "outputs": [
    {
     "data": {
      "text/plain": [
       "nearest_node_on_tree (generic function with 1 method)"
      ]
     },
     "execution_count": 11,
     "metadata": {},
     "output_type": "execute_result"
    }
   ],
   "source": [
    "function nearest_node_on_tree(tree::RRT, conf::Point)\n",
    "    nearest::RRTNode = root(tree)\n",
    "    best_dist::Float64 = dist(nearest.conf, conf)\n",
    "    for node in tree.nodes\n",
    "        d = dist(node.conf, conf)\n",
    "        if d < best_dist\n",
    "            best_dist = d \n",
    "            nearest = node\n",
    "        end\n",
    "    end \n",
    "    nearest\n",
    "end"
   ]
  },
  {
   "cell_type": "markdown",
   "metadata": {},
   "source": [
    "Finally, we implement the RRT algorithm, which generates a RRT. It operates by randomly picking points from the scene and trying to connect them to the tree with a non-obstructed line-of-site."
   ]
  },
  {
   "cell_type": "code",
   "execution_count": 12,
   "metadata": {},
   "outputs": [
    {
     "data": {
      "text/plain": [
       "generate_rrt (generic function with 1 method)"
      ]
     },
     "execution_count": 12,
     "metadata": {},
     "output_type": "execute_result"
    }
   ],
   "source": [
    "function generate_rrt(scene::Scene, init::Point, iters::Int, dt::Float64)\n",
    "    tree = RRT(init) # init is the root of tree\n",
    "    for iter=1:iters\n",
    "        rand_conf::Point = random_point_in_scene(scene)\n",
    "        near_node::RRTNode = nearest_node_on_tree(tree, rand_conf)\n",
    "        \n",
    "        dist_to_target = dist(near_node.conf, rand_conf)\n",
    "        diff = Point(rand_conf.x - near_node.conf.x, rand_conf.y - near_node.conf.y)\n",
    "        distance_to_move = min(dt, dist_to_target)\n",
    "        scale = distance_to_move / dist_to_target\n",
    "        control = Point(scale * diff.x, scale * diff.y)\n",
    "\n",
    "        # go in the direction of target_conf from start_conf \n",
    "        new_conf = Point(near_node.conf.x + control.x, near_node.conf.y + control.y)\n",
    "\n",
    "        # test the obstacles\n",
    "        failed = line_is_obstructed(scene, near_node.conf, new_conf)\n",
    "        \n",
    "        if !failed\n",
    "            dist_from_start = near_node.dist_from_start + distance_to_move\n",
    "            new_node = RRTNode(new_conf, near_node, control, dist_from_start)\n",
    "            add_node!(tree, new_node)\n",
    "        end\n",
    "    end\n",
    "    tree\n",
    "end"
   ]
  },
  {
   "cell_type": "markdown",
   "metadata": {},
   "source": [
    "Given a RRT, and a destination point, we can find a path from the root of the RRT to the destination point, by finding a node on the tree that has a clear line-of-sight to the destination node, and is also as close as possible to the destination node. If there is no node on the tree with a clear line-of-sight to the destination, we return the value `nothing`:"
   ]
  },
  {
   "cell_type": "code",
   "execution_count": 13,
   "metadata": {},
   "outputs": [
    {
     "data": {
      "text/plain": [
       "find_tree_route_to_dest (generic function with 1 method)"
      ]
     },
     "execution_count": 13,
     "metadata": {},
     "output_type": "execute_result"
    }
   ],
   "source": [
    "function find_tree_route_to_dest(tree::RRT, dest::Point)\n",
    "    best_node = tree.nodes[1]\n",
    "    min_cost = Inf\n",
    "    path_found = false\n",
    "    for node in tree.nodes\n",
    "        # check for line-of-site to the destination\n",
    "        clear_path = !line_is_obstructed(scene, node.conf, dest)\n",
    "        cost = node.dist_from_start + (clear_path ? dist(node.conf, dest) : Inf)\n",
    "        if cost < min_cost\n",
    "            path_found = true\n",
    "            best_node = node\n",
    "            min_cost = cost\n",
    "        end\n",
    "    end\n",
    "    if path_found\n",
    "        (best_node, min_cost)\n",
    "    else\n",
    "        (nothing, min_cost)\n",
    "    end\n",
    "end"
   ]
  },
  {
   "cell_type": "markdown",
   "metadata": {},
   "source": [
    "Then, we obtain a sequence of points that define the path by walking back along the tree from the best tree  found node, back to the start node:"
   ]
  },
  {
   "cell_type": "code",
   "execution_count": 14,
   "metadata": {},
   "outputs": [
    {
     "data": {
      "text/plain": [
       "walk_tree_to_root (generic function with 1 method)"
      ]
     },
     "execution_count": 14,
     "metadata": {},
     "output_type": "execute_result"
    }
   ],
   "source": [
    "struct Path\n",
    "    points::Vector{Point}\n",
    "end\n",
    "\n",
    "function walk_tree_to_root(node::RRTNode, start::Point, dest::Point)\n",
    "    points = Point[dest]\n",
    "    while node.parent != nothing\n",
    "        push!(points, node.conf)\n",
    "        node = node.parent\n",
    "    end\n",
    "    push!(points, start)\n",
    "    @assert points[end] == start # the start point\n",
    "    @assert points[1] == dest\n",
    "    Path(reverse(points))\n",
    "end"
   ]
  },
  {
   "cell_type": "markdown",
   "metadata": {},
   "source": [
    "The paths along the tree that are generated by the RRT algorithm are generally not very direct. We want our agent to take fairly direct paths from its starting location to the destination. Therefore, we use the following path-refinement procedure to optimize the path points to shorten the length of the path while still avoiding obstruction by obstacles."
   ]
  },
  {
   "cell_type": "code",
   "execution_count": 15,
   "metadata": {},
   "outputs": [
    {
     "data": {
      "text/plain": [
       "refine_path (generic function with 1 method)"
      ]
     },
     "execution_count": 15,
     "metadata": {},
     "output_type": "execute_result"
    }
   ],
   "source": [
    "function refine_path(scene::Scene, original::Path, iters::Int, std::Float64)\n",
    "    # do stochastic optimization\n",
    "    new_points = copy(original.points)\n",
    "    num_interior_points = length(original.points) -2\n",
    "    if num_interior_points == 0\n",
    "        return original\n",
    "    end\n",
    "    for i=1:iters\n",
    "        point_idx = 2 + (i % num_interior_points)\n",
    "        @assert point_idx > 1 # not start\n",
    "        @assert point_idx < length(original.points) # not dest\n",
    "        prev_point = new_points[point_idx-1]\n",
    "        point = new_points[point_idx]\n",
    "        next_point = new_points[point_idx+1]\n",
    "        adjusted = Point(point.x + randn() * std, point.y + randn() * std)\n",
    "        cur_dist = dist(prev_point, point) + dist(point, next_point)\n",
    "        ok_backward = !line_is_obstructed(scene, prev_point, adjusted)\n",
    "        ok_forward = !line_is_obstructed(scene, adjusted, next_point)\n",
    "        if ok_backward && ok_forward\n",
    "            new_dist = dist(prev_point, adjusted) + dist(adjusted, next_point)\n",
    "            if new_dist < cur_dist\n",
    "                # accept the change\n",
    "                new_points[point_idx] = adjusted\n",
    "            end\n",
    "        end\n",
    "    end\n",
    "    Path(new_points)\n",
    "end"
   ]
  },
  {
   "cell_type": "markdown",
   "metadata": {},
   "source": [
    "Finally, we combine each of the steps we just defined into a path-planning function. If a path could not be found, we return the value `nothing`. Otherwise, we return a `Path` value The path-planning function has parameters for how to grow the RRT (`rrt_iters` and `rrt_dt`) and how to perform the refinement (`refine_iters` and `refine_std`)."
   ]
  },
  {
   "cell_type": "code",
   "execution_count": 16,
   "metadata": {},
   "outputs": [
    {
     "data": {
      "text/plain": [
       "plan_path (generic function with 1 method)"
      ]
     },
     "execution_count": 16,
     "metadata": {},
     "output_type": "execute_result"
    }
   ],
   "source": [
    "struct PlannerParams\n",
    "    rrt_iters::Int\n",
    "    rrt_dt::Float64 # the maximum proposal distance\n",
    "    refine_iters::Int\n",
    "    refine_std::Float64\n",
    "end\n",
    "\n",
    "function plan_path(start::Point, dest::Point, scene::Scene, params::PlannerParams)\n",
    "    \n",
    "    # Generate a rapidly exploring random tree\n",
    "    tree = generate_rrt(scene, start, params.rrt_iters, params.rrt_dt)\n",
    "\n",
    "    # Find a route from the root of the tree to a node on the tree that has a line-of-sight to the destination\n",
    "    (maybe_node, min_cost) = find_tree_route_to_dest(tree, dest)\n",
    "    \n",
    "    if maybe_node == nothing\n",
    "        \n",
    "        # No route found\n",
    "        nothing\n",
    "    else\n",
    "        \n",
    "        # Route found\n",
    "        node::RRTNode = something(maybe_node)\n",
    "        path = walk_tree_to_root(node, start, dest)\n",
    "        refine_path(scene, path, params.refine_iters, params.refine_std)\n",
    "    end\n",
    "end\n",
    "\n"
   ]
  },
  {
   "cell_type": "markdown",
   "metadata": {},
   "source": [
    "We will assume that the agent moves along its path a constant speed. The cell below defines a method that computes the locations of the agent at a set of timepoints, given the path and the speed of the agent."
   ]
  },
  {
   "cell_type": "code",
   "execution_count": 17,
   "metadata": {},
   "outputs": [
    {
     "data": {
      "text/plain": [
       "walk_path (generic function with 1 method)"
      ]
     },
     "execution_count": 17,
     "metadata": {},
     "output_type": "execute_result"
    }
   ],
   "source": [
    "function compute_distances_from_start(path::Path)\n",
    "    distances_from_start = Vector{Float64}(undef, length(path.points))\n",
    "    distances_from_start[1] = 0.0\n",
    "    for i=2:length(path.points)\n",
    "        distances_from_start[i] = distances_from_start[i-1] + dist(path.points[i-1], path.points[i])\n",
    "    end\n",
    "    return distances_from_start\n",
    "end\n",
    "\n",
    "function walk_path(path::Path, speed::Float64, dt::Float64, num_ticks::Int)\n",
    "    distances_from_start = compute_distances_from_start(path)\n",
    "    locations = Vector{Point}(undef, num_ticks)\n",
    "    locations[1] = path.points[1]\n",
    "    t = 0.\n",
    "    for time_idx=1:num_ticks\n",
    "        desired_distance = t * speed\n",
    "        used_up_time = false\n",
    "        # NOTE: can be improved (iterate through path points along with times)\n",
    "        for i=2:length(path.points)\n",
    "            prev = path.points[i-1]\n",
    "            cur = path.points[i]\n",
    "            dist_to_prev = dist(prev, cur)\n",
    "            if distances_from_start[i] >= desired_distance\n",
    "                # we overshot, the location is between i-1 and i\n",
    "                overshoot = distances_from_start[i] - desired_distance\n",
    "                @assert overshoot <= dist_to_prev\n",
    "                past_prev = dist_to_prev - overshoot\n",
    "                frac = past_prev / dist_to_prev\n",
    "                locations[time_idx] = Point(prev.x * (1. - frac) + cur.x * frac,\n",
    "                                     prev.y * (1. - frac) + cur.y * frac)\n",
    "                used_up_time = true\n",
    "                break\n",
    "            end\n",
    "        end\n",
    "        if !used_up_time\n",
    "            # sit at the goal indefinitely\n",
    "            locations[time_idx] = path.points[end]\n",
    "        end\n",
    "        t += dt\n",
    "    end\n",
    "    locations\n",
    "end"
   ]
  },
  {
   "cell_type": "markdown",
   "metadata": {},
   "source": [
    "## Step 3: Write a generative function for the motion of an autonomous agent\n",
    "\n",
    "We now can write a generative function that models the behavior of an autonomous agent."
   ]
  },
  {
   "cell_type": "code",
   "execution_count": 18,
   "metadata": {},
   "outputs": [
    {
     "data": {
      "text/plain": [
       "DynamicDSLFunction{Any}(Dict{Symbol,Any}(), Dict{Symbol,Any}(), Type[Scene, Float64, Int64], getfield(Main, Symbol(\"##3#5\"))(), getfield(Main, Symbol(\"##4#6\"))(), Bool[false, false, false])"
      ]
     },
     "execution_count": 18,
     "metadata": {},
     "output_type": "execute_result"
    }
   ],
   "source": [
    "@gen function model(scene::Scene, dt::Float64, num_ticks::Int)\n",
    "\n",
    "    # sample the start point of the agent from the prior\n",
    "    start_x = @addr(uniform(0, 1), :start_x)\n",
    "    start_y = @addr(uniform(0, 1), :start_y)\n",
    "    start = Point(start_x, start_y)\n",
    "\n",
    "    # sample the destination point of the agent from the prior\n",
    "    dest_x = @addr(uniform(0, 1), :dest_x)\n",
    "    dest_y = @addr(uniform(0, 1), :dest_y)\n",
    "    dest = Point(dest_x, dest_y)\n",
    "\n",
    "    # plan a path that avoids obstacles in the scene\n",
    "    maybe_path = plan_path(start, dest, scene, PlannerParams(300, 3.0, 2000, 1.))\n",
    "    \n",
    "    # sample the speed from the prior\n",
    "    speed = @addr(uniform(0, 1), :speed)\n",
    "\n",
    "    if maybe_path == nothing\n",
    "        \n",
    "        # path planning failed, assume the agent stays as the start location indefinitely\n",
    "        locations = fill(start, num_ticks)\n",
    "    else\n",
    "        \n",
    "        # path planning succeeded, move along the path at constant speed\n",
    "        path = something(maybe_path)\n",
    "        locations = walk_path(path, speed, dt, num_ticks)\n",
    "    end\n",
    "\n",
    "    # generate noisy measurements\n",
    "    noise = 0.01\n",
    "    measurements = Vector{Point}(undef, num_ticks)\n",
    "    for (i, point) in enumerate(locations)\n",
    "        x = @addr(normal(point.x, noise), :meas => i => :x)\n",
    "        y = @addr(normal(point.y, noise), :meas => i => :y)\n",
    "        measurements[i] = Point(x, y)\n",
    "    end\n",
    "\n",
    "    (start, dest, speed, noise, maybe_path, locations, measurements)\n",
    "end"
   ]
  },
  {
   "cell_type": "code",
   "execution_count": null,
   "metadata": {
    "collapsed": true
   },
   "outputs": [],
   "source": []
  },
  {
   "cell_type": "markdown",
   "metadata": {},
   "source": [
    "We create a scene:"
   ]
  },
  {
   "cell_type": "code",
   "execution_count": 19,
   "metadata": {},
   "outputs": [
    {
     "data": {
      "text/plain": [
       "8-element Array{Obstacle,1}:\n",
       " Obstacle(Point[Point(0.25, 0.15), Point(0.35, 0.15), Point(0.35, 0.25), Point(0.25, 0.25)])\n",
       " Obstacle(Point[Point(0.78, 0.75), Point(0.88, 0.75), Point(0.88, 0.85), Point(0.78, 0.85)])\n",
       " Obstacle(Point[Point(0.75, 0.35), Point(0.85, 0.35), Point(0.85, 0.45), Point(0.75, 0.45)])\n",
       " Obstacle(Point[Point(0.2, 0.4), Point(0.6, 0.4), Point(0.6, 0.42), Point(0.2, 0.42)])      \n",
       " Obstacle(Point[Point(0.6, 0.4), Point(0.62, 0.4), Point(0.62, 0.8), Point(0.6, 0.8)])      \n",
       " Obstacle(Point[Point(0.45, 0.8), Point(0.62, 0.8), Point(0.62, 0.82), Point(0.45, 0.82)])  \n",
       " Obstacle(Point[Point(0.2, 0.8), Point(0.35, 0.8), Point(0.35, 0.82), Point(0.2, 0.82)])    \n",
       " Obstacle(Point[Point(0.2, 0.4), Point(0.22, 0.4), Point(0.22, 0.8), Point(0.2, 0.8)])      "
      ]
     },
     "execution_count": 19,
     "metadata": {},
     "output_type": "execute_result"
    }
   ],
   "source": [
    "scene = Scene(0, 1, 0, 1)\n",
    "add_obstacle!(scene, make_tree(Point(0.30, 0.20), 0.1))\n",
    "add_obstacle!(scene, make_tree(Point(0.83, 0.80), 0.1))\n",
    "add_obstacle!(scene, make_tree(Point(0.80, 0.40), 0.1))\n",
    "horizontal = false\n",
    "vertical = true\n",
    "wall_thickness = 0.02\n",
    "add_obstacle!(scene, make_wall(horizontal, Point(0.20, 0.40), 0.40, wall_thickness))\n",
    "add_obstacle!(scene, make_wall(vertical, Point(0.60, 0.40), 0.40, wall_thickness))\n",
    "add_obstacle!(scene, make_wall(horizontal, Point(0.60 - 0.15, 0.80), 0.15 + wall_thickness, wall_thickness))\n",
    "add_obstacle!(scene, make_wall(horizontal, Point(0.20, 0.80), 0.15, wall_thickness))\n",
    "add_obstacle!(scene, make_wall(vertical, Point(0.20, 0.40), 0.40, wall_thickness))"
   ]
  },
  {
   "cell_type": "code",
   "execution_count": 20,
   "metadata": {},
   "outputs": [
    {
     "data": {
      "text/plain": [
       "10"
      ]
     },
     "execution_count": 20,
     "metadata": {},
     "output_type": "execute_result"
    }
   ],
   "source": [
    "const dt = 0.1\n",
    "const num_ticks = 10"
   ]
  },
  {
   "cell_type": "code",
   "execution_count": 21,
   "metadata": {
    "collapsed": true
   },
   "outputs": [],
   "source": [
    "import Random\n",
    "Random.seed!(3)\n",
    "\n",
    "# start GenViz server\n",
    "using GenViz\n",
    "server = VizServer(8000)\n",
    "sleep(1)"
   ]
  },
  {
   "cell_type": "code",
   "execution_count": 22,
   "metadata": {},
   "outputs": [
    {
     "data": {
      "text/plain": [
       "trace_to_dict (generic function with 1 method)"
      ]
     },
     "execution_count": 22,
     "metadata": {},
     "output_type": "execute_result"
    }
   ],
   "source": [
    "function trace_to_dict(trace)\n",
    "    args = get_args(trace)\n",
    "    (scene, dt, num_ticks) = args\n",
    "\n",
    "    retval = get_retval(trace)\n",
    "    (start, dest, speed, noise, maybe_path, locations, measurements) = retval\n",
    "\n",
    "    d = Dict()\n",
    "\n",
    "    # scene (the obstacles)\n",
    "    d[\"scene\"] = scene\n",
    "\n",
    "    # the path\n",
    "    if maybe_path != nothing\n",
    "        d[\"path\"] = maybe_path.points\n",
    "    else\n",
    "        d[\"path\"] = []\n",
    "    end\n",
    "\n",
    "    # start and destination location\n",
    "    d[\"start\"] = start\n",
    "    d[\"dest\"] = dest\n",
    "\n",
    "    # observed points\n",
    "    d[\"measurements\"] = measurements\n",
    "\n",
    "    d\n",
    "end"
   ]
  },
  {
   "cell_type": "markdown",
   "metadata": {},
   "source": [
    "## Step 4: Explore the assumptions of our model"
   ]
  },
  {
   "cell_type": "code",
   "execution_count": 23,
   "metadata": {
    "scrolled": false
   },
   "outputs": [
    {
     "data": {
      "text/html": [
       "<iframe src=http://127.0.0.1:8000/122602e9-45f1-4140-bd11-8bb85444f914/ frameBorder=0 width=100% height=600></iframe>"
      ]
     },
     "metadata": {},
     "output_type": "display_data"
    }
   ],
   "source": [
    "# visualize samples from the prior\n",
    "viz = Viz(server, joinpath(@__DIR__, \"grid-viz/dist\"), [])\n",
    "openInNotebook(viz)\n",
    "sleep(5)\n",
    "constraints = DynamicAssignment()\n",
    "constraints[:start_x] = 0.1\n",
    "constraints[:start_y] = 0.1\n",
    "for i=1:12\n",
    "    (trace, _) = initialize(model, (scene, dt, num_ticks), constraints)\n",
    "    putTrace!(viz, i, trace_to_dict(trace))\n",
    "end"
   ]
  },
  {
   "cell_type": "markdown",
   "metadata": {},
   "source": [
    "## Step 5: Use a simple importance sampling algorithm"
   ]
  },
  {
   "cell_type": "code",
   "execution_count": 24,
   "metadata": {
    "collapsed": true
   },
   "outputs": [],
   "source": [
    "import Random\n",
    "Random.seed!(8);"
   ]
  },
  {
   "cell_type": "code",
   "execution_count": 25,
   "metadata": {
    "collapsed": true
   },
   "outputs": [],
   "source": [
    "# generate data set\n",
    "constraints = DynamicAssignment()\n",
    "constraints[:start_x] = 0.1\n",
    "constraints[:start_y] = 0.1\n",
    "constraints[:dest_x] = 0.5\n",
    "constraints[:dest_y] = 0.5\n",
    "(trace, _) = initialize(model, (scene, dt, num_ticks), constraints)\n",
    "assmt = get_assmt(trace)\n",
    "start = get_retval(trace)[1]\n",
    "xs = [assmt[:meas => i => :x] for i=1:num_ticks]\n",
    "ys = [assmt[:meas => i => :y] for i=1:num_ticks]\n",
    "measurements = Vector{Point}(undef, num_ticks)\n",
    "for (i, (x, y)) in enumerate(zip(xs, ys))\n",
    "    measurements[i] = Point(x, y)\n",
    "end"
   ]
  },
  {
   "cell_type": "code",
   "execution_count": null,
   "metadata": {
    "collapsed": true
   },
   "outputs": [],
   "source": []
  },
  {
   "cell_type": "code",
   "execution_count": 26,
   "metadata": {},
   "outputs": [
    {
     "name": "stdout",
     "output_type": "stream",
     "text": [
      "0.4405486703861208\n"
     ]
    }
   ],
   "source": [
    "println(assmt[:speed])"
   ]
  },
  {
   "cell_type": "code",
   "execution_count": 27,
   "metadata": {},
   "outputs": [
    {
     "data": {
      "text/plain": [
       "do_inference (generic function with 1 method)"
      ]
     },
     "execution_count": 27,
     "metadata": {},
     "output_type": "execute_result"
    }
   ],
   "source": [
    "function do_inference(scene::Scene, dt::Float64, num_ticks::Int,\n",
    "                      start::Point,\n",
    "                      xs::Vector{Float64}, ys::Vector{Float64},\n",
    "                      num_particles::Int)\n",
    "    observations = DynamicAssignment()\n",
    "    observations[:start_x] = start.x\n",
    "    observations[:start_y] = start.y\n",
    "    for (i, (x, y)) in enumerate(zip(xs, ys))\n",
    "        observations[:meas => i => :x] = x\n",
    "        observations[:meas => i => :y] = y\n",
    "    end\n",
    "    observations = StaticAssignment(observations)\n",
    "    (traces, log_weights) = importance_sampling(model, (scene, dt, num_ticks), observations, num_particles)\n",
    "    idx = categorical(exp.(log_weights .- logsumexp(log_weights)))\n",
    "    traces[idx]\n",
    "end\n"
   ]
  },
  {
   "cell_type": "code",
   "execution_count": 28,
   "metadata": {},
   "outputs": [
    {
     "data": {
      "text/plain": [
       "Dict{String,Any} with 3 entries:\n",
       "  \"measurements\" => Point[Point(0.0980245, 0.104775), Point(0.113734, 0.150773)…\n",
       "  \"start\"        => Point(0.1, 0.1)\n",
       "  \"scene\"        => Scene(0.0, 1.0, 0.0, 1.0, Obstacle[Obstacle(Point[Point(0.2…"
      ]
     },
     "execution_count": 28,
     "metadata": {},
     "output_type": "execute_result"
    }
   ],
   "source": [
    "info = Dict(\"measurements\" => measurements, \"scene\" => scene, \"start\" => start)"
   ]
  },
  {
   "cell_type": "code",
   "execution_count": null,
   "metadata": {
    "collapsed": true
   },
   "outputs": [],
   "source": []
  },
  {
   "cell_type": "code",
   "execution_count": 29,
   "metadata": {
    "scrolled": false
   },
   "outputs": [
    {
     "data": {
      "text/html": [
       "<iframe src=http://127.0.0.1:8000/a117cd28-8e6c-4938-a0d5-9050509ca202/ frameBorder=0 width=100% height=600></iframe>"
      ]
     },
     "metadata": {},
     "output_type": "display_data"
    }
   ],
   "source": [
    "# show results of importance sampling inference (50 particles)\n",
    "viz = Viz(server, joinpath(@__DIR__, \"overlay-viz/dist\"), info)\n",
    "openInNotebook(viz)\n",
    "sleep(5)\n",
    "traces = []\n",
    "for i=1:100\n",
    "    trace = do_inference(scene, dt, num_ticks, start, xs, ys, 50)\n",
    "    putTrace!(viz, i, trace_to_dict(trace))\n",
    "    push!(traces, trace)\n",
    "end"
   ]
  },
  {
   "cell_type": "markdown",
   "metadata": {},
   "source": [
    "## Heuristic feature extraction for speed proposal"
   ]
  },
  {
   "cell_type": "code",
   "execution_count": 30,
   "metadata": {
    "collapsed": true
   },
   "outputs": [],
   "source": [
    "import PyPlot"
   ]
  },
  {
   "cell_type": "code",
   "execution_count": 31,
   "metadata": {
    "collapsed": true
   },
   "outputs": [],
   "source": [
    "traces = []\n",
    "for i=1:100\n",
    "    (trace, _) = initialize(model, (scene, dt, num_ticks), EmptyAssignment())\n",
    "    push!(traces, trace)\n",
    "end"
   ]
  },
  {
   "cell_type": "code",
   "execution_count": 32,
   "metadata": {
    "collapsed": true
   },
   "outputs": [],
   "source": [
    "# for each trace, make a plot showing the true speed"
   ]
  },
  {
   "cell_type": "code",
   "execution_count": 33,
   "metadata": {},
   "outputs": [
    {
     "data": {
      "text/plain": [
       "consecutive_dists (generic function with 1 method)"
      ]
     },
     "execution_count": 33,
     "metadata": {},
     "output_type": "execute_result"
    }
   ],
   "source": [
    "# idea: take the pairwise distance between all observations\n",
    "function consecutive_dists(measurements::Vector{Point})\n",
    "    n = length(measurements)\n",
    "    dists = Array{Float64}(undef, n-1)\n",
    "    for i=1:n-1\n",
    "        dists[i] = dist(measurements[i], measurements[i+1])\n",
    "    end\n",
    "    dists\n",
    "end"
   ]
  },
  {
   "cell_type": "code",
   "execution_count": 34,
   "metadata": {},
   "outputs": [
    {
     "data": {
      "image/png": "[encoded data removed]",
      "text/plain": [
       "PyPlot.Figure(PyObject <Figure size 1000x400 with 10 Axes>)"
      ]
     },
     "metadata": {},
     "output_type": "display_data"
    }
   ],
   "source": [
    "import Statistics\n",
    "PyPlot.figure(figsize=(10, 4))\n",
    "for (i, trace) in enumerate(traces[1:10])\n",
    "    PyPlot.subplot(2, 5, i)\n",
    "    (start, dest, speed, noise, maybe_path, locations, measurements) = get_retval(trace)\n",
    "    dists = consecutive_dists(measurements)\n",
    "    PyPlot.plot([speed, speed], [0, 1], \"--\")\n",
    "    PyPlot.plot([1, 1], [0, 1], \"k\")\n",
    "    PyPlot.scatter(dists / dt, rand(length(dists)))\n",
    "    guess = Statistics.median(dists) / dt\n",
    "    #PyPlot.plot([guess, guess], [0, 1], \"r\")\n",
    "    # compute parameters of beta distribution\n",
    "    N = 20\n",
    "    alpha = guess * (N - 2) + 1\n",
    "    beta = N - alpha\n",
    "    pdfs = [exp(logpdf(beta_uniform, s, 0.7, alpha, beta)) for s in 0.0:0.01:1.0]\n",
    "    PyPlot.plot(0.0:0.01:1.0, pdfs / maximum(pdfs))\n",
    "    ax = PyPlot.gca()\n",
    "    ax[:set_xlim](0, 1.5)\n",
    "    ax[:set_ylim](0, 1)\n",
    "end\n",
    "PyPlot.tight_layout()"
   ]
  },
  {
   "cell_type": "code",
   "execution_count": 35,
   "metadata": {},
   "outputs": [
    {
     "data": {
      "text/html": [
       "<iframe src=http://127.0.0.1:8000/e97693b3-6859-494f-85d6-6c913b4a87a6/ frameBorder=0 width=100% height=600></iframe>"
      ]
     },
     "metadata": {},
     "output_type": "display_data"
    }
   ],
   "source": [
    "# visualize samples from the prior\n",
    "viz = Viz(server, joinpath(@__DIR__, \"grid-viz/dist\"), [])\n",
    "openInNotebook(viz)\n",
    "sleep(5)\n",
    "for (i, trace) in enumerate(traces[1:10])\n",
    "    putTrace!(viz, i, trace_to_dict(trace))\n",
    "end"
   ]
  },
  {
   "cell_type": "markdown",
   "metadata": {},
   "source": [
    "## Step 7: Improve the algorithm"
   ]
  },
  {
   "cell_type": "code",
   "execution_count": 36,
   "metadata": {},
   "outputs": [
    {
     "data": {
      "text/plain": [
       "DynamicDSLFunction{Any}(Dict{Symbol,Any}(), Dict{Symbol,Any}(), Type[Float64], getfield(Main, Symbol(\"##13#15\"))(), getfield(Main, Symbol(\"##14#16\"))(), Bool[false])"
      ]
     },
     "execution_count": 36,
     "metadata": {},
     "output_type": "execute_result"
    }
   ],
   "source": [
    "@gen function custom_speed_proposal(speed_guess::Float64)\n",
    "    N = 20\n",
    "    alpha = speed_guess * (N - 2) + 1\n",
    "    beta = N - alpha\n",
    "    theta = 0.9\n",
    "    @addr(beta_uniform(theta, alpha, beta), :speed)\n",
    "end"
   ]
  },
  {
   "cell_type": "code",
   "execution_count": 37,
   "metadata": {},
   "outputs": [
    {
     "data": {
      "text/plain": [
       "do_inference_custom (generic function with 1 method)"
      ]
     },
     "execution_count": 37,
     "metadata": {},
     "output_type": "execute_result"
    }
   ],
   "source": [
    "function do_inference_custom(scene::Scene, dt::Float64, num_ticks::Int,\n",
    "                             start::Point, xs::Vector{Float64}, ys::Vector{Float64},\n",
    "                            num_particles::Int)\n",
    "    measurements = Vector{Point}(undef, num_ticks)\n",
    "    for (i, (x, y)) in enumerate(zip(xs, ys))\n",
    "        measurements[i] = Point(x, y)\n",
    "    end\n",
    "    \n",
    "    # compute a speed guess\n",
    "    dists = consecutive_dists(measurements)\n",
    "    speed_guess = Statistics.median(dists) / dt\n",
    "    \n",
    "    observations = DynamicAssignment()\n",
    "    observations[:start_x] = start.x\n",
    "    observations[:start_y] = start.y\n",
    "    for (i, (x, y)) in enumerate(zip(xs, ys))\n",
    "        observations[:meas => i => :x] = x\n",
    "        observations[:meas => i => :y] = y\n",
    "    end\n",
    "    observations = StaticAssignment(observations)\n",
    "    (traces, log_weights) = importance_sampling(model, (scene, dt, num_ticks), observations,\n",
    "        custom_speed_proposal, (speed_guess,), num_particles)\n",
    "    idx = categorical(exp.(log_weights .- logsumexp(log_weights)))\n",
    "    traces[idx]\n",
    "end"
   ]
  },
  {
   "cell_type": "code",
   "execution_count": 38,
   "metadata": {
    "scrolled": false
   },
   "outputs": [
    {
     "data": {
      "text/html": [
       "<iframe src=http://127.0.0.1:8000/e79292cf-2ddc-4877-a6dc-f5bea99b9601/ frameBorder=0 width=100% height=600></iframe>"
      ]
     },
     "metadata": {},
     "output_type": "display_data"
    }
   ],
   "source": [
    "# show results of importance sampling inference (50 particles)\n",
    "viz = Viz(server, joinpath(@__DIR__, \"overlay-viz/dist\"), info)\n",
    "openInNotebook(viz)\n",
    "sleep(5)\n",
    "for i=1:100\n",
    "    trace = do_inference_custom(scene, dt, num_ticks, start, xs, ys, 50)\n",
    "    putTrace!(viz, i, trace_to_dict(trace))\n",
    "end"
   ]
  },
  {
   "cell_type": "markdown",
   "metadata": {},
   "source": [
    "## Quantify improvement in performance due to custom proposal"
   ]
  },
  {
   "cell_type": "code",
   "execution_count": null,
   "metadata": {},
   "outputs": [],
   "source": [
    "function make_location_histogram(locations::Vector{Point}, nrows::Int, ncols::Int, scene::Scene)\n",
    "    counts = fill(0.01, nrows * ncols)\n",
    "    xspan = scene.xmax - scene.xmin\n",
    "    yspan = scene.ymax - scene.ymin\n",
    "    for loc in locations\n",
    "        row = Int(floor((loc.y - scene.ymin) / yspan * nrows))\n",
    "        col = Int(floor((loc.x - scene.xmin) / xspan * ncols))\n",
    "        @assert row < nrows\n",
    "        @assert col < ncols\n",
    "        counts[row * ncols + col + 1] += 1\n",
    "    end\n",
    "    freqs = counts ./ sum(counts)\n",
    "    freqs\n",
    "end"
   ]
  },
  {
   "cell_type": "code",
   "execution_count": null,
   "metadata": {},
   "outputs": [],
   "source": [
    "default_histograms = Dict{Int,Vector{Float64}}()\n",
    "default_times = Dict{Int,Vector{Float64}}()\n",
    "custom_histograms = Dict{Int,Vector{Float64}}()\n",
    "custom_times = Dict{Int,Vector{Float64}}()\n",
    "num_particles_list = [1, 3, 10, 30, 100, 300, 1000]\n",
    "nrows = 10\n",
    "ncols = 10\n",
    "nruns = 1000\n",
    "for n in num_particles_list\n",
    "    \n",
    "    println(\"testing num_particles: $n\")\n",
    "    \n",
    "    # run default inference\n",
    "    println(\"default\")\n",
    "    traces = Vector{Any}(undef, nruns)\n",
    "    times = Vector{Float64}(undef, nruns)\n",
    "    for i=1:nruns\n",
    "        start_time = time_ns()\n",
    "        traces[i] = do_inference(scene, dt, num_ticks, start, xs, ys, n)\n",
    "        times[i] = (time_ns() - start_time)/1e9\n",
    "    end\n",
    "    locations = [let a = get_assmt(t); Point(a[:dest_x], a[:dest_y]) end for t in traces]\n",
    "    default_histograms[n] = make_location_histogram(locations, nrows, ncols, scene)\n",
    "    default_times[n] = times\n",
    "    \n",
    "    # run custom inference\n",
    "    println(\"custom\")\n",
    "    traces = Vector{Any}(undef, nruns)\n",
    "    times = Vector{Float64}(undef, nruns)\n",
    "    for i=1:nruns\n",
    "        start_time = time_ns()\n",
    "        traces[i] = do_inference_custom(scene, dt, num_ticks, start, xs, ys, n)\n",
    "        times[i] = (time_ns() - start_time)/1e9\n",
    "    end\n",
    "    locations = [let a = get_assmt(t); Point(a[:dest_x], a[:dest_y]) end for t in traces]\n",
    "    custom_histograms[n] = make_location_histogram(locations, nrows, ncols, scene)\n",
    "    custom_times[n] = times\n",
    "end"
   ]
  },
  {
   "cell_type": "code",
   "execution_count": null,
   "metadata": {
    "collapsed": true
   },
   "outputs": [],
   "source": []
  },
  {
   "cell_type": "code",
   "execution_count": null,
   "metadata": {
    "collapsed": true
   },
   "outputs": [],
   "source": [
    "function kl_divergence(dist1::Vector{Float64}, dist2::Vector{Float64})\n",
    "    sum(dist1 .* (log.(dist1) .- log.(dist2)))\n",
    "end"
   ]
  },
  {
   "cell_type": "code",
   "execution_count": null,
   "metadata": {
    "collapsed": true
   },
   "outputs": [],
   "source": [
    "default_kls = [kl_divergence(default_histograms[1000], default_histograms[n]) for n in num_particles_list[1:5]]\n",
    "default_median_elapsed = [Statistics.median(default_times[n]) for n in num_particles_list[1:5]]\n",
    "custom_kls = [kl_divergence(default_histograms[1000], custom_histograms[n]) for n in num_particles_list[1:5]]\n",
    "custom_median_elapsed = [Statistics.median(custom_times[n]) for n in num_particles_list[1:5]]\n",
    "PyPlot.figure(figsize=(8, 4))\n",
    "PyPlot.subplot(1, 2, 1)\n",
    "PyPlot.plot(num_particles_list[1:5], default_kls, label=\"default\")\n",
    "PyPlot.plot(num_particles_list[1:5], custom_kls, label=\"custom\")\n",
    "PyPlot.legend()\n",
    "PyPlot.ylabel(\"Error\")\n",
    "PyPlot.xlabel(\"number of particles\")\n",
    "PyPlot.subplot(1, 2, 2)\n",
    "PyPlot.scatter(default_median_elapsed, default_kls, label=\"default\")\n",
    "PyPlot.scatter(custom_median_elapsed, custom_kls, label=\"custom\")\n",
    "PyPlot.legend()\n",
    "PyPlot.ylabel(\"Error\")\n",
    "PyPlot.xlabel(\"Median samples per second\")"
   ]
  },
  {
   "cell_type": "markdown",
   "metadata": {},
   "source": [
    "## Step 8: Train a custom proposal on simulated data"
   ]
  },
  {
   "cell_type": "code",
   "execution_count": 39,
   "metadata": {
    "collapsed": true
   },
   "outputs": [],
   "source": [
    "struct PiecewiseUniform <: Distribution{Float64} end"
   ]
  },
  {
   "cell_type": "code",
   "execution_count": 40,
   "metadata": {},
   "outputs": [
    {
     "data": {
      "text/plain": [
       "PiecewiseUniform()"
      ]
     },
     "execution_count": 40,
     "metadata": {},
     "output_type": "execute_result"
    }
   ],
   "source": [
    "const piecewise_uniform = PiecewiseUniform()"
   ]
  },
  {
   "cell_type": "code",
   "execution_count": 41,
   "metadata": {
    "collapsed": true
   },
   "outputs": [],
   "source": [
    "function Gen.logpdf(::PiecewiseUniform, x::Real, bounds::AbstractVector{T}, probs::AbstractVector{U}) where {T <: Real, U <: Real}\n",
    "    @assert length(bounds) == length(probs) + 1\n",
    "    # bounds[1]      bounds[2]           bounds[3]      bounds[4]\n",
    "    # |    probs[1]  |  probs[2]         | probs[3]     |\n",
    "    if x <= bounds[1] || x >= bounds[end]\n",
    "        -Inf\n",
    "    end\n",
    "    bin = 1\n",
    "    while x > bounds[bin+1]\n",
    "        bin += 1\n",
    "    end\n",
    "    @assert bin <= length(probs)\n",
    "    log(probs[bin]) - log(bounds[bin+1] - bounds[bin])\n",
    "end\n",
    "\n",
    "function Gen.random(::PiecewiseUniform, bounds::Vector{T}, probs::Vector{U}) where {T <: Real, U <: Real}\n",
    "    bin = categorical(probs)\n",
    "    uniform_continuous(bounds[bin], bounds[bin+1])\n",
    "end\n",
    "\n",
    "# TODO:\n",
    "#has_output_grad(::PiecewiseUniform) = false\n",
    "#has_argument"
   ]
  },
  {
   "cell_type": "code",
   "execution_count": 42,
   "metadata": {},
   "outputs": [
    {
     "data": {
      "text/plain": [
       "sigmoid (generic function with 1 method)"
      ]
     },
     "execution_count": 42,
     "metadata": {},
     "output_type": "execute_result"
    }
   ],
   "source": [
    "sigmoid(x) = 1 ./ (1 .+ exp.(-x))"
   ]
  },
  {
   "cell_type": "code",
   "execution_count": 292,
   "metadata": {
    "collapsed": true
   },
   "outputs": [],
   "source": [
    "function x_neural_net2(nn_params, x_first::Real, y_first::Real, x_last::Real, y_last::Real)\n",
    "    (W1, b1, W2, b2, W3, b3) = nn_params\n",
    "    input_layer = [x_first, y_first, x_last, y_last]\n",
    "    hidden_layer_1 = sigmoid(W1 * input_layer .+ b1)\n",
    "    hidden_layer_2 = sigmoid(W2 * hidden_layer_1 .+ b2)\n",
    "    output_layer = exp.(W3 * hidden_layer_2 .+ b3)\n",
    "end\n",
    "\n",
    "function y_neural_net2(nn_params, x_first::Real, y_first::Real, x_last::Real, y_last::Real, dest_x::Real)\n",
    "    (W1, b1, W2, b2, W3, b3) = nn_params\n",
    "    input_layer = [x_first, y_first, x_last, y_last, dest_x]\n",
    "    hidden_layer_1 = sigmoid(W1 * input_layer .+ b1)\n",
    "    hidden_layer_2 = sigmoid(W2 * hidden_layer_1 .+ b2)\n",
    "    output_layer = exp.(W3 * hidden_layer_2 .+ b3)\n",
    "end\n",
    "\n",
    "@gen function custom_dest_proposal(measurements::Vector{Point}, scene::Scene)\n",
    "    \n",
    "    \n",
    "    # TODO fix the @param + @splice issue for the other Dynamic DSL GFI methods (besides propose)\n",
    "    \n",
    "    @param x_W1::Matrix{Float64}\n",
    "    @param x_b1::Vector{Float64}\n",
    "    @param x_W2::Matrix{Float64}\n",
    "    @param x_b2::Vector{Float64}\n",
    "    @param x_W3::Matrix{Float64}\n",
    "    @param x_b3::Vector{Float64}\n",
    "    \n",
    "    @param y_W1::Matrix{Float64}\n",
    "    @param y_b1::Vector{Float64}\n",
    "    @param y_W2::Matrix{Float64}\n",
    "    @param y_b2::Vector{Float64}\n",
    "    @param y_W3::Matrix{Float64}\n",
    "    @param y_b3::Vector{Float64}\n",
    "    \n",
    "    num_x_bins = length(x_b3)\n",
    "    num_y_bins = length(y_b3)\n",
    "    \n",
    "    #xs = [m.x for m in measurements]\n",
    "    #ys = [m.y for m in measurements]\n",
    "    #dxs = [xs[i+1] - xs[i] for i=1:length(xs)-1]\n",
    "    #dys = [ys[i+1] - ys[i] for i=1:length(ys)-1]\n",
    "    x_first = measurements[1].x\n",
    "    x_last = measurements[end].x\n",
    "    y_first = measurements[1].y\n",
    "    y_last = measurements[end].y\n",
    "    \n",
    "    # sample dest_x\n",
    "    x_bounds = collect(range(scene.xmin, stop=scene.xmax, length=num_x_bins+1))\n",
    "    x_probs = x_neural_net2((x_W1, x_b1, x_W2, x_b2, x_W3, x_b3), x_first, y_first, x_last, y_last)\n",
    "    dest_x = @addr(piecewise_uniform(x_bounds, x_probs / sum(x_probs)), :dest_x)\n",
    "    \n",
    "    # sample dest_y\n",
    "    y_bounds = collect(range(scene.xmin, stop=scene.xmax, length=num_y_bins+1))\n",
    "    y_probs = y_neural_net2((y_W1, y_b1, y_W2, y_b2, y_W3, y_b3), x_first, y_first, x_last, y_last, dest_x)\n",
    "    @addr(piecewise_uniform(y_bounds, y_probs / sum(y_probs)), :dest_y)\n",
    "    \n",
    "    nothing\n",
    "end\n",
    "\n",
    "num_x_bins = 5\n",
    "num_y_bins = 5\n",
    "num_hidden_1 = 50\n",
    "num_hidden_2 = 50\n",
    "\n",
    "import Random\n",
    "Random.seed!(1)\n",
    "\n",
    "# set parameters for dest-x predictor network\n",
    "init_param!(custom_dest_proposal, :x_W1, 0.001 * rand(num_hidden_1, 4))\n",
    "init_param!(custom_dest_proposal, :x_b1, 0.001 * rand(num_hidden_1))\n",
    "init_param!(custom_dest_proposal, :x_W2, 0.001 * rand(num_hidden_2, num_hidden_1))\n",
    "init_param!(custom_dest_proposal, :x_b2, 0.001 * rand(num_hidden_2))\n",
    "init_param!(custom_dest_proposal, :x_W3, 0.001 * rand(num_x_bins, num_hidden_2))\n",
    "init_param!(custom_dest_proposal, :x_b3, 0.001 * rand(num_x_bins))\n",
    "\n",
    "# set parameters for dest-y predictor network\n",
    "init_param!(custom_dest_proposal, :y_W1, 0.001 * rand(num_hidden_1, 5))\n",
    "init_param!(custom_dest_proposal, :y_b1, 0.001 * rand(num_hidden_1))\n",
    "init_param!(custom_dest_proposal, :y_W2, 0.001 * rand(num_hidden_2, num_hidden_1))\n",
    "init_param!(custom_dest_proposal, :y_b2, 0.001 * rand(num_hidden_2))\n",
    "init_param!(custom_dest_proposal, :y_W3, 0.001 * rand(num_y_bins, num_hidden_2))\n",
    "init_param!(custom_dest_proposal, :y_b3, 0.001 * rand(num_y_bins));"
   ]
  },
  {
   "cell_type": "code",
   "execution_count": 306,
   "metadata": {},
   "outputs": [
    {
     "data": {
      "text/plain": [
       "DynamicDSLFunction{Any}(Dict{Symbol,Any}(), Dict{Symbol,Any}(), Type[Array{Point,1}, Scene, Float64], getfield(Main, Symbol(\"##413#415\"))(), getfield(Main, Symbol(\"##414#416\"))(), Bool[false, false, false])"
      ]
     },
     "execution_count": 306,
     "metadata": {},
     "output_type": "execute_result"
    }
   ],
   "source": [
    "@gen function custom_proposal(measurements::Vector{Point}, scene::Scene, speed_guess::Float64)\n",
    "    @splice(custom_dest_proposal(measurements, scene))\n",
    "    @splice(custom_speed_proposal(speed_guess))\n",
    "end"
   ]
  },
  {
   "cell_type": "code",
   "execution_count": 308,
   "metadata": {},
   "outputs": [
    {
     "data": {
      "text/plain": [
       "make_proposal_tiles (generic function with 2 methods)"
      ]
     },
     "execution_count": 308,
     "metadata": {},
     "output_type": "execute_result"
    }
   ],
   "source": [
    "# visualize the proposal density for a given data set.. (run logpdf on custom_dest_proposal)\n",
    "function make_proposal_tiles(measurements::Vector{Point}, scene::Scene, num_x_bins::Int, num_y_bins::Int)\n",
    "    dest_proposal_tiles = [] # each tile contains a {x, y, w, h, alpha}\n",
    "    xspan = scene.xmax - scene.xmin\n",
    "    yspan = scene.ymax - scene.ymin\n",
    "    w = xspan / num_x_bins\n",
    "    h = yspan / num_y_bins\n",
    "    for col=1:num_x_bins\n",
    "        for row=1:num_y_bins\n",
    "            x = scene.xmin + (col - 1) * w\n",
    "            y = scene.ymin + (row - 1) * h\n",
    "            assmt = DynamicAssignment()\n",
    "            assmt[:dest_x] = x + (w/2)\n",
    "            assmt[:dest_y] = y + (h/2)\n",
    "            (weight, _) = assess(custom_dest_proposal, (measurements, scene), assmt)\n",
    "            tile = Dict(\"x\" => x, \"y\" => y, \"w\" => w, \"h\" => h, \"density\" => exp(weight))\n",
    "            push!(dest_proposal_tiles, tile)\n",
    "        end\n",
    "    end\n",
    "    max_density = maximum([tile[\"density\"] for tile in dest_proposal_tiles])\n",
    "    for tile in dest_proposal_tiles\n",
    "        tile[\"density\"] /= max_density\n",
    "    end\n",
    "    dest_proposal_tiles\n",
    "end"
   ]
  },
  {
   "cell_type": "code",
   "execution_count": 295,
   "metadata": {},
   "outputs": [
    {
     "data": {
      "text/plain": [
       "25-element Array{Any,1}:\n",
       " Dict(\"w\"=>0.2,\"density\"=>0.996471,\"x\"=>0.0,\"h\"=>0.2,\"y\"=>0.0)\n",
       " Dict(\"w\"=>0.2,\"density\"=>0.997766,\"x\"=>0.0,\"h\"=>0.2,\"y\"=>0.2)\n",
       " Dict(\"w\"=>0.2,\"density\"=>0.996874,\"x\"=>0.0,\"h\"=>0.2,\"y\"=>0.4)\n",
       " Dict(\"w\"=>0.2,\"density\"=>0.99861,\"x\"=>0.0,\"h\"=>0.2,\"y\"=>0.6) \n",
       " Dict(\"w\"=>0.2,\"density\"=>0.996122,\"x\"=>0.0,\"h\"=>0.2,\"y\"=>0.8)\n",
       " Dict(\"w\"=>0.2,\"density\"=>0.994613,\"x\"=>0.2,\"h\"=>0.2,\"y\"=>0.0)\n",
       " Dict(\"w\"=>0.2,\"density\"=>0.995905,\"x\"=>0.2,\"h\"=>0.2,\"y\"=>0.2)\n",
       " Dict(\"w\"=>0.2,\"density\"=>0.995014,\"x\"=>0.2,\"h\"=>0.2,\"y\"=>0.4)\n",
       " Dict(\"w\"=>0.2,\"density\"=>0.996748,\"x\"=>0.2,\"h\"=>0.2,\"y\"=>0.6)\n",
       " Dict(\"w\"=>0.2,\"density\"=>0.994265,\"x\"=>0.2,\"h\"=>0.2,\"y\"=>0.8)\n",
       " Dict(\"w\"=>0.2,\"density\"=>0.997793,\"x\"=>0.4,\"h\"=>0.2,\"y\"=>0.0)\n",
       " Dict(\"w\"=>0.2,\"density\"=>0.999089,\"x\"=>0.4,\"h\"=>0.2,\"y\"=>0.2)\n",
       " Dict(\"w\"=>0.2,\"density\"=>0.998196,\"x\"=>0.4,\"h\"=>0.2,\"y\"=>0.4)\n",
       " Dict(\"w\"=>0.2,\"density\"=>0.999934,\"x\"=>0.4,\"h\"=>0.2,\"y\"=>0.6)\n",
       " Dict(\"w\"=>0.2,\"density\"=>0.997444,\"x\"=>0.4,\"h\"=>0.2,\"y\"=>0.8)\n",
       " Dict(\"w\"=>0.2,\"density\"=>0.995592,\"x\"=>0.6,\"h\"=>0.2,\"y\"=>0.0)\n",
       " Dict(\"w\"=>0.2,\"density\"=>0.996885,\"x\"=>0.6,\"h\"=>0.2,\"y\"=>0.2)\n",
       " Dict(\"w\"=>0.2,\"density\"=>0.995994,\"x\"=>0.6,\"h\"=>0.2,\"y\"=>0.4)\n",
       " Dict(\"w\"=>0.2,\"density\"=>0.997729,\"x\"=>0.6,\"h\"=>0.2,\"y\"=>0.6)\n",
       " Dict(\"w\"=>0.2,\"density\"=>0.995243,\"x\"=>0.6,\"h\"=>0.2,\"y\"=>0.8)\n",
       " Dict(\"w\"=>0.2,\"density\"=>0.997858,\"x\"=>0.8,\"h\"=>0.2,\"y\"=>0.0)\n",
       " Dict(\"w\"=>0.2,\"density\"=>0.999155,\"x\"=>0.8,\"h\"=>0.2,\"y\"=>0.2)\n",
       " Dict(\"w\"=>0.2,\"density\"=>0.998261,\"x\"=>0.8,\"h\"=>0.2,\"y\"=>0.4)\n",
       " Dict(\"w\"=>0.2,\"density\"=>1.0,\"x\"=>0.8,\"h\"=>0.2,\"y\"=>0.6)     \n",
       " Dict(\"w\"=>0.2,\"density\"=>0.997509,\"x\"=>0.8,\"h\"=>0.2,\"y\"=>0.8)"
      ]
     },
     "execution_count": 295,
     "metadata": {},
     "output_type": "execute_result"
    }
   ],
   "source": [
    "tiles = make_proposal_tiles(measurements, scene, (0.5, 0.5), 5, 5)"
   ]
  },
  {
   "cell_type": "code",
   "execution_count": 304,
   "metadata": {},
   "outputs": [
    {
     "data": {
      "text/plain": [
       "do_inference_custom2 (generic function with 1 method)"
      ]
     },
     "execution_count": 304,
     "metadata": {},
     "output_type": "execute_result"
    }
   ],
   "source": [
    "function do_inference_custom2(scene::Scene, dt::Float64, num_ticks::Int,\n",
    "                             start::Point, xs::Vector{Float64}, ys::Vector{Float64},\n",
    "                             num_particles::Int)\n",
    "    \n",
    "    measurements = Vector{Point}(undef, num_ticks)\n",
    "    for (i, (x, y)) in enumerate(zip(xs, ys))\n",
    "        measurements[i] = Point(x, y)\n",
    "    end\n",
    "    \n",
    "    # compute a speed guess\n",
    "    dists = consecutive_dists(measurements)\n",
    "    speed_guess = Statistics.median(dists) / dt\n",
    "    \n",
    "    observations = DynamicAssignment()\n",
    "    observations[:start_x] = start.x\n",
    "    observations[:start_y] = start.y\n",
    "    for (i, (x, y)) in enumerate(zip(xs, ys))\n",
    "        observations[:meas => i => :x] = x\n",
    "        observations[:meas => i => :y] = y\n",
    "    end\n",
    "    observations = StaticAssignment(observations)\n",
    "    (traces, log_weights) = importance_sampling(model, (scene, dt, num_ticks), observations,\n",
    "        custom_proposal, (measurements, scene, speed_guess), num_particles)\n",
    "    idx = categorical(exp.(log_weights .- logsumexp(log_weights)))\n",
    "    traces[idx]\n",
    "end"
   ]
  },
  {
   "cell_type": "code",
   "execution_count": 297,
   "metadata": {
    "scrolled": false
   },
   "outputs": [
    {
     "data": {
      "text/html": [
       "<iframe src=http://127.0.0.1:8000/d8626dee-3738-4fa5-aa53-bf1dbbb0ad4b/ frameBorder=0 width=100% height=600></iframe>"
      ]
     },
     "metadata": {},
     "output_type": "display_data"
    }
   ],
   "source": [
    "# show proposal density\n",
    "info = Dict(\"measurements\" => measurements, \"scene\" => scene, \"start\" => start, \"tiles\" => tiles)\n",
    "viz = Viz(server, joinpath(@__DIR__, \"overlay-viz/dist\"), info)\n",
    "openInNotebook(viz)\n",
    "sleep(5)\n",
    "for i=1:100\n",
    "    trace = do_inference_custom2(scene, dt, num_ticks, start, xs, ys, 1)\n",
    "    putTrace!(viz, i, trace_to_dict(trace))\n",
    "end"
   ]
  },
  {
   "cell_type": "code",
   "execution_count": null,
   "metadata": {
    "collapsed": true
   },
   "outputs": [],
   "source": []
  },
  {
   "cell_type": "code",
   "execution_count": 298,
   "metadata": {},
   "outputs": [
    {
     "data": {
      "text/plain": [
       "update_params! (generic function with 3 methods)"
      ]
     },
     "execution_count": 298,
     "metadata": {},
     "output_type": "execute_result"
    }
   ],
   "source": [
    "# ADAM\n",
    "\n",
    "mutable struct ADAMOptimizerState\n",
    "    m::Dict{Symbol,Any}\n",
    "    v::Dict{Symbol,Any}\n",
    "    params::Dict{Symbol,Any} # gets mutated\n",
    "    t::Float64\n",
    "end\n",
    "\n",
    "function ADAMOptimizerState(params::Dict{Symbol,Any})\n",
    "    m = Dict{Symbol,Any}()\n",
    "    v = Dict{Symbol,Any}()\n",
    "    for (param_name, param_value) in params\n",
    "        m[param_name] = zero(param_value)\n",
    "        v[param_name] = zero(param_value)\n",
    "    end\n",
    "    ADAMOptimizerState(m, v, params, 1.)\n",
    "end\n",
    "\n",
    "function update_params!(state::ADAMOptimizerState, param_grads::Dict{Symbol,Any})\n",
    "    beta1 = 0.9\n",
    "    beta2 = 0.999\n",
    "    eps = 1e-8\n",
    "    alpha = 0.00001\n",
    "    for param_name in keys(state.params)\n",
    "        grad = -param_grads[param_name]\n",
    "        m_new = beta1 .* state.m[param_name] + (1-beta1).*grad\n",
    "        v_new = beta2 .* state.v[param_name] + (1-beta2).*(grad.^2)\n",
    "        m_hat = m_new ./ (1. - beta1.^state.t)\n",
    "        v_hat = v_new ./ (1. - beta2.^state.t)\n",
    "        current = state.params[param_name]\n",
    "        new = current .- alpha * m_hat ./ (sqrt.(v_hat) .+ eps)\n",
    "        state.params[param_name] = new\n",
    "        state.m[param_name] = m_new\n",
    "        state.v[param_name] = v_new\n",
    "    end\n",
    "    state.t += 1\n",
    "end"
   ]
  },
  {
   "cell_type": "code",
   "execution_count": 299,
   "metadata": {},
   "outputs": [
    {
     "data": {
      "text/plain": [
       "update_params! (generic function with 3 methods)"
      ]
     },
     "execution_count": 299,
     "metadata": {},
     "output_type": "execute_result"
    }
   ],
   "source": [
    "# regular SGD\n",
    "\n",
    "mutable struct SGDState2\n",
    "    params::Dict{Symbol,Any}\n",
    "    t::Int\n",
    "    init_step_size::Float64\n",
    "    beta::Float64\n",
    "end\n",
    "\n",
    "SGDState2(params, init_step_size, beta) = SGDState2(params, 1, init_step_size, beta)\n",
    "\n",
    "function update_params!(state::SGDState2, param_grads::Dict{Symbol,Any})\n",
    "    step_size = state.init_step_size * (state.beta + 1) / (state.beta + state.t)\n",
    "    for param_name in keys(state.params)\n",
    "        state.params[param_name] += param_grads[param_name] * step_size\n",
    "    end\n",
    "    state.t += 1\n",
    "end"
   ]
  },
  {
   "cell_type": "code",
   "execution_count": 300,
   "metadata": {},
   "outputs": [
    {
     "data": {
      "text/plain": [
       "epoch_callback (generic function with 1 method)"
      ]
     },
     "execution_count": 300,
     "metadata": {},
     "output_type": "execute_result"
    }
   ],
   "source": [
    "# train the proposal on simulated data..\n",
    "\n",
    "function translator(assmt, retval)\n",
    "    measurements = Vector{Point}(undef, num_ticks)\n",
    "    for i=1:num_ticks\n",
    "        x = assmt[:meas => i => :x]\n",
    "        y = assmt[:meas => i => :y]\n",
    "        measurements[i] = Point(x, y)\n",
    "    end\n",
    "    inputs = (measurements, scene)\n",
    "    constraints = DynamicAssignment()\n",
    "    constraints[:dest_x] = assmt[:dest_x]\n",
    "    constraints[:dest_y] = assmt[:dest_y]\n",
    "    (inputs, constraints)\n",
    "end\n",
    "\n",
    "params = custom_dest_proposal.params # TODO this is not part of the GFI\n",
    "\n",
    "#adam_state = ADAMOptimizerState(params)\n",
    "state = SGDState2(params, 0.1, 1000)\n",
    "\n",
    "function minibatch_callback(epoch, minibatch, avg_score, verbose)\n",
    "    param_names = [:x_W1, :x_b1, :x_W2, :x_b2, :x_W3, :x_b3, :y_W1, :y_b1, :y_W2, :y_b2, :y_W3, :y_b3]\n",
    "    \n",
    "    # get value of gradient accumulator\n",
    "    param_grads = Dict{Symbol,Any}()\n",
    "    for param_name in param_names\n",
    "        param_grads[param_name] = get_param_grad(custom_dest_proposal, param_name)\n",
    "    end\n",
    "    \n",
    "    # do parameter update\n",
    "    update_params!(state, param_grads)\n",
    "    \n",
    "    # reset gradient accumulators\n",
    "    for param_name in param_names\n",
    "        zero_param_grad!(custom_dest_proposal, param_name)\n",
    "    end\n",
    "end\n",
    "\n",
    "function epoch_callback(epoch, verbose)\n",
    "    \n",
    "    num_test = 10000\n",
    "    avg_score = 0.\n",
    "    for i=1:num_test\n",
    "        (assmt, _, retval) = propose(model, (scene, dt, num_ticks))\n",
    "        (inputs, constraints) = translator(assmt, retval)\n",
    "        (incr, _) = assess(custom_dest_proposal, inputs, constraints)\n",
    "        avg_score += incr\n",
    "    end\n",
    "    avg_score /= num_test\n",
    "    \n",
    "    println(\"epoch $epoch, avg_score: $avg_score, step_size: $(state.init_step_size * (state.beta + 1) / (state.beta + state.t))\")\n",
    "end"
   ]
  },
  {
   "cell_type": "code",
   "execution_count": 301,
   "metadata": {},
   "outputs": [
    {
     "data": {
      "text/plain": [
       "planner_success_filter (generic function with 1 method)"
      ]
     },
     "execution_count": 301,
     "metadata": {},
     "output_type": "execute_result"
    }
   ],
   "source": [
    "function planner_success_filter(assmt, retval)\n",
    "    (start, dest, speed, noise, maybe_path, locations, measurements) = retval\n",
    "    maybe_path != nothing\n",
    "end"
   ]
  },
  {
   "cell_type": "code",
   "execution_count": 276,
   "metadata": {
    "scrolled": false
   },
   "outputs": [
    {
     "name": "stdout",
     "output_type": "stream",
     "text": [
      "avg score for uniform dest proposal: 0.0\n",
      "acceptance rate: 0.8796622097114708\n"
     ]
    }
   ],
   "source": [
    "# measure the objective function for the uniform proposal\n",
    "@gen function uniform_dest_proposal(measurements, scene)\n",
    "    @addr(uniform_continuous(scene.xmin, scene.xmax), :dest_x)\n",
    "    @addr(uniform_continuous(scene.ymin, scene.ymax), :dest_y)\n",
    "end\n",
    "\n",
    "num_test = 10000\n",
    "avg_score = 0.\n",
    "i = 1\n",
    "attempted = 0\n",
    "while i <= num_test\n",
    "    (assmt, _, retval) = propose(model, (scene, dt, num_ticks))\n",
    "    if planner_success_filter(assmt, retval)\n",
    "        (inputs, constraints) = translator(assmt, retval)\n",
    "        (incr, _) = assess(uniform_dest_proposal, inputs, constraints)\n",
    "        avg_score += incr\n",
    "        i += 1\n",
    "    end\n",
    "    attempted += 1\n",
    "end\n",
    "avg_score /= num_test\n",
    "println(\"avg score for uniform dest proposal: $avg_score\")\n",
    "println(\"acceptance rate: $(num_test/attempted)\")"
   ]
  },
  {
   "cell_type": "code",
   "execution_count": 302,
   "metadata": {
    "scrolled": false
   },
   "outputs": [
    {
     "name": "stdout",
     "output_type": "stream",
     "text": [
      "epoch 1, avg_score: -0.09427653185730694, step_size: 0.09091734786557676\n",
      "epoch 2, avg_score: -0.3135637265303137, step_size: 0.08334721065778519\n",
      "epoch 3, avg_score: -0.06764326005623683, step_size: 0.07694081475787856\n",
      "epoch 4, avg_score: -0.037137792731419816, step_size: 0.07144896502498216\n",
      "epoch 5, avg_score: -0.05748195711389567, step_size: 0.06668887408394404\n",
      "epoch 6, avg_score: -0.07008139369792712, step_size: 0.06252342286071207\n",
      "epoch 7, avg_score: -0.06902446805353663, step_size: 0.05884773662551441\n",
      "epoch 8, avg_score: 0.030653759349686907, step_size: 0.055580233203775684\n",
      "epoch 9, avg_score: 0.04783315295925513, step_size: 0.05265649658074698\n",
      "epoch 10, avg_score: 0.11463769905931004, step_size: 0.05002498750624688\n",
      "epoch 11, avg_score: 0.08073539238050115, step_size: 0.04764397905759163\n",
      "epoch 12, avg_score: 0.06218809415918306, step_size: 0.04547932757837347\n",
      "epoch 13, avg_score: 0.11893841768782187, step_size: 0.04350282485875707\n",
      "epoch 14, avg_score: 0.1186501192984208, step_size: 0.041690962099125366\n",
      "epoch 15, avg_score: 0.1286831923375345, step_size: 0.040023990403838465\n",
      "epoch 16, avg_score: 0.1165953609404813, step_size: 0.03848519800076894\n",
      "epoch 17, avg_score: 0.1277768209443301, step_size: 0.037060348019252135\n",
      "epoch 18, avg_score: 0.1784194284739574, step_size: 0.035737236701178156\n",
      "epoch 19, avg_score: 0.1876354253476664, step_size: 0.03450534298517753\n",
      "epoch 20, avg_score: 0.23862221732077574, step_size: 0.03335554815061646\n",
      "epoch 21, avg_score: 0.2444176471621809, step_size: 0.032279909706546275\n",
      "epoch 22, avg_score: 0.28131122458765834, step_size: 0.03127147766323024\n",
      "epoch 23, avg_score: 0.27405993877723156, step_size: 0.03032414419872766\n",
      "epoch 24, avg_score: 0.28909983708808723, step_size: 0.029432519847103794\n",
      "epoch 25, avg_score: 0.27658842421570784, step_size: 0.028591830905455588\n",
      "epoch 26, avg_score: 0.2607958949961779, step_size: 0.027797833935018054\n",
      "epoch 27, avg_score: 0.3129814095928873, step_size: 0.027046744123209947\n"
     ]
    },
    {
     "ename": "InterruptException",
     "evalue": "InterruptException:",
     "output_type": "error",
     "traceback": [
      "InterruptException:",
      "",
      "Stacktrace:",
      " [1] Type at ./In[8]:2 [inlined]",
      " [2] generate_rrt(::Scene, ::Point, ::Int64, ::Float64) at ./In[12]:21",
      " [3] plan_path(::Point, ::Point, ::Scene, ::PlannerParams) at ./In[16]:11",
      " [4] (::getfield(Main, Symbol(\"##3#5\")))(::Gen.GFProposeState, ::Scene, ::Float64, ::Int64) at ./In[18]:14",
      " [5] exec(::DynamicDSLFunction{Any}, ::Gen.GFProposeState, ::Tuple{Scene,Float64,Int64}) at /home/marcoct/dev/Gen/src/dynamic_dsl/dynamic_dsl.jl:33",
      " [6] propose at /home/marcoct/dev/Gen/src/dynamic_dsl/propose.jl:61 [inlined]",
      " [7] #sgd_train#149(::typeof(planner_success_filter), ::Bool, ::Function, ::DynamicDSLFunction{Any}, ::Tuple{Scene,Float64,Int64}, ::DynamicDSLFunction{Any}, ::SGDTrainConf) at /home/marcoct/dev/Gen/src/inference/train.jl:29",
      " [8] (::getfield(Gen, Symbol(\"#kw##sgd_train\")))(::NamedTuple{(:filter, :verbose),Tuple{typeof(planner_success_filter),Bool}}, ::typeof(sgd_train), ::DynamicDSLFunction{Any}, ::Tuple{Scene,Float64,Int64}, ::DynamicDSLFunction{Any}, ::SGDTrainConf) at ./none:0",
      " [9] top-level scope at In[302]:2"
     ]
    }
   ],
   "source": [
    "conf = SGDTrainConf(100, 10000, 100, 100, translator, minibatch_callback, epoch_callback)\n",
    "sgd_train(model, (scene, dt, num_ticks), custom_dest_proposal, conf;\n",
    "    filter=planner_success_filter, verbose=false)"
   ]
  },
  {
   "cell_type": "code",
   "execution_count": 309,
   "metadata": {
    "scrolled": false
   },
   "outputs": [
    {
     "data": {
      "text/html": [
       "<iframe src=http://127.0.0.1:8000/40b07902-6ce0-47b6-9cd3-a02854ad3a96/ frameBorder=0 width=100% height=600></iframe>"
      ]
     },
     "metadata": {},
     "output_type": "display_data"
    }
   ],
   "source": [
    "# show proposal density\n",
    "tiles = make_proposal_tiles(measurements, scene, 5, 5)\n",
    "info = Dict(\"measurements\" => measurements, \"scene\" => scene, \"start\" => start, \"tiles\" => tiles)\n",
    "viz = Viz(server, joinpath(@__DIR__, \"overlay-viz/dist\"), info)\n",
    "openInNotebook(viz)\n",
    "sleep(5)\n",
    "for i=1:100\n",
    "    trace = do_inference_custom2(scene, dt, num_ticks, start, xs, ys, 1)\n",
    "    putTrace!(viz, i, trace_to_dict(trace))\n",
    "end"
   ]
  },
  {
   "cell_type": "code",
   "execution_count": 316,
   "metadata": {},
   "outputs": [
    {
     "data": {
      "text/html": [
       "<iframe src=http://127.0.0.1:8000/b5655266-7adc-454b-bd6f-542c8d443408/ frameBorder=0 width=100% height=600></iframe>"
      ]
     },
     "metadata": {},
     "output_type": "display_data"
    }
   ],
   "source": [
    "import Random\n",
    "Random.seed!(14);\n",
    "\n",
    "# generate data set\n",
    "constraints = DynamicAssignment()\n",
    "constraints[:start_x] = 0.1\n",
    "constraints[:start_y] = 0.1\n",
    "constraints[:dest_x] = 0.5\n",
    "constraints[:dest_y] = 0.5\n",
    "(trace, _) = initialize(model, (scene, dt, num_ticks), constraints)\n",
    "assmt = get_assmt(trace)\n",
    "start = get_retval(trace)[1]\n",
    "xs = [assmt[:meas => i => :x] for i=1:num_ticks]\n",
    "ys = [assmt[:meas => i => :y] for i=1:num_ticks]\n",
    "measurements = Vector{Point}(undef, num_ticks)\n",
    "for (i, (x, y)) in enumerate(zip(xs, ys))\n",
    "    measurements[i] = Point(x, y)\n",
    "end\n",
    "# show proposal density\n",
    "tiles = make_proposal_tiles(measurements, scene, 5, 5)\n",
    "info = Dict(\"measurements\" => measurements, \"scene\" => scene, \"start\" => start, \"tiles\" => tiles)\n",
    "viz = Viz(server, joinpath(@__DIR__, \"overlay-viz/dist\"), info)\n",
    "openInNotebook(viz)\n",
    "sleep(5)\n",
    "for i=1:100\n",
    "    trace = do_inference_custom2(scene, dt, num_ticks, start, xs, ys, 1)\n",
    "    putTrace!(viz, i, trace_to_dict(trace))\n",
    "end"
   ]
  },
  {
   "cell_type": "code",
   "execution_count": null,
   "metadata": {
    "collapsed": true,
    "scrolled": false
   },
   "outputs": [],
   "source": [
    "# show results of importance sampling inference (1000 particles)\n",
    "viz = Viz(server, joinpath(@__DIR__, \"overlay-viz/dist\"), info)\n",
    "openInNotebook(viz)\n",
    "sleep(5)\n",
    "for i=1:100\n",
    "    trace = do_inference_custom2(scene, dt, num_ticks, start, xs, ys, 50)\n",
    "    putTrace!(viz, i, trace_to_dict(trace))\n",
    "end"
   ]
  },
  {
   "cell_type": "code",
   "execution_count": null,
   "metadata": {
    "collapsed": true
   },
   "outputs": [],
   "source": []
  }
 ],
 "metadata": {
  "kernelspec": {
   "display_name": "Julia 1.0.2",
   "language": "julia",
   "name": "julia-1.0"
  },
  "language_info": {
   "file_extension": ".jl",
   "mimetype": "application/julia",
   "name": "julia",
   "version": "1.0.2"
  }
 },
 "nbformat": 4,
 "nbformat_minor": 2
}
