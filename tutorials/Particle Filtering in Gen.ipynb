{
 "cells": [
  {
   "cell_type": "markdown",
   "metadata": {},
   "source": [
    "# Tutorial: Particle Filtering in Gen\n",
    "\n",
    "Sequential Monte Carlo (SMC) methods such as particle filtering iteratively solve a *sequence of inference problems* using techniques based on importance sampling and in some cases MCMC. The solution to each problem in the sequence is represented as a collection of samples or *particles*. The particles for each problem are based on extending or adjusting the particles for the previous problem in the sequence.\n",
    "\n",
    "The sequence of inference problems that are solved often arise naturally from observations that arrive incrementally, as in particle filtering. The problems can also be constructed instrumentally to facilitate inference, as in annealed importance sampling [3]. This tutorial shows how to use Gen to implement a particle filter for a tracking problem that uses \"rejuvenation\" MCMC moves. Specifically, we will address the \"bearings only tracking\" problem described in [4].\n",
    "\n",
    "[1] Doucet, Arnaud, Nando De Freitas, and Neil Gordon. \"An introduction to sequential Monte Carlo methods.\" Sequential Monte Carlo methods in practice. Springer, New York, NY, 2001. 3-14.\n",
    "\n",
    "[2] Del Moral, Pierre, Arnaud Doucet, and Ajay Jasra. \"Sequential monte carlo samplers.\" Journal of the Royal Statistical Society: Series B (Statistical Methodology) 68.3 (2006): 411-436.\n",
    "\n",
    "[3] Neal, Radford M. \"Annealed importance sampling.\" Statistics and computing 11.2 (2001): 125-139.\n",
    "\n",
    "[4] Gilks, Walter R., and Carlo Berzuini. \"Following a moving target—Monte Carlo inference for dynamic Bayesian models.\" Journal of the Royal Statistical Society: Series B (Statistical Methodology) 63.1 (2001): 127-146. [PDF](http://www.mathcs.emory.edu/~whalen/Papers/BNs/MonteCarlo-DBNs.pdf)\n",
    "\n",
    "## Outline\n",
    "\n",
    "**Section 1**: [Implementing the generative model](#basic-model)\n",
    "\n",
    "**Section 2**: [Implementing a basic particle filter](#basic-pf)\n",
    "\n",
    "**Section 3**: [Adding rejuvenation moves](#rejuv)\n",
    "\n",
    "**Section 4**: [Using the unfold combinator to improve performance](#unfold)"
   ]
  },
  {
   "cell_type": "code",
   "execution_count": 2,
   "metadata": {
    "collapsed": true
   },
   "outputs": [],
   "source": [
    "using Gen\n",
    "using PyPlot"
   ]
  },
  {
   "cell_type": "markdown",
   "metadata": {},
   "source": [
    "## 1. Implementing the generative model <a name=\"basic-model\"></a>\n",
    "\n",
    "We will implement a generative model for the movement of a point in the x-y plane and bearing measurements of the location of this point relative to the origin over time.\n",
    "\n",
    "We assume that we know the approximate initial position and velocity of the point. We assume the point's x- and y- velocity are subject to random perturbations drawn from some normal distribution with a known variance. Each bearing measurement consists of the angle of the point being tracked relative to the positive x-axis.\n",
    "\n",
    "We write the generative model as a generative function below. The function first samples the initial state of the point from a prior distribution, and then generates `T` successive states in a `for` loop. The argument to the model is the number of states not including the initial state."
   ]
  },
  {
   "cell_type": "code",
   "execution_count": 3,
   "metadata": {
    "collapsed": true
   },
   "outputs": [],
   "source": [
    "bearing(x, y) = atan(y, x)\n",
    "\n",
    "@gen function model(T::Int)\n",
    "    \n",
    "    measurement_noise = 0.005\n",
    "    velocity_var = (1.0/1e6)\n",
    "\n",
    "    xs = Vector{Float64}(undef, T+1)\n",
    "    ys = Vector{Float64}(undef, T+1)\n",
    "\n",
    "    # prior on initial x-coordinate\n",
    "    x = @trace(normal(0.01, 0.01), :x0)\n",
    "       \n",
    "    # prior on initial y-coordinate\n",
    "    y = @trace(normal(0.95, 0.01), :y0)\n",
    "    \n",
    "    # prior on x-component of initial velocity\n",
    "    vx = @trace(normal(0.002, 0.01), :vx0)\n",
    "    \n",
    "    # prior on y-component of initial velocity\n",
    "    vy = @trace(normal(-0.013, 0.01), :vy0)\n",
    "    \n",
    "    # initial bearing measurement\n",
    "    @trace(normal(bearing(x, y), measurement_noise), :z0)\n",
    "\n",
    "    # record position\n",
    "    xs[1] = x\n",
    "    ys[1] = y\n",
    "    \n",
    "    # generate successive states and measurements\n",
    "    for t=1:T\n",
    "        \n",
    "        # update the state of the point\n",
    "        vx = @trace(normal(vx, sqrt(velocity_var)), (:vx, t))\n",
    "        vy = @trace(normal(vy, sqrt(velocity_var)), (:vy, t))\n",
    "        x += vx\n",
    "        y += vy\n",
    "        \n",
    "        # bearing measurement\n",
    "        @trace(normal(bearing(x, y), measurement_noise), (:z, t))\n",
    "\n",
    "        # record position\n",
    "        xs[t+1] = x\n",
    "        ys[t+1] = y\n",
    "    end\n",
    "    \n",
    "    # return the sequence of positions\n",
    "    return (xs, ys)\n",
    "end;"
   ]
  },
  {
   "cell_type": "markdown",
   "metadata": {},
   "source": [
    "We generate a data set of positions, and observed bearings, by sampling from this model, with `T=50`:"
   ]
  },
  {
   "cell_type": "code",
   "execution_count": 4,
   "metadata": {
    "collapsed": true
   },
   "outputs": [],
   "source": [
    "import Random\n",
    "Random.seed!(4)\n",
    "\n",
    "# generate trace with specific initial conditions\n",
    "T = 50\n",
    "constraints = Gen.choicemap((:x0, 0.01), (:y0, 0.95), (:vx0, 0.002), (:vy0, -0.013))\n",
    "(trace, _) = Gen.generate(model, (T,), constraints)\n",
    "\n",
    "# extract the observed data (zs) from the trace\n",
    "choices = Gen.get_choices(trace)\n",
    "zs = Vector{Float64}(undef, T+1)\n",
    "zs[1] = choices[:z0]\n",
    "for t=1:T\n",
    "    zs[t+1] = choices[(:z, t)]\n",
    "end"
   ]
  },
  {
   "cell_type": "markdown",
   "metadata": {},
   "source": [
    "We next write a visualization for traces of this model below. It shows the positions and dots and the observed bearings as lines from the origin:"
   ]
  },
  {
   "cell_type": "code",
   "execution_count": 5,
   "metadata": {
    "collapsed": true
   },
   "outputs": [],
   "source": [
    "function render(trace; show_data=true, max_T=get_args(trace)[1])\n",
    "    (T,) = Gen.get_args(trace)\n",
    "    choices = Gen.get_choices(trace)\n",
    "    (xs, ys) = Gen.get_retval(trace)\n",
    "    zs = Vector{Float64}(undef, T+1)\n",
    "    zs[1] = choices[:z0]\n",
    "    for t=1:T\n",
    "        zs[t+1] = choices[(:z, t)]\n",
    "    end\n",
    "    scatter(xs[1:max_T+1], ys[1:max_T+1], s=5)\n",
    "    if show_data\n",
    "        for z in zs[1:max_T+1]\n",
    "            dx = cos(z) * 0.5\n",
    "            dy = sin(z) * 0.5\n",
    "            plot([0., dx], [0., dy], color=\"red\", alpha=0.3)\n",
    "        end\n",
    "    end\n",
    "end;"
   ]
  },
  {
   "cell_type": "markdown",
   "metadata": {},
   "source": [
    "We visualize the synthetic trace below:"
   ]
  },
  {
   "cell_type": "code",
   "execution_count": 6,
   "metadata": {},
   "outputs": [
    {
     "data": {
      "image/png": "[encoded data removed]",
      "text/plain": [
       "Figure(PyObject <Figure size 640x480 with 1 Axes>)"
      ]
     },
     "metadata": {},
     "output_type": "display_data"
    }
   ],
   "source": [
    "render(trace)"
   ]
  },
  {
   "cell_type": "markdown",
   "metadata": {},
   "source": [
    "## 2. Implementing a basic particle filter <a name=\"basic-pf\"></a>\n",
    "\n",
    "In Gen, a **particle is represented as a trace** and the particle filter state contains a weighted collection of traces. Below we define an inference program that runs a particle filter on an observed data set of bearings (`zs`). We use `num_particles` particles internally, and then we return a sample of `num_samples` traces from the weighted collection that the particle filter produces.\n",
    "\n",
    "Gen provides methods for initializing and updating the state of a particle filter, documented in [Particle Filtering](https://probcomp.github.io/Gen/dev/ref/inference/#Particle-Filtering-1).\n",
    "\n",
    "- `Gen.initialize_particle_filter`\n",
    "\n",
    "- `Gen.particle_filter_step!`\n",
    "\n",
    "Both of these methods can used either with the default proposal or a custom proposal. In this tutorial, we will use the default proposal. There is also a method that resamples particles based on their weights, which serves to redistribute the particles to more promising parts of the latent space.\n",
    "\n",
    "- `Gen.maybe_resample!`\n",
    "\n",
    "Gen also provides a method for sampling a collection of unweighted traces from the current weighted collection in the particle filter state:\n",
    "\n",
    "- `Gen.sample_unweighted_traces`"
   ]
  },
  {
   "cell_type": "code",
   "execution_count": 7,
   "metadata": {
    "collapsed": true
   },
   "outputs": [],
   "source": [
    "function particle_filter(num_particles::Int, zs::Vector{Float64}, num_samples::Int)\n",
    "    \n",
    "    # construct initial observations\n",
    "    init_obs = Gen.choicemap((:z0, zs[1]))\n",
    "    state = Gen.initialize_particle_filter(model, (0,), init_obs, num_particles)\n",
    "    \n",
    "    # steps\n",
    "    for t=1:length(zs)-1\n",
    "        Gen.maybe_resample!(state, ess_threshold=num_particles/2)\n",
    "        obs = Gen.choicemap(((:z, t), zs[t+1]))\n",
    "        Gen.particle_filter_step!(state, (t,), (UnknownChange(),), obs)\n",
    "    end\n",
    "    \n",
    "    # return a sample of unweighted traces from the weighted collection\n",
    "    return Gen.sample_unweighted_traces(state, num_samples)\n",
    "end;"
   ]
  },
  {
   "cell_type": "markdown",
   "metadata": {},
   "source": [
    "The initial state is obtained by providing the following to `initialize_particle_filter`:\n",
    "\n",
    "- The generative function for the generative model (`model`)\n",
    "\n",
    "- The initial arguments to the generative function.\n",
    "\n",
    "- The initial observations, expressed as a map from choice address to values (`init_obs`).\n",
    "\n",
    "- The number of particles.\n",
    "\n",
    "At each step, we resample from the collection of traces (`maybe_resample!`) and then we introduce one additional bearing measurement by calling `particle_filter_step!` on the state. We pass the following arguments to `particle_filter_step!`:\n",
    "\n",
    "- The state (it will be mutated)\n",
    "\n",
    "- The new arguments to the generative function for this step. In our case, this is the number of measurements beyond the first measurement.\n",
    "\n",
    "- The [argdiff](https://probcomp.github.io/Gen/dev/ref/gfi/#Argdiffs-1) value, which provides detailed information about the change to the arguments between the previous step and this step. We will revisit this value later. For now, we indicat ethat we do not know how the `T::Int` argument will change with each step.\n",
    "\n",
    "- The new observations associated with the new step. In our case, this just contains the latest measurement.\n"
   ]
  },
  {
   "cell_type": "markdown",
   "metadata": {},
   "source": [
    "We run this particle filter with 5000 particles, and return a sample of 100 particles. This will take 30-60 seconds. We will see one way of speeding up the particle filter in a later section."
   ]
  },
  {
   "cell_type": "code",
   "execution_count": null,
   "metadata": {
    "collapsed": true
   },
   "outputs": [],
   "source": [
    "@time pf_traces = particle_filter(5000, zs, 200);"
   ]
  },
  {
   "cell_type": "markdown",
   "metadata": {},
   "source": [
    "To render these traces, we first define a function that overlays many renderings:"
   ]
  },
  {
   "cell_type": "code",
   "execution_count": 8,
   "metadata": {
    "collapsed": true
   },
   "outputs": [],
   "source": [
    "function overlay(renderer, traces; same_data=true, args...)\n",
    "    renderer(traces[1], show_data=true, args...)\n",
    "    for i=2:length(traces)\n",
    "        renderer(traces[i], show_data=!same_data, args...)\n",
    "    end\n",
    "end;"
   ]
  },
  {
   "cell_type": "markdown",
   "metadata": {},
   "source": [
    "We then render the traces from the particle filter:"
   ]
  },
  {
   "cell_type": "code",
   "execution_count": null,
   "metadata": {
    "collapsed": true,
    "scrolled": false
   },
   "outputs": [],
   "source": [
    "overlay(render, pf_traces, same_data=true)"
   ]
  },
  {
   "cell_type": "markdown",
   "metadata": {},
   "source": [
    "Notice that as during the period of denser bearing measurements, the trajectories tend to turn so that the heading is more parallel to the bearing vector. An alternative explanation is that the point maintained a constant heading, but just slowed down significantly. It is interesting to see that the inferences favor the \"turning explanation\" over the \"slowing down explanation\"."
   ]
  },
  {
   "cell_type": "markdown",
   "metadata": {},
   "source": [
    "----\n",
    "\n",
    "### Exercise\n",
    "Run the particle filter with fewer particles and visualize the results."
   ]
  },
  {
   "cell_type": "markdown",
   "metadata": {},
   "source": [
    "### Solution\n",
    "\n",
    "------"
   ]
  },
  {
   "cell_type": "markdown",
   "metadata": {},
   "source": [
    "## 3. Adding rejuvenation moves <a name=\"rejuv\"></a>"
   ]
  },
  {
   "cell_type": "markdown",
   "metadata": {},
   "source": [
    "It is sometimes useful to add MCMC moves to particles in a particle filter between steps. These MCMC moves are often called \"rejuvenation moves\" [4]. Each rejuvenation moves targets the *current posterior distribution* at the given step. For example, when applying the rejuvenation move after incorporating 3 observations, our rejuvenation moves have as their stationary distribution the conditional distribution on the latent variables, given the first three observations.\n",
    "\n",
    "Next, we write a version of the particle filter that applies two random walk Metropolis-Hastings rejuvenation move to each particle."
   ]
  },
  {
   "cell_type": "markdown",
   "metadata": {},
   "source": [
    "The cell below defines a Metropolis-Hastings perturbation move that perturbs the velocity vectors for a block of time steps between `a` and `b` inclusive."
   ]
  },
  {
   "cell_type": "code",
   "execution_count": 9,
   "metadata": {
    "collapsed": true
   },
   "outputs": [],
   "source": [
    "@gen function perturbation_proposal(prev_trace, a::Int, b::Int)\n",
    "    choices = get_choices(prev_trace)\n",
    "    (T,) = get_args(prev_trace)\n",
    "    for t=a:b\n",
    "        vx = @trace(normal(choices[(:vx, t)], 1e-3), (:vx, t))\n",
    "        vy = @trace(normal(choices[(:vy, t)], 1e-3), (:vy, t))\n",
    "    end\n",
    "end\n",
    "\n",
    "function perturbation_move(trace, a::Int, b::Int)\n",
    "    Gen.metropolis_hastings(trace, perturbation_proposal, (a, b))\n",
    "end;"
   ]
  },
  {
   "cell_type": "markdown",
   "metadata": {},
   "source": [
    "We add this into our particle filtering inference program below. We apply the rejuvenation move to adjust the velocities for the previous 5 time steps."
   ]
  },
  {
   "cell_type": "code",
   "execution_count": 10,
   "metadata": {
    "collapsed": true
   },
   "outputs": [],
   "source": [
    "function particle_filter_rejuv(num_particles::Int, zs::Vector{Float64}, num_samples::Int)\n",
    "    init_obs = Gen.choicemap((:z0, zs[1]))    \n",
    "    state = Gen.initialize_particle_filter(model, (0,), init_obs, num_particles)\n",
    "    for t=1:length(zs)-1\n",
    "        \n",
    "        # apply a rejuvenation move to each particle\n",
    "        for i=1:num_particles\n",
    "            state.traces[i], _ = perturbation_move(state.traces[i], max(1, t-5), t-1)\n",
    "        end\n",
    "        \n",
    "        Gen.maybe_resample!(state, ess_threshold=num_particles/2)\n",
    "        obs = Gen.choicemap(((:z, t), zs[t+1]))\n",
    "        Gen.particle_filter_step!(state, (t,), (UnknownChange(),), obs)\n",
    "    end\n",
    "    \n",
    "    # return a sample of unweighted traces from the weighted collection\n",
    "    return Gen.sample_unweighted_traces(state, num_samples)\n",
    "end;"
   ]
  },
  {
   "cell_type": "markdown",
   "metadata": {},
   "source": [
    "We run the particle filter with rejuvenation below. This will take a minute or two. We will see one way of speeding up the particle filter in a later section."
   ]
  },
  {
   "cell_type": "code",
   "execution_count": null,
   "metadata": {
    "collapsed": true
   },
   "outputs": [],
   "source": [
    "@time pf_rejuv_traces = particle_filter_rejuv(5000, zs, 200);"
   ]
  },
  {
   "cell_type": "markdown",
   "metadata": {},
   "source": [
    "We render the traces:"
   ]
  },
  {
   "cell_type": "code",
   "execution_count": null,
   "metadata": {
    "collapsed": true
   },
   "outputs": [],
   "source": [
    "overlay(render, pf_rejuv_traces, same_data=true)"
   ]
  },
  {
   "cell_type": "markdown",
   "metadata": {},
   "source": [
    "## 4. Using the unfold combinator to improve performance <a name=\"unfold\"></a>\n",
    "\n",
    "For the particle filtering algorithms above, within an update step it is only necessary to revisit the most recent state (or the most recent 5 states if the rejuvenation moves are used) because the initial states are never updated, and the contribution of these states to the weight computation cancel.\n",
    "\n",
    "However, each update step of the particle filter inference programs above scales *linearly* in the size of the trace because it visits every state when computing the weight update. This is because the built-in modeling DSL by default always performs an end-to-end execution of the generative function body whenever performing a trace update. This allows the built-in modeling DSL to be very flexible and to have a simple implementation, at the cost of performance. There are several ways of improving performance after one has a prototype written in the built-in modeling DSL. One of these is [Generative Function Combinators](https://probcomp.github.io/Gen/dev/ref/combinators/), which make the flow of information through the generative process more explicit to Gen, and enable asymptotically more efficient inference programs.\n",
    "\n",
    "To exploit the opportunity for incremental computation, and improve the scaling behavior of our particle filter inference programs, we will write a new model that replaces the following Julia `for` loop in our model, using a generative function combinator.\n",
    "\n",
    "```julia\n",
    "    # generate successive states and measurements\n",
    "    for t=1:T\n",
    "        \n",
    "        # update the state of the point\n",
    "        vx = @trace(normal(vx, sqrt(velocity_var)), (:vx, t))\n",
    "        vy = @trace(normal(vy, sqrt(velocity_var)), (:vy, t))\n",
    "        x += vx\n",
    "        y += vy\n",
    "        \n",
    "        # bearing measurement\n",
    "        @trace(normal(bearing(x, y), measurement_noise), (:z, t))\n",
    "\n",
    "        # record position\n",
    "        xs[t+1] = x\n",
    "        ys[t+1] = y\n",
    "    end\n",
    "```\n",
    "\n",
    "This `for` loop has a very specific pattern of information flow---there is a sequence of states (represented by `x, y, vx, and vy), and each state is generated from the previous state. This is exactly the pattern that the [Unfold](https://probcomp.github.io/Gen/dev/ref/combinators/#Unfold-combinator-1) generative function combinator is designed to handle.\n",
    "\n",
    "Below, we re-express the Julia for loop over the state sequence using the Unfold combinator. Specifically, we define a generative function (kernel) that takes the prevous state as its second argument, and returns the new state. The Unfold combinator takes the kernel and returns a new generative function (chain) that applies kernel repeatedly. Read the Unfold combinator documentation for details on the behavior of the resulting generative function (chain)."
   ]
  },
  {
   "cell_type": "code",
   "execution_count": 11,
   "metadata": {
    "collapsed": true
   },
   "outputs": [],
   "source": [
    "struct State\n",
    "    x::Float64\n",
    "    y::Float64\n",
    "    vx::Float64\n",
    "    vy::Float64\n",
    "end\n",
    "\n",
    "@gen (static) function kernel(t::Int, prev_state::State,\n",
    "                              velocity_var::Float64, measurement_noise::Float64)\n",
    "    vx = @trace(normal(prev_state.vx, sqrt(velocity_var)), :vx)\n",
    "    vy = @trace(normal(prev_state.vy, sqrt(velocity_var)), :vy)\n",
    "    x = prev_state.x + vx\n",
    "    y = prev_state.y + vy\n",
    "    @trace(normal(bearing(x, y), measurement_noise), :z)\n",
    "    next_state = State(x, y, vx, vy)\n",
    "    return next_state\n",
    "end\n",
    "\n",
    "chain = Gen.Unfold(kernel)\n",
    "\n",
    "Gen.load_generated_functions()"
   ]
  },
  {
   "cell_type": "markdown",
   "metadata": {},
   "source": [
    "We can understand the behavior of `chain` by getting a trace of it and printing the random choices:"
   ]
  },
  {
   "cell_type": "code",
   "execution_count": 12,
   "metadata": {},
   "outputs": [
    {
     "name": "stdout",
     "output_type": "stream",
     "text": [
      "│\n",
      "├── 1\n",
      "│   │\n",
      "│   ├── :vx : 0.06349944644225711\n",
      "│   │\n",
      "│   ├── :vy : -0.18259382170962735\n",
      "│   │\n",
      "│   └── :z : -1.2241886010234002\n",
      "│\n",
      "├── 2\n",
      "│   │\n",
      "│   ├── :vx : 0.18180540591627775\n",
      "│   │\n",
      "│   ├── :vy : -0.32517676381823407\n",
      "│   │\n",
      "│   └── :z : -1.1166004355276442\n",
      "│\n",
      "├── 3\n",
      "│   │\n",
      "│   ├── :vx : 0.2212858934196116\n",
      "│   │\n",
      "│   ├── :vy : -0.14051525503312268\n",
      "│   │\n",
      "│   └── :z : -0.9509179130072792\n",
      "│\n",
      "└── 4\n",
      "    │\n",
      "    ├── :vx : -0.039436543853338585\n",
      "    │\n",
      "    ├── :vy : -0.15680116089414844\n",
      "    │\n",
      "    └── :z : -1.0689952871133137\n",
      "\n"
     ]
    }
   ],
   "source": [
    "trace = Gen.simulate(chain, (4, State(0., 0., 0., 0.), 0.01, 0.01))\n",
    "println(Gen.get_choices(trace))"
   ]
  },
  {
   "cell_type": "markdown",
   "metadata": {},
   "source": [
    "We now write a new version of the generative model that invokes `chain` instead of using the Julia `for` loop:"
   ]
  },
  {
   "cell_type": "code",
   "execution_count": 13,
   "metadata": {
    "collapsed": true
   },
   "outputs": [],
   "source": [
    "@gen (static) function unfold_model(T::Int)\n",
    "    \n",
    "    # parameters\n",
    "    measurement_noise = 0.005\n",
    "    velocity_var = 1e-6\n",
    "\n",
    "    # initial conditions\n",
    "    x = @trace(normal(0.01, 0.01), :x0)\n",
    "    y = @trace(normal(0.95, 0.01), :y0)\n",
    "    vx = @trace(normal(0.002, 0.01), :vx0)\n",
    "    vy = @trace(normal(-0.013, 0.01), :vy0)\n",
    "\n",
    "    # initial measurement\n",
    "    z = @trace(normal(bearing(x, y), measurement_noise), :z0)\n",
    "\n",
    "    # record initial state\n",
    "    init_state = State(x, y, vx, vy)\n",
    "    \n",
    "    # run `chain` function under address namespace `:chain`, producing a vector of states\n",
    "    states = @trace(chain(T, init_state, velocity_var, measurement_noise), :chain)\n",
    "    \n",
    "    result = (init_state, states)\n",
    "    return result\n",
    "end;\n",
    "\n",
    "Gen.load_generated_functions()"
   ]
  },
  {
   "cell_type": "markdown",
   "metadata": {
    "collapsed": true
   },
   "source": [
    "Let's generate a trace of this new model program to understand its structure:"
   ]
  },
  {
   "cell_type": "code",
   "execution_count": 14,
   "metadata": {},
   "outputs": [
    {
     "name": "stdout",
     "output_type": "stream",
     "text": [
      "│\n",
      "├── :x0 : -0.007129608190029326\n",
      "│\n",
      "├── :y0 : 0.9474866338767302\n",
      "│\n",
      "├── :vx0 : 0.004873351750872137\n",
      "│\n",
      "├── :vy0 : -0.019349708716387377\n",
      "│\n",
      "├── :z0 : 1.5844991995220858\n",
      "│\n",
      "└── :chain\n",
      "    │\n",
      "    ├── 1\n",
      "    │   │\n",
      "    │   ├── :vx : 0.0032858137977869765\n",
      "    │   │\n",
      "    │   ├── :vy : -0.019439748624966623\n",
      "    │   │\n",
      "    │   └── :z : 1.5715924217774273\n",
      "    │\n",
      "    ├── 2\n",
      "    │   │\n",
      "    │   ├── :vx : 0.004482043282895517\n",
      "    │   │\n",
      "    │   ├── :vy : -0.01940494777040195\n",
      "    │   │\n",
      "    │   └── :z : 1.566450514682781\n",
      "    │\n",
      "    ├── 3\n",
      "    │   │\n",
      "    │   ├── :vx : 0.005308275707220326\n",
      "    │   │\n",
      "    │   ├── :vy : -0.018897247715748813\n",
      "    │   │\n",
      "    │   └── :z : 1.560034320206832\n",
      "    │\n",
      "    └── 4\n",
      "        │\n",
      "        ├── :vx : 0.005061132037792713\n",
      "        │\n",
      "        ├── :vy : -0.02015787473812461\n",
      "        │\n",
      "        └── :z : 1.5609705782925696\n",
      "\n"
     ]
    }
   ],
   "source": [
    "(trace, _) = Gen.generate(unfold_model, (4,))\n",
    "println(Gen.get_choices(trace))"
   ]
  },
  {
   "cell_type": "code",
   "execution_count": 15,
   "metadata": {
    "collapsed": true
   },
   "outputs": [],
   "source": [
    "function unfold_particle_filter(num_particles::Int, zs::Vector{Float64}, num_samples::Int)\n",
    "    init_obs = Gen.choicemap((:z0, zs[1]))    \n",
    "    state = Gen.initialize_particle_filter(unfold_model, (0,), init_obs, num_particles)    \n",
    "    for t=1:length(zs)-1\n",
    "\n",
    "        maybe_resample!(state, ess_threshold=num_particles/2)\n",
    "        obs = Gen.choicemap((:chain => t => :z, zs[t+1]))\n",
    "        Gen.particle_filter_step!(state, (t,), (UnknownChange(),), obs)\n",
    "    end\n",
    "    \n",
    "    # return a sample of traces from the weighted collection:\n",
    "    return Gen.sample_unweighted_traces(state, num_samples)\n",
    "end;"
   ]
  },
  {
   "cell_type": "code",
   "execution_count": 16,
   "metadata": {},
   "outputs": [
    {
     "name": "stdout",
     "output_type": "stream",
     "text": [
      "  6.032125 seconds (31.44 M allocations: 1.693 GiB, 19.72% gc time)\n"
     ]
    }
   ],
   "source": [
    "@time unfold_pf_traces = unfold_particle_filter(5000, zs, 200);"
   ]
  },
  {
   "cell_type": "code",
   "execution_count": 17,
   "metadata": {
    "collapsed": true
   },
   "outputs": [],
   "source": [
    "function unfold_render(trace; show_data=true, max_T=get_args(trace)[1])\n",
    "    (T,) = Gen.get_args(trace)\n",
    "    choices = Gen.get_choices(trace)\n",
    "    (init_state, states) = Gen.get_retval(trace)\n",
    "    xs = Vector{Float64}(undef, T+1)\n",
    "    ys = Vector{Float64}(undef, T+1)\n",
    "    zs = Vector{Float64}(undef, T+1)\n",
    "    xs[1] = init_state.x\n",
    "    ys[1] = init_state.y\n",
    "    zs[1] = choices[:z0]\n",
    "    for t=1:T\n",
    "        xs[t+1] = states[t].x\n",
    "        ys[t+1] = states[t].y\n",
    "        zs[t+1] = choices[:chain => t => :z]\n",
    "    end\n",
    "    scatter(xs[1:max_T+1], ys[1:max_T+1], s=5)\n",
    "    if show_data\n",
    "        for z in zs[1:max_T+1]\n",
    "            dx = cos(z) * 0.5\n",
    "            dy = sin(z) * 0.5\n",
    "            plot([0., dx], [0., dy], color=\"red\", alpha=0.3)\n",
    "        end\n",
    "    end\n",
    "end;"
   ]
  },
  {
   "cell_type": "markdown",
   "metadata": {},
   "source": [
    "Let's check that the results are reasonable:"
   ]
  },
  {
   "cell_type": "code",
   "execution_count": 18,
   "metadata": {},
   "outputs": [
    {
     "data": {
      "image/png": "[encoded data removed]",
      "text/plain": [
       "Figure(PyObject <Figure size 640x480 with 1 Axes>)"
      ]
     },
     "metadata": {},
     "output_type": "display_data"
    }
   ],
   "source": [
    "overlay(unfold_render, unfold_pf_traces, same_data=true)"
   ]
  },
  {
   "cell_type": "markdown",
   "metadata": {},
   "source": [
    "We now empirically investigate the scaling behavior of (1) the inference program that uses the Julia `for` loop,  and (2) the equivalent inference program that uses Unfold. We will use a fake long vector of z data, and we will investigate how the running time depends on the number of observations."
   ]
  },
  {
   "cell_type": "code",
   "execution_count": null,
   "metadata": {
    "collapsed": true
   },
   "outputs": [],
   "source": [
    "fake_zs = rand(1000);\n",
    "\n",
    "function timing_experiment(num_observations_list::Vector{Int}, num_particles::Int, num_samples::Int)\n",
    "    times = Vector{Float64}()\n",
    "    times_unfold = Vector{Float64}()\n",
    "    for num_observations in num_observations_list\n",
    "        println(\"evaluating inference programs for num_observations: $num_observations\")\n",
    "        tstart = time_ns()\n",
    "        traces = particle_filter(num_particles, fake_zs[1:num_observations], num_samples)\n",
    "        push!(times, (time_ns() - tstart) / 1e9)\n",
    "        \n",
    "        tstart = time_ns()\n",
    "        traces = unfold_particle_filter(num_particles, fake_zs[1:num_observations], num_samples)\n",
    "        push!(times_unfold, (time_ns() - tstart) / 1e9)\n",
    "        \n",
    "    end\n",
    "    (times, times_unfold)\n",
    "end;\n",
    "\n",
    "num_observations_list = [1, 3, 10, 30, 50, 100, 150, 200, 500]\n",
    "(times, times_unfold) = timing_experiment(num_observations_list, 100, 20);"
   ]
  },
  {
   "cell_type": "markdown",
   "metadata": {},
   "source": [
    "Notice that the running time of the inference program without unfold appears to be quadratic in the number of observations, whereas the inference program that uses unfold appears to scale linearly:"
   ]
  },
  {
   "cell_type": "code",
   "execution_count": null,
   "metadata": {
    "collapsed": true
   },
   "outputs": [],
   "source": [
    "plot(num_observations_list, times, color=\"blue\")\n",
    "plot(num_observations_list, times_unfold, color=\"red\")\n",
    "xlabel(\"Number of observations\")\n",
    "ylabel(\"Running time (sec.)\");"
   ]
  },
  {
   "cell_type": "markdown",
   "metadata": {},
   "source": [
    "## 5. Using a custom proposal\n",
    "\n",
    "The particle filtering implementations above used the default proposal to extend the state at each time step. We can improve the performance of the particle filter by using a custom proposal instead, that takes into account the latest data observation.\n",
    "\n",
    "at a given time step, we have\n",
    "\n",
    "    vx = @trace(normal(prev_state.vx, sqrt(velocity_var)), :vx)\n",
    "    vy = @trace(normal(prev_state.vy, sqrt(velocity_var)), :vy)\n",
    "    x = prev_state.x + vx\n",
    "    y = prev_state.y + vy\n",
    "    @trace(normal(atan(x, y), measurement_noise), :z)\n",
    "    \n",
    "so, the previous state is prev_state.vx, prev_state.vy, and prev_state.x, and prev_state.y\n",
    "the new randomness to be proposed is vx and vy\n",
    "given a new bearing measuremeent, with measurement_noise, what is a good proposal\n",
    "\n",
    "q(new_vx, new_vy; vx, vy, x, y, atan(x, y))\n",
    "\n",
    "Can we train it using amortized inference, on simulated data?\n",
    "\n",
    "independent proposal? or dependent?\n",
    "\n",
    "independent proposal q(new_vx; vx, vy, x, y, new bearing)\n",
    "\n",
    "p(new_vx, new_vy | x, y, vx, vy, normal(4atan(x, y), ..) == obs)"
   ]
  },
  {
   "cell_type": "code",
   "execution_count": null,
   "metadata": {
    "collapsed": true
   },
   "outputs": [],
   "source": [
    "function compute_proposal_dist(vx, vy, velocity_var, measurement_noise, observed_bearing, tau)\n",
    "    \n",
    "    # the optimum value for tau is related to the measurement noise\n",
    "    \n",
    "    # X\n",
    "    mu = [vx, vy, 0.0]\n",
    "    cov = [velocity_var  0.0            0.0;\n",
    "           0.0           velocity_var   0.0;\n",
    "           0.0           0.0            tau]\n",
    "    \n",
    "    # Y = c + B * X\n",
    "    c = [0.0, 0.0, 0.0]\n",
    "    B = [1.0                    0.0    0.0;\n",
    "         0.0                    1.0    0.0;\n",
    "         tan(observed_bearing)  1.0    1.0]\n",
    "    new_cov = B * cov * B'\n",
    "    new_mu = c + B * mu\n",
    "    \n",
    "    # now, condition on the event that Y[3] == 0.0\n",
    "    cov11 = new_cov[1:2,1:2]\n",
    "    cov12 = new_cov[1:2,3:3]\n",
    "    cov21 = new_cov[3:3,1:2]\n",
    "    cov22 = new_cov[3:3,3:3]\n",
    "    mu1 = new_mu[1:2]\n",
    "    mu2 = new_mu[3:3]\n",
    "    cond_mu = mu1 + cov12 * inv(cov22) * ([0.0] - mu2)\n",
    "    cond_cov = cov11 - cov12 * inv(cov22) * cov21\n",
    "    \n",
    "    (conv_mu, conv_cov)\n",
    "end"
   ]
  },
  {
   "cell_type": "code",
   "execution_count": 248,
   "metadata": {},
   "outputs": [],
   "source": [
    "@gen function custom_proposal(trace, t::Int)\n",
    "    \n",
    "    @param ax::Vector{Float64}\n",
    "    @param bx::Vector{Float64}\n",
    "    @param ay::Vector{Float64}\n",
    "    @param by::Vector{Float64}\n",
    "    \n",
    "    @assert t > 0\n",
    "        \n",
    "    (init_state, states) = get_retval(trace)\n",
    "\n",
    "    if t > 1\n",
    "        x = states[t-1].x\n",
    "        y = states[t-1].y\n",
    "        vx = states[t-1].vx\n",
    "        vy = states[t-1].vy\n",
    "    else\n",
    "        x = init_state.x\n",
    "        y = init_state.y\n",
    "        vx = init_state.vx\n",
    "        vy = init_state.vy\n",
    "    end\n",
    "\n",
    "    velocity_var = (1.0/1e6)\n",
    "    observed_bearing = trace[:chain => t => :z]\n",
    "    current_r = sqrt(x * x + y * y)\n",
    "    observed_\n",
    "    current_bearing = atan(x, y)\n",
    "    input = [current_bearing, 0., 0., observed_bearing]\n",
    "    vx_mu_adjust = ax' * input\n",
    "    vx_std_adjust = exp(bx' * input)\n",
    "    vy_mu_adjust = ay' * input\n",
    "    vy_std_adjust = exp(by' * input)\n",
    "    vx = @trace(normal(vx + vx_mu_adjust, sqrt(velocity_var) * vx_std_adjust), :chain => t => :vx)\n",
    "    vy = @trace(normal(vy + vy_mu_adjust, sqrt(velocity_var) * vy_std_adjust), :chain => t => :vy)\n",
    "    \n",
    "    (vx, vy, vx_std_adjust, vy_std_adjust)\n",
    "end;"
   ]
  },
  {
   "cell_type": "code",
   "execution_count": 249,
   "metadata": {},
   "outputs": [
    {
     "data": {
      "text/plain": [
       "5-element Array{Float64,1}:\n",
       " 0.0\n",
       " 0.0\n",
       " 0.0\n",
       " 0.0\n",
       " 0.0"
      ]
     },
     "execution_count": 249,
     "metadata": {},
     "output_type": "execute_result"
    }
   ],
   "source": [
    "init_param!(custom_proposal, :ax, zeros(5))\n",
    "init_param!(custom_proposal, :bx, zeros(5))\n",
    "init_param!(custom_proposal, :ay, zeros(5))\n",
    "init_param!(custom_proposal, :by, zeros(5))"
   ]
  },
  {
   "cell_type": "code",
   "execution_count": null,
   "metadata": {
    "collapsed": true
   },
   "outputs": [],
   "source": []
  },
  {
   "cell_type": "code",
   "execution_count": 250,
   "metadata": {},
   "outputs": [],
   "source": [
    "trace = simulate(unfold_model, (100,));"
   ]
  },
  {
   "cell_type": "code",
   "execution_count": 251,
   "metadata": {},
   "outputs": [
    {
     "data": {
      "text/plain": [
       "(0.001314751948038535, -0.005755651973101921, 1.0, 1.0)"
      ]
     },
     "execution_count": 251,
     "metadata": {},
     "output_type": "execute_result"
    }
   ],
   "source": [
    "vx, vy, vx_std_adjust, vy_std_adjust = custom_proposal(trace, 2)"
   ]
  },
  {
   "cell_type": "code",
   "execution_count": 252,
   "metadata": {},
   "outputs": [],
   "source": [
    "T = 100\n",
    "training_traces = []\n",
    "for i=1:1000\n",
    "    push!(training_traces, simulate(unfold_model, (T,)))\n",
    "end"
   ]
  },
  {
   "cell_type": "markdown",
   "metadata": {},
   "source": [
    "### Train a mixture model on the simulated data.\n",
    "Mixture over 7 variables:\n",
    "(1) x, y, vx, vy, t, vx_new, vy_new\n",
    "\n"
   ]
  },
  {
   "cell_type": "code",
   "execution_count": null,
   "metadata": {
    "collapsed": true
   },
   "outputs": [],
   "source": []
  },
  {
   "cell_type": "code",
   "execution_count": 253,
   "metadata": {},
   "outputs": [
    {
     "data": {
      "text/plain": [
       "estimate_objective (generic function with 2 methods)"
      ]
     },
     "execution_count": 253,
     "metadata": {},
     "output_type": "execute_result"
    }
   ],
   "source": [
    "using Random: randperm\n",
    "\n",
    "function estimate_objective(n)\n",
    "    objective = 0.\n",
    "    permuted = randperm(length(training_traces))\n",
    "    for (i, model_tr) in enumerate(training_traces[permuted][1:n])\n",
    "        for t=1:T-1\n",
    "            constraints = choicemap()\n",
    "            constraints[:chain => t => :vx] = model_tr[:chain => t => :vx]\n",
    "            constraints[:chain => t => :vy] = model_tr[:chain => t => :vy]\n",
    "            prop_tr, w = generate(custom_proposal, (model_tr, t), constraints)\n",
    "            objective += w\n",
    "        end\n",
    "    end\n",
    "    objective / ((T-1) * n)\n",
    "end"
   ]
  },
  {
   "cell_type": "code",
   "execution_count": 254,
   "metadata": {},
   "outputs": [
    {
     "name": "stdout",
     "output_type": "stream",
     "text": [
      "iter: 1, objective scaled: 10.98093638133762\n",
      "iter: 2, objective scaled: 10.980955216003506\n",
      "iter: 3, objective scaled: 10.980964513752836\n"
     ]
    },
    {
     "ename": "InterruptException",
     "evalue": "InterruptException:",
     "output_type": "error",
     "traceback": [
      "InterruptException:",
      "",
      "Stacktrace:",
      " [1] Dict{Any,DynamicAddressSet}() at ./dict.jl:91",
      " [2] Type at /home/marcoct/.julia/packages/Gen/6VLT4/src/address.jl:205 [inlined]",
      " [3] push_leaf_node!(::DynamicAddressSet, ::Pair{Int64,Symbol}) at /home/marcoct/.julia/packages/Gen/6VLT4/src/address.jl:257",
      " [4] push_leaf_node!(::DynamicAddressSet, ::Pair{Symbol,Pair{Int64,Symbol}}) at /home/marcoct/.julia/packages/Gen/6VLT4/src/address.jl:260",
      " [5] push! at /home/marcoct/.julia/packages/Gen/6VLT4/src/address.jl:286 [inlined]",
      " [6] visit! at /home/marcoct/.julia/packages/Gen/6VLT4/src/dynamic/dynamic.jl:162 [inlined]",
      " [7] traceat(::Gen.GFBackpropParamsState, ::Gen.Normal, ::Tuple{ReverseDiff.TrackedReal{Float64,Float64,Nothing},ReverseDiff.TrackedReal{Float64,Float64,Nothing}}, ::Pair{Symbol,Pair{Int64,Symbol}}) at /home/marcoct/.julia/packages/Gen/6VLT4/src/dynamic/backprop.jl:76",
      " [8] (::getfield(Main, Symbol(\"##164#165\")))(::Gen.GFBackpropParamsState, ::getfield(Main, Symbol(\"##StaticIRTrace_unfold_model#434\")), ::Int64) at ./In[248]:31",
      " [9] exec at /home/marcoct/.julia/packages/Gen/6VLT4/src/dynamic/dynamic.jl:39 [inlined]",
      " [10] accumulate_param_gradients!(::Gen.DynamicDSLTrace{DynamicDSLFunction{Any}}, ::Nothing, ::Float64) at /home/marcoct/.julia/packages/Gen/6VLT4/src/dynamic/backprop.jl:177",
      " [11] top-level scope at ./In[254]:22"
     ]
    }
   ],
   "source": [
    "conf = FixedStepGradientDescent(1e-7)\n",
    "opt_update = ParamUpdate(conf, (custom_proposal, [:ax, :bx, :ay, :by]))\n",
    "n = 1000\n",
    "\n",
    "init_param!(custom_proposal, :ax, zeros(5))\n",
    "init_param!(custom_proposal, :bx, zeros(5))\n",
    "init_param!(custom_proposal, :ay, zeros(5))\n",
    "init_param!(custom_proposal, :by, zeros(5))\n",
    "\n",
    "for iter=1:250\n",
    "    \n",
    "    # accumulate the gradients and objective function\n",
    "    objective = 0.\n",
    "    permuted = randperm(length(training_traces))\n",
    "    for (i, model_tr) in enumerate(training_traces[permuted][1:n])\n",
    "        for t=1:T-1\n",
    "            constraints = choicemap()\n",
    "            constraints[:chain => t => :vx] = model_tr[:chain => t => :vx]\n",
    "            constraints[:chain => t => :vy] = model_tr[:chain => t => :vy]\n",
    "            prop_tr, w = generate(custom_proposal, (model_tr, t), constraints)\n",
    "            objective += w\n",
    "            accumulate_param_gradients!(prop_tr, nothing, 1.0 / (n * (T-1)))\n",
    "        end\n",
    "    end\n",
    "\n",
    "    apply!(opt_update)\n",
    "    \n",
    "    objective_scaled = objective / (n * (T-1))\n",
    "    println(\"iter: $iter, objective scaled: $objective_scaled\")\n",
    "end"
   ]
  },
  {
   "cell_type": "code",
   "execution_count": 246,
   "metadata": {},
   "outputs": [
    {
     "data": {
      "text/plain": [
       "5-element Array{Float64,1}:\n",
       "  2.0765783261114455e-8 \n",
       "  2.2972154029801513e-8 \n",
       "  2.8177357452609313e-10\n",
       " -2.6947149386477277e-10\n",
       "  6.37806588701251e-8   "
      ]
     },
     "execution_count": 246,
     "metadata": {},
     "output_type": "execute_result"
    }
   ],
   "source": [
    "ax = get_param(custom_proposal, :ax)\n",
    "ay = get_param(custom_proposal, :ay)\n",
    "bx = get_param(custom_proposal, :bx)\n",
    "by = get_param(custom_proposal, :by)"
   ]
  },
  {
   "cell_type": "code",
   "execution_count": 247,
   "metadata": {},
   "outputs": [
    {
     "name": "stdout",
     "output_type": "stream",
     "text": [
      "[3.84303e-6, 6.5463e-6, 2.60179e-8, -3.82189e-7, -2.09623e-6]\n",
      "[2.42946e-6, 1.90288e-6, -4.44423e-8, 2.88504e-7, 2.51036e-6]\n",
      "[-1.86265e-9, 2.20191e-8, -3.308e-11, -3.52593e-10, 6.73754e-8]\n",
      "[2.07658e-8, 2.29722e-8, 2.81774e-10, -2.69471e-10, 6.37807e-8]\n"
     ]
    }
   ],
   "source": [
    "println(ax)\n",
    "println(ay)\n",
    "println(bx)\n",
    "println(by)"
   ]
  },
  {
   "cell_type": "code",
   "execution_count": 116,
   "metadata": {},
   "outputs": [
    {
     "data": {
      "text/plain": [
       "5-element Array{Float64,1}:\n",
       "  -5.788656819291693  \n",
       " -12.759713240972921  \n",
       "  -0.10672199597928947\n",
       "   0.6862024863498911 \n",
       " -32.07825392356726   "
      ]
     },
     "execution_count": 116,
     "metadata": {},
     "output_type": "execute_result"
    }
   ],
   "source": [
    "set_param!(custom_proposal, :ax, ax)\n",
    "set_param!(custom_proposal, :ay, ay)\n",
    "set_param!(custom_proposal, :bx, bx)\n",
    "set_param!(custom_proposal, :by, by)"
   ]
  },
  {
   "cell_type": "code",
   "execution_count": 117,
   "metadata": {
    "collapsed": true
   },
   "outputs": [],
   "source": [
    "function unfold_particle_filter_custom_proposal(num_particles::Int, zs::Vector{Float64}, num_samples::Int)\n",
    "    init_obs = Gen.choicemap((:z0, zs[1]))    \n",
    "    state = Gen.initialize_particle_filter(unfold_model, (0,), init_obs, num_particles)\n",
    "    for t=1:length(zs)-1\n",
    "\n",
    "        maybe_resample!(state, ess_threshold=num_particles/2)\n",
    "        obs = Gen.choicemap((:chain => t => :z, zs[t+1]))\n",
    "        Gen.particle_filter_step!(state, (t,), (UnknownChange(),), obs, custom_proposal, (t,))\n",
    "    end\n",
    "    \n",
    "    # return a sample of traces from the weighted collection:\n",
    "    return Gen.sample_unweighted_traces(state, num_samples)\n",
    "end;"
   ]
  },
  {
   "cell_type": "code",
   "execution_count": 118,
   "metadata": {},
   "outputs": [
    {
     "ename": "ErrorException",
     "evalue": "BoundsError(#undef, #undef) :: Index 1 out of bounds (0)",
     "output_type": "error",
     "traceback": [
      "BoundsError(#undef, #undef) :: Index 1 out of bounds (0)",
      "",
      "Stacktrace:",
      " [1] error(::BoundsError, ::String) at ./error.jl:42",
      " [2] getindex(::FunctionalCollections.PersistentVector{Any}, ::Int64) at /home/marcoct/.julia/packages/FunctionalCollections/1e7f3/src/PersistentVector.jl:24",
      " [3] (::getfield(Main, Symbol(\"##88#89\")))(::Gen.GFProposeState, ::getfield(Main, Symbol(\"##StaticIRTrace_unfold_model#434\")), ::Int64) at ./In[110]:11",
      " [4] exec(::DynamicDSLFunction{Any}, ::Gen.GFProposeState, ::Tuple{getfield(Main, Symbol(\"##StaticIRTrace_unfold_model#434\")),Int64}) at /home/marcoct/.julia/packages/Gen/6VLT4/src/dynamic/dynamic.jl:39",
      " [5] propose at /home/marcoct/.julia/packages/Gen/6VLT4/src/dynamic/propose.jl:60 [inlined]",
      " [6] particle_filter_step!(::Gen.ParticleFilterState{getfield(Main, Symbol(\"##StaticIRTrace_unfold_model#434\"))}, ::Tuple{Int64}, ::Tuple{UnknownChange}, ::DynamicChoiceMap, ::DynamicDSLFunction{Any}, ::Tuple{Int64}) at /home/marcoct/.julia/packages/Gen/6VLT4/src/inference/particle_filter.jl:120",
      " [7] unfold_particle_filter_custom_proposal(::Int64, ::Array{Float64,1}, ::Int64) at ./In[117]:8",
      " [8] top-level scope at util.jl:156",
      " [9] top-level scope at In[118]:1"
     ]
    }
   ],
   "source": [
    "@time unfold_pf_custom_proposal_traces = unfold_particle_filter_custom_proposal(5000, zs, 200);"
   ]
  },
  {
   "cell_type": "markdown",
   "metadata": {},
   "source": [
    "We will approximate the likelihood by a straight line with constant width. Taking the product of that likelihood and the prior should result in another multivariate Gaussian. This is an approximation because the noise in the bearing measurement is an angular noise, which corresponds to more or less distance noise depending on how far the object is.\n",
    "\n",
    "We will use a noise that is conservative. If the angular measurement noise is $\\sigma_{\\theta}$ (in radians), then we will set a single standard deviation of a band along the bearing ray to:\n",
    "$$\n",
    "\\tau = 2 \\cdot \\sigma_{\\theta} \\cdot\\max\\{||[x, y]||_2, ||[x + v_x, y + v_y]||_2\\}\n",
    "$$\n",
    "\n",
    "If we scale up this more, our proposal approaches the default dynamics-only proposal. But it becomes less informative. The factor of 2 is already conservative. (I wonder if this is an instance of a more general family of models where we linearize a nonlinear observation model, then conservatively scale up the variance.)\n",
    "\n",
    "Given a previous state of $(x, y, v_x, v_y)$, with velocity variance $\\sigma^2$, the prior (i.e. dynamics) distribution on the new velocity $v_x', v_y'$ is:\n",
    "$$\n",
    "[v_x', v_y'] \\sim \\mathcal{N}([x + v_x, y + v_y], \\sigma^2 \\cdot I_2)\n",
    "$$\n",
    "\n",
    "Our approximate likelihood is defined by the following 'factor' function:\n",
    "$$\n",
    "\\phi_{\\theta,\\tau,x,y}(v_x', v_y') = \\exp{\\left(-\\frac{(d_{\\theta}(x + \\Delta T v_x', y + \\Delta T v_y'))^2}{2 \\tau}\\right)}\n",
    "$$\n",
    "where $d_{\\theta}$ gives the perpendicular distance from the line through the origin with angle $\\theta$ from the x-axis (the line corresponding to the bearing measurement).\n",
    "\n",
    "We want to show that the distribution on $(v_x', v_y')$ that is proportional to the product of the prior on $v_x', v_y'$ with this factor is a bivariate Gaussian.\n",
    "\n",
    "First, let $\\mathbf{u}_{\\theta} := [\\cos \\theta, \\sin \\theta]$ (which is a unit vector). Then the distance from a point $x, y$ to the $\\theta$ line is:\n",
    "$$\n",
    "d_{\\theta}(x, y) = ||[x, y] - (\\mathbf{u}_{\\theta} \\cdot [x, y]) \\mathbf{u}_{\\theta}||_2\n",
    "$$\n",
    "Expanding:\n",
    "$$\n",
    "\\begin{align}\n",
    "(d_{\\theta}(x, y))^2\n",
    "&= (x - (u_1 x + u_2 y) u_1)^2 + (y - (u_1 x + u_2 y) u_2)^2\\\\\n",
    "&= (x ( 1 - u_1^2) - y u_1 u_2)^2 + (y ( 1 - u_2^2) - x u_1 u_2)^2\n",
    "\\end{align}\n",
    "$$\n",
    "Letting $A := 1 - u_1^2$ and $B := 1 - u_2^2$ and $C := u_1 u_2$:\n",
    "$$\n",
    "\\begin{align}\n",
    "(d_{\\theta}(x, y))^2\n",
    "&= (x A - y C)^2 + (y B - x C)^2\\\\\n",
    "&= x^2 A^2 - 2 A C x y + y^2 C^2 + y^2 B^2 - 2 B C x y + C^2 x^2\\\\\n",
    "&= x^2 (A^2 + C^2) + y^2 (B^2 + C^2) + xy (-2 A C - 2 B C)\n",
    "\\end{align}\n",
    "$$\n",
    "Let $D := A^2 + C^2$ and $E := B^2 + C^2$ and $F := -2 A C - 2 B C$:\n",
    "$$\n",
    "\\begin{align}\n",
    "(d_{\\theta}(x, y))^2\n",
    "&= D x^2 + E y^2 + F xy\n",
    "\\end{align}\n",
    "$$\n",
    "Now, substituting $x := x_0 + v_x' \\Delta$ and $y := y_0 + v_y' \\Delta$:\n",
    "$$\n",
    "\\begin{align}\n",
    "(d_{\\theta,x_0,y_0}(v_x', v_y'))^2\n",
    "&= D (x_0 + v_x' \\Delta)^2 + E (y_0 + v_y' \\Delta)^2 + F (x_0 + v_x' \\Delta) (y_0 + v_y' \\Delta)\n",
    "\\end{align}\n",
    "$$\n",
    "Therefore (INTERMEDIATE RESULT):\n",
    "$$\n",
    "\\phi_{\\theta,\\tau,x,y}(v_x', v_y') =\n",
    "\\exp{\\left(-\\frac{D (x + v_x' \\Delta)^2 + E (y + v_y' \\Delta)^2 + F (x + v_x' \\Delta) (y + v_y' \\Delta)}{2 \\tau}\\right)}\n",
    "$$\n",
    "\n",
    "\n",
    "\n",
    "\n",
    "----\n",
    "Old:\n",
    "\n",
    "Since the new x coordinate is $x + v_x' \\Delta T$ and similarly for $y$, we have:\n",
    "$$\n",
    "\\phi_{\\theta,\\tau,x,y}(v_x', v_y') = \\exp{\\left(-\\frac{||[x + v_x' \\Delta T, y + v_y' \\Delta T] - (\\mathbf{u}_{\\theta} \\cdot [x + v_x' \\Delta T, y + v_y' \\Delta T]) \\mathbf{u}_{\\theta}||_2^2}{2 \\tau}\\right)}\n",
    "$$\n",
    "Let $u_1 := \\mathbf{u}_{\\theta,1}$ and $u_2 := \\mathbf{u}_{\\theta,2}$. Then:\n",
    "$$\n",
    "\\begin{align}\n",
    "\\phi_{\\theta,\\tau,x,y}(v_x', v_y') &=\n",
    "\\exp{\\left(-\\frac{||[x + v_x' \\Delta T, y + v_y' \\Delta T] - ((x + v_x' \\Delta) u_1 + (y + v_y' \\Delta) u_2) [u_1, u_2]||_2^2}{2 \\tau}\\right)}\\\\\n",
    "&= \\exp{\\left(-\\frac{\n",
    "(x + v_x' \\Delta - ((x + v_x' \\Delta) u_1 + (y + v_y' \\Delta) u_2) u_1)^2\n",
    "+ \n",
    "(y + v_y' \\Delta - ((x + v_x' \\Delta) u_1 + (y + v_y' \\Delta) u_2) u_2)^2\n",
    "}{2 \\tau}\\right)}\n",
    "\\end{align}\n",
    "$$\n",
    "We now simplify the term in the numerator inside the exponential:\n",
    "$$\n",
    "\\begin{align}\n",
    "\\phi_{\\theta,\\tau,x,y}(v_x', v_y') := \\exp\\left(-\\frac{f_{\\theta,tau,x,y}(v_x', v_y')}{2 \\tau}\\right)\n",
    "\\end{align}\n",
    "$$\n",
    "where\n",
    "$$\n",
    "\\begin{align}\n",
    "f_{\\theta,\\tau,x,y}(v_x', v_y') &=\n",
    "\\end{align}\n",
    "$$"
   ]
  },
  {
   "cell_type": "markdown",
   "metadata": {},
   "source": []
  },
  {
   "cell_type": "code",
   "execution_count": null,
   "metadata": {
    "collapsed": true
   },
   "outputs": [],
   "source": []
  }
 ],
 "metadata": {
  "kernelspec": {
   "display_name": "Julia 1.0.2",
   "language": "julia",
   "name": "julia-1.0"
  },
  "language_info": {
   "file_extension": ".jl",
   "mimetype": "application/julia",
   "name": "julia",
   "version": "1.0.2"
  }
 },
 "nbformat": 4,
 "nbformat_minor": 2
}
