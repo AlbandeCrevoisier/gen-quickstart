{
 "cells": [
  {
   "cell_type": "markdown",
   "metadata": {},
   "source": [
    "# Tutorial: Basics of Iterative Inference Programming in Gen"
   ]
  },
  {
   "cell_type": "markdown",
   "metadata": {},
   "source": [
    "This tutorial introduces the basics of inference programming in Gen using iterative inference programs, which include Markov chain Monte Carlo algorithms."
   ]
  },
  {
   "cell_type": "markdown",
   "metadata": {},
   "source": [
    "## The task: curve-fitting with outliers"
   ]
  },
  {
   "cell_type": "markdown",
   "metadata": {},
   "source": [
    "Suppose we have a dataset of points in the $x,y$ plane that is _mostly_ explained by a linear relationship, but which also has several outliers. Our goal will be to automatically identify the outliers, and to find a linear relationship (a slope and intercept, as well as an inherent noise level) that explains rest of the points:\n",
    "\n",
    "<img src=\"./images/example-inference.png\" alt=\"See https://dspace.mit.edu/bitstream/handle/1721.1/119255/MIT-CSAIL-TR-2018-020.pdf, Figure 2(a))\" width=\"600\"/>\n",
    "\n",
    "This is a simple inference problem. But it has two features that make it ideal for introducing a couple new concepts in modeling and inference. First, we want not only to estimate the slope and intercept of the line that best fits the data, but also to classify each point as an inlier or outlier; that is, there are a large number of latent variables of interest, enough to make importance sampling an unreliable method (absent a more involved custom proposal that does the heavy lifting). Second, several of the parameters we're estimating (the slope and intercept) are continuous and amenable to gradient-based search techniques, which will allow us to explore Gen's optimization capabilities.\n",
    "\n",
    "Let's get started!"
   ]
  },
  {
   "cell_type": "markdown",
   "metadata": {},
   "source": [
    "## Outline"
   ]
  },
  {
   "cell_type": "markdown",
   "metadata": {},
   "source": [
    "**Section 1.** [Writing the model: a first attempt](#writing-model)\n",
    "\n",
    "**Section 2.** [Visualizing the model's behavior](#visualizing)\n",
    "\n",
    "**Section 3.** [ The problem with generic importance sampling ](#importance)\n",
    "\n",
    "**Section 4.** [MCMC Inference Part 1: Block Resimulation](#mcmc-1)\n",
    "\n",
    "**Section 5.** [Interlude: More efficient inference with Argdiffs and Combinators](#more-efficient)\n",
    "\n",
    "**Section 6.** [MCMC Inference Part 2: Gaussian Drift](#mcmc-2)\n",
    "\n",
    "**Section 7.** [MCMC Inference Part 3: Proposals based on heuristics](#mcmc-3)\n",
    "\n",
    "**Section 8.** [MAP Optimization](#map)"
   ]
  },
  {
   "cell_type": "code",
   "execution_count": 1,
   "metadata": {},
   "outputs": [],
   "source": [
    "using Gen\n",
    "import Random"
   ]
  },
  {
   "cell_type": "markdown",
   "metadata": {},
   "source": [
    "## 1. Writing the model: a first attempt  <a name=\"writing-model\"></a>"
   ]
  },
  {
   "cell_type": "markdown",
   "metadata": {},
   "source": [
    "We begin, as usual, by writing a model: a Julia function responsible (conceptually) for simulating a fake dataset.\n",
    "\n",
    "Our model will take as input a vector of `x` coordinates, and produce as output corresponding `y` coordinates. A naïve approach to writing this model might look something like this:"
   ]
  },
  {
   "cell_type": "code",
   "execution_count": 2,
   "metadata": {},
   "outputs": [],
   "source": [
    "@gen function naive_model(xs::Vector{Float64})\n",
    "    # First, generate some parameters of the model. We make these\n",
    "    # random choices, because later, we will want to infer them\n",
    "    # from data. The distributions we use here express our assumptions\n",
    "    # about the parameters: we think the slope and intercept won't be\n",
    "    # too far from 0; that the noise is relatively small; and that\n",
    "    # the proportion of the dataset that don't fit a linear relationship\n",
    "    # (outliers) could be anything between 0 and 1.\n",
    "    slope = @addr(normal(0, 2), :slope)\n",
    "    intercept = @addr(normal(0, 2), :intercept)\n",
    "    noise = @addr(gamma(1, 1), :noise)\n",
    "    prob_outlier = @addr(uniform(0, 1), :prob_outlier)\n",
    "    \n",
    "    # Next, we generate the actual y coordinates.\n",
    "    n = length(xs)\n",
    "    ys = Vector{Float64}(undef, n)\n",
    "    \n",
    "    for i = 1:n\n",
    "        # Decide whether this point is an outlier, and set\n",
    "        # mean and standard deviation accordingly\n",
    "        if @addr(bernoulli(prob_outlier), :data => i => :is_outlier)\n",
    "            (mu, std) = (0., 10.)\n",
    "        else\n",
    "            (mu, std) = (xs[i] * slope + intercept, noise)\n",
    "        end\n",
    "        # Sample a y value for this point\n",
    "        ys[i] = @addr(normal(mu, std), :data => i => :y)\n",
    "    end\n",
    "    ys\n",
    "end;"
   ]
  },
  {
   "cell_type": "markdown",
   "metadata": {},
   "source": [
    "This model does what we want: it samples several parameters of the data-generating process, then generates data accordingly. And for now, it will do. But we'll revisit it in a bit, to implement a critical enhancement: we can achieve signficant performance gains by taking advantage of Gen's `MapCombinator` (rather than using an ordinary Julia `for` loop)."
   ]
  },
  {
   "cell_type": "markdown",
   "metadata": {},
   "source": [
    "## 2. What our model is doing: visualizing the prior "
   ]
  },
  {
   "cell_type": "markdown",
   "metadata": {},
   "source": [
    "Let's visualize what our model is doing by drawing some samples from the prior. First, we'll need to write a function that serializes a trace for use by the GenViz library. Here, we make available the slope, intercept, noise level, and outlier classifications for each point, as these are the things that vary from trace to trace while doing inference."
   ]
  },
  {
   "cell_type": "code",
   "execution_count": 3,
   "metadata": {},
   "outputs": [],
   "source": [
    "using GenViz\n",
    "\n",
    "function serialize_trace(trace)\n",
    "    assmt = get_assmt(trace)\n",
    "    (xs,) = get_args(trace)\n",
    "    Dict(\"slope\" => assmt[:slope],\n",
    "        \"intercept\" => assmt[:intercept],\n",
    "        \"inlier_std\" => assmt[:noise],\n",
    "        \"y-coords\" => [assmt[:data => i => :y] for i in 1:length(xs)],\n",
    "        \"outliers\" => [assmt[:data => i => :is_outlier] for i in 1:length(xs)])\n",
    "end;"
   ]
  },
  {
   "cell_type": "markdown",
   "metadata": {},
   "source": [
    "Next, we start a visualization server."
   ]
  },
  {
   "cell_type": "code",
   "execution_count": 4,
   "metadata": {},
   "outputs": [],
   "source": [
    "server = VizServer(8090);"
   ]
  },
  {
   "cell_type": "markdown",
   "metadata": {},
   "source": [
    "Finally, we generate some data and draw it:"
   ]
  },
  {
   "cell_type": "code",
   "execution_count": 5,
   "metadata": {
    "scrolled": false
   },
   "outputs": [
    {
     "data": {
      "text/html": [
       "<div data-v-2e966a4f=\"\"><h1 data-v-2e966a4f=\"\">Traces</h1><div data-v-2e966a4f=\"\" id=\"traces\"><div data-v-2e966a4f=\"\"><svg data-v-2e966a4f=\"\" height=\"194.8\" width=\"194.8\" xmlns=\"http://www.w3.org/2000/svg\" xmlns:xlink=\"http://www.w3.org/1999/xlink\" version=\"1.1\"><circle cx=\"19.480000000000004\" cy=\"103.01289759058614\" r=\"3\" fill=\"red\"></circle><circle cx=\"27.682105263157894\" cy=\"73.29564784395957\" r=\"3\" fill=\"red\"></circle><circle cx=\"35.8842105263158\" cy=\"102.25637227021868\" r=\"3\" fill=\"red\"></circle><circle cx=\"44.08631578947369\" cy=\"48.095000836094314\" r=\"3\" fill=\"red\"></circle><circle cx=\"52.288421052631584\" cy=\"175.32\" r=\"3\" fill=\"red\"></circle><circle cx=\"60.49052631578949\" cy=\"74.16478594265197\" r=\"3\" fill=\"red\"></circle><circle cx=\"68.69263157894737\" cy=\"19.47999999999999\" r=\"3\" fill=\"red\"></circle><circle cx=\"76.89473684210526\" cy=\"57.61647590164708\" r=\"3\" fill=\"red\"></circle><circle cx=\"85.09684210526316\" cy=\"108.37212750990619\" r=\"3\" fill=\"red\"></circle><circle cx=\"93.29894736842105\" cy=\"42.14636128476482\" r=\"3\" fill=\"red\"></circle><circle cx=\"101.50105263157897\" cy=\"104.57044381436776\" r=\"3\" fill=\"red\"></circle><circle cx=\"109.70315789473685\" cy=\"106.75250823932694\" r=\"3\" fill=\"red\"></circle><circle cx=\"117.90526315789474\" cy=\"104.69946079198662\" r=\"3\" fill=\"red\"></circle><circle cx=\"126.10736842105264\" cy=\"57.86458170270714\" r=\"3\" fill=\"red\"></circle><circle cx=\"134.30947368421053\" cy=\"58.70797842685381\" r=\"3\" fill=\"red\"></circle><circle cx=\"142.51157894736843\" cy=\"100.8739508435413\" r=\"3\" fill=\"blue\"></circle><circle cx=\"150.7136842105263\" cy=\"66.933215170036\" r=\"3\" fill=\"red\"></circle><circle cx=\"158.91578947368424\" cy=\"61.38597373217617\" r=\"3\" fill=\"red\"></circle><circle cx=\"167.11789473684212\" cy=\"69.4693484900761\" r=\"3\" fill=\"red\"></circle><circle cx=\"175.32\" cy=\"86.63093388737296\" r=\"3\" fill=\"red\"></circle><polygon points=\"-200,-19.790654220749104 394.8,178.9218193705014 394.8,187.84536435000817 -200,-10.867109241242332\" style=\"fill: rgba(0, 0, 0, 0.298039);\"></polygon><line x1=\"0\" y1=\"90.43109689081753\" x2=\"194.8\" y2=\"90.43109689081753\" style=\"stroke: rgba(0, 0, 0, 0.0980392); stroke-width: 186.00855081898007px;\"></line><line x1=\"-200\" y1=\"-15.328881730995732\" x2=\"394.8\" y2=\"183.38359186025477\" style=\"stroke: rgba(0, 0, 0, 0.701961); stroke-width: 2px;\"></line></svg></div><div data-v-2e966a4f=\"\"><svg data-v-2e966a4f=\"\" height=\"194.8\" width=\"194.8\" xmlns=\"http://www.w3.org/2000/svg\" xmlns:xlink=\"http://www.w3.org/1999/xlink\" version=\"1.1\"><circle cx=\"19.480000000000004\" cy=\"117.13844971331727\" r=\"3\" fill=\"blue\"></circle><circle cx=\"27.682105263157894\" cy=\"112.99347073252326\" r=\"3\" fill=\"blue\"></circle><circle cx=\"35.8842105263158\" cy=\"62.23286702587461\" r=\"3\" fill=\"red\"></circle><circle cx=\"44.08631578947369\" cy=\"175.32\" r=\"3\" fill=\"red\"></circle><circle cx=\"52.288421052631584\" cy=\"79.92232153145306\" r=\"3\" fill=\"red\"></circle><circle cx=\"60.49052631578949\" cy=\"19.47999999999999\" r=\"3\" fill=\"red\"></circle><circle cx=\"68.69263157894737\" cy=\"99.22782040137506\" r=\"3\" fill=\"red\"></circle><circle cx=\"76.89473684210526\" cy=\"114.43706617370279\" r=\"3\" fill=\"red\"></circle><circle cx=\"85.09684210526316\" cy=\"74.03892244367582\" r=\"3\" fill=\"red\"></circle><circle cx=\"93.29894736842105\" cy=\"102.30225964483007\" r=\"3\" fill=\"blue\"></circle><circle cx=\"101.50105263157897\" cy=\"101.60110246319564\" r=\"3\" fill=\"blue\"></circle><circle cx=\"109.70315789473685\" cy=\"49.657001002371544\" r=\"3\" fill=\"red\"></circle><circle cx=\"117.90526315789474\" cy=\"116.3889728280209\" r=\"3\" fill=\"red\"></circle><circle cx=\"126.10736842105264\" cy=\"105.9972903060021\" r=\"3\" fill=\"red\"></circle><circle cx=\"134.30947368421053\" cy=\"139.2872779508948\" r=\"3\" fill=\"red\"></circle><circle cx=\"142.51157894736843\" cy=\"53.04678820808277\" r=\"3\" fill=\"red\"></circle><circle cx=\"150.7136842105263\" cy=\"89.81109491416508\" r=\"3\" fill=\"blue\"></circle><circle cx=\"158.91578947368424\" cy=\"113.10816786948223\" r=\"3\" fill=\"red\"></circle><circle cx=\"167.11789473684212\" cy=\"129.78186092135067\" r=\"3\" fill=\"red\"></circle><circle cx=\"175.32\" cy=\"72.53196887173944\" r=\"3\" fill=\"red\"></circle><polygon points=\"-200,157.1930604206265 394.8,39.8409550938043 394.8,44.11549281321675 -200,161.46759814003892\" style=\"fill: rgba(0, 0, 0, 0.298039);\"></polygon><line x1=\"0\" y1=\"94.64132066418651\" x2=\"194.8\" y2=\"94.64132066418651\" style=\"stroke: rgba(0, 0, 0, 0.0980392); stroke-width: 122.48049564299899px;\"></line><line x1=\"-200\" y1=\"159.3303292803327\" x2=\"394.8\" y2=\"41.978223953510536\" style=\"stroke: rgba(0, 0, 0, 0.701961); stroke-width: 2px;\"></line></svg></div><div data-v-2e966a4f=\"\"><svg data-v-2e966a4f=\"\" height=\"194.8\" width=\"194.8\" xmlns=\"http://www.w3.org/2000/svg\" xmlns:xlink=\"http://www.w3.org/1999/xlink\" version=\"1.1\"><circle cx=\"19.480000000000004\" cy=\"19.47999999999999\" r=\"3\" fill=\"blue\"></circle><circle cx=\"27.682105263157894\" cy=\"30.479750312209887\" r=\"3\" fill=\"blue\"></circle><circle cx=\"35.8842105263158\" cy=\"47.968860939621834\" r=\"3\" fill=\"blue\"></circle><circle cx=\"44.08631578947369\" cy=\"41.02984822298532\" r=\"3\" fill=\"blue\"></circle><circle cx=\"52.288421052631584\" cy=\"51.69796924825815\" r=\"3\" fill=\"blue\"></circle><circle cx=\"60.49052631578949\" cy=\"43.916795691589044\" r=\"3\" fill=\"blue\"></circle><circle cx=\"68.69263157894737\" cy=\"60.354415788821356\" r=\"3\" fill=\"blue\"></circle><circle cx=\"76.89473684210526\" cy=\"55.85333064955081\" r=\"3\" fill=\"blue\"></circle><circle cx=\"85.09684210526316\" cy=\"64.55450047459101\" r=\"3\" fill=\"blue\"></circle><circle cx=\"93.29894736842105\" cy=\"75.0084801204616\" r=\"3\" fill=\"blue\"></circle><circle cx=\"101.50105263157897\" cy=\"81.33515000395774\" r=\"3\" fill=\"blue\"></circle><circle cx=\"109.70315789473685\" cy=\"62.83185405227155\" r=\"3\" fill=\"red\"></circle><circle cx=\"117.90526315789474\" cy=\"175.32\" r=\"3\" fill=\"red\"></circle><circle cx=\"126.10736842105264\" cy=\"74.70994294202508\" r=\"3\" fill=\"red\"></circle><circle cx=\"134.30947368421053\" cy=\"106.76839488095567\" r=\"3\" fill=\"blue\"></circle><circle cx=\"142.51157894736843\" cy=\"113.13399801329115\" r=\"3\" fill=\"blue\"></circle><circle cx=\"150.7136842105263\" cy=\"104.90125826754856\" r=\"3\" fill=\"blue\"></circle><circle cx=\"158.91578947368424\" cy=\"123.2759003387965\" r=\"3\" fill=\"blue\"></circle><circle cx=\"167.11789473684212\" cy=\"125.7830963600232\" r=\"3\" fill=\"blue\"></circle><circle cx=\"175.32\" cy=\"136.2737998651296\" r=\"3\" fill=\"blue\"></circle><polygon points=\"-200,-142.99895523378098 394.8,268.9202472427784 394.8,298.34978384900904 -200,-113.5694186275503\" style=\"fill: rgba(0, 0, 0, 0.298039);\"></polygon><line x1=\"0\" y1=\"85.89810662431998\" x2=\"194.8\" y2=\"85.89810662431998\" style=\"stroke: rgba(0, 0, 0, 0.0980392); stroke-width: 245.25463502760581px;\"></line><line x1=\"-200\" y1=\"-128.2841869306656\" x2=\"394.8\" y2=\"283.6350155458937\" style=\"stroke: rgba(0, 0, 0, 0.701961); stroke-width: 2px;\"></line></svg></div><div data-v-2e966a4f=\"\"><svg data-v-2e966a4f=\"\" height=\"194.8\" width=\"194.8\" xmlns=\"http://www.w3.org/2000/svg\" xmlns:xlink=\"http://www.w3.org/1999/xlink\" version=\"1.1\"><circle cx=\"19.480000000000004\" cy=\"127.2206336998141\" r=\"3\" fill=\"red\"></circle><circle cx=\"27.682105263157894\" cy=\"175.32\" r=\"3\" fill=\"red\"></circle><circle cx=\"35.8842105263158\" cy=\"121.5028406195992\" r=\"3\" fill=\"blue\"></circle><circle cx=\"44.08631578947369\" cy=\"19.47999999999999\" r=\"3\" fill=\"red\"></circle><circle cx=\"52.288421052631584\" cy=\"140.69823114289372\" r=\"3\" fill=\"red\"></circle><circle cx=\"60.49052631578949\" cy=\"102.30139843132415\" r=\"3\" fill=\"red\"></circle><circle cx=\"68.69263157894737\" cy=\"117.38564115030266\" r=\"3\" fill=\"red\"></circle><circle cx=\"76.89473684210526\" cy=\"115.03744300490486\" r=\"3\" fill=\"blue\"></circle><circle cx=\"85.09684210526316\" cy=\"110.89653642155571\" r=\"3\" fill=\"blue\"></circle><circle cx=\"93.29894736842105\" cy=\"112.14104266337802\" r=\"3\" fill=\"blue\"></circle><circle cx=\"101.50105263157897\" cy=\"38.16410572202318\" r=\"3\" fill=\"red\"></circle><circle cx=\"109.70315789473685\" cy=\"106.12957028631944\" r=\"3\" fill=\"blue\"></circle><circle cx=\"117.90526315789474\" cy=\"168.1474006215098\" r=\"3\" fill=\"red\"></circle><circle cx=\"126.10736842105264\" cy=\"90.7686695858411\" r=\"3\" fill=\"red\"></circle><circle cx=\"134.30947368421053\" cy=\"99.14997433405372\" r=\"3\" fill=\"red\"></circle><circle cx=\"142.51157894736843\" cy=\"130.71167699524884\" r=\"3\" fill=\"red\"></circle><circle cx=\"150.7136842105263\" cy=\"155.73063348517329\" r=\"3\" fill=\"red\"></circle><circle cx=\"158.91578947368424\" cy=\"97.22399933219332\" r=\"3\" fill=\"blue\"></circle><circle cx=\"167.11789473684212\" cy=\"46.07593977818729\" r=\"3\" fill=\"red\"></circle><circle cx=\"175.32\" cy=\"95.09311610589205\" r=\"3\" fill=\"blue\"></circle><polygon points=\"-200,164.24209378486344 394.8,50.287990280834904 394.8,57.6089140193002 -200,171.56301752332874\" style=\"fill: rgba(0, 0, 0, 0.298039);\"></polygon><line x1=\"0\" y1=\"114.58648231808445\" x2=\"194.8\" y2=\"114.58648231808445\" style=\"stroke: rgba(0, 0, 0, 0.0980392); stroke-width: 160.5990037409548px;\"></line><line x1=\"-200\" y1=\"167.9025556540961\" x2=\"394.8\" y2=\"53.94845215006755\" style=\"stroke: rgba(0, 0, 0, 0.701961); stroke-width: 2px;\"></line></svg></div><div data-v-2e966a4f=\"\"><svg data-v-2e966a4f=\"\" height=\"194.8\" width=\"194.8\" xmlns=\"http://www.w3.org/2000/svg\" xmlns:xlink=\"http://www.w3.org/1999/xlink\" version=\"1.1\"><circle cx=\"19.480000000000004\" cy=\"175.32\" r=\"3\" fill=\"blue\"></circle><circle cx=\"27.682105263157894\" cy=\"159.20767823719714\" r=\"3\" fill=\"blue\"></circle><circle cx=\"35.8842105263158\" cy=\"159.2604678303863\" r=\"3\" fill=\"blue\"></circle><circle cx=\"44.08631578947369\" cy=\"144.79903516337217\" r=\"3\" fill=\"blue\"></circle><circle cx=\"52.288421052631584\" cy=\"55.13910680573068\" r=\"3\" fill=\"red\"></circle><circle cx=\"60.49052631578949\" cy=\"131.11189227664687\" r=\"3\" fill=\"blue\"></circle><circle cx=\"68.69263157894737\" cy=\"120.42412999624284\" r=\"3\" fill=\"blue\"></circle><circle cx=\"76.89473684210526\" cy=\"111.95023366549279\" r=\"3\" fill=\"blue\"></circle><circle cx=\"85.09684210526316\" cy=\"107.9340615051159\" r=\"3\" fill=\"blue\"></circle><circle cx=\"93.29894736842105\" cy=\"100.18926450937943\" r=\"3\" fill=\"blue\"></circle><circle cx=\"101.50105263157897\" cy=\"90.94621959995398\" r=\"3\" fill=\"blue\"></circle><circle cx=\"109.70315789473685\" cy=\"82.6192230610681\" r=\"3\" fill=\"blue\"></circle><circle cx=\"117.90526315789474\" cy=\"74.49179972070976\" r=\"3\" fill=\"blue\"></circle><circle cx=\"126.10736842105264\" cy=\"19.47999999999999\" r=\"3\" fill=\"red\"></circle><circle cx=\"134.30947368421053\" cy=\"55.59818032448251\" r=\"3\" fill=\"blue\"></circle><circle cx=\"142.51157894736843\" cy=\"48.86653155544187\" r=\"3\" fill=\"blue\"></circle><circle cx=\"150.7136842105263\" cy=\"130.29429102247573\" r=\"3\" fill=\"red\"></circle><circle cx=\"158.91578947368424\" cy=\"34.331480183977334\" r=\"3\" fill=\"blue\"></circle><circle cx=\"167.11789473684212\" cy=\"27.526189689915242\" r=\"3\" fill=\"blue\"></circle><circle cx=\"175.32\" cy=\"20.111558745708493\" r=\"3\" fill=\"blue\"></circle><polygon points=\"-200,378.6915691436699 394.8,-202.28322199871582 394.8,-190.81764981373516 -200,390.15714132865054\" style=\"fill: rgba(0, 0, 0, 0.298039);\"></polygon><line x1=\"0\" y1=\"79.03624353501249\" x2=\"194.8\" y2=\"79.03624353501249\" style=\"stroke: rgba(0, 0, 0, 0.0980392); stroke-width: 213.25895842156055px;\"></line><line x1=\"-200\" y1=\"384.4243552361602\" x2=\"394.8\" y2=\"-196.55043590622552\" style=\"stroke: rgba(0, 0, 0, 0.701961); stroke-width: 2px;\"></line></svg></div><div data-v-2e966a4f=\"\"><svg data-v-2e966a4f=\"\" height=\"194.8\" width=\"194.8\" xmlns=\"http://www.w3.org/2000/svg\" xmlns:xlink=\"http://www.w3.org/1999/xlink\" version=\"1.1\"><circle cx=\"19.480000000000004\" cy=\"19.47999999999999\" r=\"3\" fill=\"blue\"></circle><circle cx=\"27.682105263157894\" cy=\"28.18914928970875\" r=\"3\" fill=\"blue\"></circle><circle cx=\"35.8842105263158\" cy=\"35.8647670223628\" r=\"3\" fill=\"blue\"></circle><circle cx=\"44.08631578947369\" cy=\"42.84738010728444\" r=\"3\" fill=\"blue\"></circle><circle cx=\"52.288421052631584\" cy=\"53.59413188271141\" r=\"3\" fill=\"blue\"></circle><circle cx=\"60.49052631578949\" cy=\"64.94849537637961\" r=\"3\" fill=\"blue\"></circle><circle cx=\"68.69263157894737\" cy=\"74.93674202690978\" r=\"3\" fill=\"blue\"></circle><circle cx=\"76.89473684210526\" cy=\"81.71340343956156\" r=\"3\" fill=\"blue\"></circle><circle cx=\"85.09684210526316\" cy=\"93.72656160091769\" r=\"3\" fill=\"blue\"></circle><circle cx=\"93.29894736842105\" cy=\"100.53088943517749\" r=\"3\" fill=\"blue\"></circle><circle cx=\"101.50105263157897\" cy=\"112.23322239426378\" r=\"3\" fill=\"blue\"></circle><circle cx=\"109.70315789473685\" cy=\"120.65877355489678\" r=\"3\" fill=\"blue\"></circle><circle cx=\"117.90526315789474\" cy=\"129.58647136981293\" r=\"3\" fill=\"blue\"></circle><circle cx=\"126.10736842105264\" cy=\"136.29913143832707\" r=\"3\" fill=\"blue\"></circle><circle cx=\"134.30947368421053\" cy=\"148.13789323161834\" r=\"3\" fill=\"blue\"></circle><circle cx=\"142.51157894736843\" cy=\"158.71386508074332\" r=\"3\" fill=\"blue\"></circle><circle cx=\"150.7136842105263\" cy=\"165.59288319491006\" r=\"3\" fill=\"blue\"></circle><circle cx=\"158.91578947368424\" cy=\"175.32\" r=\"3\" fill=\"blue\"></circle><circle cx=\"167.11789473684212\" cy=\"86.62611159002624\" r=\"3\" fill=\"red\"></circle><circle cx=\"175.32\" cy=\"115.02678713872254\" r=\"3\" fill=\"red\"></circle><polygon points=\"-200,-227.82689116741625 394.8,434.7899250609881 394.8,441.0847515725754 -200,-221.5320646558289\" style=\"fill: rgba(0, 0, 0, 0.298039);\"></polygon><line x1=\"0\" y1=\"101.71638241428425\" x2=\"194.8\" y2=\"101.71638241428425\" style=\"stroke: rgba(0, 0, 0, 0.0980392); stroke-width: 229.5254292252694px;\"></line><line x1=\"-200\" y1=\"-224.67947791162254\" x2=\"394.8\" y2=\"437.93733831678173\" style=\"stroke: rgba(0, 0, 0, 0.701961); stroke-width: 2px;\"></line></svg></div><div data-v-2e966a4f=\"\"><svg data-v-2e966a4f=\"\" height=\"194.8\" width=\"194.8\" xmlns=\"http://www.w3.org/2000/svg\" xmlns:xlink=\"http://www.w3.org/1999/xlink\" version=\"1.1\"><circle cx=\"19.480000000000004\" cy=\"161.94081336544772\" r=\"3\" fill=\"blue\"></circle><circle cx=\"27.682105263157894\" cy=\"154.25015271250572\" r=\"3\" fill=\"blue\"></circle><circle cx=\"35.8842105263158\" cy=\"120.73885108798302\" r=\"3\" fill=\"red\"></circle><circle cx=\"44.08631578947369\" cy=\"51.13416630529359\" r=\"3\" fill=\"red\"></circle><circle cx=\"52.288421052631584\" cy=\"134.07078626821382\" r=\"3\" fill=\"blue\"></circle><circle cx=\"60.49052631578949\" cy=\"129.0748620662641\" r=\"3\" fill=\"blue\"></circle><circle cx=\"68.69263157894737\" cy=\"83.63650098661823\" r=\"3\" fill=\"red\"></circle><circle cx=\"76.89473684210526\" cy=\"108.58938520634248\" r=\"3\" fill=\"blue\"></circle><circle cx=\"85.09684210526316\" cy=\"106.17751765246732\" r=\"3\" fill=\"blue\"></circle><circle cx=\"93.29894736842105\" cy=\"95.0028316957366\" r=\"3\" fill=\"blue\"></circle><circle cx=\"101.50105263157897\" cy=\"86.15401538842166\" r=\"3\" fill=\"blue\"></circle><circle cx=\"109.70315789473685\" cy=\"81.776431538377\" r=\"3\" fill=\"blue\"></circle><circle cx=\"117.90526315789474\" cy=\"76.97664041172605\" r=\"3\" fill=\"red\"></circle><circle cx=\"126.10736842105264\" cy=\"66.76915540872922\" r=\"3\" fill=\"blue\"></circle><circle cx=\"134.30947368421053\" cy=\"60.211145214046965\" r=\"3\" fill=\"blue\"></circle><circle cx=\"142.51157894736843\" cy=\"158.70289789037216\" r=\"3\" fill=\"red\"></circle><circle cx=\"150.7136842105263\" cy=\"115.82051820094337\" r=\"3\" fill=\"red\"></circle><circle cx=\"158.91578947368424\" cy=\"88.0941244597879\" r=\"3\" fill=\"red\"></circle><circle cx=\"167.11789473684212\" cy=\"175.32\" r=\"3\" fill=\"red\"></circle><circle cx=\"175.32\" cy=\"19.47999999999999\" r=\"3\" fill=\"blue\"></circle><polygon points=\"-200,357.67983713393573 394.8,-189.45047428380934 394.8,-174.16222700416955 -200,372.9680844135755\" style=\"fill: rgba(0, 0, 0, 0.298039);\"></polygon><line x1=\"0\" y1=\"96.12150848217941\" x2=\"194.8\" y2=\"96.12150848217941\" style=\"stroke: rgba(0, 0, 0, 0.0980392); stroke-width: 241.81175740763547px;\"></line><line x1=\"-200\" y1=\"365.32396077375563\" x2=\"394.8\" y2=\"-181.80635064398945\" style=\"stroke: rgba(0, 0, 0, 0.701961); stroke-width: 2px;\"></line></svg></div><div data-v-2e966a4f=\"\"><svg data-v-2e966a4f=\"\" height=\"194.8\" width=\"194.8\" xmlns=\"http://www.w3.org/2000/svg\" xmlns:xlink=\"http://www.w3.org/1999/xlink\" version=\"1.1\"><circle cx=\"19.480000000000004\" cy=\"68.6963833479324\" r=\"3\" fill=\"red\"></circle><circle cx=\"27.682105263157894\" cy=\"156.38622020000852\" r=\"3\" fill=\"red\"></circle><circle cx=\"35.8842105263158\" cy=\"175.32\" r=\"3\" fill=\"blue\"></circle><circle cx=\"44.08631578947369\" cy=\"88.73399409175802\" r=\"3\" fill=\"red\"></circle><circle cx=\"52.288421052631584\" cy=\"157.32836544752806\" r=\"3\" fill=\"blue\"></circle><circle cx=\"60.49052631578949\" cy=\"32.71194027644873\" r=\"3\" fill=\"red\"></circle><circle cx=\"68.69263157894737\" cy=\"139.04792422939497\" r=\"3\" fill=\"blue\"></circle><circle cx=\"76.89473684210526\" cy=\"131.29435807864488\" r=\"3\" fill=\"blue\"></circle><circle cx=\"85.09684210526316\" cy=\"89.17106633917933\" r=\"3\" fill=\"red\"></circle><circle cx=\"93.29894736842105\" cy=\"96.2381945691707\" r=\"3\" fill=\"red\"></circle><circle cx=\"101.50105263157897\" cy=\"100.72651477762223\" r=\"3\" fill=\"blue\"></circle><circle cx=\"109.70315789473685\" cy=\"91.72925498114957\" r=\"3\" fill=\"blue\"></circle><circle cx=\"117.90526315789474\" cy=\"77.43328541817652\" r=\"3\" fill=\"red\"></circle><circle cx=\"126.10736842105264\" cy=\"75.52432068096766\" r=\"3\" fill=\"blue\"></circle><circle cx=\"134.30947368421053\" cy=\"59.73470965304166\" r=\"3\" fill=\"red\"></circle><circle cx=\"142.51157894736843\" cy=\"148.16431021066523\" r=\"3\" fill=\"red\"></circle><circle cx=\"150.7136842105263\" cy=\"71.59922245339618\" r=\"3\" fill=\"red\"></circle><circle cx=\"158.91578947368424\" cy=\"38.84123092931304\" r=\"3\" fill=\"blue\"></circle><circle cx=\"167.11789473684212\" cy=\"30.181569399354657\" r=\"3\" fill=\"blue\"></circle><circle cx=\"175.32\" cy=\"19.47999999999999\" r=\"3\" fill=\"blue\"></circle><polygon points=\"-200,428.68015706204756 394.8,-222.77506572479206 394.8,-216.10113036998712 -200,435.3540924168526\" style=\"fill: rgba(0, 0, 0, 0.298039);\"></polygon><line x1=\"0\" y1=\"97.17975181043226\" x2=\"194.8\" y2=\"97.17975181043226\" style=\"stroke: rgba(0, 0, 0, 0.0980392); stroke-width: 220.12433886836436px;\"></line><line x1=\"-200\" y1=\"432.0171247394501\" x2=\"394.8\" y2=\"-219.4380980473896\" style=\"stroke: rgba(0, 0, 0, 0.701961); stroke-width: 2px;\"></line></svg></div><div data-v-2e966a4f=\"\"><svg data-v-2e966a4f=\"\" height=\"194.8\" width=\"194.8\" xmlns=\"http://www.w3.org/2000/svg\" xmlns:xlink=\"http://www.w3.org/1999/xlink\" version=\"1.1\"><circle cx=\"19.480000000000004\" cy=\"66.62472691630042\" r=\"3\" fill=\"blue\"></circle><circle cx=\"27.682105263157894\" cy=\"72.748681518343\" r=\"3\" fill=\"blue\"></circle><circle cx=\"35.8842105263158\" cy=\"57.60704554202238\" r=\"3\" fill=\"red\"></circle><circle cx=\"44.08631578947369\" cy=\"68.36301750074671\" r=\"3\" fill=\"blue\"></circle><circle cx=\"52.288421052631584\" cy=\"74.45522459401154\" r=\"3\" fill=\"blue\"></circle><circle cx=\"60.49052631578949\" cy=\"135.2803246735948\" r=\"3\" fill=\"red\"></circle><circle cx=\"68.69263157894737\" cy=\"108.52703120530197\" r=\"3\" fill=\"red\"></circle><circle cx=\"76.89473684210526\" cy=\"66.00702968012682\" r=\"3\" fill=\"red\"></circle><circle cx=\"85.09684210526316\" cy=\"90.23274597468298\" r=\"3\" fill=\"blue\"></circle><circle cx=\"93.29894736842105\" cy=\"75.84146850137675\" r=\"3\" fill=\"blue\"></circle><circle cx=\"101.50105263157897\" cy=\"77.89387363249685\" r=\"3\" fill=\"red\"></circle><circle cx=\"109.70315789473685\" cy=\"102.56629242155009\" r=\"3\" fill=\"blue\"></circle><circle cx=\"117.90526315789474\" cy=\"175.32\" r=\"3\" fill=\"red\"></circle><circle cx=\"126.10736842105264\" cy=\"92.92806627075673\" r=\"3\" fill=\"blue\"></circle><circle cx=\"134.30947368421053\" cy=\"19.47999999999999\" r=\"3\" fill=\"red\"></circle><circle cx=\"142.51157894736843\" cy=\"73.8842021031479\" r=\"3\" fill=\"blue\"></circle><circle cx=\"150.7136842105263\" cy=\"99.71670908238058\" r=\"3\" fill=\"blue\"></circle><circle cx=\"158.91578947368424\" cy=\"115.46866161262498\" r=\"3\" fill=\"red\"></circle><circle cx=\"167.11789473684212\" cy=\"123.964899493279\" r=\"3\" fill=\"red\"></circle><circle cx=\"175.32\" cy=\"103.86739184704263\" r=\"3\" fill=\"blue\"></circle><polygon points=\"-200,3.712708139614449 394.8,118.4114775568306 394.8,161.65272192766537 -200,46.95395251044923\" style=\"fill: rgba(0, 0, 0, 0.298039);\"></polygon><line x1=\"0\" y1=\"96.26370947500887\" x2=\"194.8\" y2=\"96.26370947500887\" style=\"stroke: rgba(0, 0, 0, 0.0980392); stroke-width: 189.77729090103065px;\"></line><line x1=\"-200\" y1=\"25.333330325031852\" x2=\"394.8\" y2=\"140.032099742248\" style=\"stroke: rgba(0, 0, 0, 0.701961); stroke-width: 2px;\"></line></svg></div><div data-v-2e966a4f=\"\"><svg data-v-2e966a4f=\"\" height=\"194.8\" width=\"194.8\" xmlns=\"http://www.w3.org/2000/svg\" xmlns:xlink=\"http://www.w3.org/1999/xlink\" version=\"1.1\"><circle cx=\"19.480000000000004\" cy=\"74.62976879478298\" r=\"3\" fill=\"blue\"></circle><circle cx=\"27.682105263157894\" cy=\"108.81655870542923\" r=\"3\" fill=\"red\"></circle><circle cx=\"35.8842105263158\" cy=\"138.41838915854777\" r=\"3\" fill=\"red\"></circle><circle cx=\"44.08631578947369\" cy=\"156.4670133717975\" r=\"3\" fill=\"red\"></circle><circle cx=\"52.288421052631584\" cy=\"175.32\" r=\"3\" fill=\"red\"></circle><circle cx=\"60.49052631578949\" cy=\"19.47999999999999\" r=\"3\" fill=\"red\"></circle><circle cx=\"68.69263157894737\" cy=\"28.719212262858974\" r=\"3\" fill=\"red\"></circle><circle cx=\"76.89473684210526\" cy=\"77.69955925844297\" r=\"3\" fill=\"red\"></circle><circle cx=\"85.09684210526316\" cy=\"98.75138687750204\" r=\"3\" fill=\"red\"></circle><circle cx=\"93.29894736842105\" cy=\"67.96047286307625\" r=\"3\" fill=\"red\"></circle><circle cx=\"101.50105263157897\" cy=\"88.26247735201054\" r=\"3\" fill=\"red\"></circle><circle cx=\"109.70315789473685\" cy=\"125.683832942088\" r=\"3\" fill=\"red\"></circle><circle cx=\"117.90526315789474\" cy=\"75.30030824496362\" r=\"3\" fill=\"red\"></circle><circle cx=\"126.10736842105264\" cy=\"135.09909529922678\" r=\"3\" fill=\"red\"></circle><circle cx=\"134.30947368421053\" cy=\"31.34905934505653\" r=\"3\" fill=\"red\"></circle><circle cx=\"142.51157894736843\" cy=\"73.28806257131494\" r=\"3\" fill=\"red\"></circle><circle cx=\"150.7136842105263\" cy=\"85.08147457318806\" r=\"3\" fill=\"red\"></circle><circle cx=\"158.91578947368424\" cy=\"81.24734976719274\" r=\"3\" fill=\"red\"></circle><circle cx=\"167.11789473684212\" cy=\"124.30241050352257\" r=\"3\" fill=\"red\"></circle><circle cx=\"175.32\" cy=\"96.42096447118082\" r=\"3\" fill=\"red\"></circle><polygon points=\"-200,86.33237399848876 394.8,41.41455383303517 394.8,53.489817083924734 -200,98.40763724937833\" style=\"fill: rgba(0, 0, 0, 0.298039);\"></polygon><line x1=\"0\" y1=\"80.75054423613948\" x2=\"194.8\" y2=\"80.75054423613948\" style=\"stroke: rgba(0, 0, 0, 0.0980392); stroke-width: 173.44665045223925px;\"></line><line x1=\"-200\" y1=\"92.37000562393355\" x2=\"394.8\" y2=\"47.452185458479946\" style=\"stroke: rgba(0, 0, 0, 0.701961); stroke-width: 2px;\"></line></svg></div></div></div><style>body, html { margin-left: 0px; margin-right: 0px; }\n",
       "h1[data-v-2e966a4f] { font-family: Avenir, Helvetica, Arial, sans-serif; text-align: center; }\n",
       "#traces[data-v-2e966a4f] { display: flex; -webkit-box-orient: horizontal; -webkit-box-direction: normal; flex-flow: row wrap; }\n",
       "#app { font-family: Avenir, Helvetica, Arial, sans-serif; -webkit-font-smoothing: antialiased; color: rgb(44, 62, 80); }</style>"
      ]
     },
     "metadata": {},
     "output_type": "display_data"
    }
   ],
   "source": [
    "# Get some x coordinates and initialize a visualization\n",
    "xs = collect(range(-5, stop=5, length=20))\n",
    "viz = Viz(server, joinpath(@__DIR__, \"regression-viz/dist\"), [xs])\n",
    "\n",
    "# Generate ten traces and draw them into the visualization\n",
    "for i=1:10\n",
    "    (trace, _) = initialize(naive_model, (xs,))\n",
    "    ys = get_retval(trace)\n",
    "    putTrace!(viz, \"t$(i)\", serialize_trace(trace))\n",
    "end\n",
    "\n",
    "# Display the visualization in this notebook\n",
    "displayInNotebook(viz)"
   ]
  },
  {
   "cell_type": "markdown",
   "metadata": {},
   "source": [
    "Note that an outlier can occur anywhere — including close to the line — and that our model is capable of generating datasets in which the vast majority of points are outliers."
   ]
  },
  {
   "cell_type": "markdown",
   "metadata": {},
   "source": [
    "## 3. The problem with generic importance sampling  <a name=\"generic-importance\"></a>"
   ]
  },
  {
   "cell_type": "markdown",
   "metadata": {},
   "source": [
    "To motivate the need for more complex inference algorithms, let's begin by using the simple importance sampling method from the previous tutorial, and thinking about where it fails.\n",
    "\n",
    "First, let us create a synthetic dataset to do inference _about_."
   ]
  },
  {
   "cell_type": "code",
   "execution_count": 6,
   "metadata": {},
   "outputs": [],
   "source": [
    "function make_synthetic_dataset(n)\n",
    "    Random.seed!(1)\n",
    "    prob_outlier = 0.2\n",
    "    true_inlier_noise = 0.5\n",
    "    true_outlier_noise = 5.0\n",
    "    true_slope = -1\n",
    "    true_intercept = 2\n",
    "    xs = collect(range(-5, stop=5, length=n))\n",
    "    ys = Float64[]\n",
    "    for (i, x) in enumerate(xs)\n",
    "        if rand() < prob_outlier\n",
    "            y = randn() * true_outlier_noise\n",
    "        else\n",
    "            y = true_slope * x + true_intercept + randn() * true_inlier_noise\n",
    "        end\n",
    "        push!(ys, y)\n",
    "    end\n",
    "    (xs, ys)\n",
    "end\n",
    "    \n",
    "(xs, ys) = make_synthetic_dataset(20);"
   ]
  },
  {
   "cell_type": "markdown",
   "metadata": {},
   "source": [
    "In Gen, we express our _observations_ as an _Assignment_ that constrains the values of certain random choices to equal their observed values. Here, we want to constrain the values of the choices with address `:data => i => :y` (that is, the sampled $y$ coordinates) to equal the observed $y$ values. Let's write a helper function that takes in a vector of $y$ values and creates an Assignment that we can use to constrain our model:"
   ]
  },
  {
   "cell_type": "code",
   "execution_count": 7,
   "metadata": {},
   "outputs": [],
   "source": [
    "function make_constraints(ys::Vector{Float64})\n",
    "    constraints = DynamicAssignment()\n",
    "    for i=1:length(ys)\n",
    "        constraints[:data => i => :y] = ys[i]\n",
    "    end\n",
    "    constraints\n",
    "end;"
   ]
  },
  {
   "cell_type": "markdown",
   "metadata": {},
   "source": [
    "We can apply it to our dataset's vector of `ys` to make a set of constraints for doing inference:"
   ]
  },
  {
   "cell_type": "code",
   "execution_count": 8,
   "metadata": {},
   "outputs": [],
   "source": [
    "observations = make_constraints(ys);"
   ]
  },
  {
   "cell_type": "markdown",
   "metadata": {},
   "source": [
    "Now, we use the library function `importance_resampling` to draw approximate posterior samples given those observations:"
   ]
  },
  {
   "cell_type": "code",
   "execution_count": 9,
   "metadata": {},
   "outputs": [
    {
     "data": {
      "text/plain": [
       "logmeanexp (generic function with 1 method)"
      ]
     },
     "execution_count": 9,
     "metadata": {},
     "output_type": "execute_result"
    }
   ],
   "source": [
    "function logmeanexp(scores)\n",
    "    logsumexp(scores) - log(length(scores))\n",
    "end"
   ]
  },
  {
   "cell_type": "code",
   "execution_count": 10,
   "metadata": {},
   "outputs": [
    {
     "data": {
      "text/html": [
       "<div data-v-2e966a4f=\"\"><h1 data-v-2e966a4f=\"\">Traces</h1><div data-v-2e966a4f=\"\" id=\"traces\"><div data-v-2e966a4f=\"\"><svg data-v-2e966a4f=\"\" height=\"194.8\" width=\"194.8\" xmlns=\"http://www.w3.org/2000/svg\" xmlns:xlink=\"http://www.w3.org/1999/xlink\" version=\"1.1\"><circle cx=\"19.480000000000004\" cy=\"19.47999999999999\" r=\"3\" fill=\"blue\"></circle><circle cx=\"27.682105263157894\" cy=\"25.81897612907059\" r=\"3\" fill=\"blue\"></circle><circle cx=\"35.8842105263158\" cy=\"29.02503228914611\" r=\"3\" fill=\"blue\"></circle><circle cx=\"44.08631578947369\" cy=\"44.94767032480681\" r=\"3\" fill=\"blue\"></circle><circle cx=\"52.288421052631584\" cy=\"37.72984470003658\" r=\"3\" fill=\"blue\"></circle><circle cx=\"60.49052631578949\" cy=\"40.01367980144005\" r=\"3\" fill=\"blue\"></circle><circle cx=\"68.69263157894737\" cy=\"51.14487680109001\" r=\"3\" fill=\"red\"></circle><circle cx=\"76.89473684210526\" cy=\"53.69168043462726\" r=\"3\" fill=\"blue\"></circle><circle cx=\"85.09684210526316\" cy=\"65.86561000612986\" r=\"3\" fill=\"blue\"></circle><circle cx=\"93.29894736842105\" cy=\"115.77779471205362\" r=\"3\" fill=\"red\"></circle><circle cx=\"101.50105263157897\" cy=\"63.82850970273988\" r=\"3\" fill=\"red\"></circle><circle cx=\"109.70315789473685\" cy=\"69.51956507505226\" r=\"3\" fill=\"blue\"></circle><circle cx=\"117.90526315789474\" cy=\"23.922270328961304\" r=\"3\" fill=\"blue\"></circle><circle cx=\"126.10736842105264\" cy=\"115.24414763888666\" r=\"3\" fill=\"blue\"></circle><circle cx=\"134.30947368421053\" cy=\"86.01710791505587\" r=\"3\" fill=\"blue\"></circle><circle cx=\"142.51157894736843\" cy=\"175.32\" r=\"3\" fill=\"red\"></circle><circle cx=\"150.7136842105263\" cy=\"28.942717000896067\" r=\"3\" fill=\"red\"></circle><circle cx=\"158.91578947368424\" cy=\"96.28428699244985\" r=\"3\" fill=\"blue\"></circle><circle cx=\"167.11789473684212\" cy=\"110.86456899154524\" r=\"3\" fill=\"blue\"></circle><circle cx=\"175.32\" cy=\"116.77194707880855\" r=\"3\" fill=\"blue\"></circle><polygon points=\"-200,-170.54207984854958 394.8,240.956487244742 394.8,329.7670331107545 -200,-81.73153398253697\" style=\"fill: rgba(0, 0, 0, 0.298039);\"></polygon><line x1=\"0\" y1=\"82.55255678740174\" x2=\"194.8\" y2=\"82.55255678740174\" style=\"stroke: rgba(0, 0, 0, 0.0980392); stroke-width: 350.83198615114094px;\"></line><line x1=\"-200\" y1=\"-126.13680691554322\" x2=\"394.8\" y2=\"285.36176017774824\" style=\"stroke: rgba(0, 0, 0, 0.701961); stroke-width: 2px;\"></line></svg></div><div data-v-2e966a4f=\"\"><svg data-v-2e966a4f=\"\" height=\"194.8\" width=\"194.8\" xmlns=\"http://www.w3.org/2000/svg\" xmlns:xlink=\"http://www.w3.org/1999/xlink\" version=\"1.1\"><circle cx=\"19.480000000000004\" cy=\"19.47999999999999\" r=\"3\" fill=\"blue\"></circle><circle cx=\"27.682105263157894\" cy=\"25.81897612907059\" r=\"3\" fill=\"red\"></circle><circle cx=\"35.8842105263158\" cy=\"29.02503228914611\" r=\"3\" fill=\"blue\"></circle><circle cx=\"44.08631578947369\" cy=\"44.94767032480681\" r=\"3\" fill=\"blue\"></circle><circle cx=\"52.288421052631584\" cy=\"37.72984470003658\" r=\"3\" fill=\"red\"></circle><circle cx=\"60.49052631578949\" cy=\"40.01367980144005\" r=\"3\" fill=\"red\"></circle><circle cx=\"68.69263157894737\" cy=\"51.14487680109001\" r=\"3\" fill=\"red\"></circle><circle cx=\"76.89473684210526\" cy=\"53.69168043462726\" r=\"3\" fill=\"blue\"></circle><circle cx=\"85.09684210526316\" cy=\"65.86561000612986\" r=\"3\" fill=\"blue\"></circle><circle cx=\"93.29894736842105\" cy=\"115.77779471205362\" r=\"3\" fill=\"red\"></circle><circle cx=\"101.50105263157897\" cy=\"63.82850970273988\" r=\"3\" fill=\"blue\"></circle><circle cx=\"109.70315789473685\" cy=\"69.51956507505226\" r=\"3\" fill=\"blue\"></circle><circle cx=\"117.90526315789474\" cy=\"23.922270328961304\" r=\"3\" fill=\"red\"></circle><circle cx=\"126.10736842105264\" cy=\"115.24414763888666\" r=\"3\" fill=\"blue\"></circle><circle cx=\"134.30947368421053\" cy=\"86.01710791505587\" r=\"3\" fill=\"blue\"></circle><circle cx=\"142.51157894736843\" cy=\"175.32\" r=\"3\" fill=\"red\"></circle><circle cx=\"150.7136842105263\" cy=\"28.942717000896067\" r=\"3\" fill=\"red\"></circle><circle cx=\"158.91578947368424\" cy=\"96.28428699244985\" r=\"3\" fill=\"blue\"></circle><circle cx=\"167.11789473684212\" cy=\"110.86456899154524\" r=\"3\" fill=\"blue\"></circle><circle cx=\"175.32\" cy=\"116.77194707880855\" r=\"3\" fill=\"red\"></circle><polygon points=\"-200,-63.36506444178062 394.8,136.99875245609272 394.8,200.21563515349646 -200,-0.14818174437684206\" style=\"fill: rgba(0, 0, 0, 0.298039);\"></polygon><line x1=\"0\" y1=\"82.55255678740174\" x2=\"194.8\" y2=\"82.55255678740174\" style=\"stroke: rgba(0, 0, 0, 0.0980392); stroke-width: 350.83198615114094px;\"></line><line x1=\"-200\" y1=\"-31.756623093078787\" x2=\"394.8\" y2=\"168.60719380479458\" style=\"stroke: rgba(0, 0, 0, 0.701961); stroke-width: 2px;\"></line></svg></div><div data-v-2e966a4f=\"\"><svg data-v-2e966a4f=\"\" height=\"194.8\" width=\"194.8\" xmlns=\"http://www.w3.org/2000/svg\" xmlns:xlink=\"http://www.w3.org/1999/xlink\" version=\"1.1\"><circle cx=\"19.480000000000004\" cy=\"19.47999999999999\" r=\"3\" fill=\"red\"></circle><circle cx=\"27.682105263157894\" cy=\"25.81897612907059\" r=\"3\" fill=\"blue\"></circle><circle cx=\"35.8842105263158\" cy=\"29.02503228914611\" r=\"3\" fill=\"blue\"></circle><circle cx=\"44.08631578947369\" cy=\"44.94767032480681\" r=\"3\" fill=\"blue\"></circle><circle cx=\"52.288421052631584\" cy=\"37.72984470003658\" r=\"3\" fill=\"blue\"></circle><circle cx=\"60.49052631578949\" cy=\"40.01367980144005\" r=\"3\" fill=\"blue\"></circle><circle cx=\"68.69263157894737\" cy=\"51.14487680109001\" r=\"3\" fill=\"blue\"></circle><circle cx=\"76.89473684210526\" cy=\"53.69168043462726\" r=\"3\" fill=\"blue\"></circle><circle cx=\"85.09684210526316\" cy=\"65.86561000612986\" r=\"3\" fill=\"blue\"></circle><circle cx=\"93.29894736842105\" cy=\"115.77779471205362\" r=\"3\" fill=\"blue\"></circle><circle cx=\"101.50105263157897\" cy=\"63.82850970273988\" r=\"3\" fill=\"blue\"></circle><circle cx=\"109.70315789473685\" cy=\"69.51956507505226\" r=\"3\" fill=\"blue\"></circle><circle cx=\"117.90526315789474\" cy=\"23.922270328961304\" r=\"3\" fill=\"blue\"></circle><circle cx=\"126.10736842105264\" cy=\"115.24414763888666\" r=\"3\" fill=\"blue\"></circle><circle cx=\"134.30947368421053\" cy=\"86.01710791505587\" r=\"3\" fill=\"blue\"></circle><circle cx=\"142.51157894736843\" cy=\"175.32\" r=\"3\" fill=\"blue\"></circle><circle cx=\"150.7136842105263\" cy=\"28.942717000896067\" r=\"3\" fill=\"red\"></circle><circle cx=\"158.91578947368424\" cy=\"96.28428699244985\" r=\"3\" fill=\"blue\"></circle><circle cx=\"167.11789473684212\" cy=\"110.86456899154524\" r=\"3\" fill=\"blue\"></circle><circle cx=\"175.32\" cy=\"116.77194707880855\" r=\"3\" fill=\"blue\"></circle><polygon points=\"-200,-170.13125265921082 394.8,158.1522632183873 394.8,304.7187118638344 -200,-23.564804013763705\" style=\"fill: rgba(0, 0, 0, 0.298039);\"></polygon><line x1=\"0\" y1=\"82.55255678740174\" x2=\"194.8\" y2=\"82.55255678740174\" style=\"stroke: rgba(0, 0, 0, 0.0980392); stroke-width: 350.83198615114094px;\"></line><line x1=\"-200\" y1=\"-96.84802833648723\" x2=\"394.8\" y2=\"231.43548754111083\" style=\"stroke: rgba(0, 0, 0, 0.701961); stroke-width: 2px;\"></line></svg></div><div data-v-2e966a4f=\"\"><svg data-v-2e966a4f=\"\" height=\"194.8\" width=\"194.8\" xmlns=\"http://www.w3.org/2000/svg\" xmlns:xlink=\"http://www.w3.org/1999/xlink\" version=\"1.1\"><circle cx=\"19.480000000000004\" cy=\"19.47999999999999\" r=\"3\" fill=\"blue\"></circle><circle cx=\"27.682105263157894\" cy=\"25.81897612907059\" r=\"3\" fill=\"blue\"></circle><circle cx=\"35.8842105263158\" cy=\"29.02503228914611\" r=\"3\" fill=\"blue\"></circle><circle cx=\"44.08631578947369\" cy=\"44.94767032480681\" r=\"3\" fill=\"blue\"></circle><circle cx=\"52.288421052631584\" cy=\"37.72984470003658\" r=\"3\" fill=\"blue\"></circle><circle cx=\"60.49052631578949\" cy=\"40.01367980144005\" r=\"3\" fill=\"blue\"></circle><circle cx=\"68.69263157894737\" cy=\"51.14487680109001\" r=\"3\" fill=\"blue\"></circle><circle cx=\"76.89473684210526\" cy=\"53.69168043462726\" r=\"3\" fill=\"blue\"></circle><circle cx=\"85.09684210526316\" cy=\"65.86561000612986\" r=\"3\" fill=\"blue\"></circle><circle cx=\"93.29894736842105\" cy=\"115.77779471205362\" r=\"3\" fill=\"blue\"></circle><circle cx=\"101.50105263157897\" cy=\"63.82850970273988\" r=\"3\" fill=\"blue\"></circle><circle cx=\"109.70315789473685\" cy=\"69.51956507505226\" r=\"3\" fill=\"blue\"></circle><circle cx=\"117.90526315789474\" cy=\"23.922270328961304\" r=\"3\" fill=\"blue\"></circle><circle cx=\"126.10736842105264\" cy=\"115.24414763888666\" r=\"3\" fill=\"blue\"></circle><circle cx=\"134.30947368421053\" cy=\"86.01710791505587\" r=\"3\" fill=\"blue\"></circle><circle cx=\"142.51157894736843\" cy=\"175.32\" r=\"3\" fill=\"blue\"></circle><circle cx=\"150.7136842105263\" cy=\"28.942717000896067\" r=\"3\" fill=\"blue\"></circle><circle cx=\"158.91578947368424\" cy=\"96.28428699244985\" r=\"3\" fill=\"blue\"></circle><circle cx=\"167.11789473684212\" cy=\"110.86456899154524\" r=\"3\" fill=\"blue\"></circle><circle cx=\"175.32\" cy=\"116.77194707880855\" r=\"3\" fill=\"blue\"></circle><polygon points=\"-200,-186.85011147066928 394.8,204.7524541492268 394.8,301.45404518860846 -200,-90.14852043128752\" style=\"fill: rgba(0, 0, 0, 0.298039);\"></polygon><line x1=\"0\" y1=\"82.55255678740174\" x2=\"194.8\" y2=\"82.55255678740174\" style=\"stroke: rgba(0, 0, 0, 0.0980392); stroke-width: 350.83198615114094px;\"></line><line x1=\"-200\" y1=\"-138.49931595097837\" x2=\"394.8\" y2=\"253.1032496689176\" style=\"stroke: rgba(0, 0, 0, 0.701961); stroke-width: 2px;\"></line></svg></div><div data-v-2e966a4f=\"\"><svg data-v-2e966a4f=\"\" height=\"194.8\" width=\"194.8\" xmlns=\"http://www.w3.org/2000/svg\" xmlns:xlink=\"http://www.w3.org/1999/xlink\" version=\"1.1\"><circle cx=\"19.480000000000004\" cy=\"19.47999999999999\" r=\"3\" fill=\"red\"></circle><circle cx=\"27.682105263157894\" cy=\"25.81897612907059\" r=\"3\" fill=\"blue\"></circle><circle cx=\"35.8842105263158\" cy=\"29.02503228914611\" r=\"3\" fill=\"blue\"></circle><circle cx=\"44.08631578947369\" cy=\"44.94767032480681\" r=\"3\" fill=\"blue\"></circle><circle cx=\"52.288421052631584\" cy=\"37.72984470003658\" r=\"3\" fill=\"blue\"></circle><circle cx=\"60.49052631578949\" cy=\"40.01367980144005\" r=\"3\" fill=\"red\"></circle><circle cx=\"68.69263157894737\" cy=\"51.14487680109001\" r=\"3\" fill=\"blue\"></circle><circle cx=\"76.89473684210526\" cy=\"53.69168043462726\" r=\"3\" fill=\"red\"></circle><circle cx=\"85.09684210526316\" cy=\"65.86561000612986\" r=\"3\" fill=\"red\"></circle><circle cx=\"93.29894736842105\" cy=\"115.77779471205362\" r=\"3\" fill=\"red\"></circle><circle cx=\"101.50105263157897\" cy=\"63.82850970273988\" r=\"3\" fill=\"blue\"></circle><circle cx=\"109.70315789473685\" cy=\"69.51956507505226\" r=\"3\" fill=\"red\"></circle><circle cx=\"117.90526315789474\" cy=\"23.922270328961304\" r=\"3\" fill=\"red\"></circle><circle cx=\"126.10736842105264\" cy=\"115.24414763888666\" r=\"3\" fill=\"red\"></circle><circle cx=\"134.30947368421053\" cy=\"86.01710791505587\" r=\"3\" fill=\"blue\"></circle><circle cx=\"142.51157894736843\" cy=\"175.32\" r=\"3\" fill=\"red\"></circle><circle cx=\"150.7136842105263\" cy=\"28.942717000896067\" r=\"3\" fill=\"red\"></circle><circle cx=\"158.91578947368424\" cy=\"96.28428699244985\" r=\"3\" fill=\"red\"></circle><circle cx=\"167.11789473684212\" cy=\"110.86456899154524\" r=\"3\" fill=\"blue\"></circle><circle cx=\"175.32\" cy=\"116.77194707880855\" r=\"3\" fill=\"blue\"></circle><polygon points=\"-200,-212.76969199527105 394.8,257.1235743821172 394.8,342.1495916334657 -200,-127.74367474392261\" style=\"fill: rgba(0, 0, 0, 0.298039);\"></polygon><line x1=\"0\" y1=\"82.55255678740174\" x2=\"194.8\" y2=\"82.55255678740174\" style=\"stroke: rgba(0, 0, 0, 0.0980392); stroke-width: 350.83198615114094px;\"></line><line x1=\"-200\" y1=\"-170.25668336959683\" x2=\"394.8\" y2=\"299.63658300779144\" style=\"stroke: rgba(0, 0, 0, 0.701961); stroke-width: 2px;\"></line></svg></div><div data-v-2e966a4f=\"\"><svg data-v-2e966a4f=\"\" height=\"194.8\" width=\"194.8\" xmlns=\"http://www.w3.org/2000/svg\" xmlns:xlink=\"http://www.w3.org/1999/xlink\" version=\"1.1\"><circle cx=\"19.480000000000004\" cy=\"19.47999999999999\" r=\"3\" fill=\"red\"></circle><circle cx=\"27.682105263157894\" cy=\"25.81897612907059\" r=\"3\" fill=\"blue\"></circle><circle cx=\"35.8842105263158\" cy=\"29.02503228914611\" r=\"3\" fill=\"blue\"></circle><circle cx=\"44.08631578947369\" cy=\"44.94767032480681\" r=\"3\" fill=\"red\"></circle><circle cx=\"52.288421052631584\" cy=\"37.72984470003658\" r=\"3\" fill=\"blue\"></circle><circle cx=\"60.49052631578949\" cy=\"40.01367980144005\" r=\"3\" fill=\"blue\"></circle><circle cx=\"68.69263157894737\" cy=\"51.14487680109001\" r=\"3\" fill=\"blue\"></circle><circle cx=\"76.89473684210526\" cy=\"53.69168043462726\" r=\"3\" fill=\"blue\"></circle><circle cx=\"85.09684210526316\" cy=\"65.86561000612986\" r=\"3\" fill=\"blue\"></circle><circle cx=\"93.29894736842105\" cy=\"115.77779471205362\" r=\"3\" fill=\"blue\"></circle><circle cx=\"101.50105263157897\" cy=\"63.82850970273988\" r=\"3\" fill=\"blue\"></circle><circle cx=\"109.70315789473685\" cy=\"69.51956507505226\" r=\"3\" fill=\"blue\"></circle><circle cx=\"117.90526315789474\" cy=\"23.922270328961304\" r=\"3\" fill=\"blue\"></circle><circle cx=\"126.10736842105264\" cy=\"115.24414763888666\" r=\"3\" fill=\"blue\"></circle><circle cx=\"134.30947368421053\" cy=\"86.01710791505587\" r=\"3\" fill=\"blue\"></circle><circle cx=\"142.51157894736843\" cy=\"175.32\" r=\"3\" fill=\"red\"></circle><circle cx=\"150.7136842105263\" cy=\"28.942717000896067\" r=\"3\" fill=\"red\"></circle><circle cx=\"158.91578947368424\" cy=\"96.28428699244985\" r=\"3\" fill=\"blue\"></circle><circle cx=\"167.11789473684212\" cy=\"110.86456899154524\" r=\"3\" fill=\"blue\"></circle><circle cx=\"175.32\" cy=\"116.77194707880855\" r=\"3\" fill=\"red\"></circle><polygon points=\"-200,-208.87036096087178 394.8,236.28481605604546 394.8,371.599485544707 -200,-73.5556914722103\" style=\"fill: rgba(0, 0, 0, 0.298039);\"></polygon><line x1=\"0\" y1=\"82.55255678740174\" x2=\"194.8\" y2=\"82.55255678740174\" style=\"stroke: rgba(0, 0, 0, 0.0980392); stroke-width: 350.83198615114094px;\"></line><line x1=\"-200\" y1=\"-141.21302621654104\" x2=\"394.8\" y2=\"303.9421508003762\" style=\"stroke: rgba(0, 0, 0, 0.701961); stroke-width: 2px;\"></line></svg></div><div data-v-2e966a4f=\"\"><svg data-v-2e966a4f=\"\" height=\"194.8\" width=\"194.8\" xmlns=\"http://www.w3.org/2000/svg\" xmlns:xlink=\"http://www.w3.org/1999/xlink\" version=\"1.1\"><circle cx=\"19.480000000000004\" cy=\"19.47999999999999\" r=\"3\" fill=\"blue\"></circle><circle cx=\"27.682105263157894\" cy=\"25.81897612907059\" r=\"3\" fill=\"blue\"></circle><circle cx=\"35.8842105263158\" cy=\"29.02503228914611\" r=\"3\" fill=\"red\"></circle><circle cx=\"44.08631578947369\" cy=\"44.94767032480681\" r=\"3\" fill=\"blue\"></circle><circle cx=\"52.288421052631584\" cy=\"37.72984470003658\" r=\"3\" fill=\"red\"></circle><circle cx=\"60.49052631578949\" cy=\"40.01367980144005\" r=\"3\" fill=\"blue\"></circle><circle cx=\"68.69263157894737\" cy=\"51.14487680109001\" r=\"3\" fill=\"red\"></circle><circle cx=\"76.89473684210526\" cy=\"53.69168043462726\" r=\"3\" fill=\"blue\"></circle><circle cx=\"85.09684210526316\" cy=\"65.86561000612986\" r=\"3\" fill=\"blue\"></circle><circle cx=\"93.29894736842105\" cy=\"115.77779471205362\" r=\"3\" fill=\"red\"></circle><circle cx=\"101.50105263157897\" cy=\"63.82850970273988\" r=\"3\" fill=\"red\"></circle><circle cx=\"109.70315789473685\" cy=\"69.51956507505226\" r=\"3\" fill=\"red\"></circle><circle cx=\"117.90526315789474\" cy=\"23.922270328961304\" r=\"3\" fill=\"red\"></circle><circle cx=\"126.10736842105264\" cy=\"115.24414763888666\" r=\"3\" fill=\"red\"></circle><circle cx=\"134.30947368421053\" cy=\"86.01710791505587\" r=\"3\" fill=\"blue\"></circle><circle cx=\"142.51157894736843\" cy=\"175.32\" r=\"3\" fill=\"red\"></circle><circle cx=\"150.7136842105263\" cy=\"28.942717000896067\" r=\"3\" fill=\"red\"></circle><circle cx=\"158.91578947368424\" cy=\"96.28428699244985\" r=\"3\" fill=\"blue\"></circle><circle cx=\"167.11789473684212\" cy=\"110.86456899154524\" r=\"3\" fill=\"blue\"></circle><circle cx=\"175.32\" cy=\"116.77194707880855\" r=\"3\" fill=\"blue\"></circle><polygon points=\"-200,-152.88674500624592 394.8,257.7204569713032 394.8,281.40454612026497 -200,-129.2026558572843\" style=\"fill: rgba(0, 0, 0, 0.298039);\"></polygon><line x1=\"0\" y1=\"82.55255678740174\" x2=\"194.8\" y2=\"82.55255678740174\" style=\"stroke: rgba(0, 0, 0, 0.0980392); stroke-width: 350.83198615114094px;\"></line><line x1=\"-200\" y1=\"-141.04470043176514\" x2=\"394.8\" y2=\"269.5625015457841\" style=\"stroke: rgba(0, 0, 0, 0.701961); stroke-width: 2px;\"></line></svg></div><div data-v-2e966a4f=\"\"><svg data-v-2e966a4f=\"\" height=\"194.8\" width=\"194.8\" xmlns=\"http://www.w3.org/2000/svg\" xmlns:xlink=\"http://www.w3.org/1999/xlink\" version=\"1.1\"><circle cx=\"19.480000000000004\" cy=\"19.47999999999999\" r=\"3\" fill=\"red\"></circle><circle cx=\"27.682105263157894\" cy=\"25.81897612907059\" r=\"3\" fill=\"blue\"></circle><circle cx=\"35.8842105263158\" cy=\"29.02503228914611\" r=\"3\" fill=\"blue\"></circle><circle cx=\"44.08631578947369\" cy=\"44.94767032480681\" r=\"3\" fill=\"blue\"></circle><circle cx=\"52.288421052631584\" cy=\"37.72984470003658\" r=\"3\" fill=\"blue\"></circle><circle cx=\"60.49052631578949\" cy=\"40.01367980144005\" r=\"3\" fill=\"blue\"></circle><circle cx=\"68.69263157894737\" cy=\"51.14487680109001\" r=\"3\" fill=\"blue\"></circle><circle cx=\"76.89473684210526\" cy=\"53.69168043462726\" r=\"3\" fill=\"blue\"></circle><circle cx=\"85.09684210526316\" cy=\"65.86561000612986\" r=\"3\" fill=\"blue\"></circle><circle cx=\"93.29894736842105\" cy=\"115.77779471205362\" r=\"3\" fill=\"blue\"></circle><circle cx=\"101.50105263157897\" cy=\"63.82850970273988\" r=\"3\" fill=\"blue\"></circle><circle cx=\"109.70315789473685\" cy=\"69.51956507505226\" r=\"3\" fill=\"blue\"></circle><circle cx=\"117.90526315789474\" cy=\"23.922270328961304\" r=\"3\" fill=\"blue\"></circle><circle cx=\"126.10736842105264\" cy=\"115.24414763888666\" r=\"3\" fill=\"blue\"></circle><circle cx=\"134.30947368421053\" cy=\"86.01710791505587\" r=\"3\" fill=\"blue\"></circle><circle cx=\"142.51157894736843\" cy=\"175.32\" r=\"3\" fill=\"red\"></circle><circle cx=\"150.7136842105263\" cy=\"28.942717000896067\" r=\"3\" fill=\"blue\"></circle><circle cx=\"158.91578947368424\" cy=\"96.28428699244985\" r=\"3\" fill=\"blue\"></circle><circle cx=\"167.11789473684212\" cy=\"110.86456899154524\" r=\"3\" fill=\"blue\"></circle><circle cx=\"175.32\" cy=\"116.77194707880855\" r=\"3\" fill=\"red\"></circle><polygon points=\"-200,-238.31417824907015 394.8,233.11043045397082 394.8,396.5916192805087 -200,-74.83298942253225\" style=\"fill: rgba(0, 0, 0, 0.298039);\"></polygon><line x1=\"0\" y1=\"82.55255678740174\" x2=\"194.8\" y2=\"82.55255678740174\" style=\"stroke: rgba(0, 0, 0, 0.0980392); stroke-width: 350.83198615114094px;\"></line><line x1=\"-200\" y1=\"-156.5735838358013\" x2=\"394.8\" y2=\"314.85102486723974\" style=\"stroke: rgba(0, 0, 0, 0.701961); stroke-width: 2px;\"></line></svg></div><div data-v-2e966a4f=\"\"><svg data-v-2e966a4f=\"\" height=\"194.8\" width=\"194.8\" xmlns=\"http://www.w3.org/2000/svg\" xmlns:xlink=\"http://www.w3.org/1999/xlink\" version=\"1.1\"><circle cx=\"19.480000000000004\" cy=\"19.47999999999999\" r=\"3\" fill=\"blue\"></circle><circle cx=\"27.682105263157894\" cy=\"25.81897612907059\" r=\"3\" fill=\"blue\"></circle><circle cx=\"35.8842105263158\" cy=\"29.02503228914611\" r=\"3\" fill=\"blue\"></circle><circle cx=\"44.08631578947369\" cy=\"44.94767032480681\" r=\"3\" fill=\"blue\"></circle><circle cx=\"52.288421052631584\" cy=\"37.72984470003658\" r=\"3\" fill=\"blue\"></circle><circle cx=\"60.49052631578949\" cy=\"40.01367980144005\" r=\"3\" fill=\"blue\"></circle><circle cx=\"68.69263157894737\" cy=\"51.14487680109001\" r=\"3\" fill=\"blue\"></circle><circle cx=\"76.89473684210526\" cy=\"53.69168043462726\" r=\"3\" fill=\"blue\"></circle><circle cx=\"85.09684210526316\" cy=\"65.86561000612986\" r=\"3\" fill=\"blue\"></circle><circle cx=\"93.29894736842105\" cy=\"115.77779471205362\" r=\"3\" fill=\"blue\"></circle><circle cx=\"101.50105263157897\" cy=\"63.82850970273988\" r=\"3\" fill=\"blue\"></circle><circle cx=\"109.70315789473685\" cy=\"69.51956507505226\" r=\"3\" fill=\"blue\"></circle><circle cx=\"117.90526315789474\" cy=\"23.922270328961304\" r=\"3\" fill=\"blue\"></circle><circle cx=\"126.10736842105264\" cy=\"115.24414763888666\" r=\"3\" fill=\"blue\"></circle><circle cx=\"134.30947368421053\" cy=\"86.01710791505587\" r=\"3\" fill=\"blue\"></circle><circle cx=\"142.51157894736843\" cy=\"175.32\" r=\"3\" fill=\"blue\"></circle><circle cx=\"150.7136842105263\" cy=\"28.942717000896067\" r=\"3\" fill=\"blue\"></circle><circle cx=\"158.91578947368424\" cy=\"96.28428699244985\" r=\"3\" fill=\"blue\"></circle><circle cx=\"167.11789473684212\" cy=\"110.86456899154524\" r=\"3\" fill=\"blue\"></circle><circle cx=\"175.32\" cy=\"116.77194707880855\" r=\"3\" fill=\"blue\"></circle><polygon points=\"-200,-181.65648933876133 394.8,214.74798940756202 394.8,332.84047831534525 -200,-63.564000430978126\" style=\"fill: rgba(0, 0, 0, 0.298039);\"></polygon><line x1=\"0\" y1=\"82.55255678740174\" x2=\"194.8\" y2=\"82.55255678740174\" style=\"stroke: rgba(0, 0, 0, 0.0980392); stroke-width: 350.83198615114094px;\"></line><line x1=\"-200\" y1=\"-122.61024488486976\" x2=\"394.8\" y2=\"273.7942338614537\" style=\"stroke: rgba(0, 0, 0, 0.701961); stroke-width: 2px;\"></line></svg></div><div data-v-2e966a4f=\"\"><svg data-v-2e966a4f=\"\" height=\"194.8\" width=\"194.8\" xmlns=\"http://www.w3.org/2000/svg\" xmlns:xlink=\"http://www.w3.org/1999/xlink\" version=\"1.1\"><circle cx=\"19.480000000000004\" cy=\"19.47999999999999\" r=\"3\" fill=\"blue\"></circle><circle cx=\"27.682105263157894\" cy=\"25.81897612907059\" r=\"3\" fill=\"blue\"></circle><circle cx=\"35.8842105263158\" cy=\"29.02503228914611\" r=\"3\" fill=\"blue\"></circle><circle cx=\"44.08631578947369\" cy=\"44.94767032480681\" r=\"3\" fill=\"blue\"></circle><circle cx=\"52.288421052631584\" cy=\"37.72984470003658\" r=\"3\" fill=\"blue\"></circle><circle cx=\"60.49052631578949\" cy=\"40.01367980144005\" r=\"3\" fill=\"blue\"></circle><circle cx=\"68.69263157894737\" cy=\"51.14487680109001\" r=\"3\" fill=\"blue\"></circle><circle cx=\"76.89473684210526\" cy=\"53.69168043462726\" r=\"3\" fill=\"blue\"></circle><circle cx=\"85.09684210526316\" cy=\"65.86561000612986\" r=\"3\" fill=\"blue\"></circle><circle cx=\"93.29894736842105\" cy=\"115.77779471205362\" r=\"3\" fill=\"red\"></circle><circle cx=\"101.50105263157897\" cy=\"63.82850970273988\" r=\"3\" fill=\"blue\"></circle><circle cx=\"109.70315789473685\" cy=\"69.51956507505226\" r=\"3\" fill=\"blue\"></circle><circle cx=\"117.90526315789474\" cy=\"23.922270328961304\" r=\"3\" fill=\"red\"></circle><circle cx=\"126.10736842105264\" cy=\"115.24414763888666\" r=\"3\" fill=\"blue\"></circle><circle cx=\"134.30947368421053\" cy=\"86.01710791505587\" r=\"3\" fill=\"blue\"></circle><circle cx=\"142.51157894736843\" cy=\"175.32\" r=\"3\" fill=\"red\"></circle><circle cx=\"150.7136842105263\" cy=\"28.942717000896067\" r=\"3\" fill=\"blue\"></circle><circle cx=\"158.91578947368424\" cy=\"96.28428699244985\" r=\"3\" fill=\"blue\"></circle><circle cx=\"167.11789473684212\" cy=\"110.86456899154524\" r=\"3\" fill=\"blue\"></circle><circle cx=\"175.32\" cy=\"116.77194707880855\" r=\"3\" fill=\"blue\"></circle><polygon points=\"-200,-112.7028325114781 394.8,193.04285058543962 394.8,266.99882962612224 -200,-38.74685347079546\" style=\"fill: rgba(0, 0, 0, 0.298039);\"></polygon><line x1=\"0\" y1=\"82.55255678740174\" x2=\"194.8\" y2=\"82.55255678740174\" style=\"stroke: rgba(0, 0, 0, 0.0980392); stroke-width: 350.83198615114094px;\"></line><line x1=\"-200\" y1=\"-75.72484299113677\" x2=\"394.8\" y2=\"230.02084010578093\" style=\"stroke: rgba(0, 0, 0, 0.701961); stroke-width: 2px;\"></line></svg></div></div></div><style>body, html { margin-left: 0px; margin-right: 0px; }\n",
       "h1[data-v-2e966a4f] { font-family: Avenir, Helvetica, Arial, sans-serif; text-align: center; }\n",
       "#traces[data-v-2e966a4f] { display: flex; -webkit-box-orient: horizontal; -webkit-box-direction: normal; flex-flow: row wrap; }\n",
       "#app { font-family: Avenir, Helvetica, Arial, sans-serif; -webkit-font-smoothing: antialiased; color: rgb(44, 62, 80); }</style>"
      ]
     },
     "metadata": {},
     "output_type": "display_data"
    },
    {
     "name": "stdout",
     "output_type": "stream",
     "text": [
      "Average log probability: -63.159134677588995\n"
     ]
    }
   ],
   "source": [
    "viz = Viz(server, joinpath(@__DIR__, \"regression-viz/dist\"), [xs])\n",
    "log_probs = Vector{Float64}(undef, 10)\n",
    "for i=1:10\n",
    "    (tr, _) = importance_resampling(naive_model, (xs,), observations, 2000)\n",
    "    putTrace!(viz, \"t$(i)\", serialize_trace(tr))\n",
    "    log_probs[i] = get_score(tr)\n",
    "end\n",
    "displayInNotebook(viz)\n",
    "println(\"Average log probability: $(logmeanexp(log_probs))\")"
   ]
  },
  {
   "cell_type": "markdown",
   "metadata": {},
   "source": [
    "We see here that importance sampling hasn't completely failed: it generally finds a reasonable position for the line. But the details are off: there is little logic to the outlier classification, and the inferred noise around the line is too wide. The problem is that there are just too many variables to get right, and so sampling everything in one go is highly unlikely to produce a perfect hit.\n",
    "\n",
    "In the remainder of this notebook, we'll explore techniques for finding the right solution _iteratively_, beginning with an initial guess and making many small changes, until we achieve a reasonable posterior sample."
   ]
  },
  {
   "cell_type": "markdown",
   "metadata": {},
   "source": [
    "## 4. MCMC Inference Part 1: Block Resimulation  <a name=\"mcmc-1\"></a>"
   ]
  },
  {
   "cell_type": "markdown",
   "metadata": {},
   "source": [
    "### What is MCMC?"
   ]
  },
  {
   "cell_type": "markdown",
   "metadata": {},
   "source": [
    "_Markov Chain Monte Carlo_ (\"MCMC\") methods are a powerful family of algorithms for iteratively producing approximate samples from a distribution (when applied to Bayesian inference problems, the posterior distribution of unknown (hidden) model variables given data).\n",
    "\n",
    "There is a rich theory behind MCMC methods, but we focus on applying MCMC in Gen and introducing theoretical ideas only when necessary for understanding. As we will see, Gen provides abstractions that hide and automate much of the math necessary for implementing MCMC algorithms correctly.\n",
    "\n",
    "The general shape of an MCMC algorithm is as follows. We begin by sampling an intial setting of all unobserved variables; in Gen, we produce an initial _trace_ consistent with (but not necessarily _probable_ given) our observations. Then, in a long-running loop, we make small, stochastic changes to the trace; in order for the algorithm to be asymptotically correct, these stochastic updates must satisfy certain probabilistic properties. \n",
    "\n",
    "One common way of ensuring that the updates do satisfy those properties is to compute a _Metropolis-Hastings acceptance ratio_. Essentially, after proposing a change to a trace, we add an \"accept or reject\" step that stochastically decides whether to commit the update or to revert it. This is an over-simplification, but generally speaking, this step ensures we are more likely to accept changes that make our trace fit the observed data better, and to reject ones that make our current trace worse. The algorithm also tries not to go down dead ends: it is more likely to take an exploratory step into a low-probability region if it knows it can easily get back to where it came from.\n",
    "\n",
    "Gen's `metropolis_hastings` function _automatically_ adds this \"accept/reject\" check (including the correct computation of the probability of acceptance or rejection), so that as inference programmers, we need only think about what sorts of updates might be useful to propose. Starting in this section, we'll look at several design patterns for MCMC updates, and how to apply them in Gen."
   ]
  },
  {
   "cell_type": "markdown",
   "metadata": {},
   "source": [
    "### Block Resimulation"
   ]
  },
  {
   "cell_type": "markdown",
   "metadata": {},
   "source": [
    "One of the simplest strategies we can use is called Resimulation MH, and it works as follows.\n",
    "\n",
    "We begin, as in most iterative inference algorithms, by sampling an initial trace from our model, fixing the observed choices to their observed values.\n",
    "\n",
    "```julia\n",
    "# Gen's `initialize` function accepts a model, a tuple of arguments to the model,\n",
    "# and an Assignment representing observations (or constraints to satisfy). It returns\n",
    "# a complete trace consistent with the observations, and an importance weight.\n",
    "(tr, _) = initialize(naive_model, (xs,), observations)\n",
    "```"
   ]
  },
  {
   "cell_type": "markdown",
   "metadata": {},
   "source": [
    "Then, in each iteration of our program, we propose changes to all our model's variables in \"blocks,\" by erasing a set of variables from our current trace and _resimulating_ them from the model. After resimulating each block of choices, we perform an accept/reject step, deciding whether the proposed changes are worth making. \n",
    "\n",
    "```julia\n",
    "# Pseudocode\n",
    "for iter=1:500\n",
    "    tr = maybe_update_block_1(tr)\n",
    "    tr = maybe_update_block_2(tr)\n",
    "    ...\n",
    "    tr = maybe_update_block_n(tr)\n",
    "end\n",
    "```\n",
    "\n",
    "The main design choice in designing a Block Resimulation MH algorithm is how to block the choices together for resimulation. At one extreme, we could put each random choice the model makes in its own block. At the other, we could put all variables into a single block (a strategy sometimes called \"independent\" MH, and which bears a strong similarity to importance resampling, as it involves repeatedly generating completely new traces and deciding whether to keep them or not). Usually, the right thing to do is somewhere in between.\n",
    "\n",
    "For the regression problem, here is one possible blocking of choices:\n",
    "\n",
    "**Block 1: `slope`, `intercept`, and `noise`.** These parameters determine the linear relationship; resimulating them is like picking a new line. We know from our importance sampling experiment above that before too long, we're bound to sample something close to the right line.\n",
    "\n",
    "**Blocks 2-N+1: Each `is_outlier`, in its own block.** One problem we saw with importance sampling in this problem was that it tried to sample _every_ outlier classification at once, when in reality the chances of a single sample that correctly classifies all the points are very low. Here, we can choose to resimulate each `is_outlier` choice separately, and for each one, decide whether to use the resimulated value or not.\n",
    "\n",
    "**Block N+2: `prob_outlier`.** Finally, we can propose a new `prob_outlier` value; in general, we can expect to accept the proposal when it is line with the current hypothesized proportion of `is_outlier` choices that are set to `true`.\n",
    "\n",
    "Resimulating a block of variables is the simplest form of update that Gen's `metropolis_hastings` operator (or `mh` for short) supports. When supplied with a _current trace_ and a _selection_ of trace addresses to resimulate, `mh` performs the resimulation and the appropriate accept/reject check, then returns a possibly updated trace. A selection is created using the `select` method. So a single update of the scheme we proposed above would look like this:"
   ]
  },
  {
   "cell_type": "code",
   "execution_count": 11,
   "metadata": {},
   "outputs": [],
   "source": [
    "# Perform a single block resimulation update of a trace.\n",
    "function block_resimulation_update(tr)\n",
    "    # Block 1: Update the line's parameters\n",
    "    line_params = select(:noise, :slope, :intercept)\n",
    "    (tr, _) = mh(tr, line_params)\n",
    "    \n",
    "    # Blocks 2-N+1: Update the outlier classifications\n",
    "    (xs,) = get_args(tr)\n",
    "    n = length(xs)\n",
    "    for i=1:n\n",
    "        (tr, _) = mh(tr, select(:data => i => :is_outlier))\n",
    "    end\n",
    "    \n",
    "    # Block N+2: Update the prob_outlier parameter\n",
    "    (tr, _) = mh(tr, select(:prob_outlier))\n",
    "    \n",
    "    # Return the updated trace\n",
    "    tr\n",
    "end;"
   ]
  },
  {
   "cell_type": "markdown",
   "metadata": {},
   "source": [
    "All that's left is to (a) obtain an initial trace, and then (b) run that update in a loop for as long as we'd like:"
   ]
  },
  {
   "cell_type": "code",
   "execution_count": 12,
   "metadata": {},
   "outputs": [],
   "source": [
    "function block_resimulation_inference(xs, ys)\n",
    "    observations = make_constraints(ys)\n",
    "    (tr, _) = initialize(naive_model, (xs,), observations)\n",
    "    for iter=1:500\n",
    "        tr = block_resimulation_update(tr)\n",
    "    end\n",
    "    tr\n",
    "end;"
   ]
  },
  {
   "cell_type": "markdown",
   "metadata": {},
   "source": [
    "Let's test it out:"
   ]
  },
  {
   "cell_type": "code",
   "execution_count": 13,
   "metadata": {},
   "outputs": [
    {
     "name": "stdout",
     "output_type": "stream",
     "text": [
      "  1.323228 seconds (12.49 M allocations: 1.201 GiB, 10.07% gc time)\n",
      "  0.888181 seconds (11.47 M allocations: 1.152 GiB, 13.97% gc time)\n",
      "  0.906826 seconds (11.47 M allocations: 1.152 GiB, 13.73% gc time)\n",
      "  0.871780 seconds (11.47 M allocations: 1.152 GiB, 13.84% gc time)\n",
      "  0.831244 seconds (11.47 M allocations: 1.152 GiB, 14.21% gc time)\n",
      "  0.906866 seconds (11.47 M allocations: 1.152 GiB, 13.74% gc time)\n",
      "  0.905856 seconds (11.47 M allocations: 1.152 GiB, 13.71% gc time)\n",
      "  0.886582 seconds (11.47 M allocations: 1.152 GiB, 13.91% gc time)\n",
      "  0.914187 seconds (11.47 M allocations: 1.152 GiB, 13.92% gc time)\n",
      "  0.925114 seconds (11.47 M allocations: 1.152 GiB, 13.72% gc time)\n",
      "Log probability: -50.22777120732691\n"
     ]
    }
   ],
   "source": [
    "scores = Vector{Float64}(undef, 10)\n",
    "for i=1:10\n",
    "    @time tr = block_resimulation_inference(xs, ys)\n",
    "    scores[i] = get_score(tr)\n",
    "end\n",
    "println(\"Log probability: \", logmeanexp(scores))"
   ]
  },
  {
   "cell_type": "markdown",
   "metadata": {},
   "source": [
    "We note that this is significantly better than importance sampling, even if we run importance sampling for about the same amount of (wall-clock) time per sample:"
   ]
  },
  {
   "cell_type": "code",
   "execution_count": 14,
   "metadata": {},
   "outputs": [
    {
     "name": "stdout",
     "output_type": "stream",
     "text": [
      "  0.985816 seconds (12.21 M allocations: 1.204 GiB, 13.70% gc time)\n",
      "  0.969675 seconds (12.21 M allocations: 1.204 GiB, 13.27% gc time)\n",
      "  1.016811 seconds (12.21 M allocations: 1.204 GiB, 13.22% gc time)\n",
      "  0.993319 seconds (12.21 M allocations: 1.204 GiB, 13.66% gc time)\n",
      "  0.975582 seconds (12.21 M allocations: 1.204 GiB, 13.47% gc time)\n",
      "  0.977140 seconds (12.21 M allocations: 1.204 GiB, 13.76% gc time)\n",
      "  0.991059 seconds (12.21 M allocations: 1.204 GiB, 13.70% gc time)\n",
      "  0.968641 seconds (12.21 M allocations: 1.204 GiB, 13.59% gc time)\n",
      "  1.009937 seconds (12.21 M allocations: 1.204 GiB, 13.96% gc time)\n",
      "  0.974632 seconds (12.21 M allocations: 1.204 GiB, 13.81% gc time)\n",
      "Log probability: -65.28199934822558\n"
     ]
    }
   ],
   "source": [
    "scores = Vector{Float64}(undef, 10)\n",
    "for i=1:10\n",
    "    @time (tr, _) = importance_resampling(naive_model, (xs,), observations, 17000)\n",
    "    scores[i] = get_score(tr)\n",
    "end\n",
    "println(\"Log probability: \", logmeanexp(scores))"
   ]
  },
  {
   "cell_type": "markdown",
   "metadata": {},
   "source": [
    "It's one thing to see a log probability increase; it's better to understand what the inference algorithm is actually doing, and to see _why_ it's doing better.\n",
    "\n",
    "A great tool for debugging and improving MCMC algorithms is visualization. We can use GenViz's `displayInNotebook(viz) do ... end` syntax to produce an animated visualization:"
   ]
  },
  {
   "cell_type": "code",
   "execution_count": 15,
   "metadata": {
    "scrolled": false
   },
   "outputs": [
    {
     "data": {
      "text/html": [
       "<div data-v-2e966a4f=\"\"><h1 data-v-2e966a4f=\"\">Traces</h1><div data-v-2e966a4f=\"\" id=\"traces\"><div data-v-2e966a4f=\"\"><svg data-v-2e966a4f=\"\" height=\"500\" width=\"500\" xmlns=\"http://www.w3.org/2000/svg\" xmlns:xlink=\"http://www.w3.org/1999/xlink\" version=\"1.1\"><circle cx=\"50\" cy=\"50\" r=\"3\" fill=\"blue\"></circle><circle cx=\"71.05263157894737\" cy=\"66.27047261055083\" r=\"3\" fill=\"blue\"></circle><circle cx=\"92.10526315789474\" cy=\"74.49956953066254\" r=\"3\" fill=\"blue\"></circle><circle cx=\"113.15789473684211\" cy=\"115.36876366736863\" r=\"3\" fill=\"blue\"></circle><circle cx=\"134.21052631578948\" cy=\"96.84251719721914\" r=\"3\" fill=\"blue\"></circle><circle cx=\"155.26315789473688\" cy=\"102.704516944148\" r=\"3\" fill=\"blue\"></circle><circle cx=\"176.31578947368422\" cy=\"131.27535113216123\" r=\"3\" fill=\"blue\"></circle><circle cx=\"197.36842105263156\" cy=\"137.81232144411513\" r=\"3\" fill=\"blue\"></circle><circle cx=\"218.42105263157893\" cy=\"169.059573937705\" r=\"3\" fill=\"blue\"></circle><circle cx=\"239.4736842105263\" cy=\"297.1709309857639\" r=\"3\" fill=\"red\"></circle><circle cx=\"260.52631578947376\" cy=\"163.83087706042068\" r=\"3\" fill=\"blue\"></circle><circle cx=\"281.57894736842104\" cy=\"178.43830871419988\" r=\"3\" fill=\"blue\"></circle><circle cx=\"302.63157894736844\" cy=\"61.4021312345003\" r=\"3\" fill=\"red\"></circle><circle cx=\"323.6842105263158\" cy=\"295.8012003051506\" r=\"3\" fill=\"red\"></circle><circle cx=\"344.7368421052631\" cy=\"220.78313119880875\" r=\"3\" fill=\"blue\"></circle><circle cx=\"365.7894736842105\" cy=\"450\" r=\"3\" fill=\"red\"></circle><circle cx=\"386.84210526315786\" cy=\"74.28828798997966\" r=\"3\" fill=\"red\"></circle><circle cx=\"407.89473684210526\" cy=\"247.13626024756127\" r=\"3\" fill=\"blue\"></circle><circle cx=\"428.9473684210526\" cy=\"284.5599820111531\" r=\"3\" fill=\"blue\"></circle><circle cx=\"450\" cy=\"299.7226567731226\" r=\"3\" fill=\"red\"></circle><polygon points=\"-200,-92.82406359627419 700,375.7716256503419 700,427.04010682285053 -200,-41.55558242376554\" style=\"fill: rgba(0, 0, 0, 0.298039);\"></polygon><line x1=\"0\" y1=\"211.89054616889567\" x2=\"500\" y2=\"211.89054616889567\" style=\"stroke: rgba(0, 0, 0, 0.0980392); stroke-width: 900.492777595331px;\"></line><line x1=\"-200\" y1=\"-67.18982301001995\" x2=\"700\" y2=\"401.40586623659624\" style=\"stroke: rgba(0, 0, 0, 0.701961); stroke-width: 2px;\"></line></svg></div></div></div><style>body, html { margin-left: 0px; margin-right: 0px; }\n",
       "h1[data-v-2e966a4f] { font-family: Avenir, Helvetica, Arial, sans-serif; text-align: center; }\n",
       "#traces[data-v-2e966a4f] { display: flex; -webkit-box-orient: horizontal; -webkit-box-direction: normal; flex-flow: row wrap; }\n",
       "#app { font-family: Avenir, Helvetica, Arial, sans-serif; -webkit-font-smoothing: antialiased; color: rgb(44, 62, 80); }</style>"
      ]
     },
     "metadata": {},
     "output_type": "display_data"
    }
   ],
   "source": [
    "viz = Viz(server, joinpath(@__DIR__, \"regression-viz/dist\"), [xs, ys])\n",
    "Random.seed!(2)\n",
    "displayInNotebook(viz) do\n",
    "    (tr, _) = initialize(naive_model, (xs,), observations)\n",
    "    putTrace!(viz, \"t\", serialize_trace(tr))\n",
    "    for iter = 1:500\n",
    "        tr = block_resimulation_update(tr)\n",
    "        \n",
    "        # Visualize and sleep for clearer animation\n",
    "        putTrace!(viz, \"t\", serialize_trace(tr))\n",
    "        sleep(0.01)\n",
    "    end\n",
    "end"
   ]
  },
  {
   "cell_type": "markdown",
   "metadata": {},
   "source": [
    "## 5. Interlude: More efficient inference with Argdiffs and Combinators  <a name=\"more-efficient\"></a>"
   ]
  },
  {
   "cell_type": "markdown",
   "metadata": {},
   "source": [
    "Before we go further, let's do some performance tuning of our model, that will pay off in any inference algorithm we write. This section is optional, and the rest of the tutorial can be understood without it: feel free to run the code blocks without reading them, and then move on to section 6."
   ]
  },
  {
   "cell_type": "markdown",
   "metadata": {},
   "source": [
    "### Preliminaries: calling one generative function from another"
   ]
  },
  {
   "cell_type": "markdown",
   "metadata": {},
   "source": [
    "In Section 1, we wrote our model as one big generative function. But we can also build models up from smaller generative functions. For example, here's a generative function that samples a single data point, given an `x` coordinate and the parameters of the model:"
   ]
  },
  {
   "cell_type": "code",
   "execution_count": 16,
   "metadata": {},
   "outputs": [],
   "source": [
    "@gen function generate_single_point(x::Float64, prob_outlier::Float64,\n",
    "    noise::Float64, slope::Float64, intercept::Float64)::Float64\n",
    "    if @addr(bernoulli(prob_outlier), :is_outlier)\n",
    "        (mu, std) = (0., 10.)\n",
    "    else\n",
    "        (mu, std) = (x * slope + intercept, noise)\n",
    "    end\n",
    "    return @addr(normal(mu, std), :y)\n",
    "end;"
   ]
  },
  {
   "cell_type": "markdown",
   "metadata": {},
   "source": [
    "Then, inside our model, we can write:\n",
    "\n",
    "```julia\n",
    "for i=1:n\n",
    "    @addr(generate_single_point(xs[i], prob_outlier, noise, \n",
    "            slope, intercept), :data => i)\n",
    "end\n",
    "```\n",
    "\n",
    "Notice that\n",
    "\n",
    "1. We can use `@addr` with `generate_single_point` in the same way we use it with distributions like `normal` or `bernoulli`.\n",
    "2. The address we pass, `:data => i`, is like a _namespace_ under which the addressed choices made by the callee will be stored. So, just like before, for each `i`, we can expect to see `:data => i => :is_outlier` and `:data => i => :y` in the trace."
   ]
  },
  {
   "cell_type": "markdown",
   "metadata": {},
   "source": [
    "But when provided with a _generative function_ (rather than just a _distribution_), `@addr` gains an extra power: it can optionally accept an `argdiff`. Taking advantage of this capability can help to achieve significant performance enhancements, the topic of our next discussion."
   ]
  },
  {
   "cell_type": "markdown",
   "metadata": {},
   "source": [
    "### Incremental computation with Argdiffs"
   ]
  },
  {
   "cell_type": "markdown",
   "metadata": {},
   "source": [
    "When Gen's `mh` helper functions are evaluating proposed changes, they need to calculate a measure of how likely the observed data are under the new proposed trace as compared to the old one. This can be expensive. For example, if we propose a new slope for the line in our regression model, Gen must visit every data point and reevaluate how likely that point is, given the new line. But sometimes, we'd expect Gen to be able to take shortcuts. For example, if we propose a change to the the outlier classification of a single point, Gen should need to recalculate only that point's likelihood: nothing else is affected by our change. Unfortunately, as it is, Gen doesn't know enough about our model to implement this optimization.\n",
    "\n",
    "This is why, when we call a generative function with `@addr`, we may wish to pass an `argdiff` argument after the trace address. Its job is to tell Gen: the arguments to this function have (or have not) changed, so you do (or do not) need to enter the function during an update. Argdiffs can take various forms, but for now, we'll limit ourselves to two cases: the constant `noargdiff`, which indicates that no arguments have changed, and the constant `unknownargdiff`, which indicates that we don't know."
   ]
  },
  {
   "cell_type": "code",
   "execution_count": 17,
   "metadata": {},
   "outputs": [],
   "source": [
    "function compute_argdiff(slope_diff, intercept_diff, prob_outlier_diff, noise_diff)\n",
    "    if all([c == NoChoiceDiff() for c in [\n",
    "            noise_diff, slope_diff, prob_outlier_diff, intercept_diff]])\n",
    "        noargdiff\n",
    "    else\n",
    "        unknownargdiff\n",
    "    end\n",
    "end\n",
    "    \n",
    "@gen function better_model(xs::Vector{Float64})\n",
    "    # First, sample the global parameters, as before\n",
    "    slope = @addr(normal(0, 2), :slope)\n",
    "    intercept = @addr(normal(0, 2), :intercept)\n",
    "    noise = @addr(gamma(1, 1), :noise)\n",
    "    prob_outlier = @addr(uniform(0, 1), :prob_outlier)\n",
    "    \n",
    "    # Next, call generate_all_points on vector versions of the generate_point arguments.\n",
    "    # For the arguments that are the same for all points, we use Julia's `fill` method to \n",
    "    # create a vector of identical arguments.\n",
    "    n = length(xs)\n",
    "    @diff argdiff = compute_argdiff(\n",
    "        @choicediff(:slope),\n",
    "        @choicediff(:intercept),\n",
    "        @choicediff(:prob_outlier),\n",
    "        @choicediff(:noise))\n",
    "    for i=1:n\n",
    "        @addr(generate_single_point(xs[i],prob_outlier,noise,slope,intercept), \n",
    "                :data => i, argdiff)\n",
    "    end\n",
    "end;"
   ]
  },
  {
   "cell_type": "markdown",
   "metadata": {},
   "source": [
    "The code prefixed by `@diff` will be run only during an update. Within a `@diff` block, `@choicediff` allows us to ask whether a certain choice has been updated since the last run. Here, we check if any of the parameters have changed; if not, we return `noargdiff`, and otherwise, `unknownargdiff`."
   ]
  },
  {
   "cell_type": "markdown",
   "metadata": {},
   "source": [
    "### The Map Combinator"
   ]
  },
  {
   "cell_type": "markdown",
   "metadata": {},
   "source": [
    "We can _really_ speed things up by making use of another Gen features: combinators. Combinators encapsulate common modeling patterns (e.g., a loop in which each iteration is making independent choices), and when you use them, Gen can take advantage of the restrictions they enforce to implement performance optimizations automatically during inference.\n",
    "\n",
    "Let's rewrite our model to get rid of the for loop and instead use the `Map` combinator — which, like the `map` function in a functional programming language, helps to execute the same generative code repeatedly. "
   ]
  },
  {
   "cell_type": "markdown",
   "metadata": {},
   "source": [
    "When applied to the existing generative function `generate_single_point`, `Map` produces a version of the function that accepts _vector_ arguments, instead of single numbers, and applies `generate_single_point` to the arguments at each index to produce a vector of return values:"
   ]
  },
  {
   "cell_type": "code",
   "execution_count": 18,
   "metadata": {},
   "outputs": [],
   "source": [
    "generate_all_points = Map(generate_single_point);"
   ]
  },
  {
   "cell_type": "markdown",
   "metadata": {},
   "source": [
    "We can then modify our top-level model to call `generate_all_points` instead of using a `for` loop:\n",
    "\n",
    "```julia\n",
    "# Call generate_all_points on vector versions of the \n",
    "# generate_point arguments. For the arguments that are \n",
    "# the same for all points, we use Julia's `fill` method \n",
    "# to create a vector of identical arguments.\n",
    "n = length(xs)\n",
    "ys = @addr(generate_all_points(xs, fill(prob_outlier, n), \n",
    "        fill(noise, n), fill(slope, n), fill(intercept, n)), \n",
    "    :data, argdiff)\n",
    "```"
   ]
  },
  {
   "cell_type": "markdown",
   "metadata": {},
   "source": [
    "The `Map` combinator automatically adds indices to the trace address, so for example, the 5th data point's $y$ coordinate will be stored at the address `:data => 5 => :y`, just as before. (The `:data` comes from our `@addr` invocation in the `better_model` definition, and the `:y` comes from `generate_point`; only the `5` has been inserted automatically by `Map`.)"
   ]
  },
  {
   "cell_type": "markdown",
   "metadata": {},
   "source": [
    "All together, our final model looks like this:"
   ]
  },
  {
   "cell_type": "code",
   "execution_count": 19,
   "metadata": {},
   "outputs": [],
   "source": [
    "@gen function better_model(xs::Vector{Float64})\n",
    "    # First, sample the global parameters, as before\n",
    "    slope = @addr(normal(0, 2), :slope)\n",
    "    intercept = @addr(normal(0, 2), :intercept)\n",
    "    noise = @addr(gamma(1, 1), :noise)\n",
    "    prob_outlier = @addr(uniform(0, 1), :prob_outlier)\n",
    "    \n",
    "    # Next, call generate_all_points on vector versions of the generate_point arguments.\n",
    "    # For the arguments that are the same for all points, we use Julia's `fill` method to \n",
    "    # create a vector of identical arguments.\n",
    "    n = length(xs)\n",
    "    @diff argdiff = compute_argdiff(\n",
    "        @choicediff(:slope),\n",
    "        @choicediff(:intercept),\n",
    "        @choicediff(:prob_outlier),\n",
    "        @choicediff(:noise))\n",
    "    ys = @addr(generate_all_points(xs, fill(prob_outlier, n), fill(noise, n), fill(slope, n), fill(intercept, n)), :data, argdiff)\n",
    "end;"
   ]
  },
  {
   "cell_type": "markdown",
   "metadata": {},
   "source": [
    "Since the trace addresses are all the same as before, everything we've written in our inference programs should \"just work\" with our new model.  But MH-based inference programs should run quite a lot faster:"
   ]
  },
  {
   "cell_type": "code",
   "execution_count": 20,
   "metadata": {},
   "outputs": [
    {
     "name": "stdout",
     "output_type": "stream",
     "text": [
      "  1.965312 seconds (8.58 M allocations: 602.273 MiB, 5.51% gc time)\n",
      "  0.293937 seconds (4.50 M allocations: 396.571 MiB, 17.39% gc time)\n",
      "  0.347467 seconds (4.50 M allocations: 396.571 MiB, 15.91% gc time)\n",
      "  0.336088 seconds (4.51 M allocations: 396.573 MiB, 15.95% gc time)\n",
      "  0.344812 seconds (4.51 M allocations: 396.572 MiB, 16.54% gc time)\n",
      "  0.330905 seconds (4.51 M allocations: 396.572 MiB, 15.93% gc time)\n",
      "  0.332139 seconds (4.51 M allocations: 396.571 MiB, 15.93% gc time)\n",
      "  0.313343 seconds (4.51 M allocations: 396.573 MiB, 16.27% gc time)\n",
      "  0.338339 seconds (4.51 M allocations: 396.573 MiB, 15.95% gc time)\n",
      "  0.314486 seconds (4.51 M allocations: 396.572 MiB, 16.10% gc time)\n",
      "-47.77935298881929\n"
     ]
    }
   ],
   "source": [
    "function block_resimulation_inference_better(xs, ys)\n",
    "    observations = make_constraints(ys)\n",
    "    (tr, _) = initialize(better_model, (xs,), observations)\n",
    "    for iter=1:500\n",
    "        tr = block_resimulation_update(tr)\n",
    "    end\n",
    "    w = project(tr, select([:data => i => :y for i in 1:length(xs)]...))\n",
    "    (tr, w)\n",
    "end\n",
    "\n",
    "scores = Vector{Float64}(undef, 10)\n",
    "for i=1:10\n",
    "    @time (tr, w) = block_resimulation_inference_better(xs, ys)\n",
    "    scores[i] = get_score(tr)\n",
    "end\n",
    "println(logmeanexp(scores))"
   ]
  },
  {
   "cell_type": "markdown",
   "metadata": {},
   "source": [
    "This is not just a constant 3x speedup. It also changes the order of growth. Consider a dataset with 50 points:"
   ]
  },
  {
   "cell_type": "code",
   "execution_count": 21,
   "metadata": {},
   "outputs": [],
   "source": [
    "(xs, ys) = make_synthetic_dataset(50);"
   ]
  },
  {
   "cell_type": "markdown",
   "metadata": {},
   "source": [
    "Using the old model, it takes _much_ longer to do inference:"
   ]
  },
  {
   "cell_type": "code",
   "execution_count": 22,
   "metadata": {},
   "outputs": [
    {
     "name": "stdout",
     "output_type": "stream",
     "text": [
      "  5.888866 seconds (61.70 M allocations: 6.391 GiB, 14.28% gc time)\n"
     ]
    }
   ],
   "source": [
    "@time block_resimulation_inference(xs, ys);"
   ]
  },
  {
   "cell_type": "markdown",
   "metadata": {},
   "source": [
    "Let's try it with the new model:"
   ]
  },
  {
   "cell_type": "code",
   "execution_count": 23,
   "metadata": {},
   "outputs": [
    {
     "name": "stdout",
     "output_type": "stream",
     "text": [
      "  0.938845 seconds (12.01 M allocations: 1.019 GiB, 15.65% gc time)\n"
     ]
    }
   ],
   "source": [
    "@time block_resimulation_inference_better(xs, ys);"
   ]
  },
  {
   "cell_type": "markdown",
   "metadata": {},
   "source": [
    "Let's go back to our old dataset:"
   ]
  },
  {
   "cell_type": "code",
   "execution_count": 24,
   "metadata": {},
   "outputs": [],
   "source": [
    "(xs, ys) = make_synthetic_dataset(20)\n",
    "observations = make_constraints(ys);"
   ]
  },
  {
   "cell_type": "markdown",
   "metadata": {},
   "source": [
    "## 6. MCMC Inference Part 2: Gaussian Drift MH  <a name=\"mcmc-2\"></a>"
   ]
  },
  {
   "cell_type": "markdown",
   "metadata": {},
   "source": [
    "So far, we've seen one form of incremental trace update:\n",
    "\n",
    "```julia\n",
    "(tr, did_accept) = mh(tr, select(:address1, :address2, ...))\n",
    "```\n",
    "\n",
    "This update is incremental in that it only proposes changes to part of a trace (the selected addresses). But when computing _what_ changes to propose, it ignores the current state completely and resimulates all-new values from the model.\n",
    "\n",
    "That wholesale resimulation of values is often not the best way to search for improvements. To that end, Gen also offers a more general flavor of MH:\n",
    "\n",
    "```julia\n",
    "(tr, did_accept) = mh(tr, custom_proposal, custom_proposal_args)\n",
    "```\n",
    "\n",
    "A \"custom proposal\" is just what it sounds like: whereas before, we were using the _default resimulation proposal_ to come up with new values for the selected addresses, we can now pass in a generative function that samples proposed values however it wants.\n",
    "\n",
    "For example, here is a custom proposal that takes in a current trace, and proposes a new slope and intercept by randomly perturbing the existing values:"
   ]
  },
  {
   "cell_type": "code",
   "execution_count": 25,
   "metadata": {},
   "outputs": [],
   "source": [
    "@gen function line_proposal(trace)\n",
    "    choices = get_assmt(trace)\n",
    "    slope = @addr(normal(choices[:slope], 0.5), :slope)\n",
    "    intercept = @addr(normal(choices[:intercept], 0.5), :intercept)\n",
    "end;"
   ]
  },
  {
   "cell_type": "markdown",
   "metadata": {},
   "source": [
    "This is often called a \"Gaussian drift\" proposal, because it essentially amounts to proposing steps of a random walk. (What makes it different from a random walk is that we will still use an MH accept/reject step to make sure we don't wander into areas of very low probability.)"
   ]
  },
  {
   "cell_type": "markdown",
   "metadata": {},
   "source": [
    "To use the proposal, we write:\n",
    "\n",
    "```julia\n",
    "(tr, did_accept) = mh(tr, line_proposal, ())\n",
    "```\n",
    "\n",
    "Two things to note:\n",
    "1. We no longer need to pass a selection of addresses. Instead, Gen assumes that whichever addresses are sampled by the proposal (in this case, `:slope` and `:intercept`) are being proposed to.\n",
    "2. The argument list to the proposal is an empty tuple, `()`. The `line_proposal` generative function does expect an argument, the previous trace, but this is supplied automatically to all MH custom proposals."
   ]
  },
  {
   "cell_type": "markdown",
   "metadata": {},
   "source": [
    "Let's swap it into our update:"
   ]
  },
  {
   "cell_type": "code",
   "execution_count": 26,
   "metadata": {},
   "outputs": [],
   "source": [
    "function gaussian_drift_update(tr)\n",
    "    # Gaussian drift on line params\n",
    "    (tr, _) = mh(tr, line_proposal, ())\n",
    "    \n",
    "    # Block resimulation: Update the outlier classifications\n",
    "    (xs,) = get_args(tr)\n",
    "    n = length(xs)\n",
    "    for i=1:n\n",
    "        (tr, _) = mh(tr, select(:data => i => :is_outlier))\n",
    "    end\n",
    "    \n",
    "    # Block resimulation: Update the prob_outlier parameter\n",
    "    (tr, w) = mh(tr, select(:prob_outlier))\n",
    "    (tr, w) = mh(tr, select(:noise))\n",
    "    tr\n",
    "end;"
   ]
  },
  {
   "cell_type": "markdown",
   "metadata": {},
   "source": [
    "If we compare the Gaussian Drift proposal visually with our old algorithm, we can see how the new behavior helps:"
   ]
  },
  {
   "cell_type": "code",
   "execution_count": 27,
   "metadata": {
    "scrolled": false
   },
   "outputs": [
    {
     "data": {
      "text/html": [
       "<div data-v-2e966a4f=\"\"><h1 data-v-2e966a4f=\"\">Traces</h1><div data-v-2e966a4f=\"\" id=\"traces\"><div data-v-2e966a4f=\"\"><svg data-v-2e966a4f=\"\" height=\"487\" width=\"487\" xmlns=\"http://www.w3.org/2000/svg\" xmlns:xlink=\"http://www.w3.org/1999/xlink\" version=\"1.1\"><circle cx=\"48.7\" cy=\"48.69999999999999\" r=\"3\" fill=\"blue\"></circle><circle cx=\"69.20526315789473\" cy=\"64.5474403226765\" r=\"3\" fill=\"blue\"></circle><circle cx=\"89.71052631578948\" cy=\"72.56258072286533\" r=\"3\" fill=\"blue\"></circle><circle cx=\"110.21578947368421\" cy=\"112.36917581201703\" r=\"3\" fill=\"red\"></circle><circle cx=\"130.72105263157897\" cy=\"94.32461175009144\" r=\"3\" fill=\"blue\"></circle><circle cx=\"151.2263157894737\" cy=\"100.03419950360018\" r=\"3\" fill=\"blue\"></circle><circle cx=\"171.7315789473684\" cy=\"127.86219200272507\" r=\"3\" fill=\"blue\"></circle><circle cx=\"192.23684210526318\" cy=\"134.22920108656814\" r=\"3\" fill=\"blue\"></circle><circle cx=\"212.7421052631579\" cy=\"164.66402501532463\" r=\"3\" fill=\"blue\"></circle><circle cx=\"233.2473684210526\" cy=\"289.44448678013407\" r=\"3\" fill=\"red\"></circle><circle cx=\"253.7526315789474\" cy=\"159.57127425684973\" r=\"3\" fill=\"blue\"></circle><circle cx=\"274.2578947368421\" cy=\"173.79891268763066\" r=\"3\" fill=\"blue\"></circle><circle cx=\"294.7631578947368\" cy=\"59.80567582240326\" r=\"3\" fill=\"red\"></circle><circle cx=\"315.2684210526316\" cy=\"288.1103690972167\" r=\"3\" fill=\"red\"></circle><circle cx=\"335.7736842105263\" cy=\"215.0427697876397\" r=\"3\" fill=\"blue\"></circle><circle cx=\"356.2789473684211\" cy=\"438.3\" r=\"3\" fill=\"red\"></circle><circle cx=\"376.7842105263158\" cy=\"72.35679250224018\" r=\"3\" fill=\"red\"></circle><circle cx=\"397.2894736842105\" cy=\"240.71071748112468\" r=\"3\" fill=\"blue\"></circle><circle cx=\"417.79473684210524\" cy=\"277.1614224788631\" r=\"3\" fill=\"blue\"></circle><circle cx=\"438.3\" cy=\"291.9298676970214\" r=\"3\" fill=\"blue\"></circle><polygon points=\"-200,-119.27322222881395 687,410.04843982045577 687,449.1825476212922 -200,-80.13911442797752\" style=\"fill: rgba(0, 0, 0, 0.298039);\"></polygon><line x1=\"0\" y1=\"206.38139196850437\" x2=\"487\" y2=\"206.38139196850437\" style=\"stroke: rgba(0, 0, 0, 0.0980392); stroke-width: 877.0799653778523px;\"></line><line x1=\"-200\" y1=\"-99.70616832839556\" x2=\"687\" y2=\"429.615493720874\" style=\"stroke: rgba(0, 0, 0, 0.701961); stroke-width: 2px;\"></line></svg></div><div data-v-2e966a4f=\"\"><svg data-v-2e966a4f=\"\" height=\"487\" width=\"487\" xmlns=\"http://www.w3.org/2000/svg\" xmlns:xlink=\"http://www.w3.org/1999/xlink\" version=\"1.1\"><circle cx=\"48.7\" cy=\"48.69999999999999\" r=\"3\" fill=\"blue\"></circle><circle cx=\"69.20526315789473\" cy=\"64.5474403226765\" r=\"3\" fill=\"blue\"></circle><circle cx=\"89.71052631578948\" cy=\"72.56258072286533\" r=\"3\" fill=\"blue\"></circle><circle cx=\"110.21578947368421\" cy=\"112.36917581201703\" r=\"3\" fill=\"red\"></circle><circle cx=\"130.72105263157897\" cy=\"94.32461175009144\" r=\"3\" fill=\"blue\"></circle><circle cx=\"151.2263157894737\" cy=\"100.03419950360018\" r=\"3\" fill=\"blue\"></circle><circle cx=\"171.7315789473684\" cy=\"127.86219200272507\" r=\"3\" fill=\"blue\"></circle><circle cx=\"192.23684210526318\" cy=\"134.22920108656814\" r=\"3\" fill=\"blue\"></circle><circle cx=\"212.7421052631579\" cy=\"164.66402501532463\" r=\"3\" fill=\"blue\"></circle><circle cx=\"233.2473684210526\" cy=\"289.44448678013407\" r=\"3\" fill=\"blue\"></circle><circle cx=\"253.7526315789474\" cy=\"159.57127425684973\" r=\"3\" fill=\"blue\"></circle><circle cx=\"274.2578947368421\" cy=\"173.79891268763066\" r=\"3\" fill=\"blue\"></circle><circle cx=\"294.7631578947368\" cy=\"59.80567582240326\" r=\"3\" fill=\"red\"></circle><circle cx=\"315.2684210526316\" cy=\"288.1103690972167\" r=\"3\" fill=\"blue\"></circle><circle cx=\"335.7736842105263\" cy=\"215.0427697876397\" r=\"3\" fill=\"blue\"></circle><circle cx=\"356.2789473684211\" cy=\"438.3\" r=\"3\" fill=\"red\"></circle><circle cx=\"376.7842105263158\" cy=\"72.35679250224018\" r=\"3\" fill=\"red\"></circle><circle cx=\"397.2894736842105\" cy=\"240.71071748112468\" r=\"3\" fill=\"blue\"></circle><circle cx=\"417.79473684210524\" cy=\"277.1614224788631\" r=\"3\" fill=\"blue\"></circle><circle cx=\"438.3\" cy=\"291.9298676970214\" r=\"3\" fill=\"blue\"></circle><polygon points=\"-200,-236.11720737312936 687,250.9439777354688 687,511.3229169946848 -200,24.261731886086693\" style=\"fill: rgba(0, 0, 0, 0.298039);\"></polygon><line x1=\"0\" y1=\"206.38139196850437\" x2=\"487\" y2=\"206.38139196850437\" style=\"stroke: rgba(0, 0, 0, 0.0980392); stroke-width: 877.0799653778523px;\"></line><line x1=\"-200\" y1=\"-105.92773774352139\" x2=\"687\" y2=\"381.1334473650768\" style=\"stroke: rgba(0, 0, 0, 0.701961); stroke-width: 2px;\"></line></svg></div></div></div><style>body, html { margin-left: 0px; margin-right: 0px; }\n",
       "h1[data-v-2e966a4f] { font-family: Avenir, Helvetica, Arial, sans-serif; text-align: center; }\n",
       "#traces[data-v-2e966a4f] { display: flex; -webkit-box-orient: horizontal; -webkit-box-direction: normal; flex-flow: row wrap; }\n",
       "#app { font-family: Avenir, Helvetica, Arial, sans-serif; -webkit-font-smoothing: antialiased; color: rgb(44, 62, 80); }</style>"
      ]
     },
     "metadata": {},
     "output_type": "display_data"
    }
   ],
   "source": [
    "viz = Viz(server, joinpath(@__DIR__, \"regression-viz/dist\"), [xs, ys])\n",
    "\n",
    "# Set random seed for a reproducible animation\n",
    "Random.seed!(35)\n",
    "\n",
    "# Create the animation\n",
    "displayInNotebook(viz) do\n",
    "    # Get an initial trace\n",
    "    (tr1, _) = initialize(better_model, (xs,), observations)\n",
    "    tr2 = tr1\n",
    "    \n",
    "    # Visualize the initial trace twice\n",
    "    putTrace!(viz, 1, serialize_trace(tr1))\n",
    "    putTrace!(viz, 2, serialize_trace(tr2))\n",
    "    sleep(1)\n",
    "    \n",
    "    # Improve both traces\n",
    "    for iter = 1:300\n",
    "        # Gaussian drift update in trace 1\n",
    "        tr1 = gaussian_drift_update(tr1)\n",
    "        # Block resimulation update in trace 2\n",
    "        tr2 = block_resimulation_update(tr2)\n",
    "        \n",
    "        # Visualize and sleep for clearer animation\n",
    "        putTrace!(viz, 1, serialize_trace(tr1))\n",
    "        putTrace!(viz, 2, serialize_trace(tr2))\n",
    "        sleep(0.02)\n",
    "    end\n",
    "end"
   ]
  },
  {
   "cell_type": "markdown",
   "metadata": {},
   "source": [
    "<hr />"
   ]
  },
  {
   "cell_type": "markdown",
   "metadata": {},
   "source": [
    "### Exercise: Analyzing the algorithms"
   ]
  },
  {
   "cell_type": "markdown",
   "metadata": {},
   "source": [
    "In the animation above, with random seed 35, both algorothms find a pretty good slope and intercept relatively quickly. But the Gaussian drift algorithm is much better able to experiment with different noise levels, ultimately finding a more satisfying explanation for the data. Why is this? Why does the block resimulation algorithm get stuck in its high-noise hypothesis?"
   ]
  },
  {
   "cell_type": "markdown",
   "metadata": {},
   "source": [
    "*Your answer here*"
   ]
  },
  {
   "cell_type": "markdown",
   "metadata": {},
   "source": [
    "<hr />"
   ]
  },
  {
   "cell_type": "markdown",
   "metadata": {},
   "source": [
    "A more quantitative comparison demonstrates that our change has definitely improved our inference quality:"
   ]
  },
  {
   "cell_type": "code",
   "execution_count": 28,
   "metadata": {},
   "outputs": [
    {
     "name": "stdout",
     "output_type": "stream",
     "text": [
      "  0.395457 seconds (5.62 M allocations: 496.485 MiB, 16.34% gc time)\n",
      "  0.425601 seconds (5.62 M allocations: 496.485 MiB, 16.71% gc time)\n",
      "  0.427413 seconds (5.62 M allocations: 496.486 MiB, 16.64% gc time)\n",
      "  0.447216 seconds (5.62 M allocations: 496.485 MiB, 16.52% gc time)\n",
      "  0.393518 seconds (5.62 M allocations: 496.486 MiB, 16.24% gc time)\n",
      "  0.378641 seconds (5.62 M allocations: 496.485 MiB, 17.21% gc time)\n",
      "  0.408825 seconds (5.62 M allocations: 496.485 MiB, 16.85% gc time)\n",
      "  0.419534 seconds (5.62 M allocations: 496.485 MiB, 16.16% gc time)\n",
      "  0.373637 seconds (5.62 M allocations: 496.484 MiB, 17.26% gc time)\n",
      "  0.401770 seconds (5.62 M allocations: 496.486 MiB, 17.12% gc time)\n",
      "Log probability: -45.605305262783666\n"
     ]
    }
   ],
   "source": [
    "Random.seed!(1)\n",
    "function gaussian_drift_inference()\n",
    "    (tr, _) = initialize(better_model, (xs,), observations)\n",
    "    for iter=1:500\n",
    "        tr = gaussian_drift_update(tr)\n",
    "    end\n",
    "    tr\n",
    "end\n",
    "\n",
    "scores = Vector{Float64}(undef, 10)\n",
    "for i=1:10\n",
    "    @time tr = gaussian_drift_inference()\n",
    "    scores[i] = get_score(tr)\n",
    "end\n",
    "println(\"Log probability: \", logmeanexp(scores))"
   ]
  },
  {
   "cell_type": "markdown",
   "metadata": {},
   "source": [
    "## 7. MCMC Inference Part 3: Heuristics to guide the process  <a name=\"mcmc-3\"></a>"
   ]
  },
  {
   "cell_type": "markdown",
   "metadata": {},
   "source": [
    "In this section, we'll look at another strategy for improving MCMC inference: using arbitrary heuristics to make smarter proposals. In particular, we'll use a method called \"Random Sample Consensus\" (or RANSAC) to quickly find promising settings of the slope and intercept parameters.\n",
    "\n",
    "RANSAC works as follows:\n",
    "1. We repeatedly choose a small random subset of the points, say, of size 3.\n",
    "2. We do least-squares linear regression to find a line of best fit for those points.\n",
    "3. We count how many points (from the entire set) are near the line we found.\n",
    "4. After a suitable number of iterations (say, 10), we return the line that had the highest score.\n",
    "\n",
    "Here's our implementation of the algorithm in Julia:"
   ]
  },
  {
   "cell_type": "code",
   "execution_count": 29,
   "metadata": {},
   "outputs": [],
   "source": [
    "import StatsBase\n",
    "\n",
    "struct RANSACParams\n",
    "    # the number of random subsets to try\n",
    "    iters::Int\n",
    "\n",
    "    # the number of points to use to construct a hypothesis\n",
    "    subset_size::Int\n",
    "\n",
    "    # the error threshold below which a datum is considered an inlier\n",
    "    eps::Float64\n",
    "    \n",
    "    function RANSACParams(iters, subset_size, eps)\n",
    "        if iters < 1\n",
    "            error(\"iters < 1\")\n",
    "        end\n",
    "        new(iters, subset_size, eps)\n",
    "    end\n",
    "end\n",
    "\n",
    "\n",
    "function ransac(xs::Vector{Float64}, ys::Vector{Float64}, params::RANSACParams)\n",
    "    best_num_inliers::Int = -1\n",
    "    best_slope::Float64 = NaN\n",
    "    best_intercept::Float64 = NaN\n",
    "    for i=1:params.iters\n",
    "        # select a random subset of points\n",
    "        rand_ind = StatsBase.sample(1:length(xs), params.subset_size, replace=false)\n",
    "        subset_xs = xs[rand_ind]\n",
    "        subset_ys = ys[rand_ind]\n",
    "        \n",
    "        # estimate slope and intercept using least squares\n",
    "        A = hcat(subset_xs, ones(length(subset_xs)))\n",
    "        slope, intercept = A\\subset_ys\n",
    "        \n",
    "        ypred = intercept .+ slope * xs\n",
    "\n",
    "        # count the number of inliers for this (slope, intercept) hypothesis\n",
    "        inliers = abs.(ys - ypred) .< params.eps\n",
    "        num_inliers = sum(inliers)\n",
    "\n",
    "        if num_inliers > best_num_inliers\n",
    "            best_slope, best_intercept = slope, intercept\n",
    "            best_num_inliers = num_inliers\n",
    "        end\n",
    "    end\n",
    "\n",
    "    # return the hypothesis that resulted in the most inliers\n",
    "    (best_slope, best_intercept)\n",
    "end;"
   ]
  },
  {
   "cell_type": "markdown",
   "metadata": {},
   "source": [
    "We can now wrap it in a Gen proposal that calls out to RANSAC, then samples a slope and intercept near the one it proposed."
   ]
  },
  {
   "cell_type": "code",
   "execution_count": 30,
   "metadata": {},
   "outputs": [],
   "source": [
    "@gen function ransac_proposal(prev_trace, xs, ys)\n",
    "    (slope, intercept) = ransac(xs, ys, RANSACParams(10, 3, 1.))\n",
    "    @addr(normal(slope, 0.1), :slope)\n",
    "    @addr(normal(intercept, 1.0), :intercept)\n",
    "end;"
   ]
  },
  {
   "cell_type": "markdown",
   "metadata": {},
   "source": [
    "(Notice that although `ransac` makes random choices, they are not addressed (and they happen outside of a Gen generative function), so Gen cannot reason about them. This is OK (see [Using probabilistic programs as proposals](https://arxiv.org/abs/1801.03612)). Writing proposals that have traced internal randomness (i.e., that make traced random choices that are not directly used in the proposal) can lead to better inference, but requires the use of a more complex version of Gen's `mh` operator, which is beyond the scope of this tutorial.)"
   ]
  },
  {
   "cell_type": "markdown",
   "metadata": {},
   "source": [
    "One iteration of our update algorithm will now look like this:"
   ]
  },
  {
   "cell_type": "code",
   "execution_count": 31,
   "metadata": {},
   "outputs": [
    {
     "data": {
      "text/plain": [
       "ransac_update (generic function with 1 method)"
      ]
     },
     "execution_count": 31,
     "metadata": {},
     "output_type": "execute_result"
    }
   ],
   "source": [
    "function ransac_update(tr)\n",
    "    # Use RANSAC to (potentially) jump to a better line\n",
    "    # from wherever we are\n",
    "    (tr, _) = mh(tr, ransac_proposal, (xs, ys))\n",
    "    \n",
    "    # Spend a while refining the parameters, using Gaussian drift\n",
    "    # to tune the slope and intercept, and resimulation for the noise\n",
    "    # and outliers.\n",
    "    for j=1:20\n",
    "        (tr, _) = mh(tr, select(:prob_outlier))\n",
    "        (tr, _) = mh(tr, select(:noise))\n",
    "        (tr, _) = mh(tr, line_proposal, ())\n",
    "        # Reclassify outliers\n",
    "        for i=1:length(get_args(tr)[1])\n",
    "            (tr, _) = mh(tr, select(:data => i => :is_outlier))\n",
    "        end\n",
    "    end\n",
    "    tr\n",
    "end"
   ]
  },
  {
   "cell_type": "markdown",
   "metadata": {},
   "source": [
    "We can now run our main loop for just 5 iterations, and achieve pretty good results. (Of course, since we do 20 inner loop iterations in `ransac_update`, this is really closer to 100 iterations.) The running time is significantly lower than before, without a real dip in quality:"
   ]
  },
  {
   "cell_type": "code",
   "execution_count": 32,
   "metadata": {},
   "outputs": [
    {
     "name": "stdout",
     "output_type": "stream",
     "text": [
      "  0.348503 seconds (1.43 M allocations: 122.966 MiB, 8.07% gc time)\n",
      "  0.092327 seconds (1.14 M allocations: 108.512 MiB, 15.87% gc time)\n",
      "  0.082590 seconds (1.14 M allocations: 108.512 MiB, 16.70% gc time)\n",
      "  0.078076 seconds (1.14 M allocations: 108.512 MiB, 16.98% gc time)\n",
      "  0.074943 seconds (1.14 M allocations: 108.513 MiB, 16.86% gc time)\n",
      "  0.077248 seconds (1.14 M allocations: 108.513 MiB, 17.49% gc time)\n",
      "  0.075519 seconds (1.14 M allocations: 108.513 MiB, 17.24% gc time)\n",
      "  0.090018 seconds (1.14 M allocations: 108.512 MiB, 16.33% gc time)\n",
      "  0.093814 seconds (1.14 M allocations: 108.513 MiB, 16.55% gc time)\n",
      "  0.093150 seconds (1.14 M allocations: 108.513 MiB, 16.35% gc time)\n",
      "Log probability: -45.58535263680335\n"
     ]
    }
   ],
   "source": [
    "function ransac_inference()\n",
    "    (slope, intercept) = ransac(xs, ys, RANSACParams(10, 3, 1.))\n",
    "    slope_intercept_init = DynamicAssignment()\n",
    "    slope_intercept_init[:slope] = slope\n",
    "    slope_intercept_init[:intercept] = intercept\n",
    "    (tr, _) = initialize(better_model, (xs,), merge(observations, slope_intercept_init))\n",
    "    for iter=1:5\n",
    "        tr = ransac_update(tr)\n",
    "    end\n",
    "    tr\n",
    "end\n",
    "\n",
    "scores = Vector{Float64}(undef, 10)\n",
    "for i=1:10\n",
    "    @time tr = ransac_inference()\n",
    "    scores[i] = get_score(tr)\n",
    "end\n",
    "println(\"Log probability: \", logmeanexp(scores))"
   ]
  },
  {
   "cell_type": "markdown",
   "metadata": {},
   "source": [
    "Let's visualize the algorithm:"
   ]
  },
  {
   "cell_type": "code",
   "execution_count": 33,
   "metadata": {
    "scrolled": false
   },
   "outputs": [
    {
     "data": {
      "text/html": [
       "<div data-v-2e966a4f=\"\"><h1 data-v-2e966a4f=\"\">Traces</h1><div data-v-2e966a4f=\"\" id=\"traces\"><div data-v-2e966a4f=\"\"><svg data-v-2e966a4f=\"\" height=\"500\" width=\"500\" xmlns=\"http://www.w3.org/2000/svg\" xmlns:xlink=\"http://www.w3.org/1999/xlink\" version=\"1.1\"><circle cx=\"50\" cy=\"50\" r=\"3\" fill=\"blue\"></circle><circle cx=\"71.05263157894737\" cy=\"66.27047261055083\" r=\"3\" fill=\"blue\"></circle><circle cx=\"92.10526315789474\" cy=\"74.49956953066254\" r=\"3\" fill=\"blue\"></circle><circle cx=\"113.15789473684211\" cy=\"115.36876366736863\" r=\"3\" fill=\"blue\"></circle><circle cx=\"134.21052631578948\" cy=\"96.84251719721914\" r=\"3\" fill=\"blue\"></circle><circle cx=\"155.26315789473688\" cy=\"102.704516944148\" r=\"3\" fill=\"blue\"></circle><circle cx=\"176.31578947368422\" cy=\"131.27535113216123\" r=\"3\" fill=\"blue\"></circle><circle cx=\"197.36842105263156\" cy=\"137.81232144411513\" r=\"3\" fill=\"blue\"></circle><circle cx=\"218.42105263157893\" cy=\"169.059573937705\" r=\"3\" fill=\"blue\"></circle><circle cx=\"239.4736842105263\" cy=\"297.1709309857639\" r=\"3\" fill=\"red\"></circle><circle cx=\"260.52631578947376\" cy=\"163.83087706042068\" r=\"3\" fill=\"blue\"></circle><circle cx=\"281.57894736842104\" cy=\"178.43830871419988\" r=\"3\" fill=\"blue\"></circle><circle cx=\"302.63157894736844\" cy=\"61.4021312345003\" r=\"3\" fill=\"red\"></circle><circle cx=\"323.6842105263158\" cy=\"295.8012003051506\" r=\"3\" fill=\"red\"></circle><circle cx=\"344.7368421052631\" cy=\"220.78313119880875\" r=\"3\" fill=\"blue\"></circle><circle cx=\"365.7894736842105\" cy=\"450\" r=\"3\" fill=\"red\"></circle><circle cx=\"386.84210526315786\" cy=\"74.28828798997966\" r=\"3\" fill=\"red\"></circle><circle cx=\"407.89473684210526\" cy=\"247.13626024756127\" r=\"3\" fill=\"blue\"></circle><circle cx=\"428.9473684210526\" cy=\"284.5599820111531\" r=\"3\" fill=\"blue\"></circle><circle cx=\"450\" cy=\"299.7226567731226\" r=\"3\" fill=\"blue\"></circle><polygon points=\"-200,-103.67321879489975 700,401.730255499481 700,446.5452290540799 -200,-58.85824524030079\" style=\"fill: rgba(0, 0, 0, 0.298039);\"></polygon><line x1=\"0\" y1=\"211.89054616889567\" x2=\"500\" y2=\"211.89054616889567\" style=\"stroke: rgba(0, 0, 0, 0.0980392); stroke-width: 900.492777595331px;\"></line><line x1=\"-200\" y1=\"-81.26573201760027\" x2=\"700\" y2=\"424.1377422767805\" style=\"stroke: rgba(0, 0, 0, 0.701961); stroke-width: 2px;\"></line></svg></div></div></div><style>body, html { margin-left: 0px; margin-right: 0px; }\n",
       "h1[data-v-2e966a4f] { font-family: Avenir, Helvetica, Arial, sans-serif; text-align: center; }\n",
       "#traces[data-v-2e966a4f] { display: flex; -webkit-box-orient: horizontal; -webkit-box-direction: normal; flex-flow: row wrap; }\n",
       "#app { font-family: Avenir, Helvetica, Arial, sans-serif; -webkit-font-smoothing: antialiased; color: rgb(44, 62, 80); }</style>"
      ]
     },
     "metadata": {},
     "output_type": "display_data"
    }
   ],
   "source": [
    "viz = Viz(server, joinpath(@__DIR__, \"regression-viz/dist\"), [xs, ys])\n",
    "displayInNotebook(viz) do\n",
    "    (slope, intercept) = ransac(xs, ys, RANSACParams(10, 3, 1.))\n",
    "    slope_intercept_init = DynamicAssignment()\n",
    "    slope_intercept_init[:slope] = slope\n",
    "    slope_intercept_init[:intercept] = intercept\n",
    "    (tr, _) = initialize(better_model, (xs,), merge(observations, slope_intercept_init))\n",
    "    putTrace!(viz, \"t\", serialize_trace(tr))\n",
    "    for iter = 1:5\n",
    "        (tr, _) = mh(tr, ransac_proposal, (xs, ys))\n",
    "    \n",
    "        # Spend a while refining the parameters, using Gaussian drift\n",
    "        # to tune the slope and intercept, and resimulation for the noise\n",
    "        # and outliers.\n",
    "        for j=1:20\n",
    "            (tr, _) = mh(tr, select(:prob_outlier))\n",
    "            (tr, _) = mh(tr, select(:noise))\n",
    "            (tr, _) = mh(tr, line_proposal, ())\n",
    "            # Reclassify outliers\n",
    "            for i=1:length(get_args(tr)[1])\n",
    "                (tr, _) = mh(tr, select(:data => i => :is_outlier))\n",
    "            end\n",
    "            putTrace!(viz, \"t\", serialize_trace(tr))\n",
    "            sleep(0.1)\n",
    "        end\n",
    "    end\n",
    "end"
   ]
  },
  {
   "cell_type": "markdown",
   "metadata": {},
   "source": [
    "<hr />\n",
    "\n",
    "### Exercise: Improving the heuristic\n",
    "Currently, the RANSAC heuristic does not use the current trace's information at all. Try changing it to use the current state as follows:\n",
    "\n",
    "Instead of a constant `eps` parameter that controls whether a point is considered an inlier, make this decision based on the currently hypothesized `noise` level.\n",
    "\n",
    "Does this improve the inference? Do you have a guess as to why?\n",
    "<hr />\n",
    "\n",
    "### Exercise: A different heuristic\n",
    "Implement a heuristic-based proposal that selects the points that are currently classified as _inliers_, finds the line of best fit, and adds some noise.\n",
    "<hr />"
   ]
  },
  {
   "cell_type": "markdown",
   "metadata": {},
   "source": [
    "### Exercise: Initialization\n",
    "\n",
    "In our inference program above, when generating an initial trace on which to iterate, we initialize the slope and intercept to values proposed by RANSAC. If we don't do this, the performance decreases sharply, despite the fact that we still propose new slope/intercept pairs from RANSAC once the loop starts. Why is this?"
   ]
  },
  {
   "cell_type": "markdown",
   "metadata": {},
   "source": [
    "## 8. MAP Optimization  <a name=\"map\"></a>"
   ]
  },
  {
   "cell_type": "markdown",
   "metadata": {},
   "source": [
    "Everything we've done so far has been within the MCMC framework. But sometimes you're not interested in getting posterior samples—sometimes you just want a single likely explanation for your data. Gen also provides tools for _maximum a posteriori_ estimation (\"MAP estimation\"), the problem of finding a trace that maximizes the posterior probability under the model given observations."
   ]
  },
  {
   "cell_type": "markdown",
   "metadata": {},
   "source": [
    "For example, let's say we wanted to take a trace and assign each point's `is_outlier` score to the most likely possibility. We can do this by iterating over both possible traces, scoring them, and choosing the one with the higher score. We can do this using Gen's `force_update` function, which allows us to manually update a trace to satisfy some constraints:"
   ]
  },
  {
   "cell_type": "code",
   "execution_count": 34,
   "metadata": {},
   "outputs": [
    {
     "data": {
      "text/plain": [
       "is_outlier_map_update (generic function with 1 method)"
      ]
     },
     "execution_count": 34,
     "metadata": {},
     "output_type": "execute_result"
    }
   ],
   "source": [
    "function is_outlier_map_update(tr)\n",
    "    (xs,) = get_args(tr)\n",
    "    for i=1:length(xs)\n",
    "        constraints = DynamicAssignment(:prob_outlier => 0.1)\n",
    "        constraints[:data => i => :is_outlier] = false\n",
    "        (trace1, _) = force_update((xs,), noargdiff, tr, constraints)\n",
    "        constraints[:data => i => :is_outlier] = true\n",
    "        (trace2, _) = force_update((xs,), noargdiff, tr, constraints)\n",
    "        tr = (get_score(trace1) > get_score(trace2)) ? trace1 : trace2\n",
    "    end\n",
    "    tr\n",
    "end"
   ]
  },
  {
   "cell_type": "markdown",
   "metadata": {},
   "source": [
    "For continuous parameters, we can use Gen's `map_optimize` function, which uses automatic differentiation to shift the selected parameters in the direction that causes the probability of the trace to increase most sharply:\n",
    "\n",
    "```julia\n",
    "tr = map_optimize(tr, select(:slope, :intercept), max_step_size=1., min_step_size=1e-5)\n",
    "```\n",
    "\n",
    "Putting these updates together, we can write an inference program that uses our RANSAC algorithm from above to get an initial trace, then tunes it using optimization:"
   ]
  },
  {
   "cell_type": "code",
   "execution_count": 35,
   "metadata": {
    "scrolled": false
   },
   "outputs": [
    {
     "data": {
      "text/html": [
       "<div data-v-2e966a4f=\"\"><h1 data-v-2e966a4f=\"\">Traces</h1><div data-v-2e966a4f=\"\" id=\"traces\"><div data-v-2e966a4f=\"\"><svg data-v-2e966a4f=\"\" height=\"500\" width=\"500\" xmlns=\"http://www.w3.org/2000/svg\" xmlns:xlink=\"http://www.w3.org/1999/xlink\" version=\"1.1\"><circle cx=\"50\" cy=\"50\" r=\"3\" fill=\"blue\"></circle><circle cx=\"71.05263157894737\" cy=\"66.27047261055083\" r=\"3\" fill=\"blue\"></circle><circle cx=\"92.10526315789474\" cy=\"74.49956953066254\" r=\"3\" fill=\"blue\"></circle><circle cx=\"113.15789473684211\" cy=\"115.36876366736863\" r=\"3\" fill=\"blue\"></circle><circle cx=\"134.21052631578948\" cy=\"96.84251719721914\" r=\"3\" fill=\"blue\"></circle><circle cx=\"155.26315789473688\" cy=\"102.704516944148\" r=\"3\" fill=\"blue\"></circle><circle cx=\"176.31578947368422\" cy=\"131.27535113216123\" r=\"3\" fill=\"blue\"></circle><circle cx=\"197.36842105263156\" cy=\"137.81232144411513\" r=\"3\" fill=\"blue\"></circle><circle cx=\"218.42105263157893\" cy=\"169.059573937705\" r=\"3\" fill=\"blue\"></circle><circle cx=\"239.4736842105263\" cy=\"297.1709309857639\" r=\"3\" fill=\"red\"></circle><circle cx=\"260.52631578947376\" cy=\"163.83087706042068\" r=\"3\" fill=\"blue\"></circle><circle cx=\"281.57894736842104\" cy=\"178.43830871419988\" r=\"3\" fill=\"blue\"></circle><circle cx=\"302.63157894736844\" cy=\"61.4021312345003\" r=\"3\" fill=\"red\"></circle><circle cx=\"323.6842105263158\" cy=\"295.8012003051506\" r=\"3\" fill=\"red\"></circle><circle cx=\"344.7368421052631\" cy=\"220.78313119880875\" r=\"3\" fill=\"blue\"></circle><circle cx=\"365.7894736842105\" cy=\"450\" r=\"3\" fill=\"red\"></circle><circle cx=\"386.84210526315786\" cy=\"74.28828798997966\" r=\"3\" fill=\"red\"></circle><circle cx=\"407.89473684210526\" cy=\"247.13626024756127\" r=\"3\" fill=\"blue\"></circle><circle cx=\"428.9473684210526\" cy=\"284.5599820111531\" r=\"3\" fill=\"blue\"></circle><circle cx=\"450\" cy=\"299.7226567731226\" r=\"3\" fill=\"blue\"></circle><polygon points=\"-200,-114.30287026607482 700,410.41467711975827 700,455.04352955799015 -200,-69.67401782784304\" style=\"fill: rgba(0, 0, 0, 0.298039);\"></polygon><line x1=\"0\" y1=\"211.89054616889567\" x2=\"500\" y2=\"211.89054616889567\" style=\"stroke: rgba(0, 0, 0, 0.0980392); stroke-width: 900.492777595331px;\"></line><line x1=\"-200\" y1=\"-91.98844404695899\" x2=\"700\" y2=\"432.7291033388742\" style=\"stroke: rgba(0, 0, 0, 0.701961); stroke-width: 2px;\"></line></svg></div></div></div><style>body, html { margin-left: 0px; margin-right: 0px; }\n",
       "h1[data-v-2e966a4f] { font-family: Avenir, Helvetica, Arial, sans-serif; text-align: center; }\n",
       "#traces[data-v-2e966a4f] { display: flex; -webkit-box-orient: horizontal; -webkit-box-direction: normal; flex-flow: row wrap; }\n",
       "#app { font-family: Avenir, Helvetica, Arial, sans-serif; -webkit-font-smoothing: antialiased; color: rgb(44, 62, 80); }</style>"
      ]
     },
     "metadata": {},
     "output_type": "display_data"
    },
    {
     "name": "stdout",
     "output_type": "stream",
     "text": [
      "Score after ransac: -51.95067609516907. Final score: -43.746458254488275.\n"
     ]
    }
   ],
   "source": [
    "viz = Viz(server, joinpath(@__DIR__, \"regression-viz/dist\"), [xs, ys])\n",
    "ransac_score, final_score = displayInNotebook(viz) do\n",
    "    (slope, intercept) = ransac(xs, ys, RANSACParams(10, 3, 1.))\n",
    "    slope_intercept_init = DynamicAssignment()\n",
    "    slope_intercept_init[:slope] = slope\n",
    "    slope_intercept_init[:intercept] = intercept\n",
    "    (tr, _) = initialize(naive_model, (xs,), merge(observations, slope_intercept_init))\n",
    "    sleep(1)\n",
    "    putTrace!(viz, \"t\", serialize_trace(tr))\n",
    "    for iter=1:5\n",
    "        tr = ransac_update(tr)\n",
    "        putTrace!(viz, \"t\", serialize_trace(tr))\n",
    "        sleep(0.1)\n",
    "    end\n",
    "    ransac_score = get_score(tr)\n",
    "    sleep(1)\n",
    "    for iter = 1:30\n",
    "        # Take a single gradient step on the line parameters.\n",
    "        tr = map_optimize(tr, select(:slope, :intercept), max_step_size=1., min_step_size=1e-5)\n",
    "        tr = map_optimize(tr, select(:noise), max_step_size=1., min_step_size=1e-5)\n",
    "        \n",
    "        # Choose the most likely classification of outliers.\n",
    "        tr = is_outlier_map_update(tr)\n",
    "        \n",
    "        # Update the prob outlier\n",
    "        choices = get_assmt(tr)\n",
    "        optimal_prob_outlier = count(i -> choices[:data => i => :is_outlier], 1:length(xs)) / length(xs)\n",
    "        optimal_prob_outlier = min(0.5, max(0.05, optimal_prob_outlier))\n",
    "        (tr, _) = force_update((xs,), noargdiff, tr, DynamicAssignment(:prob_outlier => optimal_prob_outlier))\n",
    "        \n",
    "        # Visualize and sleep for clearer animation\n",
    "        putTrace!(viz, \"t\", serialize_trace(tr))\n",
    "        sleep(0.1)\n",
    "    end\n",
    "    final_score = get_score(tr)\n",
    "    ransac_score, final_score\n",
    "end\n",
    "\n",
    "println(\"Score after ransac: $(ransac_score). Final score: $(final_score).\")"
   ]
  },
  {
   "cell_type": "markdown",
   "metadata": {},
   "source": [
    "Below, we evaluate the algorithm and we see that it gets our best scores yet, which is what it's meant to do:"
   ]
  },
  {
   "cell_type": "code",
   "execution_count": 36,
   "metadata": {},
   "outputs": [
    {
     "name": "stdout",
     "output_type": "stream",
     "text": [
      "  0.396056 seconds (4.01 M allocations: 415.847 MiB, 16.65% gc time)\n",
      "  0.403732 seconds (3.97 M allocations: 413.624 MiB, 16.20% gc time)\n",
      "  0.379429 seconds (3.97 M allocations: 413.106 MiB, 16.48% gc time)\n",
      "  0.388647 seconds (3.99 M allocations: 415.200 MiB, 16.56% gc time)\n",
      "  0.353217 seconds (3.98 M allocations: 414.544 MiB, 16.04% gc time)\n",
      "  0.372551 seconds (3.99 M allocations: 415.468 MiB, 16.55% gc time)\n",
      "  0.371071 seconds (3.98 M allocations: 414.548 MiB, 16.76% gc time)\n",
      "  0.353153 seconds (3.98 M allocations: 414.680 MiB, 17.06% gc time)\n",
      "  0.371856 seconds (3.99 M allocations: 415.464 MiB, 16.68% gc time)\n",
      "  0.379221 seconds (3.99 M allocations: 415.064 MiB, 16.89% gc time)\n",
      "-43.74657057630583\n"
     ]
    }
   ],
   "source": [
    "function map_inference()\n",
    "    (slope, intercept) = ransac(xs, ys, RANSACParams(10, 3, 1.))\n",
    "    slope_intercept_init = DynamicAssignment()\n",
    "    slope_intercept_init[:slope] = slope\n",
    "    slope_intercept_init[:intercept] = intercept\n",
    "    (tr, _) = initialize(naive_model, (xs,), merge(observations, slope_intercept_init))\n",
    "    for iter=1:5\n",
    "        tr = ransac_update(tr)\n",
    "    end\n",
    "    \n",
    "    for iter = 1:20\n",
    "        # Take a single gradient step on the line parameters.\n",
    "        tr = map_optimize(tr, select(:slope, :intercept), max_step_size=1., min_step_size=1e-5)\n",
    "        tr = map_optimize(tr, select(:noise), max_step_size=1., min_step_size=1e-5)\n",
    "        \n",
    "        # Choose the most likely classification of outliers.\n",
    "        tr = is_outlier_map_update(tr)\n",
    "        \n",
    "        # Update the prob outlier\n",
    "        choices = get_assmt(tr)\n",
    "        optimal_prob_outlier = count(i -> choices[:data => i => :is_outlier], 1:length(xs)) / length(xs)\n",
    "        optimal_prob_outlier = min(0.5, max(0.05, optimal_prob_outlier))\n",
    "        (tr, _) = force_update((xs,), noargdiff, tr, DynamicAssignment(:prob_outlier => optimal_prob_outlier))        \n",
    "    end\n",
    "    tr\n",
    "end\n",
    "\n",
    "scores = Vector{Float64}(undef, 10)\n",
    "for i=1:10\n",
    "    @time tr = map_inference()\n",
    "    scores[i] = get_score(tr)\n",
    "end\n",
    "println(logmeanexp(scores))"
   ]
  },
  {
   "cell_type": "markdown",
   "metadata": {},
   "source": [
    "This doesn't necessarily mean that it's \"better,\" though. It finds the most probable explanation of the data, which is a different problem from the one we tackled with MCMC inference. There, the goal was to sample from the posterior, which allows us to better characterize our uncertainty. Using MCMC, there might be a borderline point that is sometimes classified as an outlier and sometimes not, reflecting our uncertainty; with MAP optimization, we will always be shown the most probable answer."
   ]
  },
  {
   "cell_type": "markdown",
   "metadata": {},
   "source": [
    "### Note: Gradients and calls to outside generative functions\n",
    "Note that we reverted above to using the `naive_model`, which accounts for some of the slowdown. When using `map_optimize` and other autodiff features in Gen, generative functions that are called by other generative functions must be annotated so that gradient information can flow through them. In this case, we would need to change the signature of `generate_single_point` as follows:\n",
    "\n",
    "```julia\n",
    "@gen (grad) function generate_single_point(x::Float64, \n",
    "        (grad)(prob_outlier::Float64), (grad)(noise::Float64), \n",
    "        (grad)(slope::Float64), (grad)(intercept::Float64))::Float64\n",
    "```"
   ]
  },
  {
   "cell_type": "markdown",
   "metadata": {},
   "source": [
    "<hr />\n",
    "\n",
    "## Exercise: Bimodal posterior\n",
    "Generate a dataset for which there are two distinct possible explanations under our model. Then, for each algorithm discussed above, consider\n",
    "\n",
    "1. Whether the algorithm will be able to generate high-probability samples at all;\n",
    "2. Whether the algorithm, across runs, will generate samples from both modes;\n",
    "3. Whether the algorithm, within a single run, will explore both modes.\n",
    "\n",
    "<hr />"
   ]
  }
 ],
 "metadata": {
  "kernelspec": {
   "display_name": "Julia 1.0.2",
   "language": "julia",
   "name": "julia-1.0"
  },
  "language_info": {
   "file_extension": ".jl",
   "mimetype": "application/julia",
   "name": "julia",
   "version": "1.0.2"
  }
 },
 "nbformat": 4,
 "nbformat_minor": 2
}
