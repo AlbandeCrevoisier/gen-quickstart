{
 "cells": [
  {
   "cell_type": "markdown",
   "metadata": {},
   "source": [
    "# Tutorial: Basics of Iterative Inference Programming in Gen"
   ]
  },
  {
   "cell_type": "markdown",
   "metadata": {},
   "source": [
    "This tutorial introduces the basics of inference programming in Gen using iterative inference programs, which include Markov chain Monte Carlo algorithms."
   ]
  },
  {
   "cell_type": "markdown",
   "metadata": {},
   "source": [
    "## The task: curve-fitting with outliers"
   ]
  },
  {
   "cell_type": "markdown",
   "metadata": {},
   "source": [
    "Suppose we have a dataset of points in the $x,y$ plane that is _mostly_ explained by a linear relationship, but which also has several outliers. Our goal will be to automatically identify the outliers, and to find a linear relationship (a slope and intercept, as well as an inherent noise level) that explains rest of the points:\n",
    "\n",
    "<img src=\"./images/example-inference.png\" alt=\"See https://dspace.mit.edu/bitstream/handle/1721.1/119255/MIT-CSAIL-TR-2018-020.pdf, Figure 2(a))\" width=\"600\"/>\n",
    "\n",
    "This is a simple inference problem. But it has two features that make it ideal for introducing a couple new concepts in modeling and inference. First, we want not only to estimate the slope and intercept of the line that best fits the data, but also to classify each point as an inlier or outlier; that is, there are a large number of latent variables of interest, enough to make importance sampling an unreliable method (absent a more involved custom proposal that does the heavy lifting). Second, several of the parameters we're estimating (the slope and intercept) are continuous and amenable to gradient-based search techniques, which will allow us to explore Gen's optimization capabilities.\n",
    "\n",
    "Let's get started!"
   ]
  },
  {
   "cell_type": "markdown",
   "metadata": {},
   "source": [
    "## Outline"
   ]
  },
  {
   "cell_type": "markdown",
   "metadata": {},
   "source": [
    "**Section 1.** [Writing the model: a first attempt](#writing-model)\n",
    "\n",
    "**Section 2.** [Visualizing the model's behavior](#visualizing)\n",
    "\n",
    "**Section 3.** [ The problem with generic importance sampling ](#importance)\n",
    "\n",
    "**Section 4.** [MCMC Inference Part 1: Block Resimulation](#mcmc-1)\n",
    "\n",
    "**Section 5.** [Interlude: More efficient inference with Argdiffs and Combinators](#more-efficient)\n",
    "\n",
    "**Section 6.** [MCMC Inference Part 2: Gaussian Drift](#mcmc-2)\n",
    "\n",
    "**Section 7.** [MCMC Inference Part 3: Proposals based on heuristics](#mcmc-3)\n",
    "\n",
    "**Section 8.** [MAP Optimization](#map)"
   ]
  },
  {
   "cell_type": "code",
   "execution_count": null,
   "metadata": {
    "collapsed": true
   },
   "outputs": [],
   "source": [
    "using Gen\n",
    "import Random"
   ]
  },
  {
   "cell_type": "markdown",
   "metadata": {},
   "source": [
    "## 1. Writing the model: a first attempt  <a name=\"writing-model\"></a>"
   ]
  },
  {
   "cell_type": "markdown",
   "metadata": {},
   "source": [
    "We begin, as usual, by writing a model: a Julia function responsible (conceptually) for simulating a fake dataset.\n",
    "\n",
    "Our model will take as input a vector of `x` coordinates, and produce as output corresponding `y` coordinates. A naïve approach to writing this model might look something like this:"
   ]
  },
  {
   "cell_type": "code",
   "execution_count": null,
   "metadata": {
    "collapsed": true
   },
   "outputs": [],
   "source": [
    "@gen function naive_model(xs::Vector{Float64})\n",
    "    # First, generate some parameters of the model. We make these\n",
    "    # random choices, because later, we will want to infer them\n",
    "    # from data. The distributions we use here express our assumptions\n",
    "    # about the parameters: we think the slope and intercept won't be\n",
    "    # too far from 0; that the noise is relatively small; and that\n",
    "    # the proportion of the dataset that don't fit a linear relationship\n",
    "    # (outliers) could be anything between 0 and 1.\n",
    "    slope = @trace(normal(0, 2), :slope)\n",
    "    intercept = @trace(normal(0, 2), :intercept)\n",
    "    noise = @trace(gamma(1, 1), :noise)\n",
    "    prob_outlier = @trace(uniform(0, 1), :prob_outlier)\n",
    "    \n",
    "    # Next, we generate the actual y coordinates.\n",
    "    n = length(xs)\n",
    "    ys = Vector{Float64}(undef, n)\n",
    "    \n",
    "    for i = 1:n\n",
    "        # Decide whether this point is an outlier, and set\n",
    "        # mean and standard deviation accordingly\n",
    "        if @trace(bernoulli(prob_outlier), :data => i => :is_outlier)\n",
    "            (mu, std) = (0., 10.)\n",
    "        else\n",
    "            (mu, std) = (xs[i] * slope + intercept, noise)\n",
    "        end\n",
    "        # Sample a y value for this point\n",
    "        ys[i] = @trace(normal(mu, std), :data => i => :y)\n",
    "    end\n",
    "    ys\n",
    "end;"
   ]
  },
  {
   "cell_type": "markdown",
   "metadata": {},
   "source": [
    "This model does what we want: it samples several parameters of the data-generating process, then generates data accordingly. And for now, it will do. But we'll revisit it in a bit, to implement a critical enhancement: we can achieve signficant performance gains by taking advantage of Gen's `MapCombinator` (rather than using an ordinary Julia `for` loop)."
   ]
  },
  {
   "cell_type": "code",
   "execution_count": null,
   "metadata": {},
   "outputs": [],
   "source": [
    "using PyPlot"
   ]
  },
  {
   "cell_type": "code",
   "execution_count": null,
   "metadata": {},
   "outputs": [],
   "source": [
    "true_inlier_noise = 0.5\n",
    "true_outlier_noise = 10.\n",
    "prob_outlier = 0.1\n",
    "true_slope = -1\n",
    "true_intercept = 2\n",
    "xs = collect(range(-5, stop=5, length=50))\n",
    "ys = Float64[]\n",
    "for (i, x) in enumerate(xs)\n",
    "    if rand() < prob_outlier\n",
    "        y = 0. + randn() * true_outlier_noise\n",
    "    else\n",
    "        y = true_slope * x + true_intercept + randn() * true_inlier_noise \n",
    "    end\n",
    "    push!(ys, y)\n",
    "end\n",
    "ys[end-3] = 14\n",
    "ys[end-5] = 13"
   ]
  },
  {
   "cell_type": "markdown",
   "metadata": {},
   "source": [
    "## 2. What our model is doing: visualizing the prior "
   ]
  },
  {
   "cell_type": "markdown",
   "metadata": {},
   "source": [
    "Let's visualize what our model is doing by drawing some samples from the prior. First, we'll need to write a function that serializes a trace for use by the GenViz library. Here, we make available the slope, intercept, noise level, and outlier classifications for each point, as these are the things that vary from trace to trace while doing inference."
   ]
  },
  {
   "cell_type": "code",
   "execution_count": null,
   "metadata": {
    "collapsed": true
   },
   "outputs": [],
   "source": [
    "using GenViz\n",
    "\n",
    "function serialize_trace(trace)\n",
    "    assmt = Gen.get_choices(trace)\n",
    "    (xs,) = Gen.get_args(trace)\n",
    "    Dict(\"slope\" => assmt[:slope],\n",
    "        \"intercept\" => assmt[:intercept],\n",
    "        \"inlier_std\" => assmt[:noise],\n",
    "        \"y-coords\" => [assmt[:data => i => :y] for i in 1:length(xs)],\n",
    "        \"outliers\" => [assmt[:data => i => :is_outlier] for i in 1:length(xs)])\n",
    "end;"
   ]
  },
  {
   "cell_type": "markdown",
   "metadata": {},
   "source": [
    "Next, we start a visualization server."
   ]
  },
  {
   "cell_type": "code",
   "execution_count": null,
   "metadata": {
    "collapsed": true
   },
   "outputs": [],
   "source": [
    "server = VizServer(8091);"
   ]
  },
  {
   "cell_type": "markdown",
   "metadata": {},
   "source": [
    "Finally, we generate some data and draw it:"
   ]
  },
  {
   "cell_type": "code",
   "execution_count": null,
   "metadata": {
    "scrolled": false
   },
   "outputs": [],
   "source": [
    "# Get some x coordinates and initialize a visualization\n",
    "xs = collect(range(-5, stop=5, length=20))\n",
    "viz = Viz(server, joinpath(@__DIR__, \"regression-viz/dist\"), [xs])\n",
    "\n",
    "# Generate ten traces and draw them into the visualization\n",
    "for i=1:10\n",
    "    (trace, _) = Gen.generate(naive_model, (xs,))\n",
    "    ys = Gen.get_retval(trace)\n",
    "    putTrace!(viz, \"t$(i)\", serialize_trace(trace))\n",
    "end\n",
    "\n",
    "# Display the visualization in this notebook\n",
    "displayInNotebook(viz)"
   ]
  },
  {
   "cell_type": "markdown",
   "metadata": {},
   "source": [
    "Note that an outlier can occur anywhere — including close to the line — and that our model is capable of generating datasets in which the vast majority of points are outliers."
   ]
  },
  {
   "cell_type": "markdown",
   "metadata": {},
   "source": [
    "## 3. The problem with generic importance sampling  <a name=\"generic-importance\"></a>"
   ]
  },
  {
   "cell_type": "markdown",
   "metadata": {},
   "source": [
    "To motivate the need for more complex inference algorithms, let's begin by using the simple importance sampling method from the previous tutorial, and thinking about where it fails.\n",
    "\n",
    "First, let us create a synthetic dataset to do inference _about_."
   ]
  },
  {
   "cell_type": "code",
   "execution_count": null,
   "metadata": {
    "collapsed": true
   },
   "outputs": [],
   "source": [
    "function make_synthetic_dataset(n)\n",
    "    Random.seed!(1)\n",
    "    prob_outlier = 0.2\n",
    "    true_inlier_noise = 0.5\n",
    "    true_outlier_noise = 5.0\n",
    "    true_slope = -1\n",
    "    true_intercept = 2\n",
    "    xs = collect(range(-5, stop=5, length=n))\n",
    "    ys = Float64[]\n",
    "    for (i, x) in enumerate(xs)\n",
    "        if rand() < prob_outlier\n",
    "            y = randn() * true_outlier_noise\n",
    "        else\n",
    "            y = true_slope * x + true_intercept + randn() * true_inlier_noise\n",
    "        end\n",
    "        push!(ys, y)\n",
    "    end\n",
    "    (xs, ys)\n",
    "end\n",
    "    \n",
    "(xs, ys) = make_synthetic_dataset(20);"
   ]
  },
  {
   "cell_type": "markdown",
   "metadata": {},
   "source": [
    "In Gen, we express our _observations_ as an _Assignment_ that constrains the values of certain random choices to equal their observed values. Here, we want to constrain the values of the choices with address `:data => i => :y` (that is, the sampled $y$ coordinates) to equal the observed $y$ values. Let's write a helper function that takes in a vector of $y$ values and creates an Assignment that we can use to constrain our model:"
   ]
  },
  {
   "cell_type": "code",
   "execution_count": null,
   "metadata": {
    "collapsed": true
   },
   "outputs": [],
   "source": [
    "function make_constraints(ys::Vector{Float64})\n",
    "    constraints = Gen.choicemap()\n",
    "    for i=1:length(ys)\n",
    "        constraints[:data => i => :y] = ys[i]\n",
    "    end\n",
    "    constraints\n",
    "end;"
   ]
  },
  {
   "cell_type": "markdown",
   "metadata": {},
   "source": [
    "We can apply it to our dataset's vector of `ys` to make a set of constraints for doing inference:"
   ]
  },
  {
   "cell_type": "code",
   "execution_count": null,
   "metadata": {
    "collapsed": true
   },
   "outputs": [],
   "source": [
    "observations = make_constraints(ys);"
   ]
  },
  {
   "cell_type": "markdown",
   "metadata": {},
   "source": [
    "Now, we use the library function `importance_resampling` to draw approximate posterior samples given those observations:"
   ]
  },
  {
   "cell_type": "code",
   "execution_count": null,
   "metadata": {},
   "outputs": [],
   "source": [
    "function logmeanexp(scores)\n",
    "    logsumexp(scores) - log(length(scores))\n",
    "end"
   ]
  },
  {
   "cell_type": "code",
   "execution_count": null,
   "metadata": {},
   "outputs": [],
   "source": [
    "viz = Viz(server, joinpath(@__DIR__, \"regression-viz/dist\"), [xs])\n",
    "log_probs = Vector{Float64}(undef, 10)\n",
    "for i=1:10\n",
    "    (tr, _) = Gen.importance_resampling(naive_model, (xs,), observations, 2000)\n",
    "    putTrace!(viz, \"t$(i)\", serialize_trace(tr))\n",
    "    log_probs[i] = Gen.get_score(tr)\n",
    "end\n",
    "displayInNotebook(viz)\n",
    "println(\"Average log probability: $(logmeanexp(log_probs))\")"
   ]
  },
  {
   "cell_type": "markdown",
   "metadata": {},
   "source": [
    "We see here that importance sampling hasn't completely failed: it generally finds a reasonable position for the line. But the details are off: there is little logic to the outlier classification, and the inferred noise around the line is too wide. The problem is that there are just too many variables to get right, and so sampling everything in one go is highly unlikely to produce a perfect hit.\n",
    "\n",
    "In the remainder of this notebook, we'll explore techniques for finding the right solution _iteratively_, beginning with an initial guess and making many small changes, until we achieve a reasonable posterior sample."
   ]
  },
  {
   "cell_type": "markdown",
   "metadata": {},
   "source": [
    "## 4. MCMC Inference Part 1: Block Resimulation  <a name=\"mcmc-1\"></a>"
   ]
  },
  {
   "cell_type": "markdown",
   "metadata": {},
   "source": [
    "### What is MCMC?"
   ]
  },
  {
   "cell_type": "markdown",
   "metadata": {},
   "source": [
    "_Markov Chain Monte Carlo_ (\"MCMC\") methods are a powerful family of algorithms for iteratively producing approximate samples from a distribution (when applied to Bayesian inference problems, the posterior distribution of unknown (hidden) model variables given data).\n",
    "\n",
    "There is a rich theory behind MCMC methods, but we focus on applying MCMC in Gen and introducing theoretical ideas only when necessary for understanding. As we will see, Gen provides abstractions that hide and automate much of the math necessary for implementing MCMC algorithms correctly.\n",
    "\n",
    "The general shape of an MCMC algorithm is as follows. We begin by sampling an intial setting of all unobserved variables; in Gen, we produce an initial _trace_ consistent with (but not necessarily _probable_ given) our observations. Then, in a long-running loop, we make small, stochastic changes to the trace; in order for the algorithm to be asymptotically correct, these stochastic updates must satisfy certain probabilistic properties. \n",
    "\n",
    "One common way of ensuring that the updates do satisfy those properties is to compute a _Metropolis-Hastings acceptance ratio_. Essentially, after proposing a change to a trace, we add an \"accept or reject\" step that stochastically decides whether to commit the update or to revert it. This is an over-simplification, but generally speaking, this step ensures we are more likely to accept changes that make our trace fit the observed data better, and to reject ones that make our current trace worse. The algorithm also tries not to go down dead ends: it is more likely to take an exploratory step into a low-probability region if it knows it can easily get back to where it came from.\n",
    "\n",
    "Gen's `metropolis_hastings` function _automatically_ adds this \"accept/reject\" check (including the correct computation of the probability of acceptance or rejection), so that as inference programmers, we need only think about what sorts of updates might be useful to propose. Starting in this section, we'll look at several design patterns for MCMC updates, and how to apply them in Gen."
   ]
  },
  {
   "cell_type": "markdown",
   "metadata": {},
   "source": [
    "### Block Resimulation"
   ]
  },
  {
   "cell_type": "markdown",
   "metadata": {},
   "source": [
    "One of the simplest strategies we can use is called Resimulation MH, and it works as follows.\n",
    "\n",
    "We begin, as in most iterative inference algorithms, by sampling an initial trace from our model, fixing the observed choices to their observed values.\n",
    "\n",
    "```julia\n",
    "# Gen's `initialize` function accepts a model, a tuple of arguments to the model,\n",
    "# and an Assignment representing observations (or constraints to satisfy). It returns\n",
    "# a complete trace consistent with the observations, and an importance weight.\n",
    "(tr, _) = initialize(naive_model, (xs,), observations)\n",
    "```"
   ]
  },
  {
   "cell_type": "markdown",
   "metadata": {},
   "source": [
    "Then, in each iteration of our program, we propose changes to all our model's variables in \"blocks,\" by erasing a set of variables from our current trace and _resimulating_ them from the model. After resimulating each block of choices, we perform an accept/reject step, deciding whether the proposed changes are worth making. \n",
    "\n",
    "```julia\n",
    "# Pseudocode\n",
    "for iter=1:500\n",
    "    tr = maybe_update_block_1(tr)\n",
    "    tr = maybe_update_block_2(tr)\n",
    "    ...\n",
    "    tr = maybe_update_block_n(tr)\n",
    "end\n",
    "```\n",
    "\n",
    "The main design choice in designing a Block Resimulation MH algorithm is how to block the choices together for resimulation. At one extreme, we could put each random choice the model makes in its own block. At the other, we could put all variables into a single block (a strategy sometimes called \"independent\" MH, and which bears a strong similarity to importance resampling, as it involves repeatedly generating completely new traces and deciding whether to keep them or not). Usually, the right thing to do is somewhere in between.\n",
    "\n",
    "For the regression problem, here is one possible blocking of choices:\n",
    "\n",
    "**Block 1: `slope`, `intercept`, and `noise`.** These parameters determine the linear relationship; resimulating them is like picking a new line. We know from our importance sampling experiment above that before too long, we're bound to sample something close to the right line.\n",
    "\n",
    "**Blocks 2 through N+1: Each `is_outlier`, in its own block.** One problem we saw with importance sampling in this problem was that it tried to sample _every_ outlier classification at once, when in reality the chances of a single sample that correctly classifies all the points are very low. Here, we can choose to resimulate each `is_outlier` choice separately, and for each one, decide whether to use the resimulated value or not.\n",
    "\n",
    "**Block N+2: `prob_outlier`.** Finally, we can propose a new `prob_outlier` value; in general, we can expect to accept the proposal when it is line with the current hypothesized proportion of `is_outlier` choices that are set to `true`.\n",
    "\n",
    "Resimulating a block of variables is the simplest form of update that Gen's `metropolis_hastings` operator (or `mh` for short) supports. When supplied with a _current trace_ and a _selection_ of trace addresses to resimulate, `mh` performs the resimulation and the appropriate accept/reject check, then returns a possibly updated trace. A selection is created using the `select` method. So a single update of the scheme we proposed above would look like this:"
   ]
  },
  {
   "cell_type": "code",
   "execution_count": null,
   "metadata": {
    "collapsed": true
   },
   "outputs": [],
   "source": [
    "# Perform a single block resimulation update of a trace.\n",
    "function block_resimulation_update(tr)\n",
    "    # Block 1: Update the line's parameters\n",
    "    line_params = select(:noise, :slope, :intercept)\n",
    "    (tr, _) = mh(tr, line_params)\n",
    "    \n",
    "    # Blocks 2-N+1: Update the outlier classifications\n",
    "    (xs,) = get_args(tr)\n",
    "    n = length(xs)\n",
    "    for i=1:n\n",
    "        (tr, _) = mh(tr, select(:data => i => :is_outlier))\n",
    "    end\n",
    "    \n",
    "    # Block N+2: Update the prob_outlier parameter\n",
    "    (tr, _) = mh(tr, select(:prob_outlier))\n",
    "    \n",
    "    # Return the updated trace\n",
    "    tr\n",
    "end;"
   ]
  },
  {
   "cell_type": "markdown",
   "metadata": {},
   "source": [
    "All that's left is to (a) obtain an initial trace, and then (b) run that update in a loop for as long as we'd like:"
   ]
  },
  {
   "cell_type": "code",
   "execution_count": null,
   "metadata": {
    "collapsed": true
   },
   "outputs": [],
   "source": [
    "function block_resimulation_inference(xs, ys)\n",
    "    observations = make_constraints(ys)\n",
    "    (tr, _) = generate(naive_model, (xs,), observations)\n",
    "    for iter=1:500\n",
    "        tr = block_resimulation_update(tr)\n",
    "    end\n",
    "    tr\n",
    "end;"
   ]
  },
  {
   "cell_type": "markdown",
   "metadata": {},
   "source": [
    "Let's test it out:"
   ]
  },
  {
   "cell_type": "code",
   "execution_count": null,
   "metadata": {},
   "outputs": [],
   "source": [
    "scores = Vector{Float64}(undef, 10)\n",
    "for i=1:10\n",
    "    @time tr = block_resimulation_inference(xs, ys)\n",
    "    scores[i] = get_score(tr)\n",
    "end\n",
    "println(\"Log probability: \", logmeanexp(scores))"
   ]
  },
  {
   "cell_type": "markdown",
   "metadata": {},
   "source": [
    "We note that this is significantly better than importance sampling, even if we run importance sampling for about the same amount of (wall-clock) time per sample:"
   ]
  },
  {
   "cell_type": "code",
   "execution_count": null,
   "metadata": {},
   "outputs": [],
   "source": [
    "scores = Vector{Float64}(undef, 10)\n",
    "for i=1:10\n",
    "    @time (tr, _) = importance_resampling(naive_model, (xs,), observations, 17000)\n",
    "    scores[i] = get_score(tr)\n",
    "end\n",
    "println(\"Log probability: \", logmeanexp(scores))"
   ]
  },
  {
   "cell_type": "markdown",
   "metadata": {},
   "source": [
    "It's one thing to see a log probability increase; it's better to understand what the inference algorithm is actually doing, and to see _why_ it's doing better.\n",
    "\n",
    "A great tool for debugging and improving MCMC algorithms is visualization. We can use GenViz's `displayInNotebook(viz) do ... end` syntax to produce an animated visualization:"
   ]
  },
  {
   "cell_type": "code",
   "execution_count": null,
   "metadata": {
    "scrolled": false
   },
   "outputs": [],
   "source": [
    "viz = Viz(server, joinpath(@__DIR__, \"regression-viz/dist\"), [xs, ys])\n",
    "Random.seed!(2)\n",
    "displayInNotebook(viz) do\n",
    "    (tr, _) = generate(naive_model, (xs,), observations)\n",
    "    putTrace!(viz, \"t\", serialize_trace(tr))\n",
    "    for iter = 1:500\n",
    "        tr = block_resimulation_update(tr)\n",
    "        \n",
    "        # Visualize and sleep for clearer animation\n",
    "        putTrace!(viz, \"t\", serialize_trace(tr))\n",
    "        sleep(0.01)\n",
    "    end\n",
    "end"
   ]
  },
  {
   "cell_type": "markdown",
   "metadata": {},
   "source": [
    "## 5. Interlude: More efficient inference with Argdiffs and Combinators  <a name=\"more-efficient\"></a>"
   ]
  },
  {
   "cell_type": "markdown",
   "metadata": {},
   "source": [
    "Before we go further, let's do some performance tuning of our model, that will pay off in any inference algorithm we write. This section is optional, and the rest of the tutorial can be understood without it: feel free to run the code blocks without reading them, and then move on to section 6."
   ]
  },
  {
   "cell_type": "markdown",
   "metadata": {},
   "source": [
    "### Preliminaries: calling one generative function from another"
   ]
  },
  {
   "cell_type": "markdown",
   "metadata": {},
   "source": [
    "In Section 1, we wrote our model as one big generative function. But we can also build models up from smaller generative functions. For example, here's a generative function that samples a single data point, given an `x` coordinate and the parameters of the model:"
   ]
  },
  {
   "cell_type": "code",
   "execution_count": null,
   "metadata": {
    "collapsed": true
   },
   "outputs": [],
   "source": [
    "@gen function generate_single_point(x::Float64, prob_outlier::Float64,\n",
    "    noise::Float64, slope::Float64, intercept::Float64)::Float64\n",
    "    if @trace(bernoulli(prob_outlier), :is_outlier)\n",
    "        (mu, std) = (0., 10.)\n",
    "    else\n",
    "        (mu, std) = (x * slope + intercept, noise)\n",
    "    end\n",
    "    return @trace(normal(mu, std), :y)\n",
    "end;"
   ]
  },
  {
   "cell_type": "markdown",
   "metadata": {},
   "source": [
    "Then, inside our model, we can write:\n",
    "\n",
    "```julia\n",
    "for i=1:n\n",
    "    @trace(generate_single_point(xs[i], prob_outlier, noise, \n",
    "            slope, intercept), :data => i)\n",
    "end\n",
    "```\n",
    "\n",
    "Notice that\n",
    "\n",
    "1. We can use `@addr` with `generate_single_point` in the same way we use it with distributions like `normal` or `bernoulli`.\n",
    "2. The address we pass, `:data => i`, is like a _namespace_ under which the addressed choices made by the callee will be stored. So, just like before, for each `i`, we can expect to see `:data => i => :is_outlier` and `:data => i => :y` in the trace."
   ]
  },
  {
   "cell_type": "markdown",
   "metadata": {},
   "source": [
    "But when provided with a _generative function_ (rather than just a _distribution_), `@addr` gains an extra power: it can optionally accept an `argdiff`. Taking advantage of this capability can help to achieve significant performance enhancements, the topic of our next discussion."
   ]
  },
  {
   "cell_type": "markdown",
   "metadata": {},
   "source": [
    "### Incremental computation with Argdiffs"
   ]
  },
  {
   "cell_type": "markdown",
   "metadata": {},
   "source": [
    "When Gen's `mh` helper functions are evaluating proposed changes, they need to calculate a measure of how likely the observed data are under the new proposed trace as compared to the old one. This can be expensive. For example, if we propose a new slope for the line in our regression model, Gen must visit every data point and reevaluate how likely that point is, given the new line. But sometimes, we'd expect Gen to be able to take shortcuts. For example, if we propose a change to the outlier classification of a single point, Gen should need to recalculate only that point's likelihood: nothing else is affected by our change. Unfortunately, as it is, Gen doesn't know enough about our model to implement this optimization.\n",
    "\n",
    "This is why, when we call a generative function with `@addr`, we may wish to pass an `argdiff` argument after the trace address. Its job is to tell Gen: the arguments to this function have (or have not) changed, so you do (or do not) need to enter the function during an update. Argdiffs can take various forms, but for now, we'll limit ourselves to two cases: the constant `noargdiff`, which indicates that no arguments have changed, and the constant `unknownargdiff`, which indicates that we don't know."
   ]
  },
  {
   "cell_type": "code",
   "execution_count": null,
   "metadata": {},
   "outputs": [],
   "source": [
    "function compute_argdiff(slope_diff, intercept_diff, prob_outlier_diff, noise_diff)\n",
    "    if all([c == NoChoiceDiff() for c in [\n",
    "            noise_diff, slope_diff, prob_outlier_diff, intercept_diff]])\n",
    "        noargdiff\n",
    "    else\n",
    "        unknownargdiff\n",
    "    end\n",
    "end\n",
    "    \n",
    "@gen function better_model(xs::Vector{Float64})\n",
    "    # First, sample the global parameters, as before\n",
    "    slope = @trace(normal(0, 2), :slope)\n",
    "    intercept = @trace(normal(0, 2), :intercept)\n",
    "    noise = @trace(gamma(1, 1), :noise)\n",
    "    prob_outlier = @trace(uniform(0, 1), :prob_outlier)\n",
    "    \n",
    "    # Next, call generate_all_points on vector versions of the generate_point arguments.\n",
    "    # For the arguments that are the same for all points, we use Julia's `fill` method to \n",
    "    # create a vector of identical arguments.\n",
    "    n = length(xs)\n",
    "    @diff argdiff = compute_argdiff(\n",
    "        @choicediff(:slope),\n",
    "        @choicediff(:intercept),\n",
    "        @choicediff(:prob_outlier),\n",
    "        @choicediff(:noise))\n",
    "    for i=1:n\n",
    "        @trace(generate_single_point(xs[i],prob_outlier,noise,slope,intercept), \n",
    "                :data => i, argdiff)\n",
    "    end\n",
    "end;"
   ]
  },
  {
   "cell_type": "markdown",
   "metadata": {},
   "source": [
    "The code prefixed by `@diff` will be run only during an update. Within a `@diff` block, `@choicediff` allows us to ask whether a certain choice has been updated since the last run. Here, we check if any of the parameters have changed; if not, we return `noargdiff`, and otherwise, `unknownargdiff`."
   ]
  },
  {
   "cell_type": "markdown",
   "metadata": {},
   "source": [
    "### The Map Combinator"
   ]
  },
  {
   "cell_type": "markdown",
   "metadata": {},
   "source": [
    "We can _really_ speed things up by making use of another Gen features: combinators. Combinators encapsulate common modeling patterns (e.g., a loop in which each iteration is making independent choices), and when you use them, Gen can take advantage of the restrictions they enforce to implement performance optimizations automatically during inference.\n",
    "\n",
    "Let's rewrite our model to get rid of the for loop and instead use the `Map` combinator — which, like the `map` function in a functional programming language, helps to execute the same generative code repeatedly. "
   ]
  },
  {
   "cell_type": "markdown",
   "metadata": {},
   "source": [
    "When applied to the existing generative function `generate_single_point`, `Map` produces a version of the function that accepts _vector_ arguments, instead of single numbers, and applies `generate_single_point` to the arguments at each index to produce a vector of return values:"
   ]
  },
  {
   "cell_type": "code",
   "execution_count": null,
   "metadata": {
    "collapsed": true
   },
   "outputs": [],
   "source": [
    "generate_all_points = Map(generate_single_point);"
   ]
  },
  {
   "cell_type": "markdown",
   "metadata": {},
   "source": [
    "We can then modify our top-level model to call `generate_all_points` instead of using a `for` loop:\n",
    "\n",
    "```julia\n",
    "# Call generate_all_points on vector versions of the \n",
    "# generate_point arguments. For the arguments that are \n",
    "# the same for all points, we use Julia's `fill` method \n",
    "# to create a vector of identical arguments.\n",
    "n = length(xs)\n",
    "ys = @trace(generate_all_points(xs, fill(prob_outlier, n), \n",
    "        fill(noise, n), fill(slope, n), fill(intercept, n)), \n",
    "    :data, argdiff)\n",
    "```"
   ]
  },
  {
   "cell_type": "markdown",
   "metadata": {},
   "source": [
    "The `Map` combinator automatically adds indices to the trace address, so for example, the 5th data point's $y$ coordinate will be stored at the address `:data => 5 => :y`, just as before. (The `:data` comes from our `@addr` invocation in the `better_model` definition, and the `:y` comes from `generate_point`; only the `5` has been inserted automatically by `Map`.)"
   ]
  },
  {
   "cell_type": "markdown",
   "metadata": {},
   "source": [
    "All together, our final model looks like this:"
   ]
  },
  {
   "cell_type": "code",
   "execution_count": null,
   "metadata": {
    "collapsed": true
   },
   "outputs": [],
   "source": [
    "@gen function better_model(xs::Vector{Float64})\n",
    "    # First, sample the global parameters, as before\n",
    "    slope = @trace(normal(0, 2), :slope)\n",
    "    intercept = @trace(normal(0, 2), :intercept)\n",
    "    noise = @trace(gamma(1, 1), :noise)\n",
    "    prob_outlier = @trace(uniform(0, 1), :prob_outlier)\n",
    "    \n",
    "    # Next, call generate_all_points on vector versions of the generate_point arguments.\n",
    "    # For the arguments that are the same for all points, we use Julia's `fill` method to \n",
    "    # create a vector of identical arguments.\n",
    "    n = length(xs)\n",
    "    @diff argdiff = compute_argdiff(\n",
    "        @choicediff(:slope),\n",
    "        @choicediff(:intercept),\n",
    "        @choicediff(:prob_outlier),\n",
    "        @choicediff(:noise))\n",
    "    ys = @trace(generate_all_points(xs, fill(prob_outlier, n), fill(noise, n), fill(slope, n), fill(intercept, n)), :data, argdiff)\n",
    "end;"
   ]
  },
  {
   "cell_type": "markdown",
   "metadata": {},
   "source": [
    "Since the trace addresses are all the same as before, everything we've written in our inference programs should \"just work\" with our new model.  But MH-based inference programs should run quite a lot faster:"
   ]
  },
  {
   "cell_type": "code",
   "execution_count": null,
   "metadata": {},
   "outputs": [],
   "source": [
    "function block_resimulation_inference_better(xs, ys)\n",
    "    observations = make_constraints(ys)\n",
    "    (tr, _) = generate(better_model, (xs,), observations)\n",
    "    for iter=1:500\n",
    "        tr = block_resimulation_update(tr)\n",
    "    end\n",
    "    w = project(tr, select([:data => i => :y for i in 1:length(xs)]...))\n",
    "    (tr, w)\n",
    "end\n",
    "\n",
    "scores = Vector{Float64}(undef, 10)\n",
    "for i=1:10\n",
    "    @time (tr, w) = block_resimulation_inference_better(xs, ys)\n",
    "    scores[i] = get_score(tr)\n",
    "end\n",
    "println(logmeanexp(scores))"
   ]
  },
  {
   "cell_type": "markdown",
   "metadata": {},
   "source": [
    "This is not just a constant 3x speedup. It also changes the order of growth. Consider a dataset with 50 points:"
   ]
  },
  {
   "cell_type": "code",
   "execution_count": null,
   "metadata": {
    "collapsed": true
   },
   "outputs": [],
   "source": [
    "(xs, ys) = make_synthetic_dataset(50);"
   ]
  },
  {
   "cell_type": "markdown",
   "metadata": {},
   "source": [
    "Using the old model, it takes _much_ longer to do inference:"
   ]
  },
  {
   "cell_type": "code",
   "execution_count": null,
   "metadata": {},
   "outputs": [],
   "source": [
    "@time block_resimulation_inference(xs, ys);"
   ]
  },
  {
   "cell_type": "markdown",
   "metadata": {},
   "source": [
    "Let's try it with the new model:"
   ]
  },
  {
   "cell_type": "code",
   "execution_count": null,
   "metadata": {},
   "outputs": [],
   "source": [
    "@time block_resimulation_inference_better(xs, ys);"
   ]
  },
  {
   "cell_type": "markdown",
   "metadata": {},
   "source": [
    "Let's go back to our old dataset:"
   ]
  },
  {
   "cell_type": "code",
   "execution_count": null,
   "metadata": {
    "collapsed": true
   },
   "outputs": [],
   "source": [
    "(xs, ys) = make_synthetic_dataset(20)\n",
    "observations = make_constraints(ys);"
   ]
  },
  {
   "cell_type": "markdown",
   "metadata": {},
   "source": [
    "## 6. MCMC Inference Part 2: Gaussian Drift MH  <a name=\"mcmc-2\"></a>"
   ]
  },
  {
   "cell_type": "markdown",
   "metadata": {},
   "source": [
    "So far, we've seen one form of incremental trace update:\n",
    "\n",
    "```julia\n",
    "(tr, did_accept) = mh(tr, select(:address1, :address2, ...))\n",
    "```\n",
    "\n",
    "This update is incremental in that it only proposes changes to part of a trace (the selected addresses). But when computing _what_ changes to propose, it ignores the current state completely and resimulates all-new values from the model.\n",
    "\n",
    "That wholesale resimulation of values is often not the best way to search for improvements. To that end, Gen also offers a more general flavor of MH:\n",
    "\n",
    "```julia\n",
    "(tr, did_accept) = mh(tr, custom_proposal, custom_proposal_args)\n",
    "```\n",
    "\n",
    "A \"custom proposal\" is just what it sounds like: whereas before, we were using the _default resimulation proposal_ to come up with new values for the selected addresses, we can now pass in a generative function that samples proposed values however it wants.\n",
    "\n",
    "For example, here is a custom proposal that takes in a current trace, and proposes a new slope and intercept by randomly perturbing the existing values:"
   ]
  },
  {
   "cell_type": "code",
   "execution_count": null,
   "metadata": {
    "collapsed": true
   },
   "outputs": [],
   "source": [
    "@gen function line_proposal(trace)\n",
    "    choices = get_choices(trace)\n",
    "    slope = @trace(normal(choices[:slope], 0.5), :slope)\n",
    "    intercept = @trace(normal(choices[:intercept], 0.5), :intercept)\n",
    "end;"
   ]
  },
  {
   "cell_type": "markdown",
   "metadata": {},
   "source": [
    "This is often called a \"Gaussian drift\" proposal, because it essentially amounts to proposing steps of a random walk. (What makes it different from a random walk is that we will still use an MH accept/reject step to make sure we don't wander into areas of very low probability.)"
   ]
  },
  {
   "cell_type": "markdown",
   "metadata": {},
   "source": [
    "To use the proposal, we write:\n",
    "\n",
    "```julia\n",
    "(tr, did_accept) = mh(tr, line_proposal, ())\n",
    "```\n",
    "\n",
    "Two things to note:\n",
    "1. We no longer need to pass a selection of addresses. Instead, Gen assumes that whichever addresses are sampled by the proposal (in this case, `:slope` and `:intercept`) are being proposed to.\n",
    "2. The argument list to the proposal is an empty tuple, `()`. The `line_proposal` generative function does expect an argument, the previous trace, but this is supplied automatically to all MH custom proposals."
   ]
  },
  {
   "cell_type": "markdown",
   "metadata": {},
   "source": [
    "Let's swap it into our update:"
   ]
  },
  {
   "cell_type": "code",
   "execution_count": null,
   "metadata": {
    "collapsed": true
   },
   "outputs": [],
   "source": [
    "function gaussian_drift_update(tr)\n",
    "    # Gaussian drift on line params\n",
    "    (tr, _) = mh(tr, line_proposal, ())\n",
    "    \n",
    "    # Block resimulation: Update the outlier classifications\n",
    "    (xs,) = get_args(tr)\n",
    "    n = length(xs)\n",
    "    for i=1:n\n",
    "        (tr, _) = mh(tr, select(:data => i => :is_outlier))\n",
    "    end\n",
    "    \n",
    "    # Block resimulation: Update the prob_outlier parameter\n",
    "    (tr, w) = mh(tr, select(:prob_outlier))\n",
    "    (tr, w) = mh(tr, select(:noise))\n",
    "    tr\n",
    "end;"
   ]
  },
  {
   "cell_type": "markdown",
   "metadata": {},
   "source": [
    "If we compare the Gaussian Drift proposal visually with our old algorithm, we can see how the new behavior helps:"
   ]
  },
  {
   "cell_type": "code",
   "execution_count": null,
   "metadata": {
    "scrolled": false
   },
   "outputs": [],
   "source": [
    "viz = Viz(server, joinpath(@__DIR__, \"regression-viz/dist\"), [xs, ys])\n",
    "\n",
    "# Set random seed for a reproducible animation\n",
    "Random.seed!(35)\n",
    "\n",
    "# Create the animation\n",
    "displayInNotebook(viz) do\n",
    "    # Get an initial trace\n",
    "    (tr1, _) = generate(better_model, (xs,), observations)\n",
    "    tr2 = tr1\n",
    "    \n",
    "    # Visualize the initial trace twice\n",
    "    putTrace!(viz, 1, serialize_trace(tr1))\n",
    "    putTrace!(viz, 2, serialize_trace(tr2))\n",
    "    sleep(1)\n",
    "    \n",
    "    # Improve both traces\n",
    "    for iter = 1:300\n",
    "        # Gaussian drift update in trace 1\n",
    "        tr1 = gaussian_drift_update(tr1)\n",
    "        # Block resimulation update in trace 2\n",
    "        tr2 = block_resimulation_update(tr2)\n",
    "        \n",
    "        # Visualize and sleep for clearer animation\n",
    "        putTrace!(viz, 1, serialize_trace(tr1))\n",
    "        putTrace!(viz, 2, serialize_trace(tr2))\n",
    "        sleep(0.02)\n",
    "    end\n",
    "end"
   ]
  },
  {
   "cell_type": "markdown",
   "metadata": {},
   "source": [
    "<hr />"
   ]
  },
  {
   "cell_type": "markdown",
   "metadata": {},
   "source": [
    "### Exercise: Analyzing the algorithms"
   ]
  },
  {
   "cell_type": "markdown",
   "metadata": {},
   "source": [
    "Run the cell above several times with different random seeds. Compare the two algorithms with respect to the following:\n",
    "\n",
    "- How fast do they find a relatively good line?\n",
    "\n",
    "- Does one of them tend to get stuck more than the other? Under what conditions? Why?"
   ]
  },
  {
   "cell_type": "markdown",
   "metadata": {},
   "source": [
    "*Your answer here*"
   ]
  },
  {
   "cell_type": "markdown",
   "metadata": {},
   "source": [
    "<hr />"
   ]
  },
  {
   "cell_type": "markdown",
   "metadata": {},
   "source": [
    "A more quantitative comparison demonstrates that our change has definitely improved our inference quality:"
   ]
  },
  {
   "cell_type": "code",
   "execution_count": null,
   "metadata": {},
   "outputs": [],
   "source": [
    "Random.seed!(1)\n",
    "function gaussian_drift_inference()\n",
    "    (tr, _) = generate(better_model, (xs,), observations)\n",
    "    for iter=1:500\n",
    "        tr = gaussian_drift_update(tr)\n",
    "    end\n",
    "    tr\n",
    "end\n",
    "\n",
    "scores = Vector{Float64}(undef, 10)\n",
    "for i=1:10\n",
    "    @time tr = gaussian_drift_inference()\n",
    "    scores[i] = get_score(tr)\n",
    "end\n",
    "println(\"Log probability: \", logmeanexp(scores))"
   ]
  },
  {
   "cell_type": "markdown",
   "metadata": {},
   "source": [
    "## 7. MCMC Inference Part 3: Heuristics to guide the process  <a name=\"mcmc-3\"></a>"
   ]
  },
  {
   "cell_type": "markdown",
   "metadata": {},
   "source": [
    "In this section, we'll look at another strategy for improving MCMC inference: using arbitrary heuristics to make smarter proposals. In particular, we'll use a method called \"Random Sample Consensus\" (or RANSAC) to quickly find promising settings of the slope and intercept parameters.\n",
    "\n",
    "RANSAC works as follows:\n",
    "1. We repeatedly choose a small random subset of the points, say, of size 3.\n",
    "2. We do least-squares linear regression to find a line of best fit for those points.\n",
    "3. We count how many points (from the entire set) are near the line we found.\n",
    "4. After a suitable number of iterations (say, 10), we return the line that had the highest score.\n",
    "\n",
    "Here's our implementation of the algorithm in Julia:"
   ]
  },
  {
   "cell_type": "code",
   "execution_count": null,
   "metadata": {
    "collapsed": true
   },
   "outputs": [],
   "source": [
    "import StatsBase\n",
    "\n",
    "struct RANSACParams\n",
    "    # the number of random subsets to try\n",
    "    iters::Int\n",
    "\n",
    "    # the number of points to use to construct a hypothesis\n",
    "    subset_size::Int\n",
    "\n",
    "    # the error threshold below which a datum is considered an inlier\n",
    "    eps::Float64\n",
    "    \n",
    "    function RANSACParams(iters, subset_size, eps)\n",
    "        if iters < 1\n",
    "            error(\"iters < 1\")\n",
    "        end\n",
    "        new(iters, subset_size, eps)\n",
    "    end\n",
    "end\n",
    "\n",
    "\n",
    "function ransac(xs::Vector{Float64}, ys::Vector{Float64}, params::RANSACParams)\n",
    "    best_num_inliers::Int = -1\n",
    "    best_slope::Float64 = NaN\n",
    "    best_intercept::Float64 = NaN\n",
    "    for i=1:params.iters\n",
    "        # select a random subset of points\n",
    "        rand_ind = StatsBase.sample(1:length(xs), params.subset_size, replace=false)\n",
    "        subset_xs = xs[rand_ind]\n",
    "        subset_ys = ys[rand_ind]\n",
    "        \n",
    "        # estimate slope and intercept using least squares\n",
    "        A = hcat(subset_xs, ones(length(subset_xs)))\n",
    "        slope, intercept = A\\subset_ys\n",
    "        \n",
    "        ypred = intercept .+ slope * xs\n",
    "\n",
    "        # count the number of inliers for this (slope, intercept) hypothesis\n",
    "        inliers = abs.(ys - ypred) .< params.eps\n",
    "        num_inliers = sum(inliers)\n",
    "\n",
    "        if num_inliers > best_num_inliers\n",
    "            best_slope, best_intercept = slope, intercept\n",
    "            best_num_inliers = num_inliers\n",
    "        end\n",
    "    end\n",
    "\n",
    "    # return the hypothesis that resulted in the most inliers\n",
    "    (best_slope, best_intercept)\n",
    "end;"
   ]
  },
  {
   "cell_type": "markdown",
   "metadata": {},
   "source": [
    "We can now wrap it in a Gen proposal that calls out to RANSAC, then samples a slope and intercept near the one it proposed."
   ]
  },
  {
   "cell_type": "code",
   "execution_count": null,
   "metadata": {
    "collapsed": true
   },
   "outputs": [],
   "source": [
    "@gen function ransac_proposal(prev_trace, xs, ys)\n",
    "    (slope, intercept) = ransac(xs, ys, RANSACParams(10, 3, 1.))\n",
    "    @trace(normal(slope, 0.1), :slope)\n",
    "    @trace(normal(intercept, 1.0), :intercept)\n",
    "end;"
   ]
  },
  {
   "cell_type": "markdown",
   "metadata": {},
   "source": [
    "(Notice that although `ransac` makes random choices, they are not addressed (and they happen outside of a Gen generative function), so Gen cannot reason about them. This is OK (see [Using probabilistic programs as proposals](https://arxiv.org/abs/1801.03612)). Writing proposals that have traced internal randomness (i.e., that make traced random choices that are not directly used in the proposal) can lead to better inference, but requires the use of a more complex version of Gen's `mh` operator, which is beyond the scope of this tutorial.)"
   ]
  },
  {
   "cell_type": "markdown",
   "metadata": {},
   "source": [
    "One iteration of our update algorithm will now look like this:"
   ]
  },
  {
   "cell_type": "code",
   "execution_count": null,
   "metadata": {},
   "outputs": [],
   "source": [
    "function ransac_update(tr)\n",
    "    # Use RANSAC to (potentially) jump to a better line\n",
    "    # from wherever we are\n",
    "    (tr, _) = mh(tr, ransac_proposal, (xs, ys))\n",
    "    \n",
    "    # Spend a while refining the parameters, using Gaussian drift\n",
    "    # to tune the slope and intercept, and resimulation for the noise\n",
    "    # and outliers.\n",
    "    for j=1:20\n",
    "        (tr, _) = mh(tr, select(:prob_outlier))\n",
    "        (tr, _) = mh(tr, select(:noise))\n",
    "        (tr, _) = mh(tr, line_proposal, ())\n",
    "        # Reclassify outliers\n",
    "        for i=1:length(get_args(tr)[1])\n",
    "            (tr, _) = mh(tr, select(:data => i => :is_outlier))\n",
    "        end\n",
    "    end\n",
    "    tr\n",
    "end"
   ]
  },
  {
   "cell_type": "markdown",
   "metadata": {},
   "source": [
    "We can now run our main loop for just 5 iterations, and achieve pretty good results. (Of course, since we do 20 inner loop iterations in `ransac_update`, this is really closer to 100 iterations.) The running time is significantly lower than before, without a real dip in quality:"
   ]
  },
  {
   "cell_type": "code",
   "execution_count": null,
   "metadata": {},
   "outputs": [],
   "source": [
    "function ransac_inference()\n",
    "    (slope, intercept) = ransac(xs, ys, RANSACParams(10, 3, 1.))\n",
    "    slope_intercept_init = choicemap()\n",
    "    slope_intercept_init[:slope] = slope\n",
    "    slope_intercept_init[:intercept] = intercept\n",
    "    (tr, _) = generate(better_model, (xs,), merge(observations, slope_intercept_init))\n",
    "    for iter=1:5\n",
    "        tr = ransac_update(tr)\n",
    "    end\n",
    "    tr\n",
    "end\n",
    "\n",
    "scores = Vector{Float64}(undef, 10)\n",
    "for i=1:10\n",
    "    @time tr = ransac_inference()\n",
    "    scores[i] = get_score(tr)\n",
    "end\n",
    "println(\"Log probability: \", logmeanexp(scores))"
   ]
  },
  {
   "cell_type": "markdown",
   "metadata": {},
   "source": [
    "Let's visualize the algorithm:"
   ]
  },
  {
   "cell_type": "code",
   "execution_count": null,
   "metadata": {
    "scrolled": false
   },
   "outputs": [],
   "source": [
    "viz = Viz(server, joinpath(@__DIR__, \"regression-viz/dist\"), [xs, ys])\n",
    "displayInNotebook(viz) do\n",
    "    (slope, intercept) = ransac(xs, ys, RANSACParams(10, 3, 1.))\n",
    "    slope_intercept_init = choicemap()\n",
    "    slope_intercept_init[:slope] = slope\n",
    "    slope_intercept_init[:intercept] = intercept\n",
    "    (tr, _) = generate(better_model, (xs,), merge(observations, slope_intercept_init))\n",
    "    putTrace!(viz, \"t\", serialize_trace(tr))\n",
    "    for iter = 1:5\n",
    "        (tr, _) = mh(tr, ransac_proposal, (xs, ys))\n",
    "    \n",
    "        # Spend a while refining the parameters, using Gaussian drift\n",
    "        # to tune the slope and intercept, and resimulation for the noise\n",
    "        # and outliers.\n",
    "        for j=1:20\n",
    "            (tr, _) = mh(tr, select(:prob_outlier))\n",
    "            (tr, _) = mh(tr, select(:noise))\n",
    "            (tr, _) = mh(tr, line_proposal, ())\n",
    "            # Reclassify outliers\n",
    "            for i=1:length(get_args(tr)[1])\n",
    "                (tr, _) = mh(tr, select(:data => i => :is_outlier))\n",
    "            end\n",
    "            putTrace!(viz, \"t\", serialize_trace(tr))\n",
    "            sleep(0.1)\n",
    "        end\n",
    "    end\n",
    "end"
   ]
  },
  {
   "cell_type": "markdown",
   "metadata": {},
   "source": [
    "<hr />\n",
    "\n",
    "### Exercise: Improving the heuristic\n",
    "Currently, the RANSAC heuristic does not use the current trace's information at all. Try changing it to use the current state as follows:\n",
    "\n",
    "Instead of a constant `eps` parameter that controls whether a point is considered an inlier, make this decision based on the currently hypothesized `noise` level.\n",
    "\n",
    "Does this improve the inference? Do you have a guess as to why?\n",
    "<hr />\n",
    "\n",
    "### Exercise: A different heuristic\n",
    "Implement a heuristic-based proposal that selects the points that are currently classified as _inliers_, finds the line of best fit, and adds some noise.\n",
    "<hr />"
   ]
  },
  {
   "cell_type": "markdown",
   "metadata": {},
   "source": [
    "### Exercise: Initialization\n",
    "\n",
    "In our inference program above, when generating an initial trace on which to iterate, we initialize the slope and intercept to values proposed by RANSAC. If we don't do this, the performance decreases sharply, despite the fact that we still propose new slope/intercept pairs from RANSAC once the loop starts. Why is this?"
   ]
  },
  {
   "cell_type": "markdown",
   "metadata": {},
   "source": [
    "## 8. MAP Optimization  <a name=\"map\"></a>"
   ]
  },
  {
   "cell_type": "markdown",
   "metadata": {},
   "source": [
    "Everything we've done so far has been within the MCMC framework. But sometimes you're not interested in getting posterior samples—sometimes you just want a single likely explanation for your data. Gen also provides tools for _maximum a posteriori_ estimation (\"MAP estimation\"), the problem of finding a trace that maximizes the posterior probability under the model given observations."
   ]
  },
  {
   "cell_type": "markdown",
   "metadata": {},
   "source": [
    "For example, let's say we wanted to take a trace and assign each point's `is_outlier` score to the most likely possibility. We can do this by iterating over both possible traces, scoring them, and choosing the one with the higher score. We can do this using Gen's `force_update` function, which allows us to manually update a trace to satisfy some constraints:"
   ]
  },
  {
   "cell_type": "code",
   "execution_count": null,
   "metadata": {},
   "outputs": [],
   "source": [
    "function is_outlier_map_update(tr)\n",
    "    (xs,) = get_args(tr)\n",
    "    for i=1:length(xs)\n",
    "        constraints = choicemap(:prob_outlier => 0.1)\n",
    "        constraints[:data => i => :is_outlier] = false\n",
    "        (trace1,) = update(tr, (xs,), noargdiff, constraints)\n",
    "        constraints[:data => i => :is_outlier] = true\n",
    "        (trace2,) = update(tr, (xs,), noargdiff, constraints)\n",
    "        tr = (get_score(trace1) > get_score(trace2)) ? trace1 : trace2\n",
    "    end\n",
    "    tr\n",
    "end"
   ]
  },
  {
   "cell_type": "markdown",
   "metadata": {},
   "source": [
    "For continuous parameters, we can use Gen's `map_optimize` function, which uses automatic differentiation to shift the selected parameters in the direction that causes the probability of the trace to increase most sharply:\n",
    "\n",
    "```julia\n",
    "tr = map_optimize(tr, select(:slope, :intercept), max_step_size=1., min_step_size=1e-5)\n",
    "```\n",
    "\n",
    "Putting these updates together, we can write an inference program that uses our RANSAC algorithm from above to get an initial trace, then tunes it using optimization:"
   ]
  },
  {
   "cell_type": "code",
   "execution_count": null,
   "metadata": {
    "scrolled": false
   },
   "outputs": [],
   "source": [
    "viz = Viz(server, joinpath(@__DIR__, \"regression-viz/dist\"), [xs, ys])\n",
    "ransac_score, final_score = displayInNotebook(viz) do\n",
    "    (slope, intercept) = ransac(xs, ys, RANSACParams(10, 3, 1.))\n",
    "    slope_intercept_init = choicemap()\n",
    "    slope_intercept_init[:slope] = slope\n",
    "    slope_intercept_init[:intercept] = intercept\n",
    "    (tr,) = generate(naive_model, (xs,), merge(observations, slope_intercept_init))\n",
    "    sleep(1)\n",
    "    putTrace!(viz, \"t\", serialize_trace(tr))\n",
    "    for iter=1:5\n",
    "        tr = ransac_update(tr)\n",
    "        putTrace!(viz, \"t\", serialize_trace(tr))\n",
    "        sleep(0.1)\n",
    "    end\n",
    "    ransac_score = get_score(tr)\n",
    "    sleep(1)\n",
    "    for iter = 1:30\n",
    "        # Take a single gradient step on the line parameters.\n",
    "        tr = map_optimize(tr, select(:slope, :intercept), max_step_size=1., min_step_size=1e-5)\n",
    "        tr = map_optimize(tr, select(:noise), max_step_size=1., min_step_size=1e-5)\n",
    "        \n",
    "        # Choose the most likely classification of outliers.\n",
    "        tr = is_outlier_map_update(tr)\n",
    "        \n",
    "        # Update the prob outlier\n",
    "        choices = get_choices(tr)\n",
    "        optimal_prob_outlier = count(i -> choices[:data => i => :is_outlier], 1:length(xs)) / length(xs)\n",
    "        optimal_prob_outlier = min(0.5, max(0.05, optimal_prob_outlier))\n",
    "        (tr, _) = update(tr, (xs,), noargdiff, choicemap(:prob_outlier => optimal_prob_outlier))\n",
    "        \n",
    "        # Visualize and sleep for clearer animation\n",
    "        putTrace!(viz, \"t\", serialize_trace(tr))\n",
    "        sleep(0.1)\n",
    "    end\n",
    "    final_score = get_score(tr)\n",
    "    ransac_score, final_score\n",
    "end\n",
    "\n",
    "println(\"Score after ransac: $(ransac_score). Final score: $(final_score).\")"
   ]
  },
  {
   "cell_type": "markdown",
   "metadata": {},
   "source": [
    "Below, we evaluate the algorithm and we see that it gets our best scores yet, which is what it's meant to do:"
   ]
  },
  {
   "cell_type": "code",
   "execution_count": null,
   "metadata": {},
   "outputs": [],
   "source": [
    "function map_inference()\n",
    "    (slope, intercept) = ransac(xs, ys, RANSACParams(10, 3, 1.))\n",
    "    slope_intercept_init = choicemap()\n",
    "    slope_intercept_init[:slope] = slope\n",
    "    slope_intercept_init[:intercept] = intercept\n",
    "    (tr, _) = generate(naive_model, (xs,), merge(observations, slope_intercept_init))\n",
    "    for iter=1:5\n",
    "        tr = ransac_update(tr)\n",
    "    end\n",
    "    \n",
    "    for iter = 1:20\n",
    "        # Take a single gradient step on the line parameters.\n",
    "        tr = map_optimize(tr, select(:slope, :intercept), max_step_size=1., min_step_size=1e-5)\n",
    "        tr = map_optimize(tr, select(:noise), max_step_size=1., min_step_size=1e-5)\n",
    "        \n",
    "        # Choose the most likely classification of outliers.\n",
    "        tr = is_outlier_map_update(tr)\n",
    "        \n",
    "        # Update the prob outlier\n",
    "        choices = get_choices(tr)\n",
    "        optimal_prob_outlier = count(i -> choices[:data => i => :is_outlier], 1:length(xs)) / length(xs)\n",
    "        optimal_prob_outlier = min(0.5, max(0.05, optimal_prob_outlier))\n",
    "        (tr, _) = update(tr, (xs,), noargdiff, choicemap(:prob_outlier => optimal_prob_outlier))        \n",
    "    end\n",
    "    tr\n",
    "end\n",
    "\n",
    "scores = Vector{Float64}(undef, 10)\n",
    "for i=1:10\n",
    "    @time tr = map_inference()\n",
    "    scores[i] = get_score(tr)\n",
    "end\n",
    "println(logmeanexp(scores))"
   ]
  },
  {
   "cell_type": "markdown",
   "metadata": {},
   "source": [
    "This doesn't necessarily mean that it's \"better,\" though. It finds the most probable explanation of the data, which is a different problem from the one we tackled with MCMC inference. There, the goal was to sample from the posterior, which allows us to better characterize our uncertainty. Using MCMC, there might be a borderline point that is sometimes classified as an outlier and sometimes not, reflecting our uncertainty; with MAP optimization, we will always be shown the most probable answer."
   ]
  },
  {
   "cell_type": "markdown",
   "metadata": {},
   "source": [
    "### Note: Gradients and calls to outside generative functions\n",
    "Note that we reverted above to using the `naive_model`, which accounts for some of the slowdown. When using `map_optimize` and other autodiff features in Gen, generative functions that are called by other generative functions must be annotated so that gradient information can flow through them. In this case, we would need to change the signature of `generate_single_point` as follows:\n",
    "\n",
    "```julia\n",
    "@gen (grad) function generate_single_point(x::Float64, \n",
    "        (grad)(prob_outlier::Float64), (grad)(noise::Float64), \n",
    "        (grad)(slope::Float64), (grad)(intercept::Float64))::Float64\n",
    "```"
   ]
  },
  {
   "cell_type": "markdown",
   "metadata": {},
   "source": [
    "<hr />\n",
    "\n",
    "## Exercise: Bimodal posterior\n",
    "Generate a dataset for which there are two distinct possible explanations under our model. Then, for each algorithm discussed above, consider\n",
    "\n",
    "1. Whether the algorithm will be able to generate high-probability samples at all;\n",
    "2. Whether the algorithm, across runs, will generate samples from both modes;\n",
    "3. Whether the algorithm, within a single run, will explore both modes.\n",
    "\n",
    "<hr />"
   ]
  }
 ],
 "metadata": {
  "kernelspec": {
   "display_name": "Julia 1.0.2",
   "language": "julia",
   "name": "julia-1.0"
  },
  "language_info": {
   "file_extension": ".jl",
   "mimetype": "application/julia",
   "name": "julia",
   "version": "1.0.2"
  }
 },
 "nbformat": 4,
 "nbformat_minor": 2
}
