{
 "cells": [
  {
   "cell_type": "markdown",
   "metadata": {},
   "source": [
    "# Tutorial: Sequential Monte Carlo in Gen"
   ]
  },
  {
   "cell_type": "code",
   "execution_count": null,
   "metadata": {
    "collapsed": true
   },
   "outputs": [],
   "source": []
  },
  {
   "cell_type": "code",
   "execution_count": null,
   "metadata": {
    "collapsed": true
   },
   "outputs": [],
   "source": []
  },
  {
   "cell_type": "code",
   "execution_count": null,
   "metadata": {
    "collapsed": true
   },
   "outputs": [],
   "source": []
  },
  {
   "cell_type": "code",
   "execution_count": null,
   "metadata": {
    "collapsed": true
   },
   "outputs": [],
   "source": []
  },
  {
   "cell_type": "code",
   "execution_count": null,
   "metadata": {
    "collapsed": true
   },
   "outputs": [],
   "source": []
  },
  {
   "cell_type": "code",
   "execution_count": 1,
   "metadata": {},
   "outputs": [
    {
     "name": "stderr",
     "output_type": "stream",
     "text": [
      "┌ Info: Recompiling stale cache file /home/marcoct/.julia/compiled/v1.0/Gen/OEZG1.ji for Gen [ea4f424c-a589-11e8-07c0-fd5c91b9da4a]\n",
      "└ @ Base loading.jl:1190\n"
     ]
    },
    {
     "name": "stdout",
     "output_type": "stream",
     "text": [
      "\u001b[32m\u001b[1m    Status\u001b[22m\u001b[39m `~/dev/gen-examples/Project.toml`\n",
      " \u001b[90m [ea4f424c]\u001b[39m\u001b[93m ~ Gen v0.2.1 #master (https://github.com/probcomp/Gen) ⇒ v0.2.1 [`~/dev/Gen`]\u001b[39m\n",
      " \u001b[90m [1956f2fc]\u001b[39m\u001b[37m   GenTF v0.1.0 #master (https://github.com/probcomp/GenTF)\u001b[39m\n",
      " \u001b[90m [5a9e95f6]\u001b[39m\u001b[37m   GenViz v0.1.0 #master (https://github.com/probcomp/GenViz)\u001b[39m\n",
      " \u001b[90m [7073ff75]\u001b[39m\u001b[37m   IJulia v1.15.2\u001b[39m\n",
      " \u001b[90m [4138dd39]\u001b[39m\u001b[37m   JLD v0.9.1\u001b[39m\n",
      " \u001b[90m [eb30cadb]\u001b[39m\u001b[37m   MLDatasets v0.3.0\u001b[39m\n",
      " \u001b[90m [438e738f]\u001b[39m\u001b[37m   PyCall v1.18.5\u001b[39m\n",
      " \u001b[90m [d330b81b]\u001b[39m\u001b[37m   PyPlot v2.7.0\u001b[39m\n",
      " \u001b[90m [2913bbd2]\u001b[39m\u001b[37m   StatsBase v0.27.0\u001b[39m\n",
      " \u001b[90m [9a3f8284]\u001b[39m\u001b[37m   Random \u001b[39m\n",
      " \u001b[90m [10745b16]\u001b[39m\u001b[37m   Statistics \u001b[39m\n"
     ]
    }
   ],
   "source": [
    "using Gen\n",
    "using Pkg\n",
    "Pkg.status()"
   ]
  },
  {
   "cell_type": "code",
   "execution_count": 2,
   "metadata": {},
   "outputs": [
    {
     "data": {
      "text/html": [
       "2 methods for generic function <b>initialize_particle_filter</b>:<ul><li> initialize_particle_filter<i>{T, U}</i>(model::<b>GenerativeFunction{T,U}</b>, model_args::<b>Tuple</b>, observations::<b>Assignment</b>, proposal::<b>GenerativeFunction</b>, proposal_args::<b>Tuple</b>, num_particles::<b>Int64</b>) in Gen at <a href=\"https://github.com/probcomp/Gen/tree/ffb284caaf5aae95b7fa2592c98baa3235596322//src/inference/particle_filter.jl#L67\" target=\"_blank\">/home/marcoct/dev/Gen/src/inference/particle_filter.jl:67</a></li> <li> initialize_particle_filter<i>{T, U}</i>(model::<b>GenerativeFunction{T,U}</b>, model_args::<b>Tuple</b>, observations::<b>Assignment</b>, num_particles::<b>Int64</b>) in Gen at <a href=\"https://github.com/probcomp/Gen/tree/ffb284caaf5aae95b7fa2592c98baa3235596322//src/inference/particle_filter.jl#L86\" target=\"_blank\">/home/marcoct/dev/Gen/src/inference/particle_filter.jl:86</a></li> </ul>"
      ],
      "text/plain": [
       "# 2 methods for generic function \"initialize_particle_filter\":\n",
       "[1] initialize_particle_filter(model::GenerativeFunction{T,U}, model_args::Tuple, observations::Assignment, proposal::GenerativeFunction, proposal_args::Tuple, num_particles::Int64) where {T, U} in Gen at /home/marcoct/dev/Gen/src/inference/particle_filter.jl:67\n",
       "[2] initialize_particle_filter(model::GenerativeFunction{T,U}, model_args::Tuple, observations::Assignment, num_particles::Int64) where {T, U} in Gen at /home/marcoct/dev/Gen/src/inference/particle_filter.jl:86"
      ]
     },
     "execution_count": 2,
     "metadata": {},
     "output_type": "execute_result"
    }
   ],
   "source": [
    "methods(Gen.initialize_particle_filter)"
   ]
  },
  {
   "cell_type": "code",
   "execution_count": 3,
   "metadata": {
    "collapsed": true
   },
   "outputs": [],
   "source": [
    "using PyPlot"
   ]
  },
  {
   "cell_type": "code",
   "execution_count": 18,
   "metadata": {
    "collapsed": true
   },
   "outputs": [],
   "source": [
    "function overlay(renderer, traces; same_data=true, args...)\n",
    "    renderer(traces[1], show_data=true, args...)\n",
    "    for i=2:length(traces)\n",
    "        renderer(traces[i], show_data=!same_data, args...)\n",
    "    end\n",
    "end;"
   ]
  },
  {
   "cell_type": "code",
   "execution_count": 4,
   "metadata": {},
   "outputs": [],
   "source": [
    "import Random\n",
    "Random.seed!(1);"
   ]
  },
  {
   "cell_type": "markdown",
   "metadata": {},
   "source": [
    "## Original model, not using unfold combinator"
   ]
  },
  {
   "cell_type": "code",
   "execution_count": null,
   "metadata": {
    "collapsed": true
   },
   "outputs": [],
   "source": [
    "function x_mean(x_prev::Real, t::Int)\n",
    "    (x_prev / 2.) + 25 * (x_prev / (1 + x_prev * x_prev)) + 8 * cos(1.2 * t)\n",
    "end\n",
    "\n",
    "y_mean(x::Real) = (x * x / 20.)\n",
    "\n",
    "@gen function hmm(var_x::Float64, var_y::Float64, T::Int)\n",
    "    xs = Vector{Float64}(undef, T)\n",
    "    ys = Vector{Float64}(undef, T)\n",
    "    xs[1] = @addr(normal(0, 5), (:x, 1))\n",
    "    ys[1] = @addr(normal(y_mean(xs[1]), sqrt(var_y)), (:y, 1))\n",
    "    for t=2:T\n",
    "        xs[t] = @addr(normal(x_mean(xs[t-1], t), sqrt(var_x)), (:x, t))\n",
    "        ys[t] = @addr(normal(y_mean(xs[t]), sqrt(var_y)), (:y, t))\n",
    "    end \n",
    "    return (xs, ys) \n",
    "end;"
   ]
  },
  {
   "cell_type": "markdown",
   "metadata": {},
   "source": [
    "Trace rendering for original model"
   ]
  },
  {
   "cell_type": "code",
   "execution_count": null,
   "metadata": {
    "collapsed": true
   },
   "outputs": [],
   "source": [
    "function render_trace(trace; show_data=true)\n",
    "    (xs, ys) = get_retval(trace)\n",
    "    subplot(2, 1, 1)\n",
    "    plot(xs, color=\"black\")\n",
    "    if show_data\n",
    "        subplot(2, 1, 2)\n",
    "        plot(ys, color=\"red\");\n",
    "    end\n",
    "end;"
   ]
  },
  {
   "cell_type": "markdown",
   "metadata": {},
   "source": [
    "Generate a synthetic data set:"
   ]
  },
  {
   "cell_type": "code",
   "execution_count": null,
   "metadata": {},
   "outputs": [],
   "source": [
    "trace, _ = initialize(hmm, (10., 1., 100))\n",
    "(xs, ys) = get_retval(trace)\n",
    "figure(figsize=(16, 4))\n",
    "render_trace(trace);"
   ]
  },
  {
   "cell_type": "markdown",
   "metadata": {},
   "source": [
    "## Improved model, with unfold combinator"
   ]
  },
  {
   "cell_type": "code",
   "execution_count": null,
   "metadata": {
    "collapsed": true
   },
   "outputs": [],
   "source": [
    "@gen function kernel(t::Int, prev_x::Float64, var_x::Float64, var_y::Float64)\n",
    "    x = @addr(normal(x_mean(prev_x, t), sqrt(var_x)), :x)\n",
    "    y = @addr(normal(y_mean(x), sqrt(var_y)), :y)\n",
    "    return x\n",
    "end\n",
    "\n",
    "chain = Unfold(kernel);\n",
    "\n",
    "@gen function unfold_hmm(var_x::Float64, var_y::Float64, T::Int)\n",
    "    @diff chain_argdiff = @argdiff()\n",
    "    init_x = @addr(normal(0, 5), :init_x)\n",
    "    @addr(normal(y_mean(init_x), sqrt(var_y)), :init_y)\n",
    "    @addr(chain(T-1, init_x, var_x, var_y), :chain, chain_argdiff)\n",
    "end;"
   ]
  },
  {
   "cell_type": "markdown",
   "metadata": {},
   "source": [
    "trace rendering for unfold model"
   ]
  },
  {
   "cell_type": "code",
   "execution_count": null,
   "metadata": {
    "collapsed": true
   },
   "outputs": [],
   "source": [
    "function render_trace_for_unfold(trace; show_data=true)\n",
    "    choices = get_assmt(trace)\n",
    "    T = get_args(trace)[3]\n",
    "    xs = Vector{Float64}(undef, T)\n",
    "    ys = Vector{Float64}(undef, T)\n",
    "    xs[1] = choices[:init_x]\n",
    "    ys[1] = choices[:init_y]\n",
    "    for t=2:T\n",
    "        xs[t] = choices[:chain => t-1 => :x]\n",
    "        ys[t] = choices[:chain => t-1 => :y]\n",
    "    end\n",
    "    subplot(2, 1, 1)\n",
    "    plot(xs, color=\"black\")\n",
    "    if show_data\n",
    "        subplot(2, 1, 2)\n",
    "        plot(ys, color=\"red\");\n",
    "    end\n",
    "end;"
   ]
  },
  {
   "cell_type": "markdown",
   "metadata": {},
   "source": [
    "# generic particle filter implementation"
   ]
  },
  {
   "cell_type": "code",
   "execution_count": null,
   "metadata": {},
   "outputs": [],
   "source": [
    "mutable struct ParticleFilterState{U}\n",
    "    traces::Vector{U}\n",
    "    new_traces::Vector{U}\n",
    "    log_weights::Vector{Float64}\n",
    "    log_ml_est::Float64\n",
    "    parents::Vector{Int}\n",
    "end\n",
    "\n",
    "function initialize_particle_filter(model::GenerativeFunction{T,U}, model_args::Tuple,\n",
    "        observations::Assignment, proposal::GenerativeFunction, proposal_args::Tuple,\n",
    "        num_particles::Int) where {T,U}\n",
    "    traces = Vector{Any}(undef, num_particles)\n",
    "    log_weights = Vector{Float64}(undef, num_particles)\n",
    "    for i=1:num_particles\n",
    "        (prop_choices, prop_weight, _) = Gen.propose(proposal, proposal_args)\n",
    "        (traces[i], model_weight) = Gen.initialize(model, model_args, merge(observations, prop_choices))\n",
    "        log_weights[i] = model_weight - prop_weight\n",
    "    end\n",
    "    return ParticleFilterState{U}(traces, Vector{U}(undef, num_particles), log_weights, 0., collect(1:num_particles))\n",
    "end\n",
    "\n",
    "function particle_filter_step!(state::ParticleFilterState{U}, new_args::Tuple, argdiff,\n",
    "        observations::Assignment, proposal::GenerativeFunction, proposal_args::Tuple) where {U}\n",
    "    num_particles = length(state.traces)\n",
    "    for i=1:num_particles\n",
    "        choices = Gen.get_assmt(state.traces[i])\n",
    "        (prop_choices, prop_weight, _) = Gen.propose(proposal, (state.traces[i], proposal_args...))\n",
    "        constraints = merge(observations, prop_choices)\n",
    "        (state.new_traces[i], up_weight, disc, _) = Gen.force_update(new_args, argdiff, state.traces[i], constraints)\n",
    "        @assert isempty(disc)\n",
    "        state.log_weights[i] += up_weight - prop_weight\n",
    "    end\n",
    "    \n",
    "    # swap references\n",
    "    tmp = state.traces\n",
    "    state.traces = state.new_traces\n",
    "    state.new_traces = tmp\n",
    "    \n",
    "    return nothing\n",
    "end\n",
    "\n",
    "import Distributions\n",
    "\n",
    "function effective_sample_size(log_normalized_weights::Vector{Float64})\n",
    "    log_ess = -logsumexp(2. * log_normalized_weights)\n",
    "    return exp(log_ess)\n",
    "end\n",
    "\n",
    "function normalize_weights(log_weights::Vector{Float64})\n",
    "    log_total_weight = logsumexp(log_weights)\n",
    "    log_normalized_weights = log_weights .- log_total_weight\n",
    "    return (log_total_weight, log_normalized_weights)\n",
    "end\n",
    "\n",
    "function maybe_resample!(state::ParticleFilterState{U};\n",
    "                        ess_threshold::Float64=length(state.traces)/2, verbose=false) where {U}\n",
    "    num_particles = length(state.traces)\n",
    "    (log_total_weight, log_normalized_weights) = normalize_weights(state.log_weights)\n",
    "    ess = effective_sample_size(log_normalized_weights)\n",
    "    do_resample = ess < ess_threshold\n",
    "    if verbose\n",
    "        println(\"effective sample size: $ess, doing resample: $do_resample\")\n",
    "    end\n",
    "    if do_resample\n",
    "        weights = exp.(log_normalized_weights)\n",
    "        Distributions.rand!(Distributions.Categorical(weights / sum(weights)), state.parents)\n",
    "        state.log_ml_est += log_total_weight - log(num_particles)\n",
    "        for i=1:num_particles\n",
    "            state.new_traces[i] = state.traces[state.parents[i]]\n",
    "            state.log_weights[i] = 0.\n",
    "        end\n",
    "        \n",
    "        # swap references\n",
    "        tmp = state.traces\n",
    "        state.traces = state.new_traces\n",
    "        state.new_traces = tmp\n",
    "    end\n",
    "    return do_resample\n",
    "end\n",
    "\n",
    "function log_ml_estimate(state::ParticleFilterState)\n",
    "    num_particles = length(state.traces)\n",
    "    return state.log_ml_est + logsumexp(state.log_weights) - log(num_particles)\n",
    "end;"
   ]
  },
  {
   "cell_type": "markdown",
   "metadata": {},
   "source": [
    "## Particle filtering for unfold model"
   ]
  },
  {
   "cell_type": "markdown",
   "metadata": {},
   "source": [
    "proposals for particle filter with unfold"
   ]
  },
  {
   "cell_type": "code",
   "execution_count": null,
   "metadata": {
    "collapsed": true
   },
   "outputs": [],
   "source": [
    "@gen function unfold_init_proposal()\n",
    "    @addr(normal(0, 5), :init_x)\n",
    "end\n",
    "\n",
    "@gen function unfold_step_proposal(prev_trace, t::Int)\n",
    "    @assert t > 1\n",
    "    var_x = Gen.get_args(prev_trace)[1]\n",
    "    x_prev = Gen.get_assmt(prev_trace)[t > 2 ? (:chain => t-2 => :x) : :init_x]\n",
    "    @addr(normal(x_mean(x_prev, t), sqrt(var_x)), :chain => t-1 => :x)\n",
    "end;"
   ]
  },
  {
   "cell_type": "markdown",
   "metadata": {},
   "source": [
    "the actual particle filter code"
   ]
  },
  {
   "cell_type": "code",
   "execution_count": null,
   "metadata": {
    "collapsed": true
   },
   "outputs": [],
   "source": [
    "function unfold_particle_filter(var_x::Float64, var_y::Float64, ys::Vector{Float64}, num_particles::Int)\n",
    "    init_obs = DynamicAssignment((:init_y, ys[1]))\n",
    "    state = initialize_particle_filter(unfold_hmm, (var_x, var_y, 1), init_obs,\n",
    "        unfold_init_proposal, (), num_particles)\n",
    "    for T=2:length(ys)\n",
    "        y = ys[T]\n",
    "        step_obs = DynamicAssignment((:chain => T-1 => :y, y))\n",
    "        new_args = (var_x, var_y, T)\n",
    "        particle_filter_step!(state, new_args, UnfoldCustomArgDiff(false, false),\n",
    "            step_obs, unfold_step_proposal, (T,))\n",
    "        did_resample = maybe_resample!(state)\n",
    "    end\n",
    "    return state\n",
    "end;"
   ]
  },
  {
   "cell_type": "markdown",
   "metadata": {},
   "source": [
    "run it"
   ]
  },
  {
   "cell_type": "code",
   "execution_count": null,
   "metadata": {},
   "outputs": [],
   "source": [
    "state = unfold_particle_filter(10., 1., ys, 1000);"
   ]
  },
  {
   "cell_type": "markdown",
   "metadata": {},
   "source": [
    "show the traces"
   ]
  },
  {
   "cell_type": "code",
   "execution_count": null,
   "metadata": {
    "scrolled": true
   },
   "outputs": [],
   "source": [
    "figure(figsize=(16, 4))\n",
    "render_trace(trace);"
   ]
  },
  {
   "cell_type": "code",
   "execution_count": 17,
   "metadata": {},
   "outputs": [
    {
     "ename": "UndefVarError",
     "evalue": "UndefVarError: render_trace_for_unfold not defined",
     "output_type": "error",
     "traceback": [
      "UndefVarError: render_trace_for_unfold not defined",
      "",
      "Stacktrace:",
      " [1] top-level scope at In[17]:9"
     ]
    }
   ],
   "source": [
    "\n",
    "\n",
    "figure(figsize=(16,4))\n",
    "overlay(render_trace_for_unfold, state.traces, same_data=true)"
   ]
  },
  {
   "cell_type": "markdown",
   "metadata": {},
   "source": [
    "## Adding rejuvenation moves\n",
    "\n"
   ]
  },
  {
   "cell_type": "code",
   "execution_count": null,
   "metadata": {
    "collapsed": true
   },
   "outputs": [],
   "source": [
    "@gen function rejuvenation_move_proposal(prev_trace)\n",
    "    T::Int = Gen.get_args(prev_trace)[3]\n",
    "    choices = Gen.get_assmt(prev_trace)\n",
    "    # jointly propose a change to the last 3 x values\n",
    "    if T > 3\n",
    "        # if T=2, we want to propose a change to (1) :init_x and (2) :chain => 1 => :x\n",
    "        # if T=3, we want to propose a change to (1) :chain => 2 => x and (3) :chain => 3 => :x\n",
    "        # if T=4, we want to propose a change to (1) :chain => 3 => x and (3) :chain => 4 => :x\n",
    "        for j=0:2\n",
    "            @addr(normal(choices[:chain => (T-1) - j => :x], 0.5), :chain => (T-1) - j => :x)\n",
    "        end\n",
    "    else\n",
    "        @addr(normal(choices[:init_x], 0.5), :init_x)\n",
    "    end\n",
    "end\n",
    "\n",
    "function unfold_particle_filter_with_rejuv(var_x::Float64, var_y::Float64, ys::Vector{Float64}, num_particles::Int)\n",
    "    init_obs = DynamicAssignment((:init_y, ys[1]))\n",
    "    state = initialize_particle_filter(unfold_hmm, (var_x, var_y, 1), init_obs,\n",
    "        unfold_init_proposal, (), num_particles)\n",
    "    for T=2:length(ys)\n",
    "        # rejuvenation moves\n",
    "        for i=1:num_particles\n",
    "            for j=1:10\n",
    "                (state.traces[i], _) = metropolis_hastings(state.traces[i], rejuvenation_move_proposal, ())\n",
    "            end\n",
    "        end\n",
    "        y = ys[T]\n",
    "        step_obs = DynamicAssignment((:chain => T-1 => :y, y))\n",
    "        new_args = (var_x, var_y, T)\n",
    "        particle_filter_step!(state, new_args, UnfoldCustomArgDiff(false, false),\n",
    "            step_obs, unfold_step_proposal, (T,))\n",
    "        did_resample = maybe_resample!(state)\n",
    "    end\n",
    "    return state\n",
    "end;"
   ]
  },
  {
   "cell_type": "code",
   "execution_count": null,
   "metadata": {},
   "outputs": [],
   "source": [
    "state_rejuv = unfold_particle_filter_with_rejuv(10., 1., ys, 1000);"
   ]
  },
  {
   "cell_type": "code",
   "execution_count": null,
   "metadata": {},
   "outputs": [],
   "source": [
    "function overlay(renderer, traces; same_data=true, args...)\n",
    "    renderer(traces[1], show_data=true, args...)\n",
    "    for i=2:length(traces)\n",
    "        renderer(traces[i], show_data=!same_data, args...)\n",
    "    end\n",
    "end;\n",
    "\n",
    "figure(figsize=(16,4))\n",
    "overlay(render_trace_for_unfold, state_rejuv.traces, same_data=true)"
   ]
  },
  {
   "cell_type": "code",
   "execution_count": null,
   "metadata": {},
   "outputs": [],
   "source": [
    "figure(figsize=(16, 4))\n",
    "render_trace(trace);"
   ]
  },
  {
   "cell_type": "markdown",
   "metadata": {},
   "source": [
    "static version:"
   ]
  },
  {
   "cell_type": "code",
   "execution_count": null,
   "metadata": {},
   "outputs": [],
   "source": [
    "@gen (static) function static_kernel(t::Int, prev_x::Float64, var_x::Float64, var_y::Float64)\n",
    "    x::Float64 = @addr(normal(x_mean(prev_x, t), sqrt(var_x)), :x)\n",
    "    y::Float64 = @addr(normal(y_mean(x), sqrt(var_y)), :y)\n",
    "    return x\n",
    "end\n",
    "\n",
    "static_chain = Unfold(static_kernel);\n",
    "\n",
    "@gen (static) function static_hmm_with_unfold(var_x::Float64, var_y::Float64, T::Int)\n",
    "    @diff masked_argdiff = @argdiff()\n",
    "    @diff chain_argdiff = masked_argdiff.argdiff\n",
    "    init_x::Float64 = @addr(normal(0, 5), :init_x)\n",
    "    init_y::Float64 = @addr(normal(y_mean(init_x), sqrt(var_y)), :init_y)\n",
    "    @addr(static_chain(T-1, init_x, var_x, var_y), :chain, chain_argdiff)\n",
    "end;"
   ]
  },
  {
   "cell_type": "code",
   "execution_count": null,
   "metadata": {},
   "outputs": [],
   "source": [
    "Gen.get_ir(typeof(static_hmm_with_unfold)).call_nodes[1].argdiff"
   ]
  },
  {
   "cell_type": "markdown",
   "metadata": {},
   "source": [
    "trace rendering for the model for unfold"
   ]
  },
  {
   "cell_type": "code",
   "execution_count": null,
   "metadata": {
    "collapsed": true
   },
   "outputs": [],
   "source": []
  },
  {
   "cell_type": "markdown",
   "metadata": {},
   "source": [
    "proposal for use with unfold:"
   ]
  },
  {
   "cell_type": "code",
   "execution_count": null,
   "metadata": {},
   "outputs": [],
   "source": []
  },
  {
   "cell_type": "markdown",
   "metadata": {},
   "source": [
    "proposal for static model"
   ]
  },
  {
   "cell_type": "code",
   "execution_count": null,
   "metadata": {
    "collapsed": true
   },
   "outputs": [],
   "source": [
    "@gen (static) function static_proposal_sub(var_x::Float64, x_prev::Float64, t::Int)\n",
    "    x::Float64 = @addr(normal(x_mean(x_prev, t), sqrt(var_x)), :x)\n",
    "end\n",
    "\n",
    "@gen (static) function static_proposal_for_unfold(prev_trace, t::Int)\n",
    "    var_x = Gen.get_args(prev_trace)[1]\n",
    "    x_prev = Gen.get_assmt(prev_trace)[t > 2 ? (:chain => t-2 => :x) : :init_x]\n",
    "    key = t-1\n",
    "    @addr(static_proposal_sub(var_x, x_prev, t), :chain => key) # TODO document this limitation\n",
    "end;"
   ]
  },
  {
   "cell_type": "code",
   "execution_count": null,
   "metadata": {
    "collapsed": true
   },
   "outputs": [],
   "source": [
    "Gen.load_generated_functions()"
   ]
  },
  {
   "cell_type": "markdown",
   "metadata": {},
   "source": [
    "a single step forward for the unfold model"
   ]
  },
  {
   "cell_type": "code",
   "execution_count": null,
   "metadata": {
    "collapsed": true
   },
   "outputs": [],
   "source": [
    "unfold_argdiff = UnfoldCustomArgDiff(false, false)\n",
    "\n",
    "function step_forward_for_unfold(traces::Vector{T}, log_weights::Vector{Float64}, y::Float64, t::Int) where {T}\n",
    "    @assert t > 1\n",
    "    new_traces = Vector{T}(undef, length(traces))\n",
    "    new_log_weights = copy(log_weights)\n",
    "    observation = DynamicAssignment((:chain => t-1 => :y, y))\n",
    "    args = Gen.get_args(traces[1])\n",
    "    new_args = (args[1], args[2], t) # increment t\n",
    "    for i=1:length(traces)\n",
    "        @assert args[3] == t-1\n",
    "        choices = Gen.get_assmt(traces[i])\n",
    "        (prop_choices, prop_weight, _) = Gen.propose(proposal_for_unfold, (traces[i], t))\n",
    "        constraints = merge(observation, prop_choices)\n",
    "        (new_traces[i], up_weight, disc, _) = Gen.force_update(new_args, unfold_argdiff, traces[i], constraints)\n",
    "        @assert isempty(disc)\n",
    "        new_log_weights[i] += up_weight - prop_weight\n",
    "    end\n",
    "    (new_traces, new_log_weights)\n",
    "end;"
   ]
  },
  {
   "cell_type": "markdown",
   "metadata": {},
   "source": [
    "static version:"
   ]
  },
  {
   "cell_type": "code",
   "execution_count": null,
   "metadata": {
    "collapsed": true
   },
   "outputs": [],
   "source": [
    "static_unfold_argdiff = MaskedArgDiff{Tuple{false,false,true}, UnfoldCustomArgDiff}(UnfoldCustomArgDiff(false, false))\n",
    "\n",
    "function static_step_forward_for_unfold(traces::Vector{T}, log_weights::Vector{Float64}, y::Float64, t::Int) where {T}\n",
    "    @assert t > 1\n",
    "    new_traces = Vector{T}(undef, length(traces))\n",
    "    new_log_weights = copy(log_weights)\n",
    "    observation = DynamicAssignment((:chain => t-1 => :y, y))\n",
    "    args = Gen.get_args(traces[1])\n",
    "    new_args = (args[1], args[2], t) # increment t\n",
    "    for i=1:length(traces)\n",
    "        @assert args[3] == t-1\n",
    "        choices = Gen.get_assmt(traces[i])\n",
    "        (prop_choices, prop_weight, _) = Gen.propose(static_proposal_for_unfold, (traces[i], t))\n",
    "        constraints = merge(observation, prop_choices)\n",
    "        (new_traces[i], up_weight, disc, _) = Gen.force_update(new_args, static_unfold_argdiff, traces[i], constraints)\n",
    "        #println(disc)\n",
    "        #@assert isempty(disc) # TODO\n",
    "        new_log_weights[i] += up_weight - prop_weight\n",
    "    end\n",
    "    (new_traces, new_log_weights)\n",
    "end;"
   ]
  },
  {
   "cell_type": "markdown",
   "metadata": {},
   "source": [
    "getting the intial traces for the unfold model (using the prior as the proposal for :init_x)"
   ]
  },
  {
   "cell_type": "code",
   "execution_count": null,
   "metadata": {
    "collapsed": true
   },
   "outputs": [],
   "source": [
    "function get_initial_traces_for_unfold(var_x::Float64, var_y::Float64, n::Int, y1::Float64)\n",
    "    traces = Vector{Any}(undef, n)\n",
    "    log_weights = Vector{Float64}(undef, n)\n",
    "    constraints = Gen.DynamicAssignment((:init_y, y1))\n",
    "    for i=1:n\n",
    "        (traces[i], log_weights[i]) = Gen.initialize(hmm_with_unfold, (var_x, var_y, 1), constraints)\n",
    "    end\n",
    "    (traces, log_weights)\n",
    "end;"
   ]
  },
  {
   "cell_type": "markdown",
   "metadata": {},
   "source": [
    "static version"
   ]
  },
  {
   "cell_type": "code",
   "execution_count": null,
   "metadata": {
    "collapsed": true
   },
   "outputs": [],
   "source": [
    "function static_get_initial_traces_for_unfold(var_x::Float64, var_y::Float64, n::Int, y1::Float64)\n",
    "    traces = Vector{Any}(undef, n)\n",
    "    log_weights = Vector{Float64}(undef, n)\n",
    "    constraints = Gen.DynamicAssignment((:init_y, y1))\n",
    "    for i=1:n\n",
    "        (traces[i], log_weights[i]) = Gen.initialize(static_hmm_with_unfold, (var_x, var_y, 1), constraints)\n",
    "    end\n",
    "    (traces, log_weights)\n",
    "end;"
   ]
  },
  {
   "cell_type": "markdown",
   "metadata": {},
   "source": [
    "particle filtering for unfold model"
   ]
  },
  {
   "cell_type": "code",
   "execution_count": null,
   "metadata": {
    "collapsed": true
   },
   "outputs": [],
   "source": [
    "function do_particle_filter_for_unfold(ys::Vector{Float64}, num_particles)\n",
    "    (traces, log_weights) = get_initial_traces_for_unfold(10., 1., num_particles, ys[1]);\n",
    "    log_ml_est = 0.\n",
    "    for t=2:length(ys)\n",
    "        y = ys[t]\n",
    "        (traces, log_weights) = step_forward_for_unfold(traces, log_weights, y, t)\n",
    "        (traces, log_weights, incr) = maybe_resample(traces, log_weights)\n",
    "        log_ml_est += incr\n",
    "    end\n",
    "    (traces, log_weights, log_ml_est)\n",
    "end;"
   ]
  },
  {
   "cell_type": "markdown",
   "metadata": {},
   "source": [
    "static version"
   ]
  },
  {
   "cell_type": "code",
   "execution_count": null,
   "metadata": {
    "collapsed": true
   },
   "outputs": [],
   "source": [
    "function static_do_particle_filter_for_unfold(ys::Vector{Float64}, num_particles)\n",
    "    (traces, log_weights) = static_get_initial_traces_for_unfold(10., 1., num_particles, ys[1]);\n",
    "    log_ml_est = 0.\n",
    "    for t=2:length(ys)\n",
    "        y = ys[t]\n",
    "        (traces, log_weights) = static_step_forward_for_unfold(traces, log_weights, y, t)\n",
    "        (traces, log_weights, incr) = maybe_resample(traces, log_weights)\n",
    "        log_ml_est += incr\n",
    "    end\n",
    "    (traces, log_weights, log_ml_est)\n",
    "end;"
   ]
  },
  {
   "cell_type": "markdown",
   "metadata": {},
   "source": [
    "test it:\n"
   ]
  },
  {
   "cell_type": "code",
   "execution_count": null,
   "metadata": {},
   "outputs": [],
   "source": [
    "function timing_experiment(ns::Vector{Int})\n",
    "    times = Vector{Float64}()\n",
    "    times_unfold = Vector{Float64}()\n",
    "    times_static_unfold = Vector{Float64}()\n",
    "    \n",
    "    for n in ns\n",
    "        \n",
    "        tstart = time_ns()\n",
    "        (traces, log_weights, log_ml_est) = do_particle_filter_for_unfold(ys[1:n], 1000)\n",
    "        push!(times_unfold, (time_ns() - tstart) / 1e9)\n",
    "        \n",
    "        tstart = time_ns()\n",
    "        (traces, log_weights, log_ml_est) = do_particle_filter(ys[1:n], 1000)\n",
    "        push!(times, (time_ns() - tstart) / 1e9)\n",
    "        \n",
    "        tstart = time_ns()\n",
    "        (traces, log_weights, log_ml_est) = static_do_particle_filter_for_unfold(ys[1:n], 1000)\n",
    "        push!(times_static_unfold, (time_ns() - tstart) / 1e9)\n",
    "    end\n",
    "    (times, times_unfold, times_static_unfold)\n",
    "end;"
   ]
  },
  {
   "cell_type": "code",
   "execution_count": null,
   "metadata": {},
   "outputs": [],
   "source": [
    "println(methods(force_update))"
   ]
  },
  {
   "cell_type": "code",
   "execution_count": null,
   "metadata": {},
   "outputs": [],
   "source": [
    "Gen.codegen_force_or_fix_update(\n",
    "    Tuple{Float64,Float64,Int64},\n",
    "    MaskedArgDiff{Tuple{false,false,true},UnfoldCustomArgDiff},\n",
    "    Gen.get_trace_type(static_hmm_with_unfold),\n",
    "    StaticAssignment{(),Tuple{},(:chain,),Tuple{DynamicAssignment}},\n",
    "    Gen.ForceUpdateMode())"
   ]
  },
  {
   "cell_type": "code",
   "execution_count": null,
   "metadata": {},
   "outputs": [],
   "source": [
    "ns = [1, 5, 10, 20, 30, 40]#, 50, 100, 150, 200]\n",
    "(times, times_unfold, times_static_unfold) = timing_experiment(ns)"
   ]
  },
  {
   "cell_type": "code",
   "execution_count": null,
   "metadata": {
    "collapsed": true
   },
   "outputs": [],
   "source": []
  },
  {
   "cell_type": "code",
   "execution_count": null,
   "metadata": {},
   "outputs": [],
   "source": [
    "plot(ns, times, color=\"blue\")\n",
    "plot(ns, times_unfold, color=\"red\")\n",
    "plot(ns, times_static_unfold, color=\"green\")\n",
    "xlabel(\"Number of time steps\")\n",
    "ylabel(\"Running time (sec.)\");"
   ]
  },
  {
   "cell_type": "markdown",
   "metadata": {},
   "source": [
    "## Particle filtering not using unfold"
   ]
  },
  {
   "cell_type": "code",
   "execution_count": null,
   "metadata": {},
   "outputs": [],
   "source": [
    "(traces, log_weights, log_ml_est) = do_particle_filter(ys, 1000);\n",
    "\n",
    "function overlay(renderer, traces; same_data=true, args...)\n",
    "    renderer(traces[1], show_data=true, args...)\n",
    "    for i=2:length(traces)\n",
    "        renderer(traces[i], show_data=!same_data, args...)\n",
    "    end\n",
    "end;\n",
    "\n",
    "figure(figsize=(16,4))\n",
    "overlay(render_trace, traces, same_data=true)"
   ]
  },
  {
   "cell_type": "code",
   "execution_count": null,
   "metadata": {
    "collapsed": true
   },
   "outputs": [],
   "source": [
    "@gen function proposal(prev_trace, t::Int)\n",
    "    var_x = Gen.get_args(prev_trace)[1]\n",
    "    x_prev = Gen.get_assmt(prev_trace)[(:x, t-1)]\n",
    "    @addr(normal(x_mean(x_prev, t), sqrt(var_x)), (:x, t))\n",
    "end;"
   ]
  },
  {
   "cell_type": "code",
   "execution_count": null,
   "metadata": {
    "collapsed": true
   },
   "outputs": [],
   "source": [
    "function get_initial_traces(var_x::Float64, var_y::Float64, n::Int, y1::Float64)\n",
    "    traces = Vector{Any}(undef, n)\n",
    "    log_weights = Vector{Float64}(undef, n)\n",
    "    constraints = Gen.DynamicAssignment(((:y, 1), y1))\n",
    "    for i=1:n\n",
    "        (traces[i], log_weights[i]) = Gen.initialize(hmm, (var_x, var_y, 1), constraints)\n",
    "    end\n",
    "    (traces, log_weights)\n",
    "end;"
   ]
  },
  {
   "cell_type": "code",
   "execution_count": null,
   "metadata": {
    "collapsed": true
   },
   "outputs": [],
   "source": [
    "(traces, log_weights) = get_initial_traces(10., 1., 1000, 0.5);"
   ]
  },
  {
   "cell_type": "code",
   "execution_count": null,
   "metadata": {
    "collapsed": true
   },
   "outputs": [],
   "source": [
    "function step_forward(traces::Vector{T}, log_weights::Vector{Float64}, y::Float64, t::Int) where {T}\n",
    "    @assert t > 1\n",
    "    new_traces = Vector{T}(undef, length(traces))\n",
    "    new_log_weights = copy(log_weights)\n",
    "    observation = DynamicAssignment(((:y, t), y))\n",
    "    args = Gen.get_args(traces[1])\n",
    "    new_args = (args[1], args[2], t) # increment t\n",
    "    for i=1:length(traces)\n",
    "        @assert args[3] == t-1\n",
    "        choices = Gen.get_assmt(traces[i])\n",
    "        x_prev, y_prev = (choices[(:x, t-1)], choices[(:y, t-1)])\n",
    "        (prop_choices, prop_weight, _) = Gen.propose(proposal, (traces[i], t))\n",
    "        constraints = merge(observation, prop_choices)\n",
    "        (new_traces[i], up_weight, disc, _) = Gen.force_update(new_args, Gen.unknownargdiff, traces[i], constraints)\n",
    "        @assert isempty(disc)\n",
    "        new_log_weights[i] += up_weight - prop_weight\n",
    "    end\n",
    "    (new_traces, new_log_weights)\n",
    "end;"
   ]
  },
  {
   "cell_type": "code",
   "execution_count": null,
   "metadata": {
    "collapsed": true
   },
   "outputs": [],
   "source": [
    "function do_particle_filter(ys::Vector{Float64}, num_particles)\n",
    "    (traces, log_weights) = get_initial_traces(10., 1., num_particles, ys[1]);\n",
    "    log_ml_est = 0.\n",
    "    for t=2:length(ys)\n",
    "        y = ys[t]\n",
    "        (traces, log_weights) = step_forward(traces, log_weights, y, t)\n",
    "        (traces, log_weights, incr) = maybe_resample(traces, log_weights)\n",
    "        log_ml_est += incr\n",
    "    end\n",
    "    (traces, log_weights, log_ml_est)\n",
    "end;"
   ]
  },
  {
   "cell_type": "code",
   "execution_count": null,
   "metadata": {
    "collapsed": true
   },
   "outputs": [],
   "source": [
    "(traces, log_weights, log_ml_est) = do_particle_filter([1., 2., 1., 2., 1., 2., 1.], 10000);"
   ]
  },
  {
   "cell_type": "code",
   "execution_count": null,
   "metadata": {
    "collapsed": true
   },
   "outputs": [],
   "source": []
  },
  {
   "cell_type": "code",
   "execution_count": null,
   "metadata": {
    "collapsed": true
   },
   "outputs": [],
   "source": []
  },
  {
   "cell_type": "markdown",
   "metadata": {},
   "source": [
    "## 2. Particle filtering with a default proposal\n",
    "\n",
    "use the nonlinear state space model from the PMMH paper (with fixed global parameters)"
   ]
  },
  {
   "cell_type": "markdown",
   "metadata": {},
   "source": [
    "## 3. Particle filtering with rejuvenation moves\n",
    "\n",
    "in the nonlinear state space model from the PMMH paper, do rejuvenation moves on the global parameters?"
   ]
  },
  {
   "cell_type": "markdown",
   "metadata": {},
   "source": [
    "## 4. Particle Marginal Metropolis Hastings\n",
    "\n",
    "do PMMH in the nonlinear state space model"
   ]
  },
  {
   "cell_type": "markdown",
   "metadata": {},
   "source": [
    "## 5. Particle filtering with a custom proposal\n",
    "\n",
    "use the 'motion along path' model\n",
    "\n",
    "compare the default and custom proposals"
   ]
  },
  {
   "cell_type": "code",
   "execution_count": null,
   "metadata": {
    "collapsed": true
   },
   "outputs": [],
   "source": []
  },
  {
   "cell_type": "markdown",
   "metadata": {},
   "source": [
    "# Bearings only tracking\n",
    "\n",
    "http://www.mathcs.emory.edu/~whalen/Papers/BNs/MonteCarlo-DBNs.pdf"
   ]
  },
  {
   "cell_type": "code",
   "execution_count": 210,
   "metadata": {},
   "outputs": [],
   "source": [
    "bearing(x, y) = atan(y, x)\n",
    "\n",
    "@gen function model(T::Int)\n",
    "    \n",
    "    # parameters\n",
    "    measurement_noise = 0.005\n",
    "    velocity_var = @addr(gamma(1., 0.00001), :velocity_var) # volatility in velocity Gamma(shape=1.0, rate=0.00001)\n",
    "    \n",
    "    xs = Vector{Float64}(undef, T+1)\n",
    "    ys = Vector{Float64}(undef, T+1)\n",
    "    zs = Vector{Float64}(undef, T+1)\n",
    "\n",
    "    # prior on initial conditions\n",
    "    x = @addr(normal(0.0108, 0.04), :x0)\n",
    "    y = @addr(normal(1.03, 0.4), :y0)\n",
    "    vx = @addr(normal(0.002, 0.003), :vx0)\n",
    "    vy = @addr(normal(-0.013, 0.003), :vy0)\n",
    "\n",
    "    # initial measurement\n",
    "    zs[1] = @addr(normal(bearing(x, y), measurement_noise), :z0)\n",
    "\n",
    "    xs[1] = x\n",
    "    ys[1] = y    \n",
    "    \n",
    "    for t=1:T\n",
    "        vx = @addr(normal(vx, sqrt(velocity_var)), (:vx, t))\n",
    "        vy = @addr(normal(vy, sqrt(velocity_var)), (:vy, t))\n",
    "        x += vx\n",
    "        y += vy\n",
    "        zs[t+1] = @addr(normal(bearing(x, y), measurement_noise), (:z, t))\n",
    "        \n",
    "        xs[t+1] = x\n",
    "        ys[t+1] = y\n",
    "    end\n",
    "    \n",
    "    return (xs, ys, zs)\n",
    "end;"
   ]
  },
  {
   "cell_type": "code",
   "execution_count": 211,
   "metadata": {},
   "outputs": [
    {
     "data": {
      "text/plain": [
       "render (generic function with 1 method)"
      ]
     },
     "execution_count": 211,
     "metadata": {},
     "output_type": "execute_result"
    }
   ],
   "source": [
    "function render(trace; show_data=true, max_T=get_args(trace)[1])\n",
    "    (T,) = Gen.get_args(trace)\n",
    "    choices = Gen.get_assmt(trace)\n",
    "    (xs, ys, zs) = Gen.get_retval(trace)\n",
    "    scatter(xs[1:max_T+1], ys[1:max_T+1], s=5)\n",
    "    if show_data\n",
    "        for z in zs[1:max_T+1]\n",
    "            dx = cos(z) * 0.5\n",
    "            dy = sin(z) * 0.5\n",
    "            plot([0., dx], [0., dy], color=\"red\", alpha=0.3)\n",
    "        end\n",
    "    end\n",
    "end"
   ]
  },
  {
   "cell_type": "markdown",
   "metadata": {},
   "source": [
    "generate a trajectory"
   ]
  },
  {
   "cell_type": "code",
   "execution_count": 212,
   "metadata": {},
   "outputs": [],
   "source": [
    "import Random\n",
    "Random.seed!(4)\n",
    "x0 = 0.01\n",
    "y0 = 0.95\n",
    "vx0 = 0.002\n",
    "vy0 = -0.013\n",
    "tau = 1e6\n",
    "constraints = DynamicAssignment((:x0, x0), (:y0, y0), (:vx0, vx0), (:vy0, vy0), (:velocity_var, 1.0/tau))\n",
    "(trace, _) = initialize(model, (50,), constraints);"
   ]
  },
  {
   "cell_type": "code",
   "execution_count": 213,
   "metadata": {
    "scrolled": false
   },
   "outputs": [
    {
     "data": {
      "image/png": "[encoded data removed]",
      "text/plain": [
       "Figure(PyObject <Figure size 1600x300 with 5 Axes>)"
      ]
     },
     "metadata": {},
     "output_type": "display_data"
    }
   ],
   "source": [
    "figure(figsize=(16, 3))\n",
    "for (i, max_T) in enumerate([10, 20, 30, 40, 50])\n",
    "    subplot(1, 5, i)\n",
    "    render(trace, max_T=max_T)\n",
    "    gca()[:set_xlim]((0, 0.5))\n",
    "    gca()[:set_ylim]((0, 1))\n",
    "end"
   ]
  },
  {
   "cell_type": "code",
   "execution_count": 214,
   "metadata": {},
   "outputs": [],
   "source": [
    "(xs, ys, zs) = get_retval(trace);"
   ]
  },
  {
   "cell_type": "markdown",
   "metadata": {},
   "source": [
    "Define importance sampler"
   ]
  },
  {
   "cell_type": "code",
   "execution_count": 221,
   "metadata": {},
   "outputs": [],
   "source": [
    "function importance(num_particles::Int, zs::Vector{Float64}, num_samples::Int)\n",
    "    obs = DynamicAssignment((:z0, zs[1]))\n",
    "    for t=1:length(zs)-1\n",
    "        obs[(:z, t)] = zs[t+1]\n",
    "    end\n",
    "    (traces, log_weights, _) = importance_sampling(model, (length(zs),), obs, num_particles)\n",
    "    (_, log_normalized_weights) = Gen.normalize_weights(log_weights)\n",
    "    weights = exp.(log_normalized_weights)\n",
    "    return [traces[categorical(weights)] for _=1:num_samples]\n",
    "end;"
   ]
  },
  {
   "cell_type": "markdown",
   "metadata": {},
   "source": [
    "Define particle filter without rejuvenation"
   ]
  },
  {
   "cell_type": "code",
   "execution_count": 232,
   "metadata": {},
   "outputs": [],
   "source": [
    "function pf(num_particles::Int, zs::Vector{Float64}, num_samples::Int)\n",
    "    init_obs = DynamicAssignment((:z0, zs[1]))\n",
    "    state = initialize_particle_filter(model, (0,), init_obs, num_particles)\n",
    "    for t=1:length(zs)-1\n",
    "        maybe_resample!(state, ess_threshold=num_particles/2)\n",
    "        obs = DynamicAssignment(((:z, t), zs[t+1]))\n",
    "        particle_filter_step!(state, (t,), unknownargdiff, obs)\n",
    "    end\n",
    "    # return a small collection of traces\n",
    "    maybe_resample!(state, ess_threshold=num_particles)\n",
    "    return traces(state)[1:num_samples]\n",
    "end;"
   ]
  },
  {
   "cell_type": "markdown",
   "metadata": {},
   "source": [
    "Doing particle filtering with rejuvenation"
   ]
  },
  {
   "cell_type": "code",
   "execution_count": 224,
   "metadata": {},
   "outputs": [
    {
     "data": {
      "text/plain": [
       "rescale_move (generic function with 1 method)"
      ]
     },
     "execution_count": 224,
     "metadata": {},
     "output_type": "execute_result"
    }
   ],
   "source": [
    "@gen function rescale_proposal(prev_trace)\n",
    "    @addr(uniform(0.5, 2.0), :scale)\n",
    "end\n",
    "\n",
    "function rescale_involution(trace, fwd_assmt::Assignment, fwd_ret, proposal_args::Tuple)\n",
    "    (T,) = Gen.get_args(trace)\n",
    "    choices = Gen.get_assmt(trace)\n",
    "    scale = fwd_assmt[:scale]\n",
    "\n",
    "    # rescale all of these values\n",
    "    constraints = Gen.DynamicAssignment()\n",
    "    constraints[:x0] = choices[:x0] * scale\n",
    "    constraints[:y0] = choices[:y0] * scale\n",
    "    constraints[:vx0] = choices[:vx0] * scale\n",
    "    constraints[:vy0] = choices[:vy0] * scale\n",
    "    for t=1:T\n",
    "        constraints[(:vx, t)] = choices[(:vx, t)] * scale\n",
    "        constraints[(:vy, t)] = choices[(:vy, t)] * scale\n",
    "    end\n",
    "    (new_trace, weight, _, _) = Gen.force_update(get_args(trace), noargdiff, trace, constraints)\n",
    "    rev_scale = 1.0 / scale\n",
    "    bwd_assmt = DynamicAssignment((:scale, rev_scale))\n",
    "    \n",
    "    # the log determinant of the jacobian of the forward bijection is zero\n",
    "    # forward map: (x, y, s) --> (x * s, y * s, 1/s)\n",
    "    # d(x') / d(x) = s\n",
    "    # d(x') / d(y) = 0\n",
    "    # d(x') / d(s) = x\n",
    "    # d(y') / d(x) = 0\n",
    "    # d(y') / d(y) = s\n",
    "    # d(y') / d(s) = y\n",
    "    # d(s') / d(x) = 0\n",
    "    # d(s') / d(y) = 0\n",
    "    # d(s') / d(s) = -1.0 / (s^2)\n",
    "    \n",
    "    # J =\n",
    "    # s     0     x\n",
    "    # 0     s     y\n",
    "    # 0     0     -1.0 / (s^2)\n",
    "    \n",
    "    # Jacobian determinant is 1\n",
    "    \n",
    "    (new_trace, bwd_assmt, weight)\n",
    "end\n",
    "\n",
    "rescale_move(trace) = metropolis_hastings(trace, rescale_proposal, (), rescale_involution)"
   ]
  },
  {
   "cell_type": "code",
   "execution_count": 225,
   "metadata": {},
   "outputs": [
    {
     "data": {
      "text/plain": [
       "local_perturbation_move (generic function with 2 methods)"
      ]
     },
     "execution_count": 225,
     "metadata": {},
     "output_type": "execute_result"
    }
   ],
   "source": [
    "# 1. pick interval (a, b)\n",
    "# 2. draw new candidate for x velocities in that interval\n",
    "# 3. mean at current x-velocity vector, covariance.. r2,t * \n",
    "\n",
    "@gen function global_perturbation_proposal(prev_trace)\n",
    "    # how to take the data into account??\n",
    "    # we want to perturb all the velocities at aonce\n",
    "    choices = get_assmt(prev_trace)\n",
    "    (T,) = get_args(prev_trace)\n",
    "    vx = @addr(normal(choices[:vx0], 1e-3), :vx0)\n",
    "    vy = @addr(normal(choices[:vy0], 1e-3), :vy0)\n",
    "    for t=1:T\n",
    "        vx = @addr(normal(choices[(:vx, t)], 1e-3), (:vx, t))\n",
    "        vy = @addr(normal(choices[(:vy, t)], 1e-3), (:vy, t))\n",
    "    end\n",
    "end;\n",
    "\n",
    "global_perturbation_move(trace) = metropolis_hastings(trace, global_perturbation_proposal, ())\n",
    "\n",
    "\n",
    "@gen function local_perturbation_proposal(prev_trace, a::Int, b::Int)\n",
    "    # how to take the data into account??\n",
    "    # we want to perturb all the velocities at aonce\n",
    "    choices = get_assmt(prev_trace)\n",
    "    (T,) = get_args(prev_trace)\n",
    "    for t=a:b\n",
    "        vx = @addr(normal(choices[(:vx, t)], 1e-3), (:vx, t))\n",
    "        vy = @addr(normal(choices[(:vy, t)], 1e-3), (:vy, t))\n",
    "    end\n",
    "end;\n",
    "\n",
    "local_perturbation_move(trace, a, b) = metropolis_hastings(trace, local_perturbation_proposal, (a, b))"
   ]
  },
  {
   "cell_type": "code",
   "execution_count": 227,
   "metadata": {},
   "outputs": [],
   "source": [
    "@gen function velocity_var_proposal(prev_trace)\n",
    "    @addr(gamma(1., 0.00001), :velocity_var)\n",
    "end;"
   ]
  },
  {
   "cell_type": "code",
   "execution_count": 228,
   "metadata": {},
   "outputs": [
    {
     "data": {
      "text/plain": [
       "pf_with_move_steps (generic function with 4 methods)"
      ]
     },
     "execution_count": 228,
     "metadata": {},
     "output_type": "execute_result"
    }
   ],
   "source": [
    "function pf_with_move_steps(num_particles::Int, zs::Vector{Float64}, num_samples::Int)\n",
    "    init_obs = DynamicAssignment((:z0, zs[1]))    \n",
    "    state = initialize_particle_filter(model, (0,), init_obs, num_particles)\n",
    "    for t=1:length(zs)-1\n",
    "        # do rejuvenation moves on each particle\n",
    "        acc0 = Vector{Bool}(undef, num_particles)\n",
    "        acc1 = Vector{Bool}(undef, num_particles)\n",
    "        acc2 = Vector{Bool}(undef, num_particles)\n",
    "        acc3 = Vector{Bool}(undef, num_particles)\n",
    "        for i=1:length(state.traces)\n",
    "            state.traces[i], acc0[i] = metropolis_hastings(state.traces[i], velocity_var_proposal, ())\n",
    "            state.traces[i], acc1[i] = rescale_move(state.traces[i])\n",
    "            state.traces[i], acc2[i] = global_perturbation_move(state.traces[i])\n",
    "            state.traces[i], acc3[i] = local_perturbation_move(state.traces[i], max(1, t-5), t-1)\n",
    "        end\n",
    "        println(\"acc0: $(sum(acc0)), acc1: $(sum(acc1)), acc2: $(sum(acc2)), acc3: $(sum(acc3))\")\n",
    "        maybe_resample!(state, ess_threshold=num_particles/2)\n",
    "        obs = DynamicAssignment(((:z, t), zs[t+1]))\n",
    "        particle_filter_step!(state, (t,), unknownargdiff, obs)\n",
    "    end\n",
    "    \n",
    "    # return a small collection of traces\n",
    "    maybe_resample!(state, ess_threshold=num_particles)\n",
    "    return traces(state)[1:num_samples]\n",
    "end"
   ]
  },
  {
   "cell_type": "code",
   "execution_count": 229,
   "metadata": {
    "collapsed": true
   },
   "outputs": [],
   "source": [
    "pf_traces = pf(1000, zs, 20);"
   ]
  },
  {
   "cell_type": "code",
   "execution_count": 230,
   "metadata": {},
   "outputs": [
    {
     "name": "stdout",
     "output_type": "stream",
     "text": [
      "acc0: 1000, acc1: 405, acc2: 823, acc3: 1000\n",
      "acc0: 585, acc1: 387, acc2: 623, acc3: 728\n",
      "acc0: 463, acc1: 397, acc2: 518, acc3: 624\n",
      "acc0: 421, acc1: 416, acc2: 517, acc3: 515\n",
      "acc0: 377, acc1: 375, acc2: 387, acc3: 449\n",
      "acc0: 348, acc1: 424, acc2: 333, acc3: 372\n",
      "acc0: 339, acc1: 394, acc2: 284, acc3: 347\n",
      "acc0: 339, acc1: 395, acc2: 229, acc3: 327\n",
      "acc0: 289, acc1: 397, acc2: 181, acc3: 277\n",
      "acc0: 293, acc1: 371, acc2: 134, acc3: 304\n",
      "acc0: 271, acc1: 422, acc2: 131, acc3: 286\n",
      "acc0: 244, acc1: 399, acc2: 95, acc3: 260\n",
      "acc0: 253, acc1: 413, acc2: 83, acc3: 287\n",
      "acc0: 223, acc1: 383, acc2: 66, acc3: 239\n",
      "acc0: 229, acc1: 389, acc2: 63, acc3: 285\n",
      "acc0: 204, acc1: 375, acc2: 22, acc3: 197\n",
      "acc0: 200, acc1: 425, acc2: 33, acc3: 227\n",
      "acc0: 187, acc1: 379, acc2: 19, acc3: 194\n",
      "acc0: 186, acc1: 390, acc2: 10, acc3: 185\n",
      "acc0: 175, acc1: 381, acc2: 11, acc3: 201\n",
      "acc0: 157, acc1: 371, acc2: 13, acc3: 163\n",
      "acc0: 173, acc1: 378, acc2: 8, acc3: 197\n",
      "acc0: 153, acc1: 381, acc2: 2, acc3: 143\n",
      "acc0: 132, acc1: 375, acc2: 4, acc3: 159\n",
      "acc0: 145, acc1: 395, acc2: 1, acc3: 116\n",
      "acc0: 130, acc1: 394, acc2: 2, acc3: 190\n",
      "acc0: 139, acc1: 385, acc2: 2, acc3: 107\n",
      "acc0: 131, acc1: 377, acc2: 0, acc3: 143\n",
      "acc0: 102, acc1: 386, acc2: 3, acc3: 78\n",
      "acc0: 120, acc1: 347, acc2: 0, acc3: 81\n",
      "acc0: 101, acc1: 384, acc2: 1, acc3: 141\n",
      "acc0: 79, acc1: 367, acc2: 0, acc3: 64\n",
      "acc0: 87, acc1: 356, acc2: 0, acc3: 70\n",
      "acc0: 90, acc1: 425, acc2: 0, acc3: 53\n",
      "acc0: 87, acc1: 360, acc2: 0, acc3: 99\n",
      "acc0: 87, acc1: 374, acc2: 0, acc3: 31\n",
      "acc0: 75, acc1: 370, acc2: 0, acc3: 76\n",
      "acc0: 76, acc1: 363, acc2: 0, acc3: 29\n",
      "acc0: 57, acc1: 356, acc2: 0, acc3: 77\n",
      "acc0: 42, acc1: 367, acc2: 0, acc3: 24\n",
      "acc0: 50, acc1: 350, acc2: 0, acc3: 14\n",
      "acc0: 51, acc1: 396, acc2: 0, acc3: 43\n",
      "acc0: 49, acc1: 361, acc2: 0, acc3: 17\n",
      "acc0: 40, acc1: 382, acc2: 0, acc3: 16\n",
      "acc0: 47, acc1: 366, acc2: 0, acc3: 43\n",
      "acc0: 39, acc1: 373, acc2: 0, acc3: 13\n",
      "acc0: 41, acc1: 351, acc2: 0, acc3: 44\n",
      "acc0: 38, acc1: 373, acc2: 0, acc3: 9\n",
      "acc0: 43, acc1: 354, acc2: 0, acc3: 26\n",
      "acc0: 34, acc1: 366, acc2: 0, acc3: 5\n"
     ]
    }
   ],
   "source": [
    "pf_with_rejuv_traces = pf_with_move_steps(1000, zs, 20);"
   ]
  },
  {
   "cell_type": "code",
   "execution_count": 233,
   "metadata": {},
   "outputs": [],
   "source": [
    "importance_traces = importance(1000, zs, 20);"
   ]
  },
  {
   "cell_type": "code",
   "execution_count": 234,
   "metadata": {},
   "outputs": [
    {
     "data": {
      "image/png": "[encoded data removed]",
      "text/plain": [
       "Figure(PyObject <Figure size 1200x400 with 3 Axes>)"
      ]
     },
     "metadata": {},
     "output_type": "display_data"
    },
    {
     "data": {
      "text/plain": [
       "(0.0, 1.2)"
      ]
     },
     "execution_count": 234,
     "metadata": {},
     "output_type": "execute_result"
    }
   ],
   "source": [
    "figure(figsize=(12,4))\n",
    "\n",
    "function set_lim()\n",
    "    gca()[:set_xlim]((0., 0.4))\n",
    "    gca()[:set_ylim]((0., 1.2)) \n",
    "end\n",
    "\n",
    "subplot(1, 3, 1)\n",
    "overlay(render, pf_with_rejuv_traces, same_data=true)\n",
    "scatter(xs, ys, color=\"black\")\n",
    "set_lim()\n",
    "\n",
    "subplot(1, 3, 2)\n",
    "overlay(render, pf_traces, same_data=true)\n",
    "scatter(xs, ys, color=\"black\")\n",
    "set_lim()\n",
    "\n",
    "subplot(1, 3, 3)\n",
    "overlay(render, importance_traces, same_data=true)\n",
    "scatter(xs, ys, color=\"black\")\n",
    "set_lim()"
   ]
  }
 ],
 "metadata": {
  "kernelspec": {
   "display_name": "Julia 1.0.2",
   "language": "julia",
   "name": "julia-1.0"
  },
  "language_info": {
   "file_extension": ".jl",
   "mimetype": "application/julia",
   "name": "julia",
   "version": "1.0.2"
  }
 },
 "nbformat": 4,
 "nbformat_minor": 2
}
